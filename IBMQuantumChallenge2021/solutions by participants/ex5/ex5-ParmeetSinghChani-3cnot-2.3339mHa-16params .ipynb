{
 "cells": [
  {
   "cell_type": "markdown",
   "metadata": {},
   "source": [
    "# Exercise 5(IQC 2021)         "
   ]
  },
  {
   "cell_type": "markdown",
   "metadata": {},
   "source": [
    "By Parmeet Singh Chani                                           \\\n",
    "Highest possible score(score = 3)"
   ]
  },
  {
   "cell_type": "markdown",
   "metadata": {},
   "source": [
    "Goal - Get the ground state of LiH using qiskit_nature and reduce the no. of ansatz to as low as possible \n",
    "\n",
    "All the original information is given as it is(for someone who is trying to understand who did not participate), my explanation comes under the section \"Additional stuff\".\n",
    "\n",
    "Hope any one trying to understand this has an easy time. If not you are free to contact me."
   ]
  },
  {
   "cell_type": "markdown",
   "metadata": {},
   "source": [
    "We start by obtaining all the information about our molecule(LiH) by using driver which we have imported from qiskit_nature. The driver provides interfacec to classical chemistry code that are avaliable in qiskit."
   ]
  },
  {
   "cell_type": "code",
   "execution_count": 2,
   "metadata": {},
   "outputs": [],
   "source": [
    "from qiskit_nature.drivers import PySCFDriver\n",
    "from qiskit import *\n",
    "\n",
    "molecule = 'Li 0.0 0.0 0.0; H 0.0 0.0 1.5474'\n",
    "driver = PySCFDriver(atom=molecule)\n",
    "qmolecule = driver.run() # this thing will store the infromation about the molecule already stored in qiskit "
   ]
  },
  {
   "cell_type": "markdown",
   "metadata": {},
   "source": [
    "1. We create a list of fermionic operators using ElectronicStructureProblem.\n",
    "2. Imported FreezeCoreTranformer which has freezed the core of electrons inside the core(which do not interact with others)\n",
    "3. 3rd and 4th orbitals have been removed in order to reduce the no. of qubits to 4,  they can be removed easily because the electrons do not go above the 2nd orbital in LiH.\n"
   ]
  },
  {
   "cell_type": "code",
   "execution_count": 3,
   "metadata": {},
   "outputs": [],
   "source": [
    "from qiskit_nature.problems.second_quantization.electronic import ElectronicStructureProblem\n",
    "##freezing\n",
    "from qiskit_nature.transformers import FreezeCoreTransformer ##\n",
    "freezeCoreTransformer = FreezeCoreTransformer()\n",
    "qmolecule = freezeCoreTransformer.transform(qmolecule)\n",
    "problem = ElectronicStructureProblem(driver,q_molecule_transformers=[FreezeCoreTransformer(freeze_core=True,remove_orbitals=[3,4])])\n",
    "# all the fermionic operators are stroed into \"problem\"\n",
    "##\n",
    "\n",
    "# Generate the second-quantized operators\n",
    "second_q_ops = problem.second_q_ops()\n",
    "\n",
    "# Hamiltonian\n",
    "main_op = second_q_ops[0] # the hamiltonian we get from qiskit"
   ]
  },
  {
   "cell_type": "markdown",
   "metadata": {},
   "source": [
    "1. Mapping the fermionic operators to qubits. \n",
    "2. Switched from the original jordan wigner mapping to partiy mapping as we can reduce two qubits using it \n",
    "3. z2symmetry has been implemented in order to reduce the number of gates further"
   ]
  },
  {
   "cell_type": "code",
   "execution_count": 5,
   "metadata": {},
   "outputs": [],
   "source": [
    "from qiskit_nature.mappers.second_quantization import ParityMapper, BravyiKitaevMapper, JordanWignerMapper\n",
    "from qiskit_nature.converters.second_quantization.qubit_converter import QubitConverter\n",
    "\n",
    "# Setup the mapper and qubit converter\n",
    "mapper_type = 'ParityMapper'\n",
    "\n",
    "if mapper_type == 'ParityMapper': # if two qubit reduction is on then this one is the one you want\n",
    "    mapper = ParityMapper()\n",
    "elif mapper_type == 'JordanWignerMapper':\n",
    "    mapper = JordanWignerMapper()\n",
    "elif mapper_type == 'BravyiKitaevMapper':\n",
    "    mapper = BravyiKitaevMapper()\n",
    "    \n",
    "\n",
    "converter = QubitConverter(mapper=mapper, two_qubit_reduction=True, z2symmetry_reduction=[1] )\n",
    "\n",
    "\n",
    "# The fermionic operators are mapped to qubit operators\n",
    "num_particles = (problem.molecule_data_transformed.num_alpha,\n",
    "             problem.molecule_data_transformed.num_beta)\n",
    "qubit_op = converter.convert(main_op, num_particles=num_particles)"
   ]
  },
  {
   "cell_type": "markdown",
   "metadata": {},
   "source": [
    "initial state is the HF state (i.e.  |Ψ𝐻𝐹⟩=|0101⟩ ). "
   ]
  },
  {
   "cell_type": "code",
   "execution_count": 6,
   "metadata": {},
   "outputs": [
    {
     "data": {
      "image/png": "[encoded data removed]",
      "text/plain": [
       "<Figure size 146.797x264.88 with 1 Axes>"
      ]
     },
     "execution_count": 6,
     "metadata": {},
     "output_type": "execute_result"
    }
   ],
   "source": [
    "from qiskit_nature.circuit.library import HartreeFock\n",
    "\n",
    "num_particles = (problem.molecule_data_transformed.num_alpha,\n",
    "             problem.molecule_data_transformed.num_beta)\n",
    "num_spin_orbitals = 2 * problem.molecule_data_transformed.num_molecular_orbitals\n",
    "init_state = HartreeFock(num_spin_orbitals, num_particles, converter)\n",
    "init_state.draw()"
   ]
  },
  {
   "cell_type": "markdown",
   "metadata": {},
   "source": [
    "1. Choose the ansatz as Two_Local \n",
    "2. Made entaglement linear so that less number of cx are implied\n",
    "3. repetitions have been set to one \n",
    "4. skip_final_rotation_layer = False, so that we get more parameters, this makes it possible for the circuit to be executable easily\n",
    "5. I have also added x gates which has further helped in reducing the number of parameters"
   ]
  },
  {
   "cell_type": "code",
   "execution_count": 8,
   "metadata": {},
   "outputs": [],
   "source": [
    "from qiskit.circuit.library import TwoLocal\n",
    "from qiskit_nature.circuit.library import UCCSD, PUCCD, SUCCD\n",
    "\n",
    "# Choose the ansatz\n",
    "ansatz_type = \"Two_local\"\n",
    "\n",
    "# Parameters for q-UCC antatze\n",
    "num_particles = (problem.molecule_data_transformed.num_alpha,\n",
    "             problem.molecule_data_transformed.num_beta)\n",
    "num_spin_orbitals = 2 * problem.molecule_data_transformed.num_molecular_orbitals\n",
    "\n",
    "# Put arguments for twolocal\n",
    "if ansatz_type == \"Two_local\":\n",
    "    # Single qubit rotations that are placed on all qubits with independent parameters\n",
    "    rotation_blocks = ['ry', 'rz','x']\n",
    "    # Entangling gates\n",
    "    entanglement_blocks = 'cx'\n",
    "    # How the qubits are entangled \n",
    "    entanglement = 'linear'\n",
    "    # Repetitions of rotation_blocks + entanglement_blocks with independent parameters\n",
    "    repetitions = 1\n",
    "    # Skip the final rotation_blocks layer\n",
    "    skip_final_rotation_layer = False\n",
    "    ansatz = TwoLocal(qubit_op.num_qubits, rotation_blocks, entanglement_blocks, reps=repetitions, \n",
    "                      entanglement=entanglement, skip_unentangled_qubits=False, skip_final_rotation_layer=skip_final_rotation_layer)\n",
    "    # Add the initial state\n",
    "    ansatz.compose(init_state, front=True, inplace=True)\n",
    "elif ansatz_type == \"UCCSD\": \n",
    "    ansatz = UCCSD(converter,num_particles,num_spin_orbitals,initial_state = init_state)\n",
    "elif ansatz_type == \"PUCCD\":# does not give the correct solution \n",
    "    ansatz = PUCCD(converter,num_particles,num_spin_orbitals,initial_state = init_state)\n",
    "elif ansatz_type == \"SUCCD\":\n",
    "    ansatz = SUCCD(converter,num_particles,num_spin_orbitals,initial_state = init_state)\n",
    "elif ansatz_type == \"Custom\":\n",
    "    # Example of how to write your own circuit\n",
    "    \n",
    "    \n",
    "#### This is to custom ansatz\n",
    "\n",
    "#     from qiskit.circuit import Parameter, QuantumCircuit, QuantumRegister\n",
    "#     # Define the variational parameter\n",
    "#     theta = Parameter('a')\n",
    "#     n = qubit_op.num_qubits\n",
    "#     # Make an empty quantum circuit\n",
    "#     qc = QuantumCircuit(qubit_op.num_qubits)\n",
    "#     qubit_label = 0\n",
    "#     # Place a Hadamard gate\n",
    "#     qc.h(qubit_label)\n",
    "#     # Place a CNOT ladder\n",
    "#     for i in range(n-1):\n",
    "#         qc.cx(i, i+1)\n",
    "#     # Visual separator\n",
    "#     qc.barrier()\n",
    "#     # rz rotations on all qubits\n",
    "#     qc.rz(theta, range(n))\n",
    "#     ansatz = qc\n",
    "#     ansatz.compose(init_state, front=True, inplace=True)\n",
    "\n",
    " ansatz.draw() # this is the ansatz type TwoLocal"
   ]
  },
  {
   "cell_type": "markdown",
   "metadata": {},
   "source": [
    "Finall outlook of how the circuit looks."
   ]
  },
  {
   "cell_type": "code",
   "execution_count": 9,
   "metadata": {},
   "outputs": [
    {
     "data": {
      "image/png": "[encoded data removed]",
      "text/plain": [
       "<Figure size 688.597x264.88 with 1 Axes>"
      ]
     },
     "execution_count": 9,
     "metadata": {},
     "output_type": "execute_result"
    }
   ],
   "source": [
    "ansatz.draw() # this is the ansatz type TwoLocal"
   ]
  },
  {
   "cell_type": "markdown",
   "metadata": {},
   "source": [
    "statevector_backend is chosen"
   ]
  },
  {
   "cell_type": "code",
   "execution_count": 10,
   "metadata": {},
   "outputs": [],
   "source": [
    "from qiskit import Aer\n",
    "backend = Aer.get_backend('statevector_simulator')"
   ]
  },
  {
   "cell_type": "markdown",
   "metadata": {},
   "source": [
    "Optimizer optimizes the paramters of the ansatz and tries to make the energy converge with each succesive iteration. Not so sure but the best optimizer for the above anstaz came out to be - L_BFGS_B"
   ]
  },
  {
   "cell_type": "code",
   "execution_count": 11,
   "metadata": {},
   "outputs": [],
   "source": [
    "from qiskit.algorithms.optimizers import COBYLA, L_BFGS_B, SPSA, SLSQP\n",
    "\n",
    "optimizer_type = 'L_BFGS_B'\n",
    "\n",
    "# You may want to tune the parameters \n",
    "# of each optimizer, here the defaults are used\n",
    "if optimizer_type == 'COBYLA':\n",
    "    optimizer = COBYLA(maxiter=5000)\n",
    "elif optimizer_type == 'L_BFGS_B':\n",
    "    optimizer = L_BFGS_B(maxfun=5000)\n",
    "elif optimizer_type == 'SPSA':\n",
    "    optimizer = SPSA(maxiter=5000)\n",
    "elif optimizer_type == 'SLSQP':\n",
    "    optimizer = SLSQP(maxiter=5000)"
   ]
  },
  {
   "cell_type": "markdown",
   "metadata": {},
   "source": [
    "Used the exact eigensolver, which diagnolizes the matrix exactly. This can be done for only because the system is not big enough. For bigger systems we would have run out of memory."
   ]
  },
  {
   "cell_type": "code",
   "execution_count": 12,
   "metadata": {},
   "outputs": [
    {
     "name": "stdout",
     "output_type": "stream",
     "text": [
      "Exact electronic energy -1.0887060157347423\n"
     ]
    }
   ],
   "source": [
    "from qiskit_nature.algorithms.ground_state_solvers.minimum_eigensolver_factories import NumPyMinimumEigensolverFactory\n",
    "from qiskit_nature.algorithms.ground_state_solvers import GroundStateEigensolver\n",
    "import numpy as np \n",
    "\n",
    "def exact_diagonalizer(problem, converter):\n",
    "    solver = NumPyMinimumEigensolverFactory()\n",
    "    calc = GroundStateEigensolver(converter, solver)\n",
    "    result = calc.solve(problem)\n",
    "    return result\n",
    "\n",
    "result_exact = exact_diagonalizer(problem, converter)\n",
    "exact_energy = np.real(result_exact.eigenenergies[0])\n",
    "print(\"Exact electronic energy\", exact_energy)\n",
    "#print(result_exact)"
   ]
  },
  {
   "cell_type": "markdown",
   "metadata": {},
   "source": [
    "VQE and initial parameters for the ansatz\n",
    "Now we can import the VQE class and run the algorithm."
   ]
  },
  {
   "cell_type": "code",
   "execution_count": 13,
   "metadata": {
    "scrolled": true
   },
   "outputs": [
    {
     "name": "stdout",
     "output_type": "stream",
     "text": [
      "{   'aux_operator_eigenvalues': None,\n",
      "    'cost_function_evals': 1156,\n",
      "    'eigenstate': array([ 1.45128100e-03-1.19265985e-04j, -4.91487715e-03+4.24121503e-04j,\n",
      "        2.63027725e-02-2.66518555e-03j, -9.85434786e-01+1.08445572e-01j,\n",
      "       -5.38144750e-02+6.06502958e-03j, -3.30085584e-04+4.87401880e-05j,\n",
      "        9.08296708e-04-1.20776050e-04j, -2.40018088e-02+3.36649326e-03j,\n",
      "       -2.76851057e-03+2.20706709e-04j, -8.91025412e-06+1.32465922e-06j,\n",
      "        3.49291194e-06-7.03261951e-07j,  3.84749373e-04-3.03025122e-05j,\n",
      "        1.12913278e-01-1.23895485e-02j,  4.41035370e-04-7.16584354e-05j,\n",
      "       -5.61038761e-04+7.49320421e-05j,  4.98253423e-06-7.88569155e-07j]),\n",
      "    'eigenvalue': -1.086366899639688,\n",
      "    'optimal_parameters': {   ParameterVectorElement(θ[7]): 5.064255595300025e-05,\n",
      "                              ParameterVectorElement(θ[4]): 0.005046393672495522,\n",
      "                              ParameterVectorElement(θ[8]): 18.79694121480397,\n",
      "                              ParameterVectorElement(θ[2]): -3.1415877033950457,\n",
      "                              ParameterVectorElement(θ[1]): 0.005678743247627842,\n",
      "                              ParameterVectorElement(θ[14]): 0.02973626772360213,\n",
      "                              ParameterVectorElement(θ[10]): 3.0927033907610255,\n",
      "                              ParameterVectorElement(θ[13]): 0.02347646475179185,\n",
      "                              ParameterVectorElement(θ[5]): -0.002533473336704998,\n",
      "                              ParameterVectorElement(θ[3]): 5.837893089584964,\n",
      "                              ParameterVectorElement(θ[6]): -0.216316530340636,\n",
      "                              ParameterVectorElement(θ[9]): -6.273222859731663,\n",
      "                              ParameterVectorElement(θ[12]): 0.008657612973561506,\n",
      "                              ParameterVectorElement(θ[11]): 5.838671157632182,\n",
      "                              ParameterVectorElement(θ[15]): -0.0029677198628147382,\n",
      "                              ParameterVectorElement(θ[0]): -0.2523701306349598},\n",
      "    'optimal_point': array([-2.52370131e-01,  3.09270339e+00,  5.83867116e+00,  8.65761297e-03,\n",
      "        2.34764648e-02,  2.97362677e-02, -2.96771986e-03,  5.67874325e-03,\n",
      "       -3.14158770e+00,  5.83789309e+00,  5.04639367e-03, -2.53347334e-03,\n",
      "       -2.16316530e-01,  5.06425560e-05,  1.87969412e+01, -6.27322286e+00]),\n",
      "    'optimal_value': -1.086366899639688,\n",
      "    'optimizer_evals': 1156,\n",
      "    'optimizer_time': 9.621119260787964}\n"
     ]
    }
   ],
   "source": [
    "from qiskit.algorithms import VQE\n",
    "from IPython.display import display, clear_output\n",
    "\n",
    "# Print and save the data in lists\n",
    "def callback(eval_count, parameters, mean, std):  \n",
    "    # Overwrites the same line when printing\n",
    "    display(\"Evaluation: {}, Energy: {}, Std: {}\".format(eval_count, mean, std))\n",
    "    clear_output(wait=True)\n",
    "    counts.append(eval_count)\n",
    "    values.append(mean)\n",
    "    params.append(parameters)\n",
    "    deviation.append(std)\n",
    "\n",
    "counts = []\n",
    "values = []\n",
    "params = []\n",
    "deviation = []\n",
    "\n",
    "# Set initial parameters of the ansatz\n",
    "# We choose a fixed small displacement \n",
    "# So all participants start from similar starting point\n",
    "try:\n",
    "    initial_point = [0.01] * len(ansatz.ordered_parameters)\n",
    "except:\n",
    "    initial_point = [0.01] * ansatz.num_parameters\n",
    "\n",
    "algorithm = VQE(ansatz,\n",
    "                optimizer=optimizer,\n",
    "                quantum_instance=backend,\n",
    "                callback=callback,\n",
    "                initial_point=initial_point)\n",
    "\n",
    "result = algorithm.compute_minimum_eigenvalue(qubit_op)\n",
    "\n",
    "# the energy gets stuck around -0.93 when we go for Two_local depth = 3,2,1\n",
    "# trying to change the starting point \n",
    "print(result)"
   ]
  },
  {
   "cell_type": "markdown",
   "metadata": {},
   "source": [
    "Name - Parmeet Singh Chani \\\n",
    "score - 3 \\\n",
    "chemical accuracy - 99.7851%(2.33391161 mHa) \\\n",
    "No. of paramters - 16 "
   ]
  },
  {
   "cell_type": "code",
   "execution_count": null,
   "metadata": {},
   "outputs": [],
   "source": []
  }
 ],
 "metadata": {
  "kernelspec": {
   "display_name": "Python 3",
   "language": "python",
   "name": "python3"
  },
  "language_info": {
   "codemirror_mode": {
    "name": "ipython",
    "version": 3
   },
   "file_extension": ".py",
   "mimetype": "text/x-python",
   "name": "python",
   "nbconvert_exporter": "python",
   "pygments_lexer": "ipython3",
   "version": "3.7.6"
  }
 },
 "nbformat": 4,
 "nbformat_minor": 5
}
