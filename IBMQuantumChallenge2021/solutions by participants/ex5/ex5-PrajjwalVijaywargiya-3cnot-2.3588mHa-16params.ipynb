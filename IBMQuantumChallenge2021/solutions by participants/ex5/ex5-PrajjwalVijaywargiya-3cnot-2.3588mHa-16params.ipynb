{
 "cells": [
  {
   "cell_type": "markdown",
   "metadata": {},
   "source": [
    "# Exercise 5 - Variational quantum Eigensolver\n",
    "---"
   ]
  },
  {
   "cell_type": "markdown",
   "metadata": {},
   "source": [
    "#### 1.Driver  \n",
    "The interfaces to the classical chemistry codes that are available in Qiskit are called drivers. We have for example, `PSI4Driver`, `PyQuanteDriver`, `PySCFDriver` are available.  \n",
    "\n",
    "By running a driver (Hartree-Fock calculation for a given basis set and molecular geometry), in the cell below, we obtain all the necessary information about our molecule to apply then a quantum algorithm."
   ]
  },
  {
   "cell_type": "code",
   "execution_count": 1,
   "metadata": {},
   "outputs": [],
   "source": [
    "from qiskit_nature.drivers import PySCFDriver\n",
    "\n",
    "molecule = 'Li 0.0 0.0 0.0; H 0.0 0.0 1.5474'\n",
    "driver = PySCFDriver(atom=molecule)\n",
    "qmolecule = driver.run()"
   ]
  },
  {
   "cell_type": "markdown",
   "metadata": {},
   "source": [
    "We can look at the attributes of `qmolecule`:"
   ]
  },
  {
   "cell_type": "code",
   "execution_count": 2,
   "metadata": {},
   "outputs": [
    {
     "name": "stdout",
     "output_type": "stream",
     "text": [
      "4\n",
      "6\n",
      "12\n",
      "12\n",
      "1.0259348796432726\n"
     ]
    }
   ],
   "source": [
    "# We can calculate the number of electrons\n",
    "n_electrons = qmolecule.num_alpha + qmolecule.num_beta\n",
    "print(n_electrons)\n",
    "\n",
    "# Number of molecular orbitals\n",
    "n_molecular_orbitals = qmolecule.num_molecular_orbitals\n",
    "print(n_molecular_orbitals)\n",
    "\n",
    "# Number of spin orbitals = 2 * number of molecular orbitals\n",
    "n_spin_orbitals = 2*qmolecule.num_molecular_orbitals\n",
    "print(n_spin_orbitals)\n",
    "\n",
    "# Number of qubits needed to simulate the given LiH molecule with JordanWigner Mapping is equal to number of spin orbitals\n",
    "num_qubits = 2*qmolecule.num_molecular_orbitals\n",
    "print(num_qubits)\n",
    "\n",
    "# Nuclear repulsion energy\n",
    "nuc_rep_energy = qmolecule.nuclear_repulsion_energy\n",
    "print(nuc_rep_energy)"
   ]
  },
  {
   "cell_type": "markdown",
   "metadata": {},
   "source": [
    "#### 2. Electronic structure problem  \n",
    "You can then create an `ElectronicStructureProblem` that can produce the list of fermionic operators before mapping them to qubits (Pauli Strings).  \n",
    "We also import the `FreezeCoreTransformer` transformer which freezes the core orbitals of the molecule (in our case, the core orbital index is `0`.  \n",
    "\n",
    "As visible in the following cell, we have specified another argument named `remove_orbitals` with value `[3,4]`. This is part of the transformation we perform to simplify our problem , and reduce the number of qubits required to handle the problem. The `remove_orbitals` argument removes additional orbitals from consideration in order to simplify the problem. Here we remove the additional (unoccupied) orbitals of high energy which have indices 3,4 in the list of orbitals.  \n",
    "\n",
    "This removing of orbitals and freezing of core orbitals is in accordance with the Born-Oppenheimer approximation, which separates the electronic motion and nuclear motion in a molecule. Under \n",
    "the Born-Oppenheimer approximation, the lowest energy (core) orbitals, by virtue of interacting minimally with the system, and the highest energy (*and unoccupied*) orbitals can be removed from consideration. They do not contribute signifcantly to calculation of ground state energy.  \n",
    "The remaining orbitals are known as \"active-space\" orbitals."
   ]
  },
  {
   "cell_type": "code",
   "execution_count": 3,
   "metadata": {},
   "outputs": [],
   "source": [
    "from qiskit_nature.problems.second_quantization.electronic import ElectronicStructureProblem\n",
    "from qiskit_nature.transformers import FreezeCoreTransformer\n",
    "\n",
    "problem = ElectronicStructureProblem(driver, q_molecule_transformers=[FreezeCoreTransformer(freeze_core = True,\n",
    "                                                                                            remove_orbitals = [3,4])])\n",
    "\n",
    "# Generate the second-quantized operators\n",
    "second_q_ops = problem.second_q_ops()\n",
    "\n",
    "#Hamiltonian\n",
    "main_op = second_q_ops[0]"
   ]
  },
  {
   "cell_type": "markdown",
   "metadata": {},
   "source": [
    "#### 3. Qubit Converter  \n",
    "\n",
    "Allows to define the mapping that you will use in the simulation. The mapping I used is the `ParityMapper`, since it further allows the reduction of 2 qubits and simplifies the problem."
   ]
  },
  {
   "cell_type": "code",
   "execution_count": 4,
   "metadata": {},
   "outputs": [],
   "source": [
    "from qiskit_nature.mappers.second_quantization import ParityMapper\n",
    "from qiskit_nature.converters.second_quantization.qubit_converter import QubitConverter\n",
    "\n",
    "# Set up the mapper and qubit converter\n",
    "mapper = ParityMapper()\n",
    "\n",
    "converter = QubitConverter(mapper = mapper, two_qubit_reduction=True)\n",
    "\n",
    "# Fermionic operators (creation and annihilation) are mapped to qubit operators\n",
    "num_particles = (problem.molecule_data_transformed.num_alpha, problem.molecule_data_transformed.num_beta)\n",
    "\n",
    "qubit_op = converter.convert(main_op, num_particles=num_particles)"
   ]
  },
  {
   "cell_type": "markdown",
   "metadata": {},
   "source": [
    "#### 4. Initial State  \n",
    "A good initial state in chemistry is the Hartree-Fock (HF) state (i.e. $|0101\\rangle$). We can initialize it as follows:"
   ]
  },
  {
   "cell_type": "code",
   "execution_count": 5,
   "metadata": {},
   "outputs": [
    {
     "name": "stdout",
     "output_type": "stream",
     "text": [
      "     ┌───┐\n",
      "q_0: ┤ X ├\n",
      "     ├───┤\n",
      "q_1: ┤ X ├\n",
      "     └───┘\n",
      "q_2: ─────\n",
      "          \n",
      "q_3: ─────\n",
      "          \n"
     ]
    }
   ],
   "source": [
    "from qiskit_nature.circuit.library import HartreeFock\n",
    "\n",
    "num_particles = (problem.molecule_data_transformed.num_alpha, problem.molecule_data_transformed.num_beta)\n",
    "\n",
    "num_spin_orbitals = 2*problem.molecule_data_transformed.num_molecular_orbitals\n",
    "init_state = HartreeFock(num_spin_orbitals, num_particles, converter)\n",
    "print(init_state)"
   ]
  },
  {
   "cell_type": "markdown",
   "metadata": {},
   "source": [
    "#### 5. Ansatz\n",
    "One of the most important choices is the qauntum circuit that you choose to approximate your ground state. Here I have used the TwoLocal ansatz provided by qiskit (circuit drawing in later cells)."
   ]
  },
  {
   "cell_type": "code",
   "execution_count": 6,
   "metadata": {},
   "outputs": [
    {
     "name": "stdout",
     "output_type": "stream",
     "text": [
      "OrderedDict([('ry', 8), ('rz', 8), ('cx', 3), ('x', 2)])\n"
     ]
    },
    {
     "data": {
      "image/png": "[encoded data removed]",
      "text/plain": [
       "<Figure size 568.197x264.88 with 1 Axes>"
      ]
     },
     "execution_count": 6,
     "metadata": {},
     "output_type": "execute_result"
    }
   ],
   "source": [
    "from qiskit.circuit.library import TwoLocal\n",
    "\n",
    "# Single qubit rotations that are placed on all qubtis with independent parameters\n",
    "rotation_blocks = ['ry','rz']\n",
    "\n",
    "# entangling gates\n",
    "entanglement_blocks = 'cx'\n",
    "\n",
    "# How the qubits are entangled (possible values: 'full', 'linear', 'circular', 'sca')\n",
    "entanglement = 'linear'\n",
    "\n",
    "# Repetitions of rotation_blocks + entanglement_blocks with independent parameters\n",
    "repetitions = 1\n",
    "\n",
    "# Skip the final rotation_blocks layer\n",
    "skip_final_rotation_layer = False\n",
    "\n",
    "ansatz = TwoLocal(qubit_op.num_qubits, rotation_blocks=rotation_blocks, \n",
    "                  entanglement_blocks=entanglement_blocks, reps = repetitions, entanglement=entanglement,\n",
    "                  skip_final_rotation_layer=skip_final_rotation_layer)\n",
    "\n",
    "# Add the initial state\n",
    "ansatz.compose(init_state, front=True, inplace = True)\n",
    "\n",
    "print(ansatz.count_ops())\n",
    "ansatz.draw('mpl')"
   ]
  },
  {
   "cell_type": "markdown",
   "metadata": {},
   "source": [
    "#### 6. Backend\n",
    "This is where you specify the simulator or device where you want to run your algorithm. We will focus on the `statevector_simulator` in this challenge."
   ]
  },
  {
   "cell_type": "code",
   "execution_count": 7,
   "metadata": {},
   "outputs": [],
   "source": [
    "from qiskit import Aer\n",
    "backend = Aer.get_backend('statevector_simulator')"
   ]
  },
  {
   "cell_type": "markdown",
   "metadata": {},
   "source": [
    "#### 7. Optimizer\n",
    "The optimizier guides the evolution of the parameters of the ansarz so it is very important to investigate the energy convergence as it would define the number of measurements that have to be performed on the QPU. A clever choice might reduce drastically the number of needed energy evaluations."
   ]
  },
  {
   "cell_type": "code",
   "execution_count": 8,
   "metadata": {},
   "outputs": [],
   "source": [
    "from qiskit.algorithms.optimizers import SLSQP\n",
    "\n",
    "optimizer = SLSQP(maxiter=500)"
   ]
  },
  {
   "cell_type": "markdown",
   "metadata": {},
   "source": [
    "#### 8. Exact Eigensolver\n",
    "\n",
    "For learning purposes, we can solve the problem exactly with the exact diagonalization of the Hamiltonian matrix so we know where to aim with VQE. Of course, the dimensions of this matrix scale exponentially in the number of molecular orbitals so you can try doing this for a larger molecule of your choice and see how slow this becomes. For very large systems you would run out of memory trying to store their wavefunctions."
   ]
  },
  {
   "cell_type": "code",
   "execution_count": 9,
   "metadata": {},
   "outputs": [
    {
     "name": "stdout",
     "output_type": "stream",
     "text": [
      "Exact electronic energy -1.0887060157347397\n",
      "=== GROUND STATE ENERGY ===\n",
      " \n",
      "* Electronic ground state energy (Hartree): -8.907396311316\n",
      "  - computed part:      -1.088706015735\n",
      "  - FreezeCoreTransformer extracted energy part: -7.818690295581\n",
      "~ Nuclear repulsion energy (Hartree): 1.025934879643\n",
      "> Total ground state energy (Hartree): -7.881461431673\n",
      " \n",
      "=== MEASURED OBSERVABLES ===\n",
      " \n",
      "  0:  # Particles: 2.000 S: 0.000 S^2: 0.000 M: 0.000\n",
      " \n",
      "=== DIPOLE MOMENTS ===\n",
      " \n",
      "~ Nuclear dipole moment (a.u.): [0.0  0.0  2.92416221]\n",
      " \n",
      "  0: \n",
      "  * Electronic dipole moment (a.u.): [0.0  0.0  4.76300889]\n",
      "    - computed part:      [0.0  0.0  4.76695575]\n",
      "    - FreezeCoreTransformer extracted energy part: [0.0  0.0  -0.00394686]\n",
      "  > Dipole moment (a.u.): [0.0  0.0  -1.83884668]  Total: 1.83884668\n",
      "                 (debye): [0.0  0.0  -4.67388163]  Total: 4.67388163\n",
      " \n"
     ]
    }
   ],
   "source": [
    "from qiskit_nature.algorithms.ground_state_solvers.minimum_eigensolver_factories import NumPyMinimumEigensolverFactory\n",
    "from qiskit_nature.algorithms.ground_state_solvers import GroundStateEigensolver\n",
    "import numpy as np\n",
    "\n",
    "def exact_diagonalizer(problem, converter):\n",
    "    solver = NumPyMinimumEigensolverFactory()\n",
    "    calc = GroundStateEigensolver(converter, solver)\n",
    "    result = calc.solve(problem)\n",
    "    return result\n",
    "\n",
    "result_exact = exact_diagonalizer(problem, converter)\n",
    "exact_energy = np.real(result_exact.eigenenergies[0])\n",
    "print(\"Exact electronic energy\", exact_energy)\n",
    "print(result_exact)"
   ]
  },
  {
   "cell_type": "markdown",
   "metadata": {},
   "source": [
    "#### 9. VQE and initial parameters for the ansatz\n",
    "Now we can import the VQE class and run the algorithm"
   ]
  },
  {
   "cell_type": "code",
   "execution_count": 10,
   "metadata": {},
   "outputs": [
    {
     "name": "stdout",
     "output_type": "stream",
     "text": [
      "{   'aux_operator_eigenvalues': None,\n",
      "    'cost_function_evals': 832,\n",
      "    'eigenstate': array([ 1.39107158e-03+1.62881639e-04j, -4.80388019e-03-1.46986147e-04j,\n",
      "        2.62445688e-02+8.47612932e-04j, -9.91330312e-01+1.36852259e-02j,\n",
      "       -5.37453169e-02-3.77342450e-03j, -3.69333133e-04-8.90827266e-05j,\n",
      "        8.79291486e-04-4.46330708e-06j, -2.32772516e-02+1.49221902e-03j,\n",
      "       -2.67379761e-03-7.05398203e-05j, -1.12001830e-05-8.31915326e-06j,\n",
      "        3.67134979e-06+2.34852365e-05j,  3.09802908e-04-9.10780549e-04j,\n",
      "        1.13572091e-01-2.69541082e-03j,  5.55565625e-04+1.40856912e-04j,\n",
      "       -5.49422918e-04+3.83240302e-05j, -2.95627080e-05-1.93824609e-05j]),\n",
      "    'eigenvalue': -1.086347201459816,\n",
      "    'optimal_parameters': {   ParameterVectorElement(θ[0]): 0.25215446219785737,\n",
      "                              ParameterVectorElement(θ[1]): -0.005427316364644847,\n",
      "                              ParameterVectorElement(θ[2]): -3.1415186174279306,\n",
      "                              ParameterVectorElement(θ[3]): -2.698314591617604,\n",
      "                              ParameterVectorElement(θ[4]): -0.04519022187276409,\n",
      "                              ParameterVectorElement(θ[5]): 0.02861266724357,\n",
      "                              ParameterVectorElement(θ[6]): -0.07022353750689658,\n",
      "                              ParameterVectorElement(θ[7]): 0.004098486236227365,\n",
      "                              ParameterVectorElement(θ[8]): 0.05228299078260591,\n",
      "                              ParameterVectorElement(θ[9]): 3.13188521045982,\n",
      "                              ParameterVectorElement(θ[10]): 3.1886716788015494,\n",
      "                              ParameterVectorElement(θ[11]): 0.44245380110810795,\n",
      "                              ParameterVectorElement(θ[12]): -0.045884341387034386,\n",
      "                              ParameterVectorElement(θ[13]): -0.04486480466309891,\n",
      "                              ParameterVectorElement(θ[14]): -0.05014858582586648,\n",
      "                              ParameterVectorElement(θ[15]): -0.09609071534015734},\n",
      "    'optimal_point': array([ 0.25215446,  3.18867168,  0.4424538 , -0.04588434, -0.0448648 ,\n",
      "       -0.05014859, -0.09609072, -0.00542732, -3.14151862, -2.69831459,\n",
      "       -0.04519022,  0.02861267, -0.07022354,  0.00409849,  0.05228299,\n",
      "        3.13188521]),\n",
      "    'optimal_value': -1.086347201459816,\n",
      "    'optimizer_evals': 832,\n",
      "    'optimizer_time': 9.107895135879517}\n"
     ]
    }
   ],
   "source": [
    "from qiskit.algorithms import VQE\n",
    "from IPython.display import display, clear_output\n",
    "\n",
    "# Print and save the data in lists\n",
    "def callback(eval_count, parameters, mean, std):\n",
    "    # Overwrites the same line when printing\n",
    "    display(\"Evaluation: {}, Energy: {}, Std: {}\".format(eval_count, mean, std))\n",
    "    clear_output(wait=True)\n",
    "    counts.append(eval_count)\n",
    "    values.append(mean)\n",
    "    params.append(parameters)\n",
    "    deviation.append(std)\n",
    "    \n",
    "counts = []\n",
    "values = []\n",
    "params = []\n",
    "deviation = []\n",
    "\n",
    "# Set initial parameters of the ansatz\n",
    "# We choose a fixed samll displacement\n",
    "\n",
    "try:\n",
    "    initial_point = [0.01] * len(ansatz.ordered_parameters)\n",
    "except:\n",
    "    initial_point = [0.01] * ansatz.num_parameters\n",
    "\n",
    "\n",
    "algorithm = VQE(ansatz, \n",
    "                optimizer = optimizer,\n",
    "                quantum_instance=backend,\n",
    "                callback = callback, \n",
    "                initial_point = initial_point)\n",
    "\n",
    "result = algorithm.compute_minimum_eigenvalue(qubit_op)\n",
    "print(result)"
   ]
  },
  {
   "cell_type": "markdown",
   "metadata": {},
   "source": [
    "#### 9. Scoring Function"
   ]
  },
  {
   "cell_type": "code",
   "execution_count": 11,
   "metadata": {},
   "outputs": [
    {
     "data": {
      "image/png": "[encoded data removed]",
      "text/plain": [
       "<Figure size 432x288 with 1 Axes>"
      ]
     },
     "metadata": {
      "needs_background": "light"
     },
     "output_type": "display_data"
    }
   ],
   "source": [
    "# Store results in a dictionary\n",
    "from qiskit.transpiler import PassManager\n",
    "from qiskit.transpiler.passes import Unroller\n",
    "\n",
    "# Unroller transpile your circuit into CNOTs and U gates\n",
    "pass_ = Unroller(['u', 'cx'])\n",
    "pm = PassManager(pass_)\n",
    "ansatz_tp = pm.run(ansatz)\n",
    "cnots = ansatz_tp.count_ops()['cx']\n",
    "score = cnots\n",
    "\n",
    "accuracy_threshold = 4.0 # in mHa\n",
    "energy = result.optimal_value\n",
    "\n",
    "\n",
    "result_dict = {\n",
    "    'optimizer': optimizer.__class__.__name__ ,\n",
    "    'mapping': converter.mapper.__class__.__name__,\n",
    "    'ansatz': ansatz.__class__.__name__,\n",
    "    'rotation blocks': None,\n",
    "    'entanglement_blocks': None,\n",
    "    'entanglement': None,\n",
    "    'repetitions': None,\n",
    "    'skip_final_rotation_layer': None,\n",
    "    'energy (Ha)': energy,\n",
    "    'error (mHa)': (energy-exact_energy)*1000,\n",
    "    'pass': (energy-exact_energy)*1000 <= accuracy_threshold,\n",
    "    '# of parameters': len(result.optimal_point),\n",
    "    'final parameters': result.optimal_point,\n",
    "    '# of evaluations': result.optimizer_evals,\n",
    "    'optimizer time': result.optimizer_time,\n",
    "    '# of qubits': int(qubit_op.num_qubits),\n",
    "    '# of CNOTs': cnots,\n",
    "    'score': score\n",
    "}\n",
    "\n",
    "# Plot the results\n",
    "import matplotlib.pyplot as plt\n",
    "\n",
    "fig, ax = plt.subplots(1, 1)\n",
    "ax.set_xlabel('Iterations')\n",
    "ax.set_ylabel('Energy')\n",
    "ax.grid()\n",
    "fig.text(0.7, 0.75, f'Energy: {result.optimal_value:.3f}\\nScore: {score:.0f}')\n",
    "plt.title(f\"{result_dict['optimizer']}-{result_dict['mapping']}\\n{result_dict['ansatz']}\")\n",
    "ax.plot(counts, values)\n",
    "ax.axhline(exact_energy, linestyle='--')\n",
    "fig_title = f\"\\\n",
    "{result_dict['optimizer']}-\\\n",
    "{result_dict['mapping']}-\\\n",
    "{result_dict['ansatz']}-\\\n",
    "Energy({result_dict['energy (Ha)']:.3f})-\\\n",
    "Score({result_dict['score']:.0f})\\\n",
    ".png\"\n",
    "fig.savefig(fig_title, dpi=300)"
   ]
  },
  {
   "cell_type": "markdown",
   "metadata": {},
   "source": [
    "---"
   ]
  },
  {
   "cell_type": "code",
   "execution_count": 12,
   "metadata": {},
   "outputs": [
    {
     "name": "stdout",
     "output_type": "stream",
     "text": [
      "SCORE: 3\n",
      "ERROR: 2.358814274923793 mHa\n",
      "NUMBER OF PARAMETERS: 16\n"
     ]
    }
   ],
   "source": [
    "print(\"SCORE: {}\".format(result_dict['score']))\n",
    "print(\"ERROR: {} mHa\".format(result_dict['error (mHa)']))\n",
    "print(\"NUMBER OF PARAMETERS: {}\".format(result_dict['# of parameters']))"
   ]
  },
  {
   "cell_type": "code",
   "execution_count": null,
   "metadata": {},
   "outputs": [],
   "source": []
  }
 ],
 "metadata": {
  "kernelspec": {
   "display_name": "Python 3",
   "language": "python",
   "name": "python3"
  },
  "language_info": {
   "codemirror_mode": {
    "name": "ipython",
    "version": 3
   },
   "file_extension": ".py",
   "mimetype": "text/x-python",
   "name": "python",
   "nbconvert_exporter": "python",
   "pygments_lexer": "ipython3",
   "version": "3.7.6"
  },
  "toc": {
   "base_numbering": 1,
   "nav_menu": {},
   "number_sections": false,
   "sideBar": false,
   "skip_h1_title": false,
   "title_cell": "Table of Contents",
   "title_sidebar": "Contents",
   "toc_cell": false,
   "toc_position": {},
   "toc_section_display": false,
   "toc_window_display": false
  }
 },
 "nbformat": 4,
 "nbformat_minor": 4
}
