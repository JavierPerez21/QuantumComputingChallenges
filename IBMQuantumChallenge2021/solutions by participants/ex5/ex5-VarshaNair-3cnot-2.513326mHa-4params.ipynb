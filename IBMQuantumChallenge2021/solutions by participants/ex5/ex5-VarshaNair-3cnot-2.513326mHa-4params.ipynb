{
 "cells": [
  {
   "cell_type": "code",
   "execution_count": 1,
   "metadata": {},
   "outputs": [
    {
     "name": "stdout",
     "output_type": "stream",
     "text": [
      "[[-4.73853724  0.10753914  0.1675853   0.          0.         -0.03026284\n",
      "   0.          0.          0.          0.          0.          0.        ]\n",
      " [ 0.10753914 -1.51317577  0.03434669  0.          0.         -0.06802917\n",
      "   0.          0.          0.          0.          0.          0.        ]\n",
      " [ 0.1675853   0.03434669 -1.12916229  0.          0.          0.03143223\n",
      "   0.          0.          0.          0.          0.          0.        ]\n",
      " [ 0.          0.          0.         -1.14077094  0.          0.\n",
      "   0.          0.          0.          0.          0.          0.        ]\n",
      " [ 0.          0.          0.          0.         -1.14077094  0.\n",
      "   0.          0.          0.          0.          0.          0.        ]\n",
      " [-0.03026284 -0.06802917  0.03143223  0.          0.         -0.9418187\n",
      "   0.          0.          0.          0.          0.          0.        ]\n",
      " [ 0.          0.          0.          0.          0.          0.\n",
      "  -4.73853724  0.10753914  0.1675853   0.          0.         -0.03026284]\n",
      " [ 0.          0.          0.          0.          0.          0.\n",
      "   0.10753914 -1.51317577  0.03434669  0.          0.         -0.06802917]\n",
      " [ 0.          0.          0.          0.          0.          0.\n",
      "   0.1675853   0.03434669 -1.12916229  0.          0.          0.03143223]\n",
      " [ 0.          0.          0.          0.          0.          0.\n",
      "   0.          0.          0.         -1.14077094  0.          0.        ]\n",
      " [ 0.          0.          0.          0.          0.          0.\n",
      "   0.          0.          0.          0.         -1.14077094  0.        ]\n",
      " [ 0.          0.          0.          0.          0.          0.\n",
      "  -0.03026284 -0.06802917  0.03143223  0.          0.         -0.9418187 ]]\n"
     ]
    }
   ],
   "source": [
    "from qiskit_nature.drivers import PySCFDriver,UnitsType\n",
    "\n",
    "molecule = 'Li 0.0 0.0 0.0; H 0.0 0.0 1.5474'\n",
    "distance_unit = UnitsType.ANGSTROM\n",
    "basis = \"sto3g\"\n",
    "\n",
    "driver = PySCFDriver(molecule,unit = distance_unit,basis = basis)\n",
    "molecule = driver.run()\n",
    "h1 = molecule.one_body_integrals\n",
    "print(h1)"
   ]
  },
  {
   "cell_type": "code",
   "execution_count": 2,
   "metadata": {},
   "outputs": [],
   "source": [
    "from qiskit_nature.problems.second_quantization.electronic import ElectronicStructureProblem\n",
    "from qiskit_nature.transformers import FreezeCoreTransformer\n",
    "\n",
    "#Freeze the core and remove two unoccupied orbitals(find unoccupied ones from h1) to reduce number of qubits\n",
    "# Freezing core refers to excluding inner-shells \n",
    "problem = ElectronicStructureProblem(driver, q_molecule_transformers=[FreezeCoreTransformer(freeze_core=True, remove_orbitals=[3,4])])\n",
    "# Generate the second-quantized operators\n",
    "second_q_ops = problem.second_q_ops()\n",
    "\n",
    "# Hamiltonian\n",
    "main_op = second_q_ops[0] "
   ]
  },
  {
   "cell_type": "code",
   "execution_count": 3,
   "metadata": {},
   "outputs": [],
   "source": [
    "from qiskit_nature.mappers.second_quantization import ParityMapper\n",
    "from qiskit_nature.converters.second_quantization.qubit_converter import QubitConverter\n",
    "\n",
    "#Parity fermion to qubit mapping\n",
    "#Two_qubit_reduction is set to true to carry out two qubit reduction\n",
    "converter = QubitConverter(mapper=ParityMapper(),two_qubit_reduction=True)\n",
    "\n",
    "# The fermionic operators are mapped to qubit operators\n",
    "num_particles = (problem.molecule_data_transformed.num_alpha,\n",
    "             problem.molecule_data_transformed.num_beta)\n",
    "qubit_op = converter.convert(main_op, num_particles=num_particles)\n"
   ]
  },
  {
   "cell_type": "code",
   "execution_count": 4,
   "metadata": {},
   "outputs": [
    {
     "name": "stdout",
     "output_type": "stream",
     "text": [
      "     ┌───┐\n",
      "q_0: ┤ X ├\n",
      "     ├───┤\n",
      "q_1: ┤ X ├\n",
      "     └───┘\n",
      "q_2: ─────\n",
      "          \n",
      "q_3: ─────\n",
      "          \n"
     ]
    }
   ],
   "source": [
    "from qiskit_nature.circuit.library import HartreeFock\n",
    "\n",
    "num_particles = (problem.molecule_data_transformed.num_alpha,\n",
    "             problem.molecule_data_transformed.num_beta)\n",
    "num_spin_orbitals =2* problem.molecule_data_transformed.num_molecular_orbitals\n",
    "init_state = HartreeFock(num_spin_orbitals, num_particles, converter)\n",
    "print(init_state)"
   ]
  },
  {
   "cell_type": "code",
   "execution_count": 5,
   "metadata": {},
   "outputs": [
    {
     "name": "stdout",
     "output_type": "stream",
     "text": [
      "        ┌───┐    ┌──────────┐┌───┐          \n",
      "q_0: ───┤ X ├────┤ RY(θ[0]) ├┤ X ├──■───────\n",
      "        ├───┤    ├──────────┤└─┬─┘┌─┴─┐     \n",
      "q_1: ───┤ X ├────┤ RY(θ[1]) ├──┼──┤ X ├──■──\n",
      "     ┌──┴───┴───┐└──────────┘  │  └───┘┌─┴─┐\n",
      "q_2: ┤ RY(θ[2]) ├──────────────┼───────┤ X ├\n",
      "     ├──────────┤              │       └───┘\n",
      "q_3: ┤ RY(θ[3]) ├──────────────■────────────\n",
      "     └──────────┘                           \n"
     ]
    }
   ],
   "source": [
    "from qiskit.circuit.library import TwoLocal\n",
    "\n",
    "# Two Local reduces cost of circuit compared to UCCSD and SUCCD \n",
    "rotation_blocks = ['ry'] # Gates used in the rotation layer\n",
    "entanglement_blocks = ['cx'] # Gates used in the entanglement layer\n",
    "entanglement = [[3, 0], [0, 1],[1,2]] # manual entanglement; circular works too but 4 cnots are implemented   \n",
    "\n",
    "repetitions = 1 # Repetitions of rotation_blocks and entanglement_blocks\n",
    "skip_final_rotation_layer = True # No rotation layer is added at the end.\n",
    "ansatz =TwoLocal(qubit_op.num_qubits, rotation_blocks, entanglement_blocks, reps=repetitions, \n",
    "                     entanglement=entanglement, skip_final_rotation_layer = skip_final_rotation_layer)\n",
    "ansatz.compose(init_state, front=True, inplace=True)\n",
    "    \n",
    "print(ansatz) "
   ]
  },
  {
   "cell_type": "code",
   "execution_count": 6,
   "metadata": {},
   "outputs": [],
   "source": [
    "from qiskit import Aer\n",
    "backend = Aer.get_backend('statevector_simulator')"
   ]
  },
  {
   "cell_type": "code",
   "execution_count": 7,
   "metadata": {},
   "outputs": [],
   "source": [
    "from qiskit.algorithms.optimizers import SLSQP\n",
    "# SLSQP and COBYLA are used for statevector simulator \n",
    "# SPSA used for noisy devices \n",
    "optimizer = SLSQP(maxiter = 500)"
   ]
  },
  {
   "cell_type": "code",
   "execution_count": 8,
   "metadata": {},
   "outputs": [
    {
     "name": "stdout",
     "output_type": "stream",
     "text": [
      "Exact electronic energy -1.0887060157347395\n",
      "=== GROUND STATE ENERGY ===\n",
      " \n",
      "* Electronic ground state energy (Hartree): -8.907396311316\n",
      "  - computed part:      -1.088706015735\n",
      "  - FreezeCoreTransformer extracted energy part: -7.818690295581\n",
      "~ Nuclear repulsion energy (Hartree): 1.025934879643\n",
      "> Total ground state energy (Hartree): -7.881461431673\n",
      " \n",
      "=== MEASURED OBSERVABLES ===\n",
      " \n",
      "  0:  # Particles: 2.000 S: 0.000 S^2: 0.000 M: 0.000\n",
      " \n",
      "=== DIPOLE MOMENTS ===\n",
      " \n",
      "~ Nuclear dipole moment (a.u.): [0.0  0.0  2.92416221]\n",
      " \n",
      "  0: \n",
      "  * Electronic dipole moment (a.u.): [0.0  0.0  4.76300889]\n",
      "    - computed part:      [0.0  0.0  4.76695575]\n",
      "    - FreezeCoreTransformer extracted energy part: [0.0  0.0  -0.00394686]\n",
      "  > Dipole moment (a.u.): [0.0  0.0  -1.83884668]  Total: 1.83884668\n",
      "                 (debye): [0.0  0.0  -4.67388163]  Total: 4.67388163\n",
      " \n"
     ]
    }
   ],
   "source": [
    "from qiskit_nature.algorithms.ground_state_solvers.minimum_eigensolver_factories import NumPyMinimumEigensolverFactory\n",
    "from qiskit_nature.algorithms.ground_state_solvers import GroundStateEigensolver\n",
    "import numpy as np \n",
    "\n",
    "def exact_diagonalizer(problem, converter):\n",
    "    solver = NumPyMinimumEigensolverFactory()\n",
    "    calc = GroundStateEigensolver(converter, solver)\n",
    "    result = calc.solve(problem)\n",
    "    return result\n",
    "\n",
    "result_exact = exact_diagonalizer(problem, converter)\n",
    "exact_energy = np.real(result_exact.eigenenergies[0])\n",
    "print(\"Exact electronic energy\", exact_energy)\n",
    "print(result_exact)"
   ]
  },
  {
   "cell_type": "code",
   "execution_count": 9,
   "metadata": {},
   "outputs": [
    {
     "name": "stdout",
     "output_type": "stream",
     "text": [
      "{   'aux_operator_eigenvalues': None,\n",
      "    'cost_function_evals': 90,\n",
      "    'eigenstate': array([ 1.04127571e-03-1.27519497e-19j, -7.56856894e-06+1.68055990e-21j,\n",
      "       -1.98129959e-05+8.21864479e-38j,  9.92042742e-01-3.41767936e-16j,\n",
      "        5.20015455e-02-6.36835262e-18j, -3.77976050e-04+8.39275428e-20j,\n",
      "       -3.96734198e-07+1.64569632e-39j,  1.98646022e-02-6.84353990e-18j,\n",
      "       -2.25757512e-03+7.77755588e-19j,  4.50881041e-08-1.87030328e-40j,\n",
      "        4.29562755e-05-9.53820923e-21j, -5.90987898e-03+7.23751438e-19j,\n",
      "       -1.12743814e-01+3.88412906e-17j,  2.25171015e-06-9.34033704e-39j,\n",
      "        8.60153791e-07-1.90992509e-22j, -1.18339049e-04+1.44923538e-20j]),\n",
      "    'eigenvalue': -1.0861926894966019,\n",
      "    'optimal_parameters': {   ParameterVectorElement(θ[2]): 9.384735436329942,\n",
      "                              ParameterVectorElement(θ[3]): -0.2263252179688979,\n",
      "                              ParameterVectorElement(θ[1]): 3.1408306379708377,\n",
      "                              ParameterVectorElement(θ[0]): -0.10474144538252055},\n",
      "    'optimal_point': array([-0.10474145,  3.14083064,  9.38473544, -0.22632522]),\n",
      "    'optimal_value': -1.0861926894966019,\n",
      "    'optimizer_evals': 90,\n",
      "    'optimizer_time': 0.8181881904602051}\n"
     ]
    }
   ],
   "source": [
    "from qiskit.algorithms import VQE\n",
    "from IPython.display import display, clear_output\n",
    "\n",
    "# Print and save the data in lists\n",
    "def callback(eval_count, parameters, mean, std):  \n",
    "    # Overwrites the same line when printing\n",
    "    display(\"Evaluation: {}, Energy: {}, Std: {}\".format(eval_count, mean, std))\n",
    "    clear_output(wait=True)\n",
    "    counts.append(eval_count)\n",
    "    values.append(mean)\n",
    "    params.append(parameters)\n",
    "    deviation.append(std)\n",
    "\n",
    "counts = []\n",
    "values = []\n",
    "params = []\n",
    "deviation = []\n",
    "\n",
    "# Set initial parameters of the ansatz\n",
    "# We choose a fixed small displacement \n",
    "# So all participants start from similar starting point\n",
    "try:\n",
    "    initial_point = [0.01] * len(ansatz.ordered_parameters)\n",
    "except:\n",
    "    initial_point = [0.01] * ansatz.num_parameters\n",
    "\n",
    "algorithm = VQE(ansatz,\n",
    "                optimizer=optimizer,\n",
    "                quantum_instance=backend,\n",
    "                callback=callback,\n",
    "                initial_point=initial_point)\n",
    "\n",
    "result = algorithm.compute_minimum_eigenvalue(qubit_op)\n",
    "\n",
    "print(result)"
   ]
  },
  {
   "cell_type": "code",
   "execution_count": 11,
   "metadata": {},
   "outputs": [
    {
     "data": {
      "text/html": [
       "<div>\n",
       "<style scoped>\n",
       "    .dataframe tbody tr th:only-of-type {\n",
       "        vertical-align: middle;\n",
       "    }\n",
       "\n",
       "    .dataframe tbody tr th {\n",
       "        vertical-align: top;\n",
       "    }\n",
       "\n",
       "    .dataframe thead th {\n",
       "        text-align: right;\n",
       "    }\n",
       "</style>\n",
       "<table border=\"1\" class=\"dataframe\">\n",
       "  <thead>\n",
       "    <tr style=\"text-align: right;\">\n",
       "      <th></th>\n",
       "      <th>optimizer</th>\n",
       "      <th>ansatz</th>\n",
       "      <th># of qubits</th>\n",
       "      <th># of parameters</th>\n",
       "      <th>rotation blocks</th>\n",
       "      <th>entanglement_blocks</th>\n",
       "      <th>entanglement</th>\n",
       "      <th>repetitions</th>\n",
       "      <th>error (mHa)</th>\n",
       "      <th>pass</th>\n",
       "      <th>score</th>\n",
       "    </tr>\n",
       "  </thead>\n",
       "  <tbody>\n",
       "    <tr>\n",
       "      <th>0</th>\n",
       "      <td>SLSQP</td>\n",
       "      <td>TwoLocal</td>\n",
       "      <td>4</td>\n",
       "      <td>4</td>\n",
       "      <td>[ry]</td>\n",
       "      <td>[cx]</td>\n",
       "      <td>[[3, 0], [0, 1], [1, 2]]</td>\n",
       "      <td>1</td>\n",
       "      <td>2.513326</td>\n",
       "      <td>True</td>\n",
       "      <td>3</td>\n",
       "    </tr>\n",
       "  </tbody>\n",
       "</table>\n",
       "</div>"
      ],
      "text/plain": [
       "  optimizer    ansatz  # of qubits  # of parameters rotation blocks  \\\n",
       "0     SLSQP  TwoLocal            4                4            [ry]   \n",
       "\n",
       "  entanglement_blocks              entanglement  repetitions  error (mHa)  \\\n",
       "0                [cx]  [[3, 0], [0, 1], [1, 2]]            1     2.513326   \n",
       "\n",
       "   pass  score  \n",
       "0  True      3  "
      ]
     },
     "execution_count": 11,
     "metadata": {},
     "output_type": "execute_result"
    }
   ],
   "source": [
    "from qiskit.transpiler import PassManager\n",
    "from qiskit.transpiler.passes import Unroller\n",
    "\n",
    "# Unroller transpile your circuit into CNOTs and U gates\n",
    "pass_ = Unroller(['u', 'cx'])\n",
    "pm = PassManager(pass_)\n",
    "ansatz_tp = pm.run(ansatz)\n",
    "cnots = ansatz_tp.count_ops()['cx']\n",
    "score = cnots\n",
    "\n",
    "accuracy_threshold = 4.0 # in mHa\n",
    "energy = result.optimal_value\n",
    "\n",
    "result_dict = {\n",
    "        'optimizer': optimizer.__class__.__name__,\n",
    "        'mapping': converter.mapper.__class__.__name__,\n",
    "        'ansatz': ansatz.__class__.__name__,\n",
    "        'rotation blocks': rotation_blocks,\n",
    "        'entanglement_blocks': entanglement_blocks,\n",
    "        'entanglement': entanglement,\n",
    "        'repetitions': repetitions,\n",
    "        'skip_final_rotation_layer': skip_final_rotation_layer,\n",
    "        'energy (Ha)': energy,\n",
    "        'error (mHa)': (energy-exact_energy)*1000,\n",
    "        'pass': (energy-exact_energy)*1000 <= accuracy_threshold,\n",
    "        '# of parameters': len(result.optimal_point),\n",
    "        'final parameters': result.optimal_point,\n",
    "        '# of evaluations': result.optimizer_evals,\n",
    "        'optimizer time': result.optimizer_time,\n",
    "        '# of qubits': int(qubit_op.num_qubits),\n",
    "        '# of CNOTs': cnots,\n",
    "        'score': score}\n",
    "\n",
    "# Display and save the data\n",
    "import pandas as pd\n",
    "import os.path\n",
    "filename = 'results_h.csv'\n",
    "if os.path.isfile(filename):\n",
    "    result_df = pd.read_csv(filename)\n",
    "    result_df = result_df.append([result_dict])\n",
    "else:\n",
    "    result_df = pd.DataFrame.from_dict([result_dict])\n",
    "result_df.to_csv(filename)\n",
    "result_df[['optimizer','ansatz', '# of qubits', '# of parameters','rotation blocks', 'entanglement_blocks',\n",
    "    'entanglement', 'repetitions', 'error (mHa)', 'pass', 'score']]"
   ]
  }
 ],
 "metadata": {
  "kernelspec": {
   "display_name": "Python 3",
   "language": "python",
   "name": "python3"
  },
  "language_info": {
   "codemirror_mode": {
    "name": "ipython",
    "version": 3
   },
   "file_extension": ".py",
   "mimetype": "text/x-python",
   "name": "python",
   "nbconvert_exporter": "python",
   "pygments_lexer": "ipython3",
   "version": "3.7.6"
  }
 },
 "nbformat": 4,
 "nbformat_minor": 5
}
