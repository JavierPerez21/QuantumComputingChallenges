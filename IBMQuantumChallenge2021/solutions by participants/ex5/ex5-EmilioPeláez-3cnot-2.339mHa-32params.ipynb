{
 "cells": [
  {
   "cell_type": "markdown",
   "metadata": {},
   "source": [
    "# Exercise 5 - Variational quantum eigensolver\n",
    "The following notebook contains my solution for exercise 5 of the IBM Quantum Challenge 2021. This solution has $\\delta E_{chem} \\approx 2.339$ mHa, uses 32 parameters in the ansatz, and has the lowest score possible of 3 CNOTs. My name is Emilio Peláez and my GitHub profile is [@epelaaez](https://github.com/epelaaez) if you want to check it out!"
   ]
  },
  {
   "cell_type": "markdown",
   "metadata": {},
   "source": [
    "### Imports\n",
    "The next cell imports everything needed for this notebook."
   ]
  },
  {
   "cell_type": "code",
   "execution_count": 68,
   "metadata": {},
   "outputs": [],
   "source": [
    "from qiskit_nature.drivers import PySCFDriver\n",
    "from qiskit_nature.problems.second_quantization.electronic import ElectronicStructureProblem\n",
    "from qiskit_nature.mappers.second_quantization import ParityMapper\n",
    "from qiskit_nature.converters.second_quantization.qubit_converter import QubitConverter\n",
    "from qiskit_nature.transformers import FreezeCoreTransformer\n",
    "from qiskit_nature.circuit.library import HartreeFock\n",
    "from qiskit.circuit.library import TwoLocal\n",
    "from qiskit import Aer\n",
    "from qiskit.algorithms.optimizers import COBYLA\n",
    "from qiskit_nature.algorithms.ground_state_solvers.minimum_eigensolver_factories import NumPyMinimumEigensolverFactory\n",
    "from qiskit_nature.algorithms.ground_state_solvers import GroundStateEigensolver\n",
    "import numpy as np \n",
    "from qiskit.algorithms import VQE\n",
    "from qiskit.transpiler import PassManager\n",
    "from qiskit.transpiler.passes import Unroller\n",
    "from IPython.display import display, clear_output"
   ]
  },
  {
   "cell_type": "markdown",
   "metadata": {},
   "source": [
    "### Helper functions\n",
    "I defined two functions to help me evaluate my solution. First, one that gets the score of the ansatz, i.e. the number of CNOTs it uses."
   ]
  },
  {
   "cell_type": "code",
   "execution_count": 69,
   "metadata": {},
   "outputs": [],
   "source": [
    "def getScore(ansatz):    \n",
    "    pass_ = Unroller(['u', 'cx'])\n",
    "    pm = PassManager(pass_)\n",
    "    ansatz_tp = pm.run(ansatz)\n",
    "    cnots = ansatz_tp.count_ops()['cx']\n",
    "    print(\"Score:\", cnots)"
   ]
  },
  {
   "cell_type": "markdown",
   "metadata": {},
   "source": [
    "Then one that gets the chemical accuracy of my solution."
   ]
  },
  {
   "cell_type": "code",
   "execution_count": 96,
   "metadata": {},
   "outputs": [],
   "source": [
    "def accuracy(vqe_energy, exact_energy, threshold):\n",
    "    print(\"Exact ground energy:\", exact_energy)\n",
    "    print(\"Energy from VQE:\", vqe_energy)\n",
    "    print(\"Error:\", (vqe_energy - exact_energy) * 1000)\n",
    "    print(\"Pass:\", (vqe_energy - exact_energy) * 1000 <= threshold)"
   ]
  },
  {
   "cell_type": "markdown",
   "metadata": {},
   "source": [
    "I also defined a callback functioned to be called in each iteration of the optimizer which helps keep track of its performance. (This function is identical to the one defined for the tutorial part of the notebook but with a few lines of code removed.)"
   ]
  },
  {
   "cell_type": "code",
   "execution_count": 90,
   "metadata": {},
   "outputs": [],
   "source": [
    "def callback(eval_count, parameters, mean, std):  \n",
    "    # Overwrites the same line when printing\n",
    "    display(\"Evaluation: {}, Energy: {}, Std: {}\".format(eval_count, mean, std))\n",
    "    clear_output(wait=True)"
   ]
  },
  {
   "cell_type": "markdown",
   "metadata": {},
   "source": [
    "### Solution"
   ]
  },
  {
   "cell_type": "markdown",
   "metadata": {},
   "source": [
    "First, we define the molecule we are going to simulate in this challenge. The cell below gives us all information about the LiH molecule with interatomic distance 1.5474."
   ]
  },
  {
   "cell_type": "code",
   "execution_count": 83,
   "metadata": {},
   "outputs": [],
   "source": [
    "molecule = 'Li 0.0 0.0 0.0; H 0.0 0.0 1.5474'\n",
    "driver = PySCFDriver(atom=molecule)\n",
    "qmolecule = driver.run()"
   ]
  },
  {
   "cell_type": "markdown",
   "metadata": {},
   "source": [
    "Now, we freeze two electrons that don't contribute importantly to the molecular interactions to reduce the number of qubits needed and focus on the valence electrons. Then we just get the second-quantized operators and Hamiltonian as shown in the tutorial part of the challenge notebook."
   ]
  },
  {
   "cell_type": "code",
   "execution_count": 84,
   "metadata": {},
   "outputs": [],
   "source": [
    "problem = ElectronicStructureProblem(driver, [FreezeCoreTransformer(remove_orbitals=[3,4])]) # Freeze orbitals 3 and 4\n",
    "second_q_ops = problem.second_q_ops() # Second-quantized operators\n",
    "main_op = second_q_ops[0] # Hamiltonian"
   ]
  },
  {
   "cell_type": "markdown",
   "metadata": {},
   "source": [
    "Next, we use a ParityMapper to use in our simulation. Using this mapper along with the parameter `two_qubit_reduction` set to `True` allows us to reduce the number of qubits by two. We also set the parameter `z2symmetry_reduction` to `[1,1]`. This tells the qubit converter to search for symmetries it can exploit to reduce the number of qubits further."
   ]
  },
  {
   "cell_type": "code",
   "execution_count": 85,
   "metadata": {},
   "outputs": [
    {
     "name": "stdout",
     "output_type": "stream",
     "text": [
      "Number of qubits: 4\n"
     ]
    }
   ],
   "source": [
    "mapper = ParityMapper()\n",
    "converter = QubitConverter(mapper=mapper, two_qubit_reduction=True, z2symmetry_reduction=[1,1])\n",
    "num_particles = (problem.molecule_data_transformed.num_alpha,\n",
    "             problem.molecule_data_transformed.num_beta)\n",
    "qubit_op = converter.convert(main_op, num_particles=num_particles)\n",
    "print(\"Number of qubits:\", qubit_op.num_qubits)"
   ]
  },
  {
   "cell_type": "markdown",
   "metadata": {},
   "source": [
    "We see that the number of qubits in our simulation is just 4, which allows us to connect all qubits using few CNOT gates. Now, we get the HartreeFock state to use as our initial state. Notice that it is different from the initial state used in the tutorial part for the H$_2$ molecule."
   ]
  },
  {
   "cell_type": "code",
   "execution_count": 86,
   "metadata": {},
   "outputs": [
    {
     "data": {
      "image/png": "[encoded data removed]",
      "text/plain": [
       "<Figure size 146.797x264.88 with 1 Axes>"
      ]
     },
     "execution_count": 86,
     "metadata": {},
     "output_type": "execute_result"
    }
   ],
   "source": [
    "num_spin_orbitals = 2 * problem.molecule_data_transformed.num_molecular_orbitals\n",
    "init_state = HartreeFock(num_spin_orbitals, num_particles, converter)\n",
    "init_state.draw('mpl')"
   ]
  },
  {
   "cell_type": "markdown",
   "metadata": {},
   "source": [
    "The next cell builds our ansatz. We are going to exploit the fact that we managed to bring down the number of qubits to 4 by using the TwoLocal circuit and setting `entanglement` to `'linear'`. This makes the total number of CNOT gates three, which make a ladder from qubit 0 through qubit 3. At first, I was using the `rotation_blocks` array given in the tutorial part, which just consisted of two layers: one R$_z$ followed by one R$_y$. However, running the simulation with this ansatz caused the optimizer to halt after very few iterations, resulting in a really inaccurate result. Thus, I decided to add another layer of R$_z$ and R$_y$. Also notice that `skip_final_rotation_layer` is set to `False`; I did this to have rotation blocks on both sides of the CNOT stair and thus allow for better optimization. (**Note:** the first two X gates in qubits 0 and 1 are from the init circuit, not the ansatz.)"
   ]
  },
  {
   "cell_type": "code",
   "execution_count": 87,
   "metadata": {},
   "outputs": [
    {
     "name": "stdout",
     "output_type": "stream",
     "text": [
      "Score: 3\n"
     ]
    },
    {
     "data": {
      "image/png": "[encoded data removed]",
      "text/plain": [
       "<Figure size 808.997x264.88 with 1 Axes>"
      ]
     },
     "execution_count": 87,
     "metadata": {},
     "output_type": "execute_result"
    }
   ],
   "source": [
    "rotation_blocks = ['rz', 'ry', 'rz', 'ry']\n",
    "entanglement_blocks = 'cx'\n",
    "entanglement = 'linear'\n",
    "repetitions = 1\n",
    "ansatz = TwoLocal(qubit_op.num_qubits, rotation_blocks, entanglement_blocks, reps=repetitions, \n",
    "                  entanglement=entanglement, skip_final_rotation_layer=False)\n",
    "ansatz.compose(init_state, front=True, inplace=True)\n",
    "getScore(ansatz)\n",
    "ansatz.draw('mpl')"
   ]
  },
  {
   "cell_type": "markdown",
   "metadata": {},
   "source": [
    "Then, I just declared the backend and optimizer used in the simulation. I chose to use the `COBYLA` optimizer because I found it to be the best for my specific ansatz. It was also the one that got me the lowest error along with the lowest cost in the tutorial, so I thought it would also work in this case. Moreover, I set `maxiter=5000` because I found that the optimizer halted around that number even if I had the maximum set higher."
   ]
  },
  {
   "cell_type": "code",
   "execution_count": 88,
   "metadata": {},
   "outputs": [],
   "source": [
    "backend = Aer.get_backend('statevector_simulator')\n",
    "optimizer = COBYLA(maxiter=5000)"
   ]
  },
  {
   "cell_type": "markdown",
   "metadata": {},
   "source": [
    "The next cell just runs VQE, nothing can be done here since it just calls the Qiskit function. We make use of the `callback` function that we defined on the **Helper functions** section."
   ]
  },
  {
   "cell_type": "code",
   "execution_count": 98,
   "metadata": {},
   "outputs": [
    {
     "name": "stdout",
     "output_type": "stream",
     "text": [
      "Calculated eigenvalue: -1.0863669407824805\n",
      "Optimizer evaluations: 4542\n"
     ]
    }
   ],
   "source": [
    "try:\n",
    "    initial_point = [0.01] * len(ansatz.ordered_parameters)\n",
    "except:\n",
    "    initial_point = [0.01] * ansatz.num_parameters\n",
    "\n",
    "algorithm = VQE(ansatz,\n",
    "                optimizer=optimizer,\n",
    "                quantum_instance=backend,\n",
    "                callback=callback,\n",
    "                initial_point=initial_point)\n",
    "\n",
    "result = algorithm.compute_minimum_eigenvalue(qubit_op)\n",
    "\n",
    "print(\"Calculated eigenvalue:\", result.eigenvalue)\n",
    "print(\"Optimizer evaluations:\", result.optimizer_evals)"
   ]
  },
  {
   "cell_type": "markdown",
   "metadata": {},
   "source": [
    "Now, we calculate the exact ground energy to compare it with the result from our simulation. We do this using Numpy."
   ]
  },
  {
   "cell_type": "code",
   "execution_count": 95,
   "metadata": {},
   "outputs": [
    {
     "name": "stdout",
     "output_type": "stream",
     "text": [
      "Exact ground energy: -1.0887060157347386\n"
     ]
    }
   ],
   "source": [
    "solver = NumPyMinimumEigensolverFactory()\n",
    "calc = GroundStateEigensolver(converter, solver)\n",
    "result_exact = calc.solve(problem)\n",
    "exact_energy = np.real(result_exact.eigenenergies[0])\n",
    "print(\"Exact ground energy:\", exact_energy)"
   ]
  },
  {
   "cell_type": "markdown",
   "metadata": {},
   "source": [
    "Finally, we use the `accuracy` function defined at the beggining of this notebook to get the chemical accuracy of our simulation."
   ]
  },
  {
   "cell_type": "code",
   "execution_count": 99,
   "metadata": {},
   "outputs": [
    {
     "name": "stdout",
     "output_type": "stream",
     "text": [
      "Exact ground energy: -1.0887060157347386\n",
      "Energy from VQE: -1.0863669407824805\n",
      "Error: 2.3390749522580467\n",
      "Pass: True\n"
     ]
    }
   ],
   "source": [
    "accuracy_threshold = 4.0 # in mHa\n",
    "vqe_energy = result.optimal_value\n",
    "accuracy(vqe_energy, exact_energy, accuracy_threshold)"
   ]
  },
  {
   "cell_type": "markdown",
   "metadata": {},
   "source": [
    "Here, we can see that $\\delta E_{chem} \\approx 2.339 < 4$ mHa, meaning that we got the desired chemical accuracy with the lowest cost possible of 3 CNOT gates. Just to make sure this is correct, the following cell runs the challenge grader (and we see our solution is actually correct!)."
   ]
  },
  {
   "cell_type": "code",
   "execution_count": 94,
   "metadata": {},
   "outputs": [
    {
     "name": "stdout",
     "output_type": "stream",
     "text": [
      "Grading your answer for ex5. Please wait...\n",
      "\n",
      "Congratulations 🎉! Your answer is correct.\n",
      "Your cost is 3.\n",
      "Feel free to submit your answer.\n",
      "\n"
     ]
    }
   ],
   "source": [
    "from qc_grader import grade_ex5\n",
    "freeze_core = True # change to True if you freezed core electrons\n",
    "grade_ex5(ansatz,qubit_op,result,freeze_core)"
   ]
  }
 ],
 "metadata": {
  "kernelspec": {
   "display_name": "Python 3",
   "language": "python",
   "name": "python3"
  },
  "language_info": {
   "codemirror_mode": {
    "name": "ipython",
    "version": 3
   },
   "file_extension": ".py",
   "mimetype": "text/x-python",
   "name": "python",
   "nbconvert_exporter": "python",
   "pygments_lexer": "ipython3",
   "version": "3.7.6"
  }
 },
 "nbformat": 4,
 "nbformat_minor": 5
}
