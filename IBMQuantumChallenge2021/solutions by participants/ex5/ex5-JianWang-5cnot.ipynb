{
 "cells": [
  {
   "cell_type": "markdown",
   "metadata": {},
   "source": [
    "# Solution explained (5 cnot gates)\n",
    "### by Jian Wang, 2021 May 26th\n",
    "\n",
    "The cost is 5 cnot gates.\n",
    "\n",
    "After some trials, I found that the settings below can reduce the circuits to 6 qubits, and it will below the accept energy. \n",
    "```python\n",
    "ElectronicStructureProblem(driver,q_molecule_transformers = [FreezeCoreTransformer(True)])\n",
    "converter = QubitConverter(mapper=mapper, two_qubit_reduction=True, z2symmetry_reduction=[1,1])\n",
    "```\n",
    "There can be a 4 qubits setting, `FreezeCoreTransformer(True,[2])`  however, the energy can not be optimized to acceptance region.  \n",
    "\n",
    "Using any of the mapper, we can solve the state to a lower energy. Now the only problem is to reduce numbers of cnot gates.  \n",
    "More cnot gate will help to traverse more corners of the Hilbert space, however, if the solution vector is very simple, we actually don't need that much cnot gates.  \n",
    "`result.eigenstate` gives us the optimal vector (a $2^6=64$ dimensional vector).  The index i of the `result.eigenstate[i]` orders like `000000,000001,000010,000011,...` trasnlate to `0,1,2,3,...`\n",
    "\n",
    "```python\n",
    "wave = result.eigenstate\n",
    "for i,x in enumerate(wave):\n",
    "    if abs(x) < 1e-15:\n",
    "        pass\n",
    "    else:\n",
    "        print(i,x,np.sqrt(abs(x)**2), \"{0:b}\".format(i) )\n",
    "```\n",
    "will print\n",
    "```python\n",
    "3 (0.991486984-4.34830214e-16j) 0.991486984 11\n",
    "6 (-0.0175540687+2.51279577e-17j) 0.0175540687 110\n",
    "14 (-0.0284034777-1.39051442e-18j) 0.0284034777 1110\n",
    "30 (-0.0283255203-7.36309535e-17j) 0.0283255203 11110\n",
    "60 (-0.111802457+7.88531812e-18j) 0.111802457 111100\n",
    "62 (0.0503640117+5.66138084e-17j) 0.0503640117 111110\n",
    "```\n",
    "It is surpising that in a total dimension of 64, the optimal vector occupies only 6 basis.  \n",
    "Now the problem becomes how to create a quantum circuit from state `|000000>`  to  \n",
    "`0.991 |000011> - 0.0175 |000110> - 0.0284 |00110> + ...`\n",
    "\n",
    "* from 110,1110,11110 to 111110, each time the basis add one \"up\" state, this can be constructed via a controlled rotation gate.   \n",
    "* from 111110 to 111100, it is also a controlled rotation  \n",
    "* qubit[0] and qubit\\[1\\] always opposite to each other, this is a typical structure of 2-qubit entanglement, it can be done by a rotation plus cnot, similar to hadama plus cnot, but with unequal weights.  the `x` gate aims to rotate from `a|00>+b|11>` to `a|01> + b|10>` \n"
   ]
  },
  {
   "cell_type": "code",
   "execution_count": 1,
   "metadata": {},
   "outputs": [
    {
     "name": "stdout",
     "output_type": "stream",
     "text": [
      "6 [0]\n"
     ]
    }
   ],
   "source": [
    "from qiskit_nature.drivers import PySCFDriver\n",
    "molecule = 'Li 0.0 0.0 0.0; H 0.0 0.0 1.5474'\n",
    "driver = PySCFDriver(atom=molecule)\n",
    "qmolecule = driver.run()\n",
    "print(qmolecule.num_molecular_orbitals,qmolecule.core_orbitals)"
   ]
  },
  {
   "cell_type": "markdown",
   "metadata": {},
   "source": [
    "# Clean solution"
   ]
  },
  {
   "cell_type": "code",
   "execution_count": 15,
   "metadata": {},
   "outputs": [
    {
     "data": {
      "text/plain": [
       "'Evaluation: 500, SeaLevel: -0.0026723098136809398 ,Energy: -1.0884562697904647, Std: 0.0'"
      ]
     },
     "metadata": {},
     "output_type": "display_data"
    }
   ],
   "source": [
    "# WRITE YOUR CODE BETWEEN THESE LINES - START\n",
    "\n",
    "from qiskit_nature.transformers import FreezeCoreTransformer\n",
    "from qiskit_nature.problems.second_quantization.electronic import ElectronicStructureProblem\n",
    "from qiskit_nature.mappers.second_quantization import ParityMapper, BravyiKitaevMapper, JordanWignerMapper\n",
    "from qiskit_nature.converters.second_quantization.qubit_converter import QubitConverter\n",
    "from qiskit_nature.circuit.library import HartreeFock\n",
    "from qiskit.circuit.library import TwoLocal\n",
    "#from qiskit_nature.circuit.library import UCCSD, PUCCD, SUCCD\n",
    "from qiskit.circuit import Parameter, QuantumCircuit, QuantumRegister\n",
    "from qiskit import Aer\n",
    "from qiskit.algorithms.optimizers import COBYLA, L_BFGS_B, SPSA, SLSQP\n",
    "from qiskit.algorithms import VQE\n",
    "from IPython.display import display, clear_output\n",
    "\n",
    "problem = ElectronicStructureProblem(driver,\\\n",
    "                                     q_molecule_transformers = [FreezeCoreTransformer(True)])\n",
    "second_q_ops = problem.second_q_ops()\n",
    "main_op = second_q_ops[0]\n",
    "mapper_type = 'ParityMapper'\n",
    "mapper = ParityMapper()\n",
    "converter = QubitConverter(mapper=mapper, two_qubit_reduction=True, z2symmetry_reduction=[1,1])\n",
    "\n",
    "num_particles = (problem.molecule_data_transformed.num_alpha,\n",
    "             problem.molecule_data_transformed.num_beta)\n",
    "qubit_op = converter.convert(main_op, num_particles=num_particles)\n",
    "num_spin_orbitals = 2 * problem.molecule_data_transformed.num_molecular_orbitals\n",
    "init_state = HartreeFock(num_spin_orbitals, num_particles, converter)\n",
    "\n",
    "ansatz_type = \"Custom\" \n",
    "########################################################################## Define the variational parameter\n",
    "theta = Parameter('a')\n",
    "n = qubit_op.num_qubits\n",
    "# Make an empty quantum circuit\n",
    "qc = QuantumCircuit(qubit_op.num_qubits)\n",
    "qubit_label = 0\n",
    "# Place a Hadamard gate\n",
    "qc.ry(Parameter('b'),0)\n",
    "qc.rz(Parameter('bb'),0)\n",
    "qc.cx(0,2)\n",
    "qc.x(2)\n",
    "\n",
    "r23 = Parameter('r23')\n",
    "qc.ry(r23,3)\n",
    "qc.cx(2,3)\n",
    "qc.ry(-r23,3)\n",
    "qc.rz(Parameter('r23z'),3)\n",
    "\n",
    "r34 = Parameter('r34')\n",
    "qc.ry(r34,4)\n",
    "qc.cx(3,4)\n",
    "qc.ry(-r34,4)\n",
    "qc.rz(Parameter('r34z'),4)\n",
    "\n",
    "\n",
    "r45 = Parameter('r45')\n",
    "qc.ry(r45,5)\n",
    "if True:\n",
    "    qc.cx(4,5)\n",
    "    qc.ry(-r45,5)\n",
    "    qc.rz(Parameter('r45z'),5)\n",
    "\n",
    "r21 = Parameter('r21')\n",
    "qc.ry(r21,1)\n",
    "qc.cx(2,1)\n",
    "qc.ry(-r21,1)\n",
    "qc.rz(Parameter('r21z'),1)\n",
    "\n",
    "# Visual separator\n",
    "# qc.barrier()\n",
    "# rz rotations on all qubits\n",
    "qc.rz(theta, range(n))\n",
    "ansatz = qc\n",
    "ansatz.compose(init_state, front=True, inplace=True)\n",
    "########################################################################## End the variational parameter\n",
    "\n",
    "backend = Aer.get_backend('statevector_simulator')\n",
    "\n",
    "optimizer_type = 'COBYLA'\n",
    "optimizer = COBYLA(maxiter=500)\n",
    "\n",
    "\n",
    "# Print and save the data in lists\n",
    "def callback(eval_count, parameters, mean, std):  \n",
    "    # Overwrites the same line when printing\n",
    "    display(\"Evaluation: {}, SeaLevel: {} ,Energy: {}, Std: {}\".format(eval_count, mean-goalgoal, mean, std))\n",
    "    clear_output(wait=True)\n",
    "    counts.append(eval_count)\n",
    "    values.append(mean)\n",
    "    params.append(parameters)\n",
    "    deviation.append(std)\n",
    "\n",
    "counts = []\n",
    "values = []\n",
    "params = []\n",
    "deviation = []\n",
    "\n",
    "# Set initial parameters of the ansatz\n",
    "# We choose a fixed small displacement \n",
    "# So all participants start from similar starting point\n",
    "try:\n",
    "    initial_point = [0.01] * len(ansatz.ordered_parameters)\n",
    "except:\n",
    "    initial_point = [0.01] * ansatz.num_parameters\n",
    "    \n",
    "\n",
    "\n",
    "algorithm = VQE(ansatz,\n",
    "                optimizer=optimizer,\n",
    "                quantum_instance=backend,\n",
    "                callback=callback,\n",
    "                initial_point=initial_point)\n",
    "\n",
    "result = algorithm.compute_minimum_eigenvalue(qubit_op)\n",
    "# WRITE YOUR CODE BETWEEN THESE LINES - END"
   ]
  },
  {
   "cell_type": "code",
   "execution_count": 16,
   "metadata": {},
   "outputs": [
    {
     "data": {
      "image/png": "[encoded data removed]",
      "text/plain": [
       "<Figure size 1049.8x385.28 with 1 Axes>"
      ]
     },
     "execution_count": 16,
     "metadata": {},
     "output_type": "execute_result"
    }
   ],
   "source": [
    "ansatz.draw()"
   ]
  },
  {
   "cell_type": "code",
   "execution_count": 17,
   "metadata": {},
   "outputs": [
    {
     "name": "stdout",
     "output_type": "stream",
     "text": [
      "Grading your answer for ex5. Please wait...\n",
      "\n",
      "Congratulations 🎉! Your answer is correct.\n",
      "Your cost is 5.\n",
      "Feel free to submit your answer.\n",
      "\n"
     ]
    }
   ],
   "source": [
    "# Check your answer using following code\n",
    "from qc_grader import grade_ex5\n",
    "freeze_core = True # change to True if you freezed core electrons\n",
    "grade_ex5(ansatz,qubit_op,result,freeze_core)"
   ]
  },
  {
   "cell_type": "markdown",
   "metadata": {},
   "source": []
  }
 ],
 "metadata": {
  "kernelspec": {
   "display_name": "Python 3",
   "language": "python",
   "name": "python3"
  },
  "language_info": {
   "codemirror_mode": {
    "name": "ipython",
    "version": 3
   },
   "file_extension": ".py",
   "mimetype": "text/x-python",
   "name": "python",
   "nbconvert_exporter": "python",
   "pygments_lexer": "ipython3",
   "version": "3.7.6"
  }
 },
 "nbformat": 4,
 "nbformat_minor": 4
}
