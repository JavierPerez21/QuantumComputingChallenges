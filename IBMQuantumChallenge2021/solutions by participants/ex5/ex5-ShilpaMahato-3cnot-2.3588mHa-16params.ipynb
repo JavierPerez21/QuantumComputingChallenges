{
 "cells": [
  {
   "cell_type": "code",
   "execution_count": 4,
   "metadata": {
    "colab": {
     "base_uri": "https://localhost:8080/"
    },
    "id": "CRS7A0Ny7ZgJ",
    "outputId": "560bdd0f-838b-4c21-cb59-9ac09476fa54"
   },
   "outputs": [
    {
     "name": "stdout",
     "output_type": "stream",
     "text": [
      "Collecting qiskit\n",
      "  Downloading https://files.pythonhosted.org/packages/6f/61/cb7506e17a2566dc8a31a3e1924d91ac0bdd8ff07c71ec698c06647b6306/qiskit-0.26.2.tar.gz\n",
      "Collecting qiskit-terra==0.17.4\n",
      "\u001b[?25l  Downloading https://files.pythonhosted.org/packages/b3/0c/3c7a8dd451dae0907263e9de9e3e34909e15e18c88a589b44581972c8511/qiskit_terra-0.17.4-cp37-cp37m-manylinux2010_x86_64.whl (6.0MB)\n",
      "\u001b[K     |████████████████████████████████| 6.0MB 5.2MB/s \n",
      "\u001b[?25hCollecting qiskit-aer==0.8.2\n",
      "\u001b[?25l  Downloading https://files.pythonhosted.org/packages/c2/d2/6ff15c370b5465b32529b528bf3f4ce1e01f74498be16203aa1c04b67022/qiskit_aer-0.8.2-cp37-cp37m-manylinux2010_x86_64.whl (18.0MB)\n",
      "\u001b[K     |████████████████████████████████| 18.0MB 215kB/s \n",
      "\u001b[?25hCollecting qiskit-ibmq-provider==0.13.1\n",
      "\u001b[?25l  Downloading https://files.pythonhosted.org/packages/be/99/74bbb901f88603a7d850d4889abc06d81ba702e4227151f4a5b66f2631fe/qiskit_ibmq_provider-0.13.1-py3-none-any.whl (228kB)\n",
      "\u001b[K     |████████████████████████████████| 235kB 47.1MB/s \n",
      "\u001b[?25hCollecting qiskit-ignis==0.6.0\n",
      "\u001b[?25l  Downloading https://files.pythonhosted.org/packages/54/be/a13c828e457e09d979667a61bddbd8c7246aafa94e2501b6a9154429cbea/qiskit_ignis-0.6.0-py3-none-any.whl (207kB)\n",
      "\u001b[K     |████████████████████████████████| 215kB 42.6MB/s \n",
      "\u001b[?25hCollecting qiskit-aqua==0.9.1\n",
      "\u001b[?25l  Downloading https://files.pythonhosted.org/packages/88/79/392c57b978decbb24b902344b536af52c40a751aed0ebbaefa8bc2964cb5/qiskit_aqua-0.9.1-py3-none-any.whl (2.1MB)\n",
      "\u001b[K     |████████████████████████████████| 2.1MB 31.4MB/s \n",
      "\u001b[?25hRequirement already satisfied: scipy>=1.4 in /usr/local/lib/python3.7/dist-packages (from qiskit-terra==0.17.4->qiskit) (1.4.1)\n",
      "Requirement already satisfied: jsonschema>=2.6 in /usr/local/lib/python3.7/dist-packages (from qiskit-terra==0.17.4->qiskit) (2.6.0)\n",
      "Requirement already satisfied: python-dateutil>=2.8.0 in /usr/local/lib/python3.7/dist-packages (from qiskit-terra==0.17.4->qiskit) (2.8.1)\n",
      "Collecting fastjsonschema>=2.10\n",
      "  Downloading https://files.pythonhosted.org/packages/d1/fb/ea090e917b18320f79be31d754bbe496b715175e865603cfce1eaed2e774/fastjsonschema-2.15.1-py3-none-any.whl\n",
      "Collecting ply>=3.10\n",
      "\u001b[?25l  Downloading https://files.pythonhosted.org/packages/a3/58/35da89ee790598a0700ea49b2a66594140f44dec458c07e8e3d4979137fc/ply-3.11-py2.py3-none-any.whl (49kB)\n",
      "\u001b[K     |████████████████████████████████| 51kB 5.7MB/s \n",
      "\u001b[?25hRequirement already satisfied: sympy>=1.3 in /usr/local/lib/python3.7/dist-packages (from qiskit-terra==0.17.4->qiskit) (1.7.1)\n",
      "Requirement already satisfied: dill>=0.3 in /usr/local/lib/python3.7/dist-packages (from qiskit-terra==0.17.4->qiskit) (0.3.3)\n",
      "Requirement already satisfied: psutil>=5 in /usr/local/lib/python3.7/dist-packages (from qiskit-terra==0.17.4->qiskit) (5.4.8)\n",
      "Requirement already satisfied: numpy>=1.17 in /usr/local/lib/python3.7/dist-packages (from qiskit-terra==0.17.4->qiskit) (1.19.5)\n",
      "Collecting python-constraint>=1.4\n",
      "  Downloading https://files.pythonhosted.org/packages/37/8b/5f1bc2734ca611943e1d6733ee244238679f6410a10cd45ede55a61a8402/python-constraint-1.4.0.tar.bz2\n",
      "Collecting retworkx>=0.8.0\n",
      "\u001b[?25l  Downloading https://files.pythonhosted.org/packages/9e/cd/70d436f170aa1ead2ac9e4c19c8838633355d48b530f09455eab0af2f98e/retworkx-0.9.0-cp37-cp37m-manylinux_2_5_x86_64.manylinux1_x86_64.manylinux_2_12_x86_64.manylinux2010_x86_64.whl (1.4MB)\n",
      "\u001b[K     |████████████████████████████████| 1.5MB 27.3MB/s \n",
      "\u001b[?25hCollecting pybind11>=2.6\n",
      "\u001b[?25l  Downloading https://files.pythonhosted.org/packages/8d/43/7339dbabbc2793718d59703aace4166f53c29ee1c202f6ff5bf8a26c4d91/pybind11-2.6.2-py2.py3-none-any.whl (191kB)\n",
      "\u001b[K     |████████████████████████████████| 194kB 28.1MB/s \n",
      "\u001b[?25hCollecting websockets>=8\n",
      "\u001b[?25l  Downloading https://files.pythonhosted.org/packages/84/64/78c2b3fe37730b30dca3c93d1f7f4a4286767f86e7c04cf3571b39bc2fb7/websockets-9.1-cp37-cp37m-manylinux2010_x86_64.whl (103kB)\n",
      "\u001b[K     |████████████████████████████████| 112kB 53.2MB/s \n",
      "\u001b[?25hRequirement already satisfied: nest-asyncio!=1.1.0,>=1.0.0 in /usr/local/lib/python3.7/dist-packages (from qiskit-ibmq-provider==0.13.1->qiskit) (1.5.1)\n",
      "Requirement already satisfied: requests>=2.19 in /usr/local/lib/python3.7/dist-packages (from qiskit-ibmq-provider==0.13.1->qiskit) (2.23.0)\n",
      "Collecting requests-ntlm>=1.1.0\n",
      "  Downloading https://files.pythonhosted.org/packages/03/4b/8b9a1afde8072c4d5710d9fa91433d504325821b038e00237dc8d6d833dc/requests_ntlm-1.1.0-py2.py3-none-any.whl\n",
      "Requirement already satisfied: urllib3>=1.21.1 in /usr/local/lib/python3.7/dist-packages (from qiskit-ibmq-provider==0.13.1->qiskit) (1.24.3)\n",
      "Requirement already satisfied: setuptools>=40.1.0 in /usr/local/lib/python3.7/dist-packages (from qiskit-ignis==0.6.0->qiskit) (56.1.0)\n",
      "Requirement already satisfied: h5py<=3.1.0 in /usr/local/lib/python3.7/dist-packages (from qiskit-aqua==0.9.1->qiskit) (3.1.0)\n",
      "Requirement already satisfied: scikit-learn<=0.24.1,>=0.20.0 in /usr/local/lib/python3.7/dist-packages (from qiskit-aqua==0.9.1->qiskit) (0.22.2.post1)\n",
      "Requirement already satisfied: pandas<=1.2.3 in /usr/local/lib/python3.7/dist-packages (from qiskit-aqua==0.9.1->qiskit) (1.1.5)\n",
      "Collecting yfinance<=0.1.55\n",
      "  Downloading https://files.pythonhosted.org/packages/7a/e8/b9d7104d3a4bf39924799067592d9e59119fcfc900a425a12e80a3123ec8/yfinance-0.1.55.tar.gz\n",
      "Collecting quandl<=3.6.0\n",
      "  Downloading https://files.pythonhosted.org/packages/c2/58/9f0e69d836045e3865d263e9ed49f42b23a58526fdabb30f74c430baee3f/Quandl-3.6.0-py2.py3-none-any.whl\n",
      "Collecting dlx<=1.0.4\n",
      "  Downloading https://files.pythonhosted.org/packages/54/c0/b8fb5bb727e983b6f5251433ef941b48f38c65bb0bd6ec509e9185bcd406/dlx-1.0.4.tar.gz\n",
      "Collecting docplex<=2.20.204; sys_platform != \"darwin\"\n",
      "\u001b[?25l  Downloading https://files.pythonhosted.org/packages/87/99/6f7c219b39fd58c84688ad0713eb932bfcf6be81fc74519e43ea9c915b56/docplex-2.20.204.tar.gz (611kB)\n",
      "\u001b[K     |████████████████████████████████| 614kB 31.8MB/s \n",
      "\u001b[?25hRequirement already satisfied: fastdtw<=0.3.4 in /usr/local/lib/python3.7/dist-packages (from qiskit-aqua==0.9.1->qiskit) (0.3.4)\n",
      "Requirement already satisfied: six>=1.5 in /usr/local/lib/python3.7/dist-packages (from python-dateutil>=2.8.0->qiskit-terra==0.17.4->qiskit) (1.15.0)\n",
      "Requirement already satisfied: mpmath>=0.19 in /usr/local/lib/python3.7/dist-packages (from sympy>=1.3->qiskit-terra==0.17.4->qiskit) (1.2.1)\n",
      "Requirement already satisfied: certifi>=2017.4.17 in /usr/local/lib/python3.7/dist-packages (from requests>=2.19->qiskit-ibmq-provider==0.13.1->qiskit) (2020.12.5)\n",
      "Requirement already satisfied: idna<3,>=2.5 in /usr/local/lib/python3.7/dist-packages (from requests>=2.19->qiskit-ibmq-provider==0.13.1->qiskit) (2.10)\n",
      "Requirement already satisfied: chardet<4,>=3.0.2 in /usr/local/lib/python3.7/dist-packages (from requests>=2.19->qiskit-ibmq-provider==0.13.1->qiskit) (3.0.4)\n",
      "Collecting ntlm-auth>=1.0.2\n",
      "  Downloading https://files.pythonhosted.org/packages/ff/84/97c550164b54942b0e908c31ef09d9469f3ba4cd7332a671e2125732f63b/ntlm_auth-1.5.0-py2.py3-none-any.whl\n",
      "Collecting cryptography>=1.3\n",
      "\u001b[?25l  Downloading https://files.pythonhosted.org/packages/b2/26/7af637e6a7e87258b963f1731c5982fb31cd507f0d90d91836e446955d02/cryptography-3.4.7-cp36-abi3-manylinux2014_x86_64.whl (3.2MB)\n",
      "\u001b[K     |████████████████████████████████| 3.2MB 32.7MB/s \n",
      "\u001b[?25hRequirement already satisfied: cached-property; python_version < \"3.8\" in /usr/local/lib/python3.7/dist-packages (from h5py<=3.1.0->qiskit-aqua==0.9.1->qiskit) (1.5.2)\n",
      "Requirement already satisfied: joblib>=0.11 in /usr/local/lib/python3.7/dist-packages (from scikit-learn<=0.24.1,>=0.20.0->qiskit-aqua==0.9.1->qiskit) (1.0.1)\n",
      "Requirement already satisfied: pytz>=2017.2 in /usr/local/lib/python3.7/dist-packages (from pandas<=1.2.3->qiskit-aqua==0.9.1->qiskit) (2018.9)\n",
      "Requirement already satisfied: multitasking>=0.0.7 in /usr/local/lib/python3.7/dist-packages (from yfinance<=0.1.55->qiskit-aqua==0.9.1->qiskit) (0.0.9)\n",
      "Collecting lxml>=4.5.1\n",
      "\u001b[?25l  Downloading https://files.pythonhosted.org/packages/30/c0/d0526314971fc661b083ab135747dc68446a3022686da8c16d25fcf6ef07/lxml-4.6.3-cp37-cp37m-manylinux2014_x86_64.whl (6.3MB)\n",
      "\u001b[K     |████████████████████████████████| 6.3MB 28.8MB/s \n",
      "\u001b[?25hRequirement already satisfied: more-itertools in /usr/local/lib/python3.7/dist-packages (from quandl<=3.6.0->qiskit-aqua==0.9.1->qiskit) (8.7.0)\n",
      "Collecting inflection>=0.3.1\n",
      "  Downloading https://files.pythonhosted.org/packages/59/91/aa6bde563e0085a02a435aa99b49ef75b0a4b062635e606dab23ce18d720/inflection-0.5.1-py2.py3-none-any.whl\n",
      "Requirement already satisfied: cffi>=1.12 in /usr/local/lib/python3.7/dist-packages (from cryptography>=1.3->requests-ntlm>=1.1.0->qiskit-ibmq-provider==0.13.1->qiskit) (1.14.5)\n",
      "Requirement already satisfied: pycparser in /usr/local/lib/python3.7/dist-packages (from cffi>=1.12->cryptography>=1.3->requests-ntlm>=1.1.0->qiskit-ibmq-provider==0.13.1->qiskit) (2.20)\n",
      "Building wheels for collected packages: qiskit, python-constraint, yfinance, dlx, docplex\n",
      "  Building wheel for qiskit (setup.py) ... \u001b[?25l\u001b[?25hdone\n",
      "  Created wheel for qiskit: filename=qiskit-0.26.2-cp37-none-any.whl size=10491 sha256=f918bb498cb8dbde768f9544d24f28176928a4a92eaa20342c52edbb0938f4dd\n",
      "  Stored in directory: /root/.cache/pip/wheels/89/89/34/524839952d5a58a7be9789e580bfc1ca883bf6579152444568\n",
      "  Building wheel for python-constraint (setup.py) ... \u001b[?25l\u001b[?25hdone\n",
      "  Created wheel for python-constraint: filename=python_constraint-1.4.0-py2.py3-none-any.whl size=24079 sha256=35b086ebd96ea7a2891fb5e52f5485c24ae251f78fec828a2895254c5038edb3\n",
      "  Stored in directory: /root/.cache/pip/wheels/34/31/15/7b070b25d0a549d20ce2e9fe6d727471c2c61ef904720fd40c\n",
      "  Building wheel for yfinance (setup.py) ... \u001b[?25l\u001b[?25hdone\n",
      "  Created wheel for yfinance: filename=yfinance-0.1.55-py2.py3-none-any.whl size=22616 sha256=5f1fe2d1709cbbfaf38cdf03a09dc41d437133e2554f1b41c2392074f45c9943\n",
      "  Stored in directory: /root/.cache/pip/wheels/04/98/cc/2702a4242d60bdc14f48b4557c427ded1fe92aedf257d4565c\n",
      "  Building wheel for dlx (setup.py) ... \u001b[?25l\u001b[?25hdone\n",
      "  Created wheel for dlx: filename=dlx-1.0.4-cp37-none-any.whl size=5712 sha256=1154e839748f8d28680d5d7c922c454909954f6b3a334a5b7633ba059156b7e1\n",
      "  Stored in directory: /root/.cache/pip/wheels/bb/ba/15/fdd0deb104df3254912998150ba9245668db06b00af5912d1a\n",
      "  Building wheel for docplex (setup.py) ... \u001b[?25l\u001b[?25hdone\n",
      "  Created wheel for docplex: filename=docplex-2.20.204-cp37-none-any.whl size=675362 sha256=9494f9dd2dec35c5b52e88a18051305c0b7307ab107312f9b0d514a546535200\n",
      "  Stored in directory: /root/.cache/pip/wheels/ae/2c/e2/a099ebb6fda8adeba9c5fc2e25659d195ad2f5c6cc5fb75fd4\n",
      "Successfully built qiskit python-constraint yfinance dlx docplex\n",
      "\u001b[31mERROR: qiskit-aqua 0.9.1 has requirement retworkx<=0.8.0,>=0.7.0, but you'll have retworkx 0.9.0 which is incompatible.\u001b[0m\n",
      "Installing collected packages: fastjsonschema, ply, python-constraint, retworkx, qiskit-terra, pybind11, qiskit-aer, websockets, ntlm-auth, cryptography, requests-ntlm, qiskit-ibmq-provider, qiskit-ignis, lxml, yfinance, inflection, quandl, dlx, docplex, qiskit-aqua, qiskit\n",
      "  Found existing installation: lxml 4.2.6\n",
      "    Uninstalling lxml-4.2.6:\n",
      "      Successfully uninstalled lxml-4.2.6\n",
      "Successfully installed cryptography-3.4.7 dlx-1.0.4 docplex-2.20.204 fastjsonschema-2.15.1 inflection-0.5.1 lxml-4.6.3 ntlm-auth-1.5.0 ply-3.11 pybind11-2.6.2 python-constraint-1.4.0 qiskit-0.26.2 qiskit-aer-0.8.2 qiskit-aqua-0.9.1 qiskit-ibmq-provider-0.13.1 qiskit-ignis-0.6.0 qiskit-terra-0.17.4 quandl-3.6.0 requests-ntlm-1.1.0 retworkx-0.9.0 websockets-9.1 yfinance-0.1.55\n"
     ]
    }
   ],
   "source": [
    "!pip install qiskit\n"
   ]
  },
  {
   "cell_type": "code",
   "execution_count": 5,
   "metadata": {
    "colab": {
     "base_uri": "https://localhost:8080/"
    },
    "id": "oCHcN48f7_9d",
    "outputId": "0f4dc38d-d0bf-460e-ddef-14c2eda1684b"
   },
   "outputs": [
    {
     "name": "stdout",
     "output_type": "stream",
     "text": [
      "Collecting qiskit-nature\n",
      "\u001b[?25l  Downloading https://files.pythonhosted.org/packages/4c/54/2562684ccf73215d3d85b65174ea06ee3f1b184422cfd81241a8a13491cd/qiskit_nature-0.1.3-py3-none-any.whl (1.5MB)\n",
      "\u001b[K     |████████████████████████████████| 1.5MB 6.5MB/s \n",
      "\u001b[?25hRequirement already satisfied: h5py in /usr/local/lib/python3.7/dist-packages (from qiskit-nature) (3.1.0)\n",
      "Requirement already satisfied: scipy>=1.4 in /usr/local/lib/python3.7/dist-packages (from qiskit-nature) (1.4.1)\n",
      "Requirement already satisfied: scikit-learn>=0.20.0 in /usr/local/lib/python3.7/dist-packages (from qiskit-nature) (0.22.2.post1)\n",
      "Requirement already satisfied: setuptools>=40.1.0 in /usr/local/lib/python3.7/dist-packages (from qiskit-nature) (56.1.0)\n",
      "Requirement already satisfied: psutil>=5 in /usr/local/lib/python3.7/dist-packages (from qiskit-nature) (5.4.8)\n",
      "Requirement already satisfied: numpy>=1.17 in /usr/local/lib/python3.7/dist-packages (from qiskit-nature) (1.19.5)\n",
      "Requirement already satisfied: qiskit-terra>=0.17.0 in /usr/local/lib/python3.7/dist-packages (from qiskit-nature) (0.17.4)\n",
      "Requirement already satisfied: cached-property; python_version < \"3.8\" in /usr/local/lib/python3.7/dist-packages (from h5py->qiskit-nature) (1.5.2)\n",
      "Requirement already satisfied: joblib>=0.11 in /usr/local/lib/python3.7/dist-packages (from scikit-learn>=0.20.0->qiskit-nature) (1.0.1)\n",
      "Requirement already satisfied: python-dateutil>=2.8.0 in /usr/local/lib/python3.7/dist-packages (from qiskit-terra>=0.17.0->qiskit-nature) (2.8.1)\n",
      "Requirement already satisfied: dill>=0.3 in /usr/local/lib/python3.7/dist-packages (from qiskit-terra>=0.17.0->qiskit-nature) (0.3.3)\n",
      "Requirement already satisfied: retworkx>=0.8.0 in /usr/local/lib/python3.7/dist-packages (from qiskit-terra>=0.17.0->qiskit-nature) (0.9.0)\n",
      "Requirement already satisfied: ply>=3.10 in /usr/local/lib/python3.7/dist-packages (from qiskit-terra>=0.17.0->qiskit-nature) (3.11)\n",
      "Requirement already satisfied: python-constraint>=1.4 in /usr/local/lib/python3.7/dist-packages (from qiskit-terra>=0.17.0->qiskit-nature) (1.4.0)\n",
      "Requirement already satisfied: sympy>=1.3 in /usr/local/lib/python3.7/dist-packages (from qiskit-terra>=0.17.0->qiskit-nature) (1.7.1)\n",
      "Requirement already satisfied: jsonschema>=2.6 in /usr/local/lib/python3.7/dist-packages (from qiskit-terra>=0.17.0->qiskit-nature) (2.6.0)\n",
      "Requirement already satisfied: fastjsonschema>=2.10 in /usr/local/lib/python3.7/dist-packages (from qiskit-terra>=0.17.0->qiskit-nature) (2.15.1)\n",
      "Requirement already satisfied: six>=1.5 in /usr/local/lib/python3.7/dist-packages (from python-dateutil>=2.8.0->qiskit-terra>=0.17.0->qiskit-nature) (1.15.0)\n",
      "Requirement already satisfied: mpmath>=0.19 in /usr/local/lib/python3.7/dist-packages (from sympy>=1.3->qiskit-terra>=0.17.0->qiskit-nature) (1.2.1)\n",
      "Installing collected packages: qiskit-nature\n",
      "Successfully installed qiskit-nature-0.1.3\n"
     ]
    }
   ],
   "source": [
    "!pip install qiskit-nature\n"
   ]
  },
  {
   "cell_type": "code",
   "execution_count": 6,
   "metadata": {
    "colab": {
     "base_uri": "https://localhost:8080/"
    },
    "id": "oGvaN6xt8D_W",
    "outputId": "5d6a07fd-48ab-4b38-b1fd-ea422fe1a8a1"
   },
   "outputs": [
    {
     "name": "stdout",
     "output_type": "stream",
     "text": [
      "Collecting pyscf\n",
      "\u001b[?25l  Downloading https://files.pythonhosted.org/packages/ef/d6/af4ce5035977cb011e4dbe9979bf254129a36d48cb569b86e57b5a72c5b1/pyscf-1.7.6.post1-cp37-cp37m-manylinux1_x86_64.whl (29.7MB)\n",
      "\u001b[K     |████████████████████████████████| 29.7MB 145kB/s \n",
      "\u001b[?25hRequirement already satisfied: numpy!=1.16,!=1.17,>1.8 in /usr/local/lib/python3.7/dist-packages (from pyscf) (1.19.5)\n",
      "Requirement already satisfied: scipy!=1.5.0,!=1.5.1 in /usr/local/lib/python3.7/dist-packages (from pyscf) (1.4.1)\n",
      "Requirement already satisfied: h5py>2.2 in /usr/local/lib/python3.7/dist-packages (from pyscf) (3.1.0)\n",
      "Requirement already satisfied: cached-property; python_version < \"3.8\" in /usr/local/lib/python3.7/dist-packages (from h5py>2.2->pyscf) (1.5.2)\n",
      "Installing collected packages: pyscf\n",
      "Successfully installed pyscf-1.7.6.post1\n"
     ]
    }
   ],
   "source": [
    "!pip install pyscf"
   ]
  },
  {
   "cell_type": "code",
   "execution_count": 7,
   "metadata": {
    "id": "byon3wB98LAe"
   },
   "outputs": [],
   "source": [
    "from qiskit_nature.drivers import PySCFDriver #Importing pyscf module to enable simulation of chemical molecules\n",
    "\n",
    "molecule = 'Li 0.0 0.0 0.0; H 0.0 0.0 1.5474'#These represent the coordinates of the atoms in the molcule\n",
    "driver = PySCFDriver(atom=molecule)\n",
    "qmolecule = driver.run()"
   ]
  },
  {
   "cell_type": "code",
   "execution_count": 11,
   "metadata": {
    "colab": {
     "base_uri": "https://localhost:8080/"
    },
    "id": "c-nP4HMx8ZF2",
    "outputId": "527d24f4-ea5b-4905-ef6c-5efd7b6bc661"
   },
   "outputs": [
    {
     "name": "stdout",
     "output_type": "stream",
     "text": [
      "6\n"
     ]
    }
   ],
   "source": [
    "n_mo = qmolecule.num_molecular_orbitals\n",
    "print(n_mo)#This prints the total number of molecular orbitals which is 6 here\n",
    "\n",
    "from qiskit_nature.problems.second_quantization.electronic import ElectronicStructureProblem #To produce list of fermionic operators\n",
    "from qiskit_nature.transformers import FreezeCoreTransformer #Freezing the core to reduce the number of qubits\n",
    "\n",
    "#In order to find out which orbitals to freeze, I checked the corresponding exact ground energy value by freezing all the orbitals in the range (0,5) and chose the ones which were closer to the threshold value\n",
    "tr = FreezeCoreTransformer(True,[3,4])#Freezing orbitals 3 and 4\n",
    "problem = ElectronicStructureProblem(driver,[tr])\n",
    "\n",
    "second_q_ops = problem.second_q_ops()#Generating the second-quantized operators\n",
    "\n",
    "\n",
    "main_op = second_q_ops[0]#Hamiltonian\n",
    "\n"
   ]
  },
  {
   "cell_type": "code",
   "execution_count": 12,
   "metadata": {
    "colab": {
     "base_uri": "https://localhost:8080/"
    },
    "id": "aB6P7hdy8f4E",
    "outputId": "b47f4833-73c0-4ea6-f92b-92f517a343af"
   },
   "outputs": [
    {
     "name": "stdout",
     "output_type": "stream",
     "text": [
      "Z2 symmetries:\n",
      "Symmetries:\n",
      "IIIZII\n",
      "ZIIIII\n",
      "Single-Qubit Pauli X:\n",
      "IIIXII\n",
      "XIIIII\n",
      "Cliffords:\n",
      "0.7071067811865475 * IIIZII\n",
      "+ 0.7071067811865475 * IIIXII\n",
      "0.7071067811865475 * ZIIIII\n",
      "+ 0.7071067811865475 * XIIIII\n",
      "Qubit index:\n",
      "[2, 5]\n",
      "Tapering values:\n",
      "[-1, 1]\n"
     ]
    }
   ],
   "source": [
    "from qiskit_nature.mappers.second_quantization import ParityMapper, BravyiKitaevMapper, JordanWignerMapper\n",
    "from qiskit_nature.converters.second_quantization.qubit_converter import QubitConverter\n",
    "\n",
    "#Setting up the mapper and qubit converter\n",
    "#Defining mapping for representing molecular orbitals using qubits\n",
    "mapper = ParityMapper()\n",
    "\n",
    "\n",
    "converter = QubitConverter(mapper=mapper, two_qubit_reduction=True)#,z2symmetry_reduction=[-1,1])#Uncomment to apply z2symmetry\n",
    "# The fermionic operators are mapped to qubit operators\n",
    "num_particles = (problem.molecule_data_transformed.num_alpha,\n",
    "             problem.molecule_data_transformed.num_beta)\n",
    "qubit_op = converter.convert(main_op, num_particles=num_particles)\n",
    "print(qubit_op.z2_symmetries)#This prints the symmetries present in the molecule . I didn't apply z2symmetry because I already reduce the number of qubits to 4"
   ]
  },
  {
   "cell_type": "code",
   "execution_count": 13,
   "metadata": {
    "colab": {
     "base_uri": "https://localhost:8080/"
    },
    "id": "dSIsyLGB8k4v",
    "outputId": "791b8e29-1f6e-4995-9c76-eaf1e8e0d4cc"
   },
   "outputs": [
    {
     "name": "stdout",
     "output_type": "stream",
     "text": [
      "     ┌───┐\n",
      "q_0: ┤ X ├\n",
      "     ├───┤\n",
      "q_1: ┤ X ├\n",
      "     └───┘\n",
      "q_2: ─────\n",
      "          \n",
      "q_3: ─────\n",
      "          \n"
     ]
    }
   ],
   "source": [
    "from qiskit_nature.circuit.library import HartreeFock\n",
    "#To implement hartreefrock state as the initial state\n",
    "num_particles = (problem.molecule_data_transformed.num_alpha,\n",
    "             problem.molecule_data_transformed.num_beta)\n",
    "num_spin_orbitals = 2 * problem.molecule_data_transformed.num_molecular_orbitals\n",
    "init_state = HartreeFock(num_spin_orbitals, num_particles, converter)\n",
    "print(init_state)"
   ]
  },
  {
   "cell_type": "code",
   "execution_count": 14,
   "metadata": {
    "colab": {
     "base_uri": "https://localhost:8080/"
    },
    "id": "c4-8Fo4k8nrI",
    "outputId": "bec2b6b2-7937-40e6-ba1e-2ecce13971f7"
   },
   "outputs": [
    {
     "name": "stdout",
     "output_type": "stream",
     "text": [
      "     ┌──────────┐┌──────────┐     ┌──────────┐┌───────────┐             »\n",
      "q_0: ┤ RY(θ[0]) ├┤ RZ(θ[4]) ├──■──┤ RY(θ[8]) ├┤ RZ(θ[12]) ├─────────────»\n",
      "     ├──────────┤├──────────┤┌─┴─┐└──────────┘└┬──────────┤┌───────────┐»\n",
      "q_1: ┤ RY(θ[1]) ├┤ RZ(θ[5]) ├┤ X ├─────■───────┤ RY(θ[9]) ├┤ RZ(θ[13]) ├»\n",
      "     ├──────────┤├──────────┤└───┘   ┌─┴─┐     └──────────┘├───────────┤»\n",
      "q_2: ┤ RY(θ[2]) ├┤ RZ(θ[6]) ├────────┤ X ├──────────■──────┤ RY(θ[10]) ├»\n",
      "     ├──────────┤├──────────┤        └───┘        ┌─┴─┐    ├───────────┤»\n",
      "q_3: ┤ RY(θ[3]) ├┤ RZ(θ[7]) ├─────────────────────┤ X ├────┤ RY(θ[11]) ├»\n",
      "     └──────────┘└──────────┘                     └───┘    └───────────┘»\n",
      "«                  \n",
      "«q_0: ─────────────\n",
      "«                  \n",
      "«q_1: ─────────────\n",
      "«     ┌───────────┐\n",
      "«q_2: ┤ RZ(θ[14]) ├\n",
      "«     ├───────────┤\n",
      "«q_3: ┤ RZ(θ[15]) ├\n",
      "«     └───────────┘\n"
     ]
    }
   ],
   "source": [
    "from qiskit.circuit.library import TwoLocal\n",
    "#Choosing a quantum circuit to approximate ground state\n",
    "\n",
    "#Parameters for q-UCC antatze\n",
    "num_particles = (problem.molecule_data_transformed.num_alpha,\n",
    "            problem.molecule_data_transformed.num_beta)\n",
    "num_spin_orbitals = 2 * problem.molecule_data_transformed.num_molecular_orbitals\n",
    "\n",
    "\n",
    "#Using TwoLocal ansatz with the following parameters because it uses least number of CNOTs found out by Hit and Trial\n",
    "#Single qubit rotations that are placed on all qubits with independent parameters\n",
    "rotation_blocks = ['ry', 'rz']\n",
    "#Entangling gates\n",
    "entanglement_blocks = 'cx'\n",
    "#How the qubits are entangled \n",
    "entanglement = 'linear'\n",
    "#Repetitions of rotation_blocks + entanglement_blocks with independent parameters\n",
    "repetitions = 1\n",
    "# Not skipping the final rotation_blocks layer\n",
    "skip_final_rotation_layer = False\n",
    "ansatz = TwoLocal(qubit_op.num_qubits, rotation_blocks, entanglement_blocks, reps=repetitions, \n",
    "                      entanglement=entanglement, skip_final_rotation_layer=skip_final_rotation_layer)\n",
    "\n",
    "print(ansatz)"
   ]
  },
  {
   "cell_type": "code",
   "execution_count": 15,
   "metadata": {
    "id": "iT2pXhgX8rf0"
   },
   "outputs": [],
   "source": [
    "from qiskit import Aer #To specify the simulator for the algorithm to run on\n",
    "backend = Aer.get_backend('statevector_simulator')"
   ]
  },
  {
   "cell_type": "code",
   "execution_count": 19,
   "metadata": {
    "id": "-ndAZXWQ8w1O"
   },
   "outputs": [],
   "source": [
    "from qiskit.algorithms.optimizers import SLSQP\n",
    "optimizer = SLSQP(maxiter=2000)#This optimiser gave the correct energy value for the chosen ansatz"
   ]
  },
  {
   "cell_type": "code",
   "execution_count": 16,
   "metadata": {
    "colab": {
     "base_uri": "https://localhost:8080/"
    },
    "id": "TcLojOMb8zpi",
    "outputId": "c7904ac9-0654-4adf-83ab-20b97c7da4fa"
   },
   "outputs": [
    {
     "name": "stdout",
     "output_type": "stream",
     "text": [
      "Exact electronic energy -1.0887060157347406\n",
      "=== GROUND STATE ENERGY ===\n",
      " \n",
      "* Electronic ground state energy (Hartree): -8.907396311316\n",
      "  - computed part:      -1.088706015735\n",
      "  - FreezeCoreTransformer extracted energy part: -7.818690295581\n",
      "~ Nuclear repulsion energy (Hartree): 1.025934879643\n",
      "> Total ground state energy (Hartree): -7.881461431673\n",
      " \n",
      "=== MEASURED OBSERVABLES ===\n",
      " \n",
      "  0:  # Particles: 2.000 S: 0.000 S^2: 0.000 M: 0.000\n",
      " \n",
      "=== DIPOLE MOMENTS ===\n",
      " \n",
      "~ Nuclear dipole moment (a.u.): [0.0  0.0  2.92416221]\n",
      " \n",
      "  0: \n",
      "  * Electronic dipole moment (a.u.): [0.0  0.0  4.76300889]\n",
      "    - computed part:      [0.0  0.0  4.76695575]\n",
      "    - FreezeCoreTransformer extracted energy part: [0.0  0.0  -0.00394686]\n",
      "  > Dipole moment (a.u.): [0.0  0.0  -1.83884668]  Total: 1.83884668\n",
      "                 (debye): [0.0  0.0  -4.67388163]  Total: 4.67388163\n",
      " \n"
     ]
    }
   ],
   "source": [
    "from qiskit_nature.algorithms.ground_state_solvers.minimum_eigensolver_factories import NumPyMinimumEigensolverFactory\n",
    "from qiskit_nature.algorithms.ground_state_solvers import GroundStateEigensolver\n",
    "import numpy as np \n",
    "#Trying to solve the problem using exact diagonalization of the Hamiltonian\n",
    "\n",
    "def exact_diagonalizer(problem, converter):\n",
    "    solver = NumPyMinimumEigensolverFactory()\n",
    "    calc = GroundStateEigensolver(converter, solver)\n",
    "    result = calc.solve(problem)\n",
    "    return result\n",
    "\n",
    "result_exact = exact_diagonalizer(problem, converter)\n",
    "exact_energy = np.real(result_exact.eigenenergies[0])\n",
    "print(\"Exact electronic energy\", exact_energy)\n",
    "print(result_exact)\n",
    "\n",
    "# The targeted electronic energy for LiH is -1.086 Ha\n"
   ]
  },
  {
   "cell_type": "code",
   "execution_count": 20,
   "metadata": {
    "colab": {
     "base_uri": "https://localhost:8080/",
     "height": 588
    },
    "id": "5Dl2QfYg83CR",
    "outputId": "fa3c910a-91f5-4a9b-e135-bdeb27f39b64"
   },
   "outputs": [
    {
     "name": "stdout",
     "output_type": "stream",
     "text": [
      "{   'aux_operator_eigenvalues': None,\n",
      "    'cost_function_evals': 851,\n",
      "    'eigenstate': array([-1.38503080e-03-3.73975129e-05j,  4.83798144e-03+6.36745268e-05j,\n",
      "       -2.66978013e-02-3.06676159e-04j,  9.91386592e-01+1.39272516e-03j,\n",
      "        5.38283495e-02+5.40890327e-04j,  3.28152532e-04+9.93615636e-06j,\n",
      "       -9.07220622e-04+4.32502418e-06j,  2.39114676e-02-3.84502735e-04j,\n",
      "        2.72891302e-03+4.22182794e-05j,  9.36230793e-06+1.71620611e-06j,\n",
      "       -5.91311396e-06-6.28705625e-06j, -2.73155829e-04+2.34338973e-04j,\n",
      "       -1.13726193e-01+2.30850218e-04j, -4.47959858e-04-1.66081270e-05j,\n",
      "        5.62790023e-04-7.93456918e-06j, -2.66622417e-04+1.18701780e-05j]),\n",
      "    'eigenvalue': -1.0863663677292887,\n",
      "    'optimal_parameters': {   ParameterVectorElement(θ[4]): -0.004768579123950326,\n",
      "                              ParameterVectorElement(θ[12]): -0.010069423154352004,\n",
      "                              ParameterVectorElement(θ[5]): -0.0037985015266241207,\n",
      "                              ParameterVectorElement(θ[6]): -0.005513500988743045,\n",
      "                              ParameterVectorElement(θ[7]): -0.0010895487469465151,\n",
      "                              ParameterVectorElement(θ[8]): 0.05313368644547072,\n",
      "                              ParameterVectorElement(θ[9]): -0.00977072471667363,\n",
      "                              ParameterVectorElement(θ[10]): 0.047986900543765254,\n",
      "                              ParameterVectorElement(θ[13]): -0.011810269141820076,\n",
      "                              ParameterVectorElement(θ[14]): -0.017507464711468492,\n",
      "                              ParameterVectorElement(θ[15]): -0.012680710973539674,\n",
      "                              ParameterVectorElement(θ[1]): 0.005744855621419048,\n",
      "                              ParameterVectorElement(θ[11]): 0.44182324189775946,\n",
      "                              ParameterVectorElement(θ[0]): -2.8892613849526074,\n",
      "                              ParameterVectorElement(θ[3]): -0.44239241452227135,\n",
      "                              ParameterVectorElement(θ[2]): -3.1410072751603506},\n",
      "    'optimal_point': array([-2.88926138e+00,  4.79869005e-02,  4.41823242e-01, -1.00694232e-02,\n",
      "       -1.18102691e-02, -1.75074647e-02, -1.26807110e-02,  5.74485562e-03,\n",
      "       -3.14100728e+00, -4.42392415e-01, -4.76857912e-03, -3.79850153e-03,\n",
      "       -5.51350099e-03, -1.08954875e-03,  5.31336864e-02, -9.77072472e-03]),\n",
      "    'optimal_value': -1.0863663677292887,\n",
      "    'optimizer_evals': 851,\n",
      "    'optimizer_time': 9.800698041915894}\n"
     ]
    }
   ],
   "source": [
    "from qiskit.algorithms import VQE\n",
    "from IPython.display import display, clear_output\n",
    "#Importing VQE to run the algorithim\n",
    "\n",
    "def callback(eval_count, parameters, mean, std):  \n",
    "    display(\"Evaluation: {}, Energy: {}, Std: {}\".format(eval_count, mean, std))\n",
    "    clear_output(wait=True)\n",
    "    counts.append(eval_count)\n",
    "    values.append(mean)\n",
    "    params.append(parameters)\n",
    "    deviation.append(std)\n",
    "\n",
    "counts = []\n",
    "values = []\n",
    "params = []\n",
    "deviation = []\n",
    "\n",
    "#Default fixed small displacement\n",
    "try:\n",
    "    initial_point = [0.01] * len(ansatz.ordered_parameters)\n",
    "except:\n",
    "    initial_point = [0.01] * ansatz.num_parameters\n",
    "\n",
    "algorithm = VQE(ansatz,\n",
    "                optimizer=optimizer,\n",
    "                quantum_instance=backend,\n",
    "                callback=callback,\n",
    "                initial_point=initial_point)\n",
    "\n",
    "result = algorithm.compute_minimum_eigenvalue(qubit_op)\n",
    "\n",
    "print(result)"
   ]
  },
  {
   "cell_type": "code",
   "execution_count": 23,
   "metadata": {
    "colab": {
     "base_uri": "https://localhost:8080/",
     "height": 370
    },
    "id": "7eK6EV-e87Pp",
    "outputId": "a8400aa9-affb-4130-e761-5ddbeb2f6c00"
   },
   "outputs": [
    {
     "data": {
      "text/html": [
       "<div>\n",
       "<style scoped>\n",
       "    .dataframe tbody tr th:only-of-type {\n",
       "        vertical-align: middle;\n",
       "    }\n",
       "\n",
       "    .dataframe tbody tr th {\n",
       "        vertical-align: top;\n",
       "    }\n",
       "\n",
       "    .dataframe thead th {\n",
       "        text-align: right;\n",
       "    }\n",
       "</style>\n",
       "<table border=\"1\" class=\"dataframe\">\n",
       "  <thead>\n",
       "    <tr style=\"text-align: right;\">\n",
       "      <th></th>\n",
       "      <th>optimizer</th>\n",
       "      <th>ansatz</th>\n",
       "      <th># of qubits</th>\n",
       "      <th># of parameters</th>\n",
       "      <th>rotation blocks</th>\n",
       "      <th>entanglement_blocks</th>\n",
       "      <th>entanglement</th>\n",
       "      <th>repetitions</th>\n",
       "      <th>error (mHa)</th>\n",
       "      <th>pass</th>\n",
       "      <th>score</th>\n",
       "    </tr>\n",
       "  </thead>\n",
       "  <tbody>\n",
       "    <tr>\n",
       "      <th>0</th>\n",
       "      <td>SLSQP</td>\n",
       "      <td>TwoLocal</td>\n",
       "      <td>4</td>\n",
       "      <td>16</td>\n",
       "      <td>[ry, rz]</td>\n",
       "      <td>cx</td>\n",
       "      <td>linear</td>\n",
       "      <td>1</td>\n",
       "      <td>2.339648</td>\n",
       "      <td>True</td>\n",
       "      <td>3</td>\n",
       "    </tr>\n",
       "  </tbody>\n",
       "</table>\n",
       "</div>"
      ],
      "text/plain": [
       "  optimizer    ansatz  # of qubits  ...  error (mHa)  pass score\n",
       "0     SLSQP  TwoLocal            4  ...     2.339648  True     3\n",
       "\n",
       "[1 rows x 11 columns]"
      ]
     },
     "execution_count": 23,
     "metadata": {
      "tags": []
     },
     "output_type": "execute_result"
    },
    {
     "data": {
      "image/png": "[encoded data removed]",
      "text/plain": [
       "<Figure size 432x288 with 1 Axes>"
      ]
     },
     "metadata": {
      "needs_background": "light",
      "tags": []
     },
     "output_type": "display_data"
    }
   ],
   "source": [
    "#Storing results in a dictionary\n",
    "from qiskit.transpiler import PassManager\n",
    "from qiskit.transpiler.passes import Unroller\n",
    "\n",
    "#Transpiling circuit into CNOTs and U gates\n",
    "pass_ = Unroller(['u', 'cx'])\n",
    "pm = PassManager(pass_)\n",
    "ansatz_tp = pm.run(ansatz)\n",
    "cnots = ansatz_tp.count_ops()['cx']\n",
    "score = cnots\n",
    "\n",
    "accuracy_threshold = 4.0 #in mHa\n",
    "energy = result.optimal_value\n",
    "\n",
    "result_dict = {\n",
    "        'optimizer': optimizer.__class__.__name__,\n",
    "        'mapping': converter.mapper.__class__.__name__,\n",
    "        'ansatz': ansatz.__class__.__name__,\n",
    "        'rotation blocks': rotation_blocks,\n",
    "        'entanglement_blocks': entanglement_blocks,\n",
    "        'entanglement': entanglement,\n",
    "        'repetitions': repetitions,\n",
    "        'skip_final_rotation_layer': skip_final_rotation_layer,\n",
    "        'energy (Ha)': energy,\n",
    "        'error (mHa)': (energy-exact_energy)*1000,\n",
    "        'pass': (energy-exact_energy)*1000 <= accuracy_threshold,\n",
    "        '# of parameters': len(result.optimal_point),\n",
    "        'final parameters': result.optimal_point,\n",
    "        '# of evaluations': result.optimizer_evals,\n",
    "        'optimizer time': result.optimizer_time,\n",
    "        '# of qubits': int(qubit_op.num_qubits),\n",
    "        '# of CNOTs': cnots,\n",
    "        'score': score}\n",
    "\n",
    "#Plotting the results\n",
    "import matplotlib.pyplot as plt\n",
    "\n",
    "fig, ax = plt.subplots(1, 1)\n",
    "ax.set_xlabel('Iterations')\n",
    "ax.set_ylabel('Energy')\n",
    "ax.grid()\n",
    "fig.text(0.7, 0.75, f'Energy: {result.optimal_value:.3f}\\nScore: {score:.0f}')\n",
    "plt.title(f\"{result_dict['optimizer']}-{result_dict['mapping']}\\n{result_dict['ansatz']}\")\n",
    "ax.plot(counts, values)\n",
    "ax.axhline(exact_energy, linestyle='--')\n",
    "fig_title = f\"\\\n",
    "{result_dict['optimizer']}-\\\n",
    "{result_dict['mapping']}-\\\n",
    "{result_dict['ansatz']}-\\\n",
    "Energy({result_dict['energy (Ha)']:.3f})-\\\n",
    "Score({result_dict['score']:.0f})\\\n",
    ".png\"\n",
    "fig.savefig(fig_title, dpi=300)\n",
    "\n",
    "#Displaying and saving the data\n",
    "import pandas as pd\n",
    "import os.path\n",
    "filename = 'results_h2.csv'\n",
    "if os.path.isfile(filename):\n",
    "    result_df = pd.read_csv(filename)\n",
    "    result_df = result_df.append([result_dict])\n",
    "else:\n",
    "    result_df = pd.DataFrame.from_dict([result_dict])\n",
    "result_df.to_csv(filename)\n",
    "result_df[['optimizer','ansatz', '# of qubits', '# of parameters','rotation blocks', 'entanglement_blocks',\n",
    "    'entanglement', 'repetitions', 'error (mHa)', 'pass', 'score']]"
   ]
  },
  {
   "cell_type": "code",
   "execution_count": null,
   "metadata": {
    "id": "mXUOPhgd8_Fi"
   },
   "outputs": [],
   "source": []
  }
 ],
 "metadata": {
  "colab": {
   "collapsed_sections": [],
   "name": "Ex5-Shilpa Mahato.ipynb",
   "provenance": []
  },
  "kernelspec": {
   "display_name": "Python 3",
   "language": "python",
   "name": "python3"
  },
  "language_info": {
   "codemirror_mode": {
    "name": "ipython",
    "version": 3
   },
   "file_extension": ".py",
   "mimetype": "text/x-python",
   "name": "python",
   "nbconvert_exporter": "python",
   "pygments_lexer": "ipython3",
   "version": "3.7.6"
  }
 },
 "nbformat": 4,
 "nbformat_minor": 1
}
