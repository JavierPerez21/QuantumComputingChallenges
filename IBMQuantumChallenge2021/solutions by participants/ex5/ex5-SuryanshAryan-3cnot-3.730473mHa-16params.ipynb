{
 "cells": [
  {
   "cell_type": "markdown",
   "metadata": {
    "id": "MwGCva2FOtVM"
   },
   "source": [
    "# VQE on LiH Molecule\n",
    "\n",
    "Considering actual qubits transitioning from |0> state to |1> state based on the anharmonicity of qubits energy levels we can measure the transitioning frequency which corresponds to the actual ground state energy.\n",
    "\n",
    "### Steps taken to make the quantum operators and quantum circuits ready for the VQE to run its algorithm:\n",
    "\n",
    "\n",
    "\n",
    "> 1.  Setting up the driver\n",
    "> 2.  Extracting the hamiltonions and converting it to qubit operators using specific methods to reduce number of qubits used\n",
    ">3.  Initialising states of the statevector using HacktreeFock method \n",
    ">4. Implementing the diagonalizor method to get the exact ground level energy value calculated using Hamiltonion operator\n",
    ">5. Making of ansatz and choosing the optimizer \n",
    ">6. Getting statevector_simulator backend for VQE\n",
    ">7. Implementing Variational Quantum Eigensolver (VQE)\n",
    ">8. Tabulating all the trials made \n",
    "\n",
    "**All the necessary imports are done for each cell implementation.**\n"
   ]
  },
  {
   "cell_type": "markdown",
   "metadata": {
    "id": "YbCBXZROTyLT"
   },
   "source": [
    "## **Setting up the driver**\n",
    "Used PySCFDriver to extract all the data about the molecule given."
   ]
  },
  {
   "cell_type": "code",
   "execution_count": 1,
   "metadata": {
    "id": "gnG1UA_MLr26"
   },
   "outputs": [],
   "source": [
    "from qiskit_nature.drivers import PySCFDriver\n",
    "\n",
    "driver =[]\n",
    "molecule = 'Li 0.0 0.0 0.0; H 0.0 0.0 1.5474'\n",
    "driver = PySCFDriver(atom=molecule)\n",
    "qmolecule = driver.run()\n",
    "#qmolecule"
   ]
  },
  {
   "cell_type": "markdown",
   "metadata": {
    "id": "-7KMcPnUWUg6"
   },
   "source": [
    "## Extracting the hamiltonions and using specific reduction methods\n",
    "Used FreezeCoreTransformer() and removed 3rd and 4th orbital mapped on the problem variable. Further used the hamiltonion fermionic operator to convert it into QubitOperator using ParityMapper(), reducing of 2 qubits and applying z2symmetry reduction on the remaining orbitals.\n",
    "\n",
    "**Now choosing of 3rd and 4th orbitals, were purely on the basis of trail and error method comparing the exact energy given by those configurations with the actual energy.** \n",
    "\n",
    "After converting the hamiltonion to QuantumOperator, number of particles reduced to 2, number of molecular orbitals choosen reduced to 4 (which earlier was 6) and number of qubits used was 4.\n",
    "\n",
    "**Note - This is the cell which is responsible for the reduction of qubits been used for our purpose as well as giving decent value of exact energy using the diagonalizor**"
   ]
  },
  {
   "cell_type": "code",
   "execution_count": 2,
   "metadata": {
    "id": "jGtJLb4WNn26"
   },
   "outputs": [
    {
     "name": "stdout",
     "output_type": "stream",
     "text": [
      "(1, 1)\n",
      "3\n",
      "4\n"
     ]
    }
   ],
   "source": [
    "from qiskit_nature.problems.second_quantization.electronic import ElectronicStructureProblem\n",
    "from qiskit_nature.mappers.second_quantization import ParityMapper, BravyiKitaevMapper, JordanWignerMapper\n",
    "from qiskit_nature.transformers import FreezeCoreTransformer\n",
    "from qiskit_nature.converters.second_quantization.qubit_converter import QubitConverter\n",
    "from qiskit.aqua.operators import Z2Symmetries\n",
    "\n",
    "tr = FreezeCoreTransformer(True,[3,4])\n",
    "problem = ElectronicStructureProblem(driver,[tr])\n",
    "second_q_ops = problem.second_q_ops()\n",
    "H_op = second_q_ops[0] \n",
    "\n",
    "converter = QubitConverter(mapper=ParityMapper(), two_qubit_reduction=True, z2symmetry_reduction=[1,1])\n",
    "num_particles = (problem.molecule_data_transformed.num_alpha,\n",
    "             problem.molecule_data_transformed.num_beta)\n",
    "qubit_op = converter.convert(H_op, num_particles=num_particles)\n",
    "print(num_particles)\n",
    "print(problem.molecule_data_transformed.num_molecular_orbitals)\n",
    "print(qubit_op.num_qubits)"
   ]
  },
  {
   "cell_type": "markdown",
   "metadata": {
    "id": "LWuQ3q7jZ3qA"
   },
   "source": [
    "## Initialising states of the statevector using HacktreeFock method\n",
    "This chooses a proper initial statevector depending on the number of qubits, QuantumOperators and number of spin orbitals "
   ]
  },
  {
   "cell_type": "code",
   "execution_count": 3,
   "metadata": {
    "id": "DZSqZs75NoMc"
   },
   "outputs": [
    {
     "name": "stdout",
     "output_type": "stream",
     "text": [
      "     ┌───┐\n",
      "q_0: ┤ X ├\n",
      "     ├───┤\n",
      "q_1: ┤ X ├\n",
      "     └───┘\n",
      "q_2: ─────\n",
      "          \n",
      "q_3: ─────\n",
      "          \n"
     ]
    }
   ],
   "source": [
    "from qiskit_nature.circuit.library import HartreeFock\n",
    "\n",
    "num_spin_orbitals = 2 * problem.molecule_data_transformed.num_molecular_orbitals\n",
    "init_state = HartreeFock(num_spin_orbitals, num_particles, converter)\n",
    "print(init_state)"
   ]
  },
  {
   "cell_type": "markdown",
   "metadata": {
    "id": "laPJFOoCae09"
   },
   "source": [
    "## Implementing the diagonalizor method to get the exact ground level energy value calculated using Hamiltonion operator\n",
    "Here we make a function exact_diagonalizer() which uses the hamiltonion operator and further extracts the ground energy value using GroundStateEigensolver(converter, solver)"
   ]
  },
  {
   "cell_type": "code",
   "execution_count": 4,
   "metadata": {
    "id": "i2Xl41xwNofq"
   },
   "outputs": [
    {
     "name": "stdout",
     "output_type": "stream",
     "text": [
      "Exact electronic energy -1.0887060157347397\n",
      "=== GROUND STATE ENERGY ===\n",
      " \n",
      "* Electronic ground state energy (Hartree): -8.907396311316\n",
      "  - computed part:      -1.088706015735\n",
      "  - FreezeCoreTransformer extracted energy part: -7.818690295581\n",
      "~ Nuclear repulsion energy (Hartree): 1.025934879643\n",
      "> Total ground state energy (Hartree): -7.881461431673\n",
      " \n",
      "=== MEASURED OBSERVABLES ===\n",
      " \n",
      "  0:  # Particles: 2.000 S: 0.000 S^2: 0.000 M: 0.000\n",
      " \n",
      "=== DIPOLE MOMENTS ===\n",
      " \n",
      "~ Nuclear dipole moment (a.u.): [0.0  0.0  2.92416221]\n",
      " \n",
      "  0: \n",
      "  * Electronic dipole moment (a.u.): [0.0  0.0  4.76300889]\n",
      "    - computed part:      [0.0  0.0  4.76695575]\n",
      "    - FreezeCoreTransformer extracted energy part: [0.0  0.0  -0.00394686]\n",
      "  > Dipole moment (a.u.): [0.0  0.0  -1.83884668]  Total: 1.83884668\n",
      "                 (debye): [0.0  0.0  -4.67388163]  Total: 4.67388163\n",
      " \n"
     ]
    }
   ],
   "source": [
    "from qiskit_nature.algorithms.ground_state_solvers.minimum_eigensolver_factories import NumPyMinimumEigensolverFactory\n",
    "from qiskit_nature.algorithms.ground_state_solvers import GroundStateEigensolver\n",
    "import numpy as np \n",
    "\n",
    "def exact_diagonalizer(problem, converter):\n",
    "    solver = NumPyMinimumEigensolverFactory()\n",
    "    calc = GroundStateEigensolver(converter, solver)\n",
    "    result = calc.solve(problem)\n",
    "    return result\n",
    "\n",
    "result_exact = exact_diagonalizer(problem, converter)\n",
    "exact_energy = np.real(result_exact.eigenenergies[0])\n",
    "print(\"Exact electronic energy\", exact_energy)\n",
    "print(result_exact)\n",
    "\n",
    "# The targeted electronic energy for H2 is -1.85336 Ha\n",
    "# Check with your VQE result."
   ]
  },
  {
   "cell_type": "markdown",
   "metadata": {
    "id": "CNIclGzUbHO7"
   },
   "source": [
    "## Making of ansatz and choosing the optimizer\n",
    "This is where the ansatz or the quantum circuit is choosen to be optimized by choosing your own optimizer.\n",
    "\n",
    "Here I choosed TwoLocal ansatz as compared to all other ansatz available, it is the most simplest ansatz with very very few number of CX gates. Our main motive is to reduce the computational cost as well as getting a decent amount of accuracy and so keeping this in mind, for the configuration of 3,4 orbitals removal as well as z2symmetry I came to the result after numerous iterations that, parameters for TwoLocal with linear entanglement hving RX, RY and CX gates and repeated only onces with RY and RZ gates filling the final layer gives a decent accuracy in resulting energy value with just cost of 3, only 3 CX gates used.\n",
    "\n",
    "Also it was noticed that for VQE to successfully reach to the exact energy value, all qubits used must be entangled(CX) with each other atleast and so as this configuration uses 4 qubits, hence I could reduce my cost to just 3. For further reduction in cost, the number of qubits itself has to decrease to 3 or maybe 2, but then it might be so simplified that now it may have lost the core properties of the molecule which could have significantly helped calculating the energy."
   ]
  },
  {
   "cell_type": "code",
   "execution_count": 5,
   "metadata": {
    "id": "l2KiV_J9NoyQ"
   },
   "outputs": [
    {
     "name": "stdout",
     "output_type": "stream",
     "text": [
      "        ┌───┐    ┌──────────┐┌──────────┐     ┌──────────┐┌───────────┐»\n",
      "q_0: ───┤ X ├────┤ RZ(θ[0]) ├┤ RY(θ[4]) ├──■──┤ RZ(θ[8]) ├┤ RY(θ[12]) ├»\n",
      "        ├───┤    ├──────────┤├──────────┤┌─┴─┐└──────────┘└┬──────────┤»\n",
      "q_1: ───┤ X ├────┤ RZ(θ[1]) ├┤ RY(θ[5]) ├┤ X ├─────■───────┤ RZ(θ[9]) ├»\n",
      "     ┌──┴───┴───┐├──────────┤└──────────┘└───┘   ┌─┴─┐     └──────────┘»\n",
      "q_2: ┤ RZ(θ[2]) ├┤ RY(θ[6]) ├────────────────────┤ X ├──────────■──────»\n",
      "     ├──────────┤├──────────┤                    └───┘        ┌─┴─┐    »\n",
      "q_3: ┤ RZ(θ[3]) ├┤ RY(θ[7]) ├─────────────────────────────────┤ X ├────»\n",
      "     └──────────┘└──────────┘                                 └───┘    »\n",
      "«                               \n",
      "«q_0: ──────────────────────────\n",
      "«     ┌───────────┐             \n",
      "«q_1: ┤ RY(θ[13]) ├─────────────\n",
      "«     ├───────────┤┌───────────┐\n",
      "«q_2: ┤ RZ(θ[10]) ├┤ RY(θ[14]) ├\n",
      "«     ├───────────┤├───────────┤\n",
      "«q_3: ┤ RZ(θ[11]) ├┤ RY(θ[15]) ├\n",
      "«     └───────────┘└───────────┘\n"
     ]
    }
   ],
   "source": [
    "from qiskit.circuit.library import TwoLocal\n",
    "from qiskit_nature.circuit.library import UCCSD, PUCCD, SUCCD\n",
    "from qiskit.algorithms.optimizers import COBYLA, L_BFGS_B, SPSA, SLSQP\n",
    "from qiskit.circuit import Parameter, QuantumCircuit, QuantumRegister\n",
    "\n",
    "ansatz = TwoLocal(qubit_op.num_qubits, ['rz','ry'],['cx'], reps=1, \n",
    "                      entanglement='linear', skip_final_rotation_layer=False)\n",
    "\n",
    "\n",
    "#Custom Ansatz (choosing our own gates to be applied in our custom sequence) \n",
    "#theta = Parameter('a')\n",
    "#n = qubit_op.num_qubits\n",
    "#qc = QuantumCircuit(qubit_op.num_qubits)\n",
    "#qc.h(range(n))\n",
    "#qc.rz(theta, range(n))\n",
    "#qc.ry(theta, range(n))\n",
    "#qc.cx(0,1)\n",
    "#qc.cx(1,2)\n",
    "#qc.h(range(n))\n",
    "#ansatz = qc\n",
    "\n",
    "ansatz.compose(init_state, front=True, inplace=True)\n",
    "\n",
    "optimizer = COBYLA(maxiter=16000)\n",
    "\n",
    "print(ansatz)"
   ]
  },
  {
   "cell_type": "markdown",
   "metadata": {
    "id": "qBoMDJ_lfFtt"
   },
   "source": [
    "## Getting statevector_simulator backend for VQE"
   ]
  },
  {
   "cell_type": "code",
   "execution_count": 6,
   "metadata": {
    "id": "-xotoi0HOby2"
   },
   "outputs": [],
   "source": [
    "from qiskit import Aer\n",
    "backend = Aer.get_backend('statevector_simulator')"
   ]
  },
  {
   "cell_type": "markdown",
   "metadata": {
    "id": "TO5sVtr2fLsi"
   },
   "source": [
    "## Implementing Variational Quantum Eigensolver (VQE)\n",
    "\n",
    "Finally run the VQE also simultaneously calling the callback function giving us the key informations as the algorithm progresses.\n",
    "\n",
    "We start with an initial value for each parameters residing in the ansatz which are tuned by the VQE to get nearer to the value."
   ]
  },
  {
   "cell_type": "code",
   "execution_count": 7,
   "metadata": {
    "id": "X47D2wPDOf7y"
   },
   "outputs": [
    {
     "name": "stdout",
     "output_type": "stream",
     "text": [
      "{   'aux_operator_eigenvalues': None,\n",
      "    'cost_function_evals': 16000,\n",
      "    'eigenstate': array([-2.95831307e-05-1.22252999e-05j, -1.00364062e-03-3.92522104e-03j,\n",
      "        5.10687801e-03+1.99713870e-02j, -2.45883330e-01-9.61763525e-01j,\n",
      "       -5.15924667e-03-1.14348734e-02j, -1.47212488e-05-1.60338085e-05j,\n",
      "       -2.32657490e-05-1.26096695e-04j,  2.13403681e-03+8.31987401e-03j,\n",
      "        2.60264374e-04+9.73904519e-04j, -7.00282737e-05+1.03498048e-05j,\n",
      "        3.61388236e-04-3.49295033e-05j, -1.74544686e-02+1.48993373e-03j,\n",
      "        2.99087923e-02+1.12590976e-01j,  1.39132627e-04+4.93417562e-04j,\n",
      "       -1.23860642e-04-4.58902822e-04j,  8.64719166e-05-2.91689139e-05j]),\n",
      "    'eigenvalue': -1.084975542519339,\n",
      "    'optimal_parameters': {   ParameterVectorElement(θ[8]): 0.003946838106672179,\n",
      "                              ParameterVectorElement(θ[9]): 1.0955765827396178,\n",
      "                              ParameterVectorElement(θ[7]): -0.10866910463259569,\n",
      "                              ParameterVectorElement(θ[6]): -0.00013272750235183154,\n",
      "                              ParameterVectorElement(θ[12]): 0.04107522709501752,\n",
      "                              ParameterVectorElement(θ[10]): 1.7139462451258516,\n",
      "                              ParameterVectorElement(θ[14]): -0.01729962161061143,\n",
      "                              ParameterVectorElement(θ[13]): 3.1334310006694035,\n",
      "                              ParameterVectorElement(θ[15]): 0.10876738366104725,\n",
      "                              ParameterVectorElement(θ[11]): 0.3266628360939213,\n",
      "                              ParameterVectorElement(θ[5]): -0.0038079030758104357,\n",
      "                              ParameterVectorElement(θ[3]): 0.04032813579368688,\n",
      "                              ParameterVectorElement(θ[4]): 0.23486069482868702,\n",
      "                              ParameterVectorElement(θ[1]): -0.16676873155704894,\n",
      "                              ParameterVectorElement(θ[2]): -0.4064128356823806,\n",
      "                              ParameterVectorElement(θ[0]): -0.7111597114959475},\n",
      "    'optimal_point': array([-7.11159711e-01,  1.71394625e+00,  3.26662836e-01,  4.10752271e-02,\n",
      "        3.13343100e+00, -1.72996216e-02,  1.08767384e-01, -1.66768732e-01,\n",
      "       -4.06412836e-01,  4.03281358e-02,  2.34860695e-01, -3.80790308e-03,\n",
      "       -1.32727502e-04, -1.08669105e-01,  3.94683811e-03,  1.09557658e+00]),\n",
      "    'optimal_value': -1.084975542519339,\n",
      "    'optimizer_evals': 16000,\n",
      "    'optimizer_time': 98.41206812858582}\n"
     ]
    }
   ],
   "source": [
    "from qiskit.algorithms import VQE\n",
    "\n",
    "from IPython.display import display, clear_output\n",
    "\n",
    "def callback(eval_count, parameters, mean, std):  \n",
    "    # Overwrites the same line when printing\n",
    "    display(\"Evaluation: {}, Energy: {}, Std: {}\".format(eval_count, mean, std))\n",
    "    clear_output(wait=True)\n",
    "    counts.append(eval_count)\n",
    "    values.append(mean)\n",
    "    params.append(parameters)\n",
    "    deviation.append(std)\n",
    "\n",
    "counts = []\n",
    "values = []\n",
    "params = []\n",
    "deviation = []\n",
    "\n",
    "try:\n",
    "    initial_point = [0.01] * len(ansatz.ordered_parameters)\n",
    "except:\n",
    "    initial_point = [0.01] * ansatz.num_parameters\n",
    "\n",
    "algorithm = VQE(ansatz,\n",
    "                optimizer=optimizer,\n",
    "                quantum_instance=backend,\n",
    "                callback=callback,\n",
    "                initial_point=initial_point)\n",
    "\n",
    "result = algorithm.compute_minimum_eigenvalue(qubit_op)\n",
    "\n",
    "print(result)"
   ]
  },
  {
   "cell_type": "markdown",
   "metadata": {
    "id": "f2ZgtpHsgIY8"
   },
   "source": [
    "## Tabulating all the trials made\n",
    "Finally save all the required results with ansatz parameters and optimizers used and plot a graph showing the progress of the VQE on reaching the exact ground level energy value with an error as small as 0.004 units. \n",
    "\n",
    "**This is one of the important cells as it made a track of what went wrong with different combinations of parameters and also kept track of the currrent best combination of ansatz and optimizer used in terms of least CX gates used and accurate enough. The graph also helped in realizing how robust is the optimizer in optimizing the ansatz.**  "
   ]
  },
  {
   "cell_type": "code",
   "execution_count": 8,
   "metadata": {
    "id": "mlTNPesPOq54"
   },
   "outputs": [
    {
     "data": {
      "text/html": [
       "<div>\n",
       "<style scoped>\n",
       "    .dataframe tbody tr th:only-of-type {\n",
       "        vertical-align: middle;\n",
       "    }\n",
       "\n",
       "    .dataframe tbody tr th {\n",
       "        vertical-align: top;\n",
       "    }\n",
       "\n",
       "    .dataframe thead th {\n",
       "        text-align: right;\n",
       "    }\n",
       "</style>\n",
       "<table border=\"1\" class=\"dataframe\">\n",
       "  <thead>\n",
       "    <tr style=\"text-align: right;\">\n",
       "      <th></th>\n",
       "      <th>optimizer</th>\n",
       "      <th>ansatz</th>\n",
       "      <th># of qubits</th>\n",
       "      <th># of parameters</th>\n",
       "      <th>rotation blocks</th>\n",
       "      <th>entanglement_blocks</th>\n",
       "      <th>entanglement</th>\n",
       "      <th>repetitions</th>\n",
       "      <th>error (mHa)</th>\n",
       "      <th>pass</th>\n",
       "      <th>score</th>\n",
       "    </tr>\n",
       "  </thead>\n",
       "  <tbody>\n",
       "    <tr>\n",
       "      <th>0</th>\n",
       "      <td>COBYLA</td>\n",
       "      <td>TwoLocal</td>\n",
       "      <td>4</td>\n",
       "      <td>16</td>\n",
       "      <td>[ry, rz]</td>\n",
       "      <td>cx</td>\n",
       "      <td>linear</td>\n",
       "      <td>1</td>\n",
       "      <td>3.730473</td>\n",
       "      <td>True</td>\n",
       "      <td>3</td>\n",
       "    </tr>\n",
       "  </tbody>\n",
       "</table>\n",
       "</div>"
      ],
      "text/plain": [
       "  optimizer    ansatz  # of qubits  # of parameters rotation blocks  \\\n",
       "0    COBYLA  TwoLocal            4               16        [ry, rz]   \n",
       "\n",
       "  entanglement_blocks entanglement  repetitions  error (mHa)  pass  score  \n",
       "0                  cx       linear            1     3.730473  True      3  "
      ]
     },
     "execution_count": 8,
     "metadata": {},
     "output_type": "execute_result"
    },
    {
     "data": {
      "image/png": "[encoded data removed]",
      "text/plain": [
       "<Figure size 432x288 with 1 Axes>"
      ]
     },
     "metadata": {
      "needs_background": "light"
     },
     "output_type": "display_data"
    }
   ],
   "source": [
    "# Store results in a dictionary\n",
    "from qiskit.transpiler import PassManager\n",
    "from qiskit.transpiler.passes import Unroller\n",
    "\n",
    "# Unroller transpile your circuit into CNOTs and U gates\n",
    "pass_ = Unroller(['u', 'cx'])\n",
    "pm = PassManager(pass_)\n",
    "ansatz_tp = pm.run(ansatz)\n",
    "cnots = ansatz_tp.count_ops()['cx']\n",
    "score = cnots\n",
    "ansatz_type = \"TwoLocal\" #added by me\n",
    "accuracy_threshold = 4.0 # in mHa\n",
    "energy = result.optimal_value\n",
    "\n",
    "if ansatz_type == \"TwoLocal\":\n",
    "    result_dict = {\n",
    "        'optimizer': optimizer.__class__.__name__,\n",
    "        'mapping': converter.mapper.__class__.__name__,\n",
    "        'ansatz': ansatz.__class__.__name__,\n",
    "        'rotation blocks': ['ry','rz'],\n",
    "        'entanglement_blocks': 'cx',\n",
    "        'entanglement': 'linear',\n",
    "        'repetitions': 1,\n",
    "        'skip_final_rotation_layer': False,\n",
    "        'energy (Ha)': energy,\n",
    "        'error (mHa)': (energy-exact_energy)*1000,\n",
    "        'pass': (energy-exact_energy)*1000 <= accuracy_threshold,\n",
    "        '# of parameters': len(result.optimal_point),\n",
    "        'final parameters': result.optimal_point,\n",
    "        '# of evaluations': result.optimizer_evals,\n",
    "        'optimizer time': result.optimizer_time,\n",
    "        '# of qubits': int(qubit_op.num_qubits),\n",
    "        '# of CNOTs': cnots,\n",
    "        'score': score}\n",
    "else:\n",
    "    result_dict = {\n",
    "        'optimizer': optimizer.__class__.__name__,\n",
    "        'mapping': converter.mapper.__class__.__name__,\n",
    "        'ansatz': ansatz.__class__.__name__,\n",
    "        'rotation blocks': None,\n",
    "        'entanglement_blocks': None,\n",
    "        'entanglement': None,\n",
    "        'repetitions': None,\n",
    "        'skip_final_rotation_layer': None,\n",
    "        'energy (Ha)': energy,\n",
    "        'error (mHa)': (energy-exact_energy)*1000,\n",
    "        'pass': (energy-exact_energy)*1000 <= accuracy_threshold,\n",
    "        '# of parameters': len(result.optimal_point),\n",
    "        'final parameters': result.optimal_point,\n",
    "        '# of evaluations': result.optimizer_evals,\n",
    "        'optimizer time': result.optimizer_time,\n",
    "        '# of qubits': int(qubit_op.num_qubits),\n",
    "        '# of CNOTs': cnots,\n",
    "        'score': score}\n",
    "\n",
    "# Plot the results\n",
    "import matplotlib.pyplot as plt\n",
    "\n",
    "fig, ax = plt.subplots(1, 1)\n",
    "ax.set_xlabel('Iterations')\n",
    "ax.set_ylabel('Energy')\n",
    "ax.grid()\n",
    "fig.text(0.7, 0.75, f'Energy: {result.optimal_value:.3f}\\nScore: {score:.0f}')\n",
    "plt.title(f\"{result_dict['optimizer']}-{result_dict['mapping']}\\n{result_dict['ansatz']}\")\n",
    "ax.plot(counts, values)\n",
    "ax.axhline(exact_energy, linestyle='--')\n",
    "fig_title = f\"\\\n",
    "{result_dict['optimizer']}-\\\n",
    "{result_dict['mapping']}-\\\n",
    "{result_dict['ansatz']}-\\\n",
    "Energy({result_dict['energy (Ha)']:.3f})-\\\n",
    "Score({result_dict['score']:.0f})\\\n",
    ".png\"\n",
    "fig.savefig(fig_title, dpi=300)\n",
    "\n",
    "# Display and save the data\n",
    "import pandas as pd\n",
    "import os.path\n",
    "filename = 'results_h2.csv'\n",
    "if os.path.isfile(filename):\n",
    "    result_df = pd.read_csv(filename)\n",
    "    result_df = result_df.append([result_dict])\n",
    "else:\n",
    "    result_df = pd.DataFrame.from_dict([result_dict])\n",
    "result_df.to_csv(filename)\n",
    "result_df[['optimizer','ansatz', '# of qubits', '# of parameters','rotation blocks', 'entanglement_blocks',\n",
    "    'entanglement', 'repetitions', 'error (mHa)', 'pass', 'score']]"
   ]
  },
  {
   "cell_type": "markdown",
   "metadata": {
    "id": "P0hSW3Bbi7Gi"
   },
   "source": [
    "Hence, after multiple trail and error as well as noting down the exact energy for each orbital removed I finally found that 3rd and 4th orbital removed together gives the exact energy very close or even lower than the actual energy(given by the grader). After finding out this configuration, I kept on tuning the TwoLocal parameters to get as low cost as possible without compromising with the accuracy.\n",
    "\n",
    "My final solution uses 4 qubits having total of 16 parameters, chemical accuracy of 99.967% and final score was 3.  "
   ]
  }
 ],
 "metadata": {
  "colab": {
   "authorship_tag": "ABX9TyO+7uWG8rV/7ERGK0P2XgvH",
   "collapsed_sections": [],
   "name": "Suryansh_aryan_LiH_VQE.ipynb",
   "provenance": []
  },
  "kernelspec": {
   "display_name": "Python 3",
   "language": "python",
   "name": "python3"
  },
  "language_info": {
   "codemirror_mode": {
    "name": "ipython",
    "version": 3
   },
   "file_extension": ".py",
   "mimetype": "text/x-python",
   "name": "python",
   "nbconvert_exporter": "python",
   "pygments_lexer": "ipython3",
   "version": "3.7.6"
  }
 },
 "nbformat": 4,
 "nbformat_minor": 1
}
