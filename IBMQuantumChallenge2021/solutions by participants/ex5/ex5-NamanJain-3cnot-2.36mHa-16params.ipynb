{
 "cells": [
  {
   "cell_type": "markdown",
   "metadata": {},
   "source": [
    "# Exercise 5: Variational Quantum Eigensolver (VQE)"
   ]
  },
  {
   "cell_type": "markdown",
   "metadata": {},
   "source": [
    "### 1. Importing standard libraries"
   ]
  },
  {
   "cell_type": "code",
   "execution_count": 1,
   "metadata": {},
   "outputs": [],
   "source": [
    "import numpy as np\n",
    "# Importing standard Qiskit libraries\n",
    "from qiskit import QuantumCircuit, transpile, Aer, IBMQ\n",
    "from qiskit.tools.jupyter import *\n",
    "from qiskit.visualization import *\n",
    "from ibm_quantum_widgets import *"
   ]
  },
  {
   "cell_type": "markdown",
   "metadata": {},
   "source": [
    "### 2. Getting the molecule ready -> Li-H\n",
    "\n",
    "A `driver` is an interface to the classical chemistry codes available in Qiskit. \n",
    "By running a driver, we obtain necessary information about our molecule, to then apply `VQE` \n"
   ]
  },
  {
   "cell_type": "code",
   "execution_count": 2,
   "metadata": {},
   "outputs": [
    {
     "name": "stdout",
     "output_type": "stream",
     "text": [
      "[[-4.73853724  0.10753914  0.1675853   0.          0.         -0.03026284\n",
      "   0.          0.          0.          0.          0.          0.        ]\n",
      " [ 0.10753914 -1.51317577  0.03434669  0.          0.         -0.06802917\n",
      "   0.          0.          0.          0.          0.          0.        ]\n",
      " [ 0.1675853   0.03434669 -1.12916229  0.          0.          0.03143223\n",
      "   0.          0.          0.          0.          0.          0.        ]\n",
      " [ 0.          0.          0.         -1.14077094  0.          0.\n",
      "   0.          0.          0.          0.          0.          0.        ]\n",
      " [ 0.          0.          0.          0.         -1.14077094  0.\n",
      "   0.          0.          0.          0.          0.          0.        ]\n",
      " [-0.03026284 -0.06802917  0.03143223  0.          0.         -0.9418187\n",
      "   0.          0.          0.          0.          0.          0.        ]\n",
      " [ 0.          0.          0.          0.          0.          0.\n",
      "  -4.73853724  0.10753914  0.1675853   0.          0.         -0.03026284]\n",
      " [ 0.          0.          0.          0.          0.          0.\n",
      "   0.10753914 -1.51317577  0.03434669  0.          0.         -0.06802917]\n",
      " [ 0.          0.          0.          0.          0.          0.\n",
      "   0.1675853   0.03434669 -1.12916229  0.          0.          0.03143223]\n",
      " [ 0.          0.          0.          0.          0.          0.\n",
      "   0.          0.          0.         -1.14077094  0.          0.        ]\n",
      " [ 0.          0.          0.          0.          0.          0.\n",
      "   0.          0.          0.          0.         -1.14077094  0.        ]\n",
      " [ 0.          0.          0.          0.          0.          0.\n",
      "  -0.03026284 -0.06802917  0.03143223  0.          0.         -0.9418187 ]]\n"
     ]
    }
   ],
   "source": [
    "from qiskit_nature.drivers import PySCFDriver\n",
    "\n",
    "# The representation of Li-H molecule\n",
    "molecule = 'Li 0.0 0.0 0.0; H 0.0 0.0 1.5474'\n",
    "driver = PySCFDriver(atom=molecule)\n",
    "qmolecule = driver.run()\n",
    "\n",
    "# Gives an idea regarding which orbitals can be freezed and removed\n",
    "print(qmolecule.one_body_integrals)  "
   ]
  },
  {
   "cell_type": "code",
   "execution_count": 3,
   "metadata": {},
   "outputs": [
    {
     "name": "stdout",
     "output_type": "stream",
     "text": [
      "Number of molecular orbitals:  6\n",
      "Number of spin-orbitals:  12\n",
      "Nuclear repulsion energy:  1.0259348796432726\n"
     ]
    }
   ],
   "source": [
    "print(\"Number of molecular orbitals: \", qmolecule.num_molecular_orbitals)\n",
    "print(\"Number of spin-orbitals: \", 2*qmolecule.num_molecular_orbitals)\n",
    "print(\"Nuclear repulsion energy: \", qmolecule.nuclear_repulsion_energy)"
   ]
  },
  {
   "cell_type": "markdown",
   "metadata": {},
   "source": [
    "### 3. Ferminonic Operators\n",
    "\n",
    "The `ElectronicStructureProblem` produces a list of fermionic operators (Pauli strings) for the molecule.\n",
    "The `FreezeCoreTransformer` is a transformer in Qiskit-nature that is used to freeze inner core orbitals and remove unoccupied molecular orbitals.  "
   ]
  },
  {
   "cell_type": "code",
   "execution_count": 4,
   "metadata": {
    "scrolled": true
   },
   "outputs": [
    {
     "name": "stdout",
     "output_type": "stream",
     "text": [
      "[[-0.78066411  0.04770212 -0.12958119  0.          0.          0.        ]\n",
      " [ 0.04770212 -0.35909729  0.06823803  0.          0.          0.        ]\n",
      " [-0.12958119  0.06823803 -0.22617115  0.          0.          0.        ]\n",
      " [ 0.          0.          0.         -0.78066411  0.04770212 -0.12958119]\n",
      " [ 0.          0.          0.          0.04770212 -0.35909729  0.06823803]\n",
      " [ 0.          0.          0.         -0.12958119  0.06823803 -0.22617115]]\n"
     ]
    }
   ],
   "source": [
    "from qiskit_nature.problems.second_quantization.electronic import ElectronicStructureProblem\n",
    "from qiskit_nature.transformers import FreezeCoreTransformer\n",
    "\n",
    "# Freeze the inner core and remove orbitals 3,4 (one body integrals from the previous cell)\n",
    "# The ElectronicStructureProblem produces a list of fermionic operators before mapping to Qubits\n",
    "problem = ElectronicStructureProblem(driver, q_molecule_transformers=\n",
    "                                     [FreezeCoreTransformer(freeze_core=True, remove_orbitals=[4, 3])])\n",
    "\n",
    "# Generate the second quantized operators\n",
    "second_q_ops = problem.second_q_ops()\n",
    "# Get the Hamiltonian\n",
    "main_op = second_q_ops[0]\n",
    "\n",
    "# Modified one body integrals\n",
    "print(problem.molecule_data_transformed.one_body_integrals) "
   ]
  },
  {
   "cell_type": "markdown",
   "metadata": {},
   "source": [
    "### 4. Mapping to Qubits\n",
    "\n",
    "`ParityMapper` is used to map the fermionic operators to qubit operators.\n",
    "A `QubitConverter`object is used to reduce the qubits even further by exploiting the symmetries."
   ]
  },
  {
   "cell_type": "code",
   "execution_count": 5,
   "metadata": {},
   "outputs": [
    {
     "name": "stdout",
     "output_type": "stream",
     "text": [
      "-0.20316606150558716 * IIII\n",
      "- 0.3652586902160391 * ZIII\n",
      "+ 0.09275994933497503 * IZII\n",
      "- 0.2118898429700864 * ZZII\n",
      "+ (0.3652586902160392-2.7755575615628914e-17j) * IIZI\n",
      "- 0.11384335176464107 * ZIZI\n",
      "+ 0.11395251883046094 * IZZI\n",
      "+ (-0.060440128573164456-3.469446951953614e-18j) * ZZZI\n",
      "+ (-0.09275994933497497+6.938893903907228e-18j) * IIIZ\n",
      "+ 0.11395251883046094 * ZIIZ\n",
      "+ (-0.12274244052543586+6.938893903907228e-18j) * IZIZ\n",
      "+ 0.05628878167218207 * ZZIZ\n",
      "+ (-0.21188984297008645+2.0816681711721685e-17j) * IIZZ\n",
      "+ 0.060440128573164456 * ZIZZ\n",
      "- 0.05628878167218208 * IZZZ\n",
      "+ 0.0846013139182359 * ZZZZ\n",
      "+ 0.019389408583692383 * XIII\n",
      "+ (-0.019389408583692383-4.336808689942018e-19j) * XZII\n",
      "+ (-0.010952773573813853+8.673617379884035e-19j) * XIZI\n",
      "+ 0.010952773573813853 * XZZI\n",
      "+ 0.012779333033031574 * XIIZ\n",
      "- 0.012779333033031576 * XZIZ\n",
      "- 0.009002501243838515 * XIZZ\n",
      "+ 0.009002501243838515 * XZZZ\n",
      "+ 0.0029411410873504597 * IXII\n",
      "+ 0.0029411410873504597 * ZXII\n",
      "- 0.01068185628295703 * IXZI\n",
      "- 0.01068185628295703 * ZXZI\n",
      "+ 0.011925529284512949 * IXIZ\n",
      "+ (0.011925529284512949+8.673617379884035e-19j) * ZXIZ\n",
      "- 0.0016974649623971746 * IXZZ\n",
      "+ (-0.0016974649623971746+1.0842021724855044e-19j) * ZXZZ\n",
      "- 0.0007427996394772664 * XXII\n",
      "+ 0.0007427996394772658 * YYII\n",
      "+ 0.0343897481404705 * XXZI\n",
      "+ (-0.0343897481404705-3.469446951953614e-18j) * YYZI\n",
      "- 0.03239529731985257 * XXIZ\n",
      "+ 0.03239529731985257 * YYIZ\n",
      "+ 0.0027372506123214914 * XXZZ\n",
      "- 0.0027372506123214914 * YYZZ\n",
      "+ (0.019389408583692383+4.336808689942018e-19j) * IIXI\n",
      "+ 0.010952773573813853 * ZIXI\n",
      "- 0.012779333033031576 * IZXI\n",
      "- 0.009002501243838515 * ZZXI\n",
      "+ (0.019389408583692383-8.673617379884035e-19j) * IIXZ\n",
      "+ 0.010952773573813853 * ZIXZ\n",
      "- 0.012779333033031574 * IZXZ\n",
      "- 0.009002501243838515 * ZZXZ\n",
      "+ 0.0065875841900649695 * XIXI\n",
      "- 0.0065875841900649695 * XZXI\n",
      "+ (0.0065875841900649695-4.336808689942018e-19j) * XIXZ\n",
      "- 0.0065875841900649695 * XZXZ\n",
      "+ 0.0022216108081588378 * IXXI\n",
      "+ (0.0022216108081588378+2.168404344971009e-19j) * ZXXI\n",
      "+ (0.0022216108081588378+2.168404344971009e-19j) * IXXZ\n",
      "+ 0.0022216108081588378 * ZXXZ\n",
      "- 0.007859003265909143 * XXXI\n",
      "+ 0.007859003265909143 * YYXI\n",
      "- 0.007859003265909143 * XXXZ\n",
      "+ (0.007859003265909143-8.673617379884035e-19j) * YYXZ\n",
      "+ (0.0029411410873504684-2.168404344971009e-19j) * IIIX\n",
      "+ 0.01068185628295703 * ZIIX\n",
      "+ (-0.011925529284512949-8.673617379884035e-19j) * IZIX\n",
      "- 0.0016974649623971746 * ZZIX\n",
      "+ (-0.0029411410873504684+2.168404344971009e-19j) * IIZX\n",
      "- 0.01068185628295703 * ZIZX\n",
      "+ (0.011925529284512949+8.673617379884035e-19j) * IZZX\n",
      "+ 0.0016974649623971746 * ZZZX\n",
      "+ 0.0022216108081588378 * XIIX\n",
      "- 0.0022216108081588378 * XZIX\n",
      "- 0.0022216108081588378 * XIZX\n",
      "+ 0.0022216108081588378 * XZZX\n",
      "+ 0.003139482375511508 * IXIX\n",
      "+ 0.0031394823755115085 * ZXIX\n",
      "- 0.003139482375511508 * IXZX\n",
      "- 0.0031394823755115085 * ZXZX\n",
      "- 0.008499158469823676 * XXIX\n",
      "+ 0.008499158469823676 * YYIX\n",
      "+ 0.008499158469823676 * XXZX\n",
      "- 0.008499158469823676 * YYZX\n",
      "- 0.0007427996394772482 * IIXX\n",
      "- 0.0343897481404705 * ZIXX\n",
      "+ 0.03239529731985257 * IZXX\n",
      "+ (0.0027372506123214914-2.168404344971009e-19j) * ZZXX\n",
      "+ 0.0007427996394772486 * IIYY\n",
      "+ 0.0343897481404705 * ZIYY\n",
      "+ (-0.03239529731985257+3.469446951953614e-18j) * IZYY\n",
      "- 0.0027372506123214914 * ZZYY\n",
      "+ (-0.007859003265909143+8.673617379884035e-19j) * XIXX\n",
      "+ 0.007859003265909143 * XZXX\n",
      "+ 0.007859003265909143 * XIYY\n",
      "- 0.007859003265909143 * XZYY\n",
      "- 0.008499158469823676 * IXXX\n",
      "- 0.008499158469823676 * ZXXX\n",
      "+ 0.008499158469823676 * IXYY\n",
      "+ 0.008499158469823676 * ZXYY\n",
      "+ 0.030846096963265974 * XXXX\n",
      "+ (-0.030846096963265974-1.734723475976807e-18j) * YYXX\n",
      "- 0.030846096963265974 * XXYY\n",
      "+ 0.030846096963265974 * YYYY\n"
     ]
    }
   ],
   "source": [
    "from qiskit_nature.mappers.second_quantization import ParityMapper\n",
    "from qiskit_nature.converters.second_quantization.qubit_converter import QubitConverter\n",
    "\n",
    "mapper = ParityMapper()\n",
    "converter = QubitConverter(mapper=mapper, two_qubit_reduction=True, z2symmetry_reduction= [1])\n",
    "\n",
    "num_particles = (problem.molecule_data_transformed.num_alpha,\n",
    "             problem.molecule_data_transformed.num_beta)\n",
    "\n",
    "# Fermionic operators are mapped to qubit operators\n",
    "qubit_op = converter.convert(main_op, num_particles=num_particles)\n",
    "print(qubit_op)"
   ]
  },
  {
   "cell_type": "markdown",
   "metadata": {},
   "source": [
    "### 5. Initial State\n",
    "\n",
    "A CPU can compute efficiently the energies associated to electron hopping and interactions that represent the total energy operator, Hamiltonian, by means of `Hartree-Fock`. The `Hartree–Fock (HF)` method efficiently computes an approximate ground state wavefunction."
   ]
  },
  {
   "cell_type": "code",
   "execution_count": 6,
   "metadata": {},
   "outputs": [
    {
     "data": {
      "image/png": "[encoded data removed]",
      "text/plain": [
       "<Figure size 146.797x264.88 with 1 Axes>"
      ]
     },
     "execution_count": 6,
     "metadata": {},
     "output_type": "execute_result"
    }
   ],
   "source": [
    "from qiskit_nature.circuit.library import HartreeFock\n",
    "\n",
    "num_spin_orbitals = 2 * problem.molecule_data_transformed.num_molecular_orbitals\n",
    "num_particles = (problem.molecule_data_transformed.num_alpha,\n",
    "             problem.molecule_data_transformed.num_beta)\n",
    "init_state = HartreeFock(num_spin_orbitals, num_particles, converter)\n",
    "init_state.draw()"
   ]
  },
  {
   "cell_type": "markdown",
   "metadata": {},
   "source": [
    "### 6. Exact Eigensolver\n",
    "\n",
    "The problem can be exactly solved with the exact diagonalization of the Hamiltonian matrix. This helps us know where to converge with VQE, for learning purposes."
   ]
  },
  {
   "cell_type": "code",
   "execution_count": 7,
   "metadata": {},
   "outputs": [],
   "source": [
    "from qiskit_nature.algorithms.ground_state_solvers.minimum_eigensolver_factories import NumPyMinimumEigensolverFactory\n",
    "from qiskit_nature.algorithms.ground_state_solvers import GroundStateEigensolver\n",
    "\n",
    "def exact_diagonalizer(problem, converter):\n",
    "    solver = NumPyMinimumEigensolverFactory()\n",
    "    calc = GroundStateEigensolver(converter, solver)\n",
    "    result = calc.solve(problem)\n",
    "    return result"
   ]
  },
  {
   "cell_type": "code",
   "execution_count": 8,
   "metadata": {},
   "outputs": [
    {
     "name": "stdout",
     "output_type": "stream",
     "text": [
      "Exact electronic energy -1.0887060157347368\n"
     ]
    }
   ],
   "source": [
    "result_exact = exact_diagonalizer(problem, converter)\n",
    "exact_energy = np.real(result_exact.eigenenergies[0])\n",
    "print(\"Exact electronic energy\", exact_energy)\n",
    "\n",
    "# Exact electronic Energy is higher than actual energy due to\n",
    "# the freezing of inner core orbitals"
   ]
  },
  {
   "cell_type": "markdown",
   "metadata": {},
   "source": [
    "### 7. Ansatz\n",
    "\n",
    "A `Heuristic (TwoLocal)` ansatz circuit is used to approximate the ground state wavefunction. The different parameters for the circuit are obtained by experimentation."
   ]
  },
  {
   "cell_type": "code",
   "execution_count": 9,
   "metadata": {},
   "outputs": [
    {
     "data": {
      "image/png": "[encoded data removed]",
      "text/plain": [
       "<Figure size 568.197x264.88 with 1 Axes>"
      ]
     },
     "execution_count": 9,
     "metadata": {},
     "output_type": "execute_result"
    }
   ],
   "source": [
    "from qiskit.circuit.library import TwoLocal\n",
    "\n",
    "ansatz_type = \"TwoLocal\"\n",
    "rotation_blocks = ['ry','rz']\n",
    "entanglement_blocks = 'cx'\n",
    "entanglement = \"linear\"\n",
    "repetitions = 1\n",
    "skip_final_rotation_layer = False\n",
    "ansatz = TwoLocal(qubit_op.num_qubits, rotation_blocks, entanglement_blocks, reps=repetitions,\n",
    "                  entanglement=entanglement, skip_final_rotation_layer=skip_final_rotation_layer)\n",
    "\n",
    "# Add the initial state\n",
    "ansatz.compose(init_state, front=True, inplace=True)\n",
    "ansatz.draw()"
   ]
  },
  {
   "cell_type": "markdown",
   "metadata": {},
   "source": [
    "### 8. Backend\n",
    "\n",
    "A backend is a device or simulator to run the algorithm. Here the `statevector_simulator` is used."
   ]
  },
  {
   "cell_type": "code",
   "execution_count": 10,
   "metadata": {},
   "outputs": [],
   "source": [
    "backend = Aer.get_backend('statevector_simulator')"
   ]
  },
  {
   "cell_type": "markdown",
   "metadata": {},
   "source": [
    "### 9. Algorithm\n",
    "\n",
    "The optimizer `SLSQP` with a `maxiter = 1000` is used. \n",
    "An `initial_point` is provided to the VQE, to start from a similar point."
   ]
  },
  {
   "cell_type": "code",
   "execution_count": 11,
   "metadata": {},
   "outputs": [
    {
     "name": "stdout",
     "output_type": "stream",
     "text": [
      "{   'aux_operator_eigenvalues': None,\n",
      "    'cost_function_evals': 786,\n",
      "    'eigenstate': array([ 1.39131226e-03+1.62920545e-04j, -4.80344694e-03-1.47047592e-04j,\n",
      "        2.62447729e-02+8.47628269e-04j, -9.91330355e-01+1.36767252e-02j,\n",
      "       -5.37464440e-02-3.77350493e-03j, -3.69555386e-04-8.90731172e-05j,\n",
      "        8.79307549e-04-4.46593915e-06j, -2.32783453e-02+1.49208704e-03j,\n",
      "       -2.67397326e-03-7.05573705e-05j, -1.12127825e-05-8.31876644e-06j,\n",
      "        3.67494259e-06+2.34900094e-05j,  3.09653242e-04-9.10944922e-04j,\n",
      "        1.13571961e-01-2.69468702e-03j,  5.56021549e-04+1.40788574e-04j,\n",
      "       -5.49346724e-04+3.83200142e-05j, -3.05785674e-05-1.92967062e-05j]),\n",
      "    'eigenvalue': -1.0863472034410773,\n",
      "    'optimal_parameters': {   ParameterVectorElement(θ[1]): -0.005426351911253571,\n",
      "                              ParameterVectorElement(θ[13]): -0.04487184826402391,\n",
      "                              ParameterVectorElement(θ[0]): 0.2521552078200679,\n",
      "                              ParameterVectorElement(θ[6]): -0.07021334472777313,\n",
      "                              ParameterVectorElement(θ[15]): -0.09608485821414185,\n",
      "                              ParameterVectorElement(θ[7]): 0.00409929461324721,\n",
      "                              ParameterVectorElement(θ[2]): -3.1415163529805747,\n",
      "                              ParameterVectorElement(θ[14]): -0.050147118142714456,\n",
      "                              ParameterVectorElement(θ[9]): 3.131886066481301,\n",
      "                              ParameterVectorElement(θ[12]): -0.04587630369526314,\n",
      "                              ParameterVectorElement(θ[3]): -2.6983061141470053,\n",
      "                              ParameterVectorElement(θ[10]): 3.1886748366284587,\n",
      "                              ParameterVectorElement(θ[11]): 0.44246261454081964,\n",
      "                              ParameterVectorElement(θ[8]): 0.05228352830967145,\n",
      "                              ParameterVectorElement(θ[5]): 0.028616565957680282,\n",
      "                              ParameterVectorElement(θ[4]): -0.04518155158598968},\n",
      "    'optimal_point': array([ 0.25215521,  3.18867484,  0.44246261, -0.0458763 , -0.04487185,\n",
      "       -0.05014712, -0.09608486, -0.00542635, -3.14151635, -2.69830611,\n",
      "       -0.04518155,  0.02861657, -0.07021334,  0.00409929,  0.05228353,\n",
      "        3.13188607]),\n",
      "    'optimal_value': -1.0863472034410773,\n",
      "    'optimizer_evals': 786,\n",
      "    'optimizer_time': 9.572652339935303}\n"
     ]
    }
   ],
   "source": [
    "from qiskit.algorithms.optimizers import SLSQP\n",
    "from qiskit.algorithms import VQE\n",
    "\n",
    "from IPython.display import display, clear_output\n",
    "\n",
    "def callback(eval_count, parameters, mean, std):  \n",
    "    # Overwrites the same line when printing\n",
    "    display(\"Evaluation: {}, Energy: {}, Std: {}\".format(eval_count, mean, std))\n",
    "    clear_output(wait=True)\n",
    "    counts.append(eval_count)\n",
    "    values.append(mean)\n",
    "    params.append(parameters)\n",
    "    deviation.append(std)\n",
    "\n",
    "counts = []\n",
    "values = []\n",
    "params = []\n",
    "deviation = []\n",
    "\n",
    "try:\n",
    "    initial_point = [0.01] * len(ansatz.ordered_parameters)\n",
    "except:\n",
    "    initial_point = [0.01] * ansatz.num_parameters\n",
    "    \n",
    "optimizer = SLSQP(maxiter= 1000)\n",
    "\n",
    "algorithm = VQE(ansatz,\n",
    "                optimizer=optimizer,\n",
    "                quantum_instance=backend,\n",
    "                callback=callback,\n",
    "                initial_point=initial_point)\n",
    "\n",
    "result = algorithm.compute_minimum_eigenvalue(qubit_op)\n",
    "\n",
    "print(result)"
   ]
  },
  {
   "cell_type": "markdown",
   "metadata": {},
   "source": [
    "### 10. Analysis\n",
    "\n",
    "A `chemical accuracy = 4 mHa` is to be reached, with as minimum `CNOTs` as possible."
   ]
  },
  {
   "cell_type": "code",
   "execution_count": 12,
   "metadata": {},
   "outputs": [
    {
     "data": {
      "text/html": [
       "<div>\n",
       "<style scoped>\n",
       "    .dataframe tbody tr th:only-of-type {\n",
       "        vertical-align: middle;\n",
       "    }\n",
       "\n",
       "    .dataframe tbody tr th {\n",
       "        vertical-align: top;\n",
       "    }\n",
       "\n",
       "    .dataframe thead th {\n",
       "        text-align: right;\n",
       "    }\n",
       "</style>\n",
       "<table border=\"1\" class=\"dataframe\">\n",
       "  <thead>\n",
       "    <tr style=\"text-align: right;\">\n",
       "      <th></th>\n",
       "      <th>optimizer</th>\n",
       "      <th>ansatz</th>\n",
       "      <th># of qubits</th>\n",
       "      <th># of parameters</th>\n",
       "      <th>rotation blocks</th>\n",
       "      <th>entanglement_blocks</th>\n",
       "      <th>entanglement</th>\n",
       "      <th>repetitions</th>\n",
       "      <th>error (mHa)</th>\n",
       "      <th>pass</th>\n",
       "      <th>score</th>\n",
       "    </tr>\n",
       "  </thead>\n",
       "  <tbody>\n",
       "    <tr>\n",
       "      <th>0</th>\n",
       "      <td>SLSQP</td>\n",
       "      <td>TwoLocal</td>\n",
       "      <td>4</td>\n",
       "      <td>16</td>\n",
       "      <td>[ry, rz]</td>\n",
       "      <td>cx</td>\n",
       "      <td>linear</td>\n",
       "      <td>1</td>\n",
       "      <td>2.358812</td>\n",
       "      <td>True</td>\n",
       "      <td>3</td>\n",
       "    </tr>\n",
       "  </tbody>\n",
       "</table>\n",
       "</div>"
      ],
      "text/plain": [
       "  optimizer    ansatz  # of qubits  # of parameters rotation blocks  \\\n",
       "0     SLSQP  TwoLocal            4               16        [ry, rz]   \n",
       "\n",
       "  entanglement_blocks entanglement  repetitions  error (mHa)  pass  score  \n",
       "0                  cx       linear            1     2.358812  True      3  "
      ]
     },
     "execution_count": 12,
     "metadata": {},
     "output_type": "execute_result"
    },
    {
     "data": {
      "image/png": "[encoded data removed]",
      "text/plain": [
       "<Figure size 432x288 with 1 Axes>"
      ]
     },
     "metadata": {
      "needs_background": "light"
     },
     "output_type": "display_data"
    }
   ],
   "source": [
    "# Store results in a dictionary\n",
    "from qiskit.transpiler import PassManager\n",
    "from qiskit.transpiler.passes import Unroller\n",
    "\n",
    "# Unroller transpile your circuit into CNOTs and U gates\n",
    "pass_ = Unroller(['u', 'cx'])\n",
    "pm = PassManager(pass_)\n",
    "ansatz_tp = pm.run(ansatz)\n",
    "cnots = ansatz_tp.count_ops()['cx']\n",
    "score = cnots\n",
    "\n",
    "accuracy_threshold = 4.0 # in mHa\n",
    "energy = result.optimal_value\n",
    "\n",
    "if ansatz_type == \"TwoLocal\":\n",
    "    result_dict = {\n",
    "        'optimizer': optimizer.__class__.__name__,\n",
    "        'mapping': converter.mapper.__class__.__name__,\n",
    "        'ansatz': ansatz.__class__.__name__,\n",
    "        'rotation blocks': rotation_blocks,\n",
    "        'entanglement_blocks': entanglement_blocks,\n",
    "        'entanglement': entanglement,\n",
    "        'repetitions': repetitions,\n",
    "        'skip_final_rotation_layer': skip_final_rotation_layer,\n",
    "        'energy (Ha)': energy,\n",
    "        'error (mHa)': (energy-exact_energy)*1000,\n",
    "        'pass': (energy-exact_energy)*1000 <= accuracy_threshold,\n",
    "        '# of parameters': len(result.optimal_point),\n",
    "        'final parameters': result.optimal_point,\n",
    "        '# of evaluations': result.optimizer_evals,\n",
    "        'optimizer time': result.optimizer_time,\n",
    "        '# of qubits': int(qubit_op.num_qubits),\n",
    "        '# of CNOTs': cnots,\n",
    "        'score': score}\n",
    "else:\n",
    "    result_dict = {\n",
    "        'optimizer': optimizer.__class__.__name__,\n",
    "        'mapping': converter.mapper.__class__.__name__,\n",
    "        'ansatz': ansatz.__class__.__name__,\n",
    "        'rotation blocks': None,\n",
    "        'entanglement_blocks': None,\n",
    "        'entanglement': None,\n",
    "        'repetitions': None,\n",
    "        'skip_final_rotation_layer': None,\n",
    "        'energy (Ha)': energy,\n",
    "        'error (mHa)': (energy-exact_energy)*1000,\n",
    "        'pass': (energy-exact_energy)*1000 <= accuracy_threshold,\n",
    "        '# of parameters': len(result.optimal_point),\n",
    "        'final parameters': result.optimal_point,\n",
    "        '# of evaluations': result.optimizer_evals,\n",
    "        'optimizer time': result.optimizer_time,\n",
    "        '# of qubits': int(qubit_op.num_qubits),\n",
    "        '# of CNOTs': cnots,\n",
    "        'score': score}\n",
    "\n",
    "# Plot the results\n",
    "import matplotlib.pyplot as plt\n",
    "\n",
    "fig, ax = plt.subplots(1, 1)\n",
    "ax.set_xlabel('Iterations')\n",
    "ax.set_ylabel('Energy')\n",
    "ax.grid()\n",
    "fig.text(0.7, 0.75, f'Energy: {result.optimal_value:.3f}\\nScore: {score:.0f}')\n",
    "plt.title(f\"{result_dict['optimizer']}-{result_dict['mapping']}\\n{result_dict['ansatz']}\")\n",
    "ax.plot(counts, values)\n",
    "ax.axhline(exact_energy, linestyle='--')\n",
    "fig_title = f\"\\\n",
    "{result_dict['optimizer']}-\\\n",
    "{result_dict['mapping']}-\\\n",
    "{result_dict['ansatz']}-\\\n",
    "Energy({result_dict['energy (Ha)']:.3f})-\\\n",
    "Score({result_dict['score']:.0f})\\\n",
    ".png\"\n",
    "fig.savefig(fig_title, dpi=300)\n",
    "\n",
    "# Display and save the data\n",
    "import pandas as pd\n",
    "import os.path\n",
    "filename = 'results_h2.csv'\n",
    "if os.path.isfile(filename):\n",
    "    result_df = pd.read_csv(filename)\n",
    "    result_df = result_df.append([result_dict])\n",
    "else:\n",
    "    result_df = pd.DataFrame.from_dict([result_dict])\n",
    "result_df.to_csv(filename)\n",
    "result_df[['optimizer','ansatz', '# of qubits', '# of parameters','rotation blocks', 'entanglement_blocks',\n",
    "    'entanglement', 'repetitions', 'error (mHa)', 'pass', 'score']]"
   ]
  },
  {
   "cell_type": "markdown",
   "metadata": {},
   "source": [
    "### 11. Results\n",
    "\n",
    "The following results are obtained:\n",
    "1. `Ansatz = TwoLocal`\n",
    "2. `Optimizer = SLSQP`\n",
    "3. `Number of qubits = 4`\n",
    "4. `Number of parameters = 16`\n",
    "5. `Error = 2.36 mHa`"
   ]
  }
 ],
 "metadata": {
  "kernelspec": {
   "display_name": "Python 3",
   "language": "python",
   "name": "python3"
  },
  "language_info": {
   "codemirror_mode": {
    "name": "ipython",
    "version": 3
   },
   "file_extension": ".py",
   "mimetype": "text/x-python",
   "name": "python",
   "nbconvert_exporter": "python",
   "pygments_lexer": "ipython3",
   "version": "3.7.6"
  }
 },
 "nbformat": 4,
 "nbformat_minor": 5
}
