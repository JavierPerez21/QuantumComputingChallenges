{
 "cells": [
  {
   "cell_type": "code",
   "execution_count": null,
   "metadata": {},
   "outputs": [],
   "source": []
  },
  {
   "cell_type": "markdown",
   "metadata": {},
   "source": [
    "# VARIATIONAL QUANTUM EIGENSOLVER FOR \"LiH\" MOLECULE \n",
    "    by Krishanu Podder (IBM QUANTUM CHALLENGE 2021)"
   ]
  },
  {
   "cell_type": "markdown",
   "metadata": {},
   "source": [
    "    Variational Quantum Eigensolver (VQE), an algorithm meant for finding the ground state energy(lowest energy)of a molecule, with much shallower circuits than other approaches. VQE's magic comes from outsourcing some of the problem's processing    workload to a classical computer. The algorithm starts with a parameterized quantum circuit called an ansatz (a best guess) then finds the optimal parameters for this circuit using a classical optimizer. \n",
    "    The VQE's advantage over classical algorithms comes from the fact that a quantum processing unit can represent and store   the problem's exact wavefunction, an exponentially hard problem for a classical computer. \n",
    "    This Project helps to realize Feynman's dream, setting up a variational quantum eigensolver to determine the ground state and the energy of a molecule. This is interesting because the ground state can be used to calculate various molecular properties, for instance the exact forces on nuclei that can serve to run molecular dynamics simulations to explore what happens in chemical systems with time."
   ]
  },
  {
   "cell_type": "markdown",
   "metadata": {},
   "source": [
    "1. DRIVER\n",
    "\n",
    "    The interfaces to the classical chemistry codes that are available in Qiskit are called drivers. We have for example PSI4Driver, PyQuanteDriver, PySCFDriver are available. By running a driver (Hartree-Fock calculation for a given basis set and molecular geometry), in the cell below, we obtain all the necessary information about our molecule to apply then a quantum algorithm."
   ]
  },
  {
   "cell_type": "code",
   "execution_count": 13,
   "metadata": {},
   "outputs": [],
   "source": [
    "from qiskit_nature.drivers import PySCFDriver\n",
    "from qiskit_nature.transformers import FreezeCoreTransformer\n",
    "from qiskit.aqua.operators import Z2Symmetries\n",
    "molecule = 'Li 0.0 0.0 0.0; H 0.0 0.0 1.5474'\n",
    "driver = PySCFDriver(atom=molecule)\n",
    "qmolecule = driver.run()"
   ]
  },
  {
   "cell_type": "markdown",
   "metadata": {},
   "source": [
    "2. ELECTRONIC STRUCTURE PROBLEM\n",
    "\n",
    "    An ElectronicStructureProblem is created that can produce the list of fermionic operators before mapping them to qubits (Pauli strings). Here, freeze core is used and we have removed orbitals."
   ]
  },
  {
   "cell_type": "code",
   "execution_count": 14,
   "metadata": {},
   "outputs": [],
   "source": [
    "from qiskit_nature.problems.second_quantization.electronic import ElectronicStructureProblem\n",
    "transformer = FreezeCoreTransformer()\n",
    "qmolecule = transformer.transform(qmolecule)\n",
    "problem = ElectronicStructureProblem(driver ,q_molecule_transformers=[FreezeCoreTransformer(freeze_core=True,\n",
    "                                                                                            remove_orbitals=[3,4])])\n",
    "\n",
    "\n",
    "\n",
    "# Generating the second-quantized operators\n",
    "second_q_ops = problem.second_q_ops()\n",
    "# Hamiltonian\n",
    "main_op = second_q_ops[0]"
   ]
  },
  {
   "cell_type": "markdown",
   "metadata": {},
   "source": [
    "3. QUBIT_CONVERTER\n",
    "\n",
    "    It allows to define the mapping that we will use in the simulation. We can try different mapping but we will stick to ParityMapper. Besides we will use z2symmetry."
   ]
  },
  {
   "cell_type": "code",
   "execution_count": 15,
   "metadata": {},
   "outputs": [],
   "source": [
    "from qiskit_nature.mappers.second_quantization import ParityMapper, BravyiKitaevMapper, JordanWignerMapper\n",
    "from qiskit_nature.converters.second_quantization.qubit_converter import QubitConverter\n",
    "\n",
    "# Setup the mapper and qubit converter\n",
    "mapper = ParityMapper()\n",
    "converter = QubitConverter(mapper=mapper, two_qubit_reduction=True , z2symmetry_reduction=[1,1])\n",
    "\n",
    "# The fermionic operators are mapped to qubit operators\n",
    "num_particles = (problem.molecule_data_transformed.num_alpha,problem.molecule_data_transformed.num_beta)\n",
    "num_particle = qmolecule.num_alpha + qmolecule.num_beta\n",
    "\n",
    "qubit_op = converter.convert(main_op, num_particles=num_particles)"
   ]
  },
  {
   "cell_type": "markdown",
   "metadata": {},
   "source": [
    "4. INITIAL STATE\n",
    "\n",
    "    Here we will initialize the Initial State"
   ]
  },
  {
   "cell_type": "code",
   "execution_count": 16,
   "metadata": {},
   "outputs": [
    {
     "name": "stdout",
     "output_type": "stream",
     "text": [
      "     ┌───┐\n",
      "q_0: ┤ X ├\n",
      "     ├───┤\n",
      "q_1: ┤ X ├\n",
      "     └───┘\n",
      "q_2: ─────\n",
      "          \n",
      "q_3: ─────\n",
      "          \n"
     ]
    }
   ],
   "source": [
    "from qiskit_nature.circuit.library import HartreeFock\n",
    "num_particles = (problem.molecule_data_transformed.num_alpha,problem.molecule_data_transformed.num_beta)\n",
    "num_spin_orbitals = 2 * problem.molecule_data_transformed.num_molecular_orbitals\n",
    "init_state = HartreeFock(num_spin_orbitals, num_particles, converter)\n",
    "print(init_state)"
   ]
  },
  {
   "cell_type": "markdown",
   "metadata": {},
   "source": [
    "5. ANSATZ\n",
    "\n",
    "    One of the most important choices is the quantum circuit that we choose to approximate our ground state. We will choose TwoLocal ansatz and play with its various parameters. The 5 most important parameters of TwoLocal to play around are:\n",
    "    a. rotational_blocks, \n",
    "    b. entanglement_blocks, \n",
    "    c. entanglement, \n",
    "    d. repetitions, \n",
    "    e. skip_final_rotation_layer"
   ]
  },
  {
   "cell_type": "code",
   "execution_count": 17,
   "metadata": {},
   "outputs": [
    {
     "name": "stdout",
     "output_type": "stream",
     "text": [
      "        ┌───┐    ┌──────────┐┌──────────┐     ┌──────────┐┌───────────┐»\n",
      "q_0: ───┤ X ├────┤ RY(θ[0]) ├┤ RZ(θ[4]) ├──■──┤ RY(θ[8]) ├┤ RZ(θ[12]) ├»\n",
      "        ├───┤    ├──────────┤├──────────┤┌─┴─┐└──────────┘└┬──────────┤»\n",
      "q_1: ───┤ X ├────┤ RY(θ[1]) ├┤ RZ(θ[5]) ├┤ X ├─────■───────┤ RY(θ[9]) ├»\n",
      "     ┌──┴───┴───┐├──────────┤└──────────┘└───┘   ┌─┴─┐     └──────────┘»\n",
      "q_2: ┤ RY(θ[2]) ├┤ RZ(θ[6]) ├────────────────────┤ X ├──────────■──────»\n",
      "     ├──────────┤├──────────┤                    └───┘        ┌─┴─┐    »\n",
      "q_3: ┤ RY(θ[3]) ├┤ RZ(θ[7]) ├─────────────────────────────────┤ X ├────»\n",
      "     └──────────┘└──────────┘                                 └───┘    »\n",
      "«                               \n",
      "«q_0: ──────────────────────────\n",
      "«     ┌───────────┐             \n",
      "«q_1: ┤ RZ(θ[13]) ├─────────────\n",
      "«     ├───────────┤┌───────────┐\n",
      "«q_2: ┤ RY(θ[10]) ├┤ RZ(θ[14]) ├\n",
      "«     ├───────────┤├───────────┤\n",
      "«q_3: ┤ RY(θ[11]) ├┤ RZ(θ[15]) ├\n",
      "«     └───────────┘└───────────┘\n"
     ]
    },
    {
     "data": {
      "image/png": "[encoded data removed]",
      "text/plain": [
       "<Figure size 568.197x264.88 with 1 Axes>"
      ]
     },
     "execution_count": 17,
     "metadata": {},
     "output_type": "execute_result"
    }
   ],
   "source": [
    "from qiskit.circuit.library import TwoLocal\n",
    "from qiskit_nature.circuit.library import UCCSD, PUCCD, SUCCD\n",
    "\n",
    "# Choosing the ansatz\n",
    "ansatz_type = \"TwoLocal\"\n",
    "\n",
    "# Parameters for q-UCC ansatz\n",
    "num_particles = (problem.molecule_data_transformed.num_alpha,problem.molecule_data_transformed.num_beta)\n",
    "num_spin_orbitals = 2 * problem.molecule_data_transformed.num_molecular_orbitals\n",
    "\n",
    "# Putting arguments for twolocal\n",
    "if ansatz_type == \"TwoLocal\":\n",
    "    # Single qubit rotations that are placed on all qubits with independent parameters\n",
    "    rotation_blocks = ['ry', 'rz']\n",
    "    # Entangling gates\n",
    "    entanglement_blocks = 'cx'\n",
    "    # How the qubits are entangled?\n",
    "    entanglement = 'linear'\n",
    "    # Repetitions of rotation_blocks + entanglement_blocks with independent parameters\n",
    "    repetitions = 1\n",
    "    # Skipoing the final rotation_blocks layer\n",
    "    skip_final_rotation_layer = False\n",
    "    ansatz = TwoLocal(qubit_op.num_qubits, rotation_blocks, entanglement_blocks,\n",
    "        reps=repetitions, entanglement=entanglement, skip_final_rotation_layer=skip_final_rotation_layer)\n",
    "    # Add the initial state\n",
    "    ansatz.compose(init_state, front=True, inplace=True)\n",
    "    \n",
    "elif ansatz_type == \"UCCSD\":    ansatz = UCCSD(converter,num_particles,num_spin_orbitals,initial_state = init_state)\n",
    "elif ansatz_type == \"PUCCD\":    ansatz = PUCCD(converter,num_particles,num_spin_orbitals,initial_state = init_state)\n",
    "elif ansatz_type == \"SUCCD\":    ansatz = SUCCD(converter,num_particles,num_spin_orbitals,initial_state = init_state)\n",
    "elif ansatz_type == \"Custom\":\n",
    "    # Example of how to write own circuit\n",
    "    from qiskit.circuit import Parameter, QuantumCircuit, QuantumRegister\n",
    "    # Define the variational parameter\n",
    "    theta = Parameter('a')\n",
    "    n = qubit_op.num_qubits\n",
    "    # Make an empty quantum circuit\n",
    "    qc = QuantumCircuit(qubit_op.num_qubits)\n",
    "    qubit_label = 0\n",
    "    # Place a Hadamard gate\n",
    "    qc.h(qubit_label)\n",
    "    # Place a CNOT ladder\n",
    "    for i in range(n-1):\n",
    "        qc.cx(i, i+1)\n",
    "    # Visual separator\n",
    "    #qc.barrier()\n",
    "    # rz rotations on all qubits\n",
    "    qc.rz(theta, range(n))\n",
    "    ansatz = qc\n",
    "    ansatz.compose(init_state, front=True, inplace=True)\n",
    "print(ansatz)\n",
    "ansatz.draw(output=\"mpl\")"
   ]
  },
  {
   "cell_type": "markdown",
   "metadata": {},
   "source": [
    "6. BACKEND\n",
    "\n",
    "    This is where we specify the simulator or device where we want to run our algorithm. We will focus on the statevector_simulator in this Project"
   ]
  },
  {
   "cell_type": "code",
   "execution_count": 18,
   "metadata": {},
   "outputs": [],
   "source": [
    "from qiskit import Aer\n",
    "backend = Aer.get_backend('statevector_simulator')"
   ]
  },
  {
   "cell_type": "markdown",
   "metadata": {},
   "source": [
    "7. OPTIMIZER\n",
    "\n",
    "    The optimizer guides the evolution of the parameters of the ansatz so it is very important to investigate the energy convergence as it would define the number of measurements that have to be performed on the QPU. A clever choice might reduce drastically the number of needed energy evaluations.\n",
    "    Here, we will use COBYLA with 10000 iterations."
   ]
  },
  {
   "cell_type": "code",
   "execution_count": 19,
   "metadata": {},
   "outputs": [],
   "source": [
    "from qiskit.algorithms.optimizers import COBYLA, L_BFGS_B, SPSA, SLSQP\n",
    "\n",
    "optimizer_type = 'COBYLA'\n",
    "\n",
    "if optimizer_type == 'COBYLA': optimizer = COBYLA(maxiter=10000)\n",
    "elif optimizer_type == 'L_BFGS_B': optimizer = L_BFGS_B(maxfun=50000)\n",
    "elif optimizer_type == 'SPSA': optimizer = SPSA(maxiter=500)\n",
    "elif optimizer_type == 'SLSQP': optimizer = SLSQP(maxiter=500)"
   ]
  },
  {
   "cell_type": "markdown",
   "metadata": {},
   "source": [
    "8. EXACT EIGENSOLVER\n",
    "\n",
    "    For learning purposes, we can solve the problem exactly with the exact diagonalization of the Hamiltonian matrix so we know where to aim with VQE. Of course, the dimensions of this matrix scale exponentially in the number of molecular orbitals so we can try doing this for a large molecule of our choice and see how slow this becomes. For very large systems we would run out of memory trying to store their wavefunctions."
   ]
  },
  {
   "cell_type": "code",
   "execution_count": 20,
   "metadata": {},
   "outputs": [
    {
     "name": "stdout",
     "output_type": "stream",
     "text": [
      "Exact electronic energy: -1.088706015734742\n",
      "Result exact: === GROUND STATE ENERGY ===\n",
      " \n",
      "* Electronic ground state energy (Hartree): -8.907396311316\n",
      "  - computed part:      -1.088706015735\n",
      "  - FreezeCoreTransformer extracted energy part: -7.818690295581\n",
      "~ Nuclear repulsion energy (Hartree): 1.025934879643\n",
      "> Total ground state energy (Hartree): -7.881461431673\n",
      " \n",
      "=== MEASURED OBSERVABLES ===\n",
      " \n",
      "  0:  # Particles: 2.000 S: 0.000 S^2: 0.000 M: 0.000\n",
      " \n",
      "=== DIPOLE MOMENTS ===\n",
      " \n",
      "~ Nuclear dipole moment (a.u.): [0.0  0.0  2.92416221]\n",
      " \n",
      "  0: \n",
      "  * Electronic dipole moment (a.u.): [0.0  0.0  4.76300889]\n",
      "    - computed part:      [0.0  0.0  4.76695575]\n",
      "    - FreezeCoreTransformer extracted energy part: [0.0  0.0  -0.00394686]\n",
      "  > Dipole moment (a.u.): [0.0  0.0  -1.83884668]  Total: 1.83884668\n",
      "                 (debye): [0.0  0.0  -4.67388163]  Total: 4.67388163\n",
      " \n"
     ]
    }
   ],
   "source": [
    "from qiskit_nature.algorithms.ground_state_solvers.minimum_eigensolver_factories import NumPyMinimumEigensolverFactory\n",
    "from qiskit_nature.algorithms.ground_state_solvers import GroundStateEigensolver\n",
    "import numpy as np\n",
    "\n",
    "def exact_diagonalizer(problem, converter):\n",
    "    solver = NumPyMinimumEigensolverFactory()\n",
    "    calc = GroundStateEigensolver(converter, solver)\n",
    "    result = calc.solve(problem)\n",
    "    return result\n",
    "\n",
    "result_exact = exact_diagonalizer(problem, converter)\n",
    "exact_energy = np.real(result_exact.eigenenergies[0])\n",
    "print(\"Exact electronic energy:\", exact_energy)\n",
    "print(\"Result exact:\",result_exact)\n",
    "# The targeted electronic energy for LiH is -1.85336 Ha"
   ]
  },
  {
   "cell_type": "markdown",
   "metadata": {},
   "source": [
    "9. VQE AND INITIAL PARAMETERS FOR THE ANSATZ\n",
    "\n",
    "    Now we will import the VQE class and run the algorithm."
   ]
  },
  {
   "cell_type": "code",
   "execution_count": 21,
   "metadata": {},
   "outputs": [
    {
     "name": "stdout",
     "output_type": "stream",
     "text": [
      "{   'aux_operator_eigenvalues': None,\n",
      "    'cost_function_evals': 10000,\n",
      "    'eigenstate': array([-1.83580778e-05+1.55820068e-03j, -2.43930437e-03-3.20874757e-03j,\n",
      "        8.86392197e-03+6.17021070e-03j,  1.23585080e-01-9.84146319e-01j,\n",
      "        6.91385721e-03-5.26747082e-02j,  3.41678460e-04-4.48323598e-04j,\n",
      "        1.46803989e-06+2.71852025e-04j,  3.90005952e-03-1.97857408e-02j,\n",
      "        1.45902635e-04-2.45444356e-03j,  1.76025678e-05-1.77406469e-05j,\n",
      "       -1.08365599e-05+4.91281791e-06j, -1.57846535e-06+3.59166212e-04j,\n",
      "       -1.37273274e-02+1.12307491e-01j, -8.23458933e-04+8.06388692e-04j,\n",
      "        3.85840466e-04-2.71738240e-04j,  2.08391728e-04-2.95782881e-03j]),\n",
      "    'eigenvalue': -1.0862643058659451,\n",
      "    'optimal_parameters': {   ParameterVectorElement(θ[9]): -0.008134328867821925,\n",
      "                              ParameterVectorElement(θ[8]): 3.163353523181121,\n",
      "                              ParameterVectorElement(θ[7]): 0.00015665505355855092,\n",
      "                              ParameterVectorElement(θ[10]): 3.185046809410343,\n",
      "                              ParameterVectorElement(θ[11]): 0.4387606791392624,\n",
      "                              ParameterVectorElement(θ[12]): 1.0806223508136752,\n",
      "                              ParameterVectorElement(θ[13]): 0.7710565517193113,\n",
      "                              ParameterVectorElement(θ[14]): 0.06223612048288312,\n",
      "                              ParameterVectorElement(θ[15]): -0.008933760428210554,\n",
      "                              ParameterVectorElement(θ[6]): -0.10948828781525222,\n",
      "                              ParameterVectorElement(θ[2]): -0.0066189579253896555,\n",
      "                              ParameterVectorElement(θ[1]): -0.0011118928648819115,\n",
      "                              ParameterVectorElement(θ[5]): 0.1368615327636765,\n",
      "                              ParameterVectorElement(θ[4]): -1.3465735620167112,\n",
      "                              ParameterVectorElement(θ[0]): 3.392320156386575,\n",
      "                              ParameterVectorElement(θ[3]): -2.7022416812663},\n",
      "    'optimal_point': array([ 3.39232016e+00,  3.18504681e+00,  4.38760679e-01,  1.08062235e+00,\n",
      "        7.71056552e-01,  6.22361205e-02, -8.93376043e-03, -1.11189286e-03,\n",
      "       -6.61895793e-03, -2.70224168e+00, -1.34657356e+00,  1.36861533e-01,\n",
      "       -1.09488288e-01,  1.56655054e-04,  3.16335352e+00, -8.13432887e-03]),\n",
      "    'optimal_value': -1.0862643058659451,\n",
      "    'optimizer_evals': 10000,\n",
      "    'optimizer_time': 64.22335433959961}\n"
     ]
    }
   ],
   "source": [
    "from qiskit.algorithms import VQE\n",
    "from IPython.display import display, clear_output\n",
    "\n",
    "def callback(eval_count, parameters, mean, std):\n",
    "    # Overwrites the same line when printing\n",
    "    display(\"Evaluation: {}, Energy: {}, Std: {}\".format(eval_count, mean, std))\n",
    "    clear_output(wait=True)\n",
    "    counts.append(eval_count)\n",
    "    values.append(mean)\n",
    "    params.append(parameters)\n",
    "    deviation.append(std)\n",
    "counts = []\n",
    "values = []\n",
    "params = []\n",
    "deviation = []\n",
    "# Set initial parameters of the ansatz\n",
    "# We choose a fixed small displacement\n",
    "\n",
    "try:\n",
    "    initial_point = [0.01] * len(ansatz.ordered_parameters)\n",
    "except:\n",
    "    initial_point = [0.01] * ansatz.num_parameters\n",
    "algorithm = VQE(ansatz,\n",
    "                optimizer=optimizer,\n",
    "                quantum_instance=backend,\n",
    "                callback=callback,\n",
    "                initial_point=initial_point)\n",
    "result = algorithm.compute_minimum_eigenvalue(qubit_op)\n",
    "print(result)"
   ]
  },
  {
   "cell_type": "markdown",
   "metadata": {},
   "source": [
    "9. SCORING FUNCTION\n",
    "\n",
    "    This is a simple scoring function to judge how good are our VQE simulations, our choice of ansatz/optimizer:\n",
    "        score=NCNOT \n",
    "\n",
    "    where  NCNOT  is the number of CNOTs. We have to reach the chemical accuracy which is  δEchem=0.004Ha  = 4mHa, which may be hard to reach depending on the problem. We have to reach the accuracy in a minimal number of CNOTs. The lower the score the better."
   ]
  },
  {
   "cell_type": "code",
   "execution_count": 22,
   "metadata": {},
   "outputs": [
    {
     "data": {
      "text/html": [
       "<div>\n",
       "<style scoped>\n",
       "    .dataframe tbody tr th:only-of-type {\n",
       "        vertical-align: middle;\n",
       "    }\n",
       "\n",
       "    .dataframe tbody tr th {\n",
       "        vertical-align: top;\n",
       "    }\n",
       "\n",
       "    .dataframe thead th {\n",
       "        text-align: right;\n",
       "    }\n",
       "</style>\n",
       "<table border=\"1\" class=\"dataframe\">\n",
       "  <thead>\n",
       "    <tr style=\"text-align: right;\">\n",
       "      <th></th>\n",
       "      <th>optimizer</th>\n",
       "      <th>ansatz</th>\n",
       "      <th># of qubits</th>\n",
       "      <th>error (mHa)</th>\n",
       "      <th>pass</th>\n",
       "      <th>score</th>\n",
       "      <th># of parameters</th>\n",
       "      <th>rotation blocks</th>\n",
       "      <th>entanglement_blocks</th>\n",
       "      <th>entanglement</th>\n",
       "      <th>repetitions</th>\n",
       "    </tr>\n",
       "  </thead>\n",
       "  <tbody>\n",
       "    <tr>\n",
       "      <th>0</th>\n",
       "      <td>COBYLA</td>\n",
       "      <td>TwoLocal</td>\n",
       "      <td>4</td>\n",
       "      <td>2.44171</td>\n",
       "      <td>True</td>\n",
       "      <td>3</td>\n",
       "      <td>16</td>\n",
       "      <td>[ry, rz]</td>\n",
       "      <td>cx</td>\n",
       "      <td>linear</td>\n",
       "      <td>1</td>\n",
       "    </tr>\n",
       "  </tbody>\n",
       "</table>\n",
       "</div>"
      ],
      "text/plain": [
       "  optimizer    ansatz  # of qubits  error (mHa)  pass  score  # of parameters  \\\n",
       "0    COBYLA  TwoLocal            4      2.44171  True      3               16   \n",
       "\n",
       "  rotation blocks entanglement_blocks entanglement  repetitions  \n",
       "0        [ry, rz]                  cx       linear            1  "
      ]
     },
     "execution_count": 22,
     "metadata": {},
     "output_type": "execute_result"
    },
    {
     "data": {
      "image/png": "[encoded data removed]",
      "text/plain": [
       "<Figure size 432x288 with 1 Axes>"
      ]
     },
     "metadata": {
      "needs_background": "light"
     },
     "output_type": "display_data"
    }
   ],
   "source": [
    "# Storing results in a dictionary\n",
    "from qiskit.transpiler import PassManager\n",
    "from qiskit.transpiler.passes import Unroller\n",
    "# Unroller transpile our circuit into CNOTs and U gates\n",
    "pass_ = Unroller(['u', 'cx'])\n",
    "pm = PassManager(pass_)\n",
    "ansatz_tp = pm.run(ansatz)\n",
    "cnots = ansatz_tp.count_ops()['cx']\n",
    "score = cnots\n",
    "accuracy_threshold = 4.0 # in mHa\n",
    "energy = result.optimal_value\n",
    "if ansatz_type == \"TwoLocal\":\n",
    "    result_dict = {\n",
    "        'optimizer': optimizer.__class__.__name__,\n",
    "        'mapping': converter.mapper.__class__.__name__,\n",
    "        'ansatz': ansatz.__class__.__name__,\n",
    "        'rotation blocks': rotation_blocks,\n",
    "        'entanglement_blocks': entanglement_blocks,\n",
    "        'entanglement': entanglement,\n",
    "        'repetitions': repetitions,\n",
    "        'skip_final_rotation_layer': skip_final_rotation_layer,\n",
    "        'energy (Ha)': energy,\n",
    "        'error (mHa)': (energy-exact_energy)*1000,\n",
    "        'pass': (energy-exact_energy)*1000 <= accuracy_threshold,\n",
    "        '# of parameters': len(result.optimal_point),\n",
    "        'final parameters': result.optimal_point,\n",
    "        '# of evaluations': result.optimizer_evals,\n",
    "        'optimizer time': result.optimizer_time,\n",
    "        '# of qubits': int(qubit_op.num_qubits),\n",
    "        '# of CNOTs': cnots,\n",
    "        'score': score}\n",
    "else:\n",
    "    result_dict = {\n",
    "        'optimizer': optimizer.__class__.__name__,\n",
    "        'mapping': converter.mapper.__class__.__name__,\n",
    "        'ansatz': ansatz.__class__.__name__,\n",
    "        'rotation blocks': None,\n",
    "        'entanglement_blocks': None,\n",
    "        'entanglement': None,\n",
    "        'repetitions': None,\n",
    "        'skip_final_rotation_layer': None,\n",
    "        'energy (Ha)': energy,\n",
    "        'error (mHa)': (energy-exact_energy)*1000,\n",
    "        'pass': (energy-exact_energy)*1000 <= accuracy_threshold,\n",
    "        '# of parameters': len(result.optimal_point),\n",
    "        'final parameters': result.optimal_point,\n",
    "        '# of evaluations': result.optimizer_evals,\n",
    "        'optimizer time': result.optimizer_time,\n",
    "        '# of qubits': int(qubit_op.num_qubits),\n",
    "        '# of CNOTs': cnots,\n",
    "        'score': score}\n",
    "# Plotting the results\n",
    "import matplotlib.pyplot as plt\n",
    "fig, ax = plt.subplots(1, 1)\n",
    "ax.set_xlabel('Iterations')\n",
    "ax.set_ylabel('Energy')\n",
    "ax.grid()\n",
    "fig.text(0.7, 0.75, f'Energy: {result.optimal_value:.3f}\\nScore: {score:.0f}')\n",
    "plt.title(f\"{result_dict['optimizer']}-{result_dict['mapping']}\\n{result_dict['ansatz']}\")\n",
    "ax.plot(counts, values)\n",
    "ax.axhline(exact_energy, linestyle='--')\n",
    "fig_title = f\"\\\n",
    "{result_dict['optimizer']}-\\\n",
    "{result_dict['mapping']}-\\\n",
    "{result_dict['ansatz']}-\\\n",
    "Energy({result_dict['energy (Ha)']:.3f})-\\\n",
    "Score({result_dict['score']:.0f})\\\n",
    ".png\"\n",
    "fig.savefig(fig_title, dpi=300)\n",
    "# Displaying and saving the data\n",
    "import pandas as pd\n",
    "result_df = pd.DataFrame.from_dict([result_dict])\n",
    "result_df[['optimizer','ansatz', '# of qubits', 'error (mHa)', 'pass', 'score','# of parameters','rotation blocks', 'entanglement_blocks',\n",
    "    'entanglement', 'repetitions']]"
   ]
  },
  {
   "cell_type": "markdown",
   "metadata": {},
   "source": [
    "    - NAME : KRISHANU PODDER (https://www.linkedin.com/in/krishanu-podder-905a9a89/)\n",
    "    - SCORE: 3\n",
    "    - RANK : 1ST\n",
    "    - CHEMICAL ACCURACY: 97.60% \n",
    "    - NUMBER OF PARAMETERS IN THE ANSATZ: 16\n",
    "    - OPTIMIZER USED: COBYLA (EVALUATION: 10000)\n",
    "    - ANSATZ : TwoLocal\n",
    "    - NUMBER OF QUBITS: 4\n",
    "    - ERROR(mHa): 2.451258\n",
    "    - ROTATION BLOCKS: ry,rz\n",
    "    - ENTANGLEMENT BLOCKS: cx\n",
    "    - ENTANGLEMENT: LINEAR\n",
    "    - REPETITIONS: 1\n",
    "    - freeze_core = True\n"
   ]
  },
  {
   "cell_type": "markdown",
   "metadata": {},
   "source": [
    "Grading your answer. Please wait...\n",
    "\n",
    "Congratulations 🎉! Your answer is correct.\n",
    "Your cost is 3.\n",
    "\n",
    "# IBM QUANTUM CHALLENGE 2021"
   ]
  },
  {
   "cell_type": "code",
   "execution_count": null,
   "metadata": {},
   "outputs": [],
   "source": []
  }
 ],
 "metadata": {
  "kernelspec": {
   "display_name": "Python 3",
   "language": "python",
   "name": "python3"
  },
  "language_info": {
   "codemirror_mode": {
    "name": "ipython",
    "version": 3
   },
   "file_extension": ".py",
   "mimetype": "text/x-python",
   "name": "python",
   "nbconvert_exporter": "python",
   "pygments_lexer": "ipython3",
   "version": "3.7.6"
  }
 },
 "nbformat": 4,
 "nbformat_minor": 5
}
