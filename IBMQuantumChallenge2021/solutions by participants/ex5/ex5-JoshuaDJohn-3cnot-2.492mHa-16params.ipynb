{
 "cells": [
  {
   "cell_type": "code",
   "execution_count": 1,
   "metadata": {},
   "outputs": [],
   "source": [
    "import numpy as np\n",
    "# Importing standard Qiskit libraries\n",
    "from qiskit import QuantumCircuit, transpile, Aer, IBMQ\n",
    "from qiskit.tools.jupyter import *\n",
    "from qiskit.visualization import *\n",
    "from ibm_quantum_widgets import *\n",
    "\n",
    "# Loading your IBM Quantum account(s)\n",
    "provider = IBMQ.load_account()"
   ]
  },
  {
   "cell_type": "markdown",
   "metadata": {},
   "source": [
    "# IBM Quantum Challenge 2021\n",
    "## Exercise 5 - Variational Quantum Eigensolver\n",
    "### VQE for LiH molecule \n",
    "\n",
    "\n",
    "The goal was to simulate LiH molecule using the STO-3G basis with the PySCF driver, and find the best ansatz, in terms of the number of CNOT gates, a lower number being better.\n",
    "\n",
    "Some hints to reduce the number of qubits were\n",
    "- freezing the core electrons that do not contribute significantly to chemistry and consider only the valence electrons. Inspect the different transformers in `qiskit_nature.transformers`  and find the one that performs the freeze core approximation.\n",
    "- Using `ParityMapper` with `two_qubit_reduction=True` to eliminate 2 qubits.\n",
    "- Reducucing the number of qubits by inspecting the symmetries of your Hamiltonian using `Z2Symmetries` in Qiskit.\n",
    "\n",
    "I basically studied these hints from the Qiskit Nature API reference and implemented them in the solution. \n",
    "\n",
    "In addition, I considered the LiH molecule properties to decide orbitals to remove.LiH is Lithium and Hydrogen. The orbitals are \n",
    "- H: 1s \n",
    "- Li: 1s, 2s, px, py, pz\n",
    "The Li 1s electrons do not form bonds i.e. are core electrons and thus could be removed by FreezeCore. \n",
    "Then expected H 1s electrons to interact with Li 2s electrons. Initially, I then thought I can remove p orbitals 3,4 and 5, but could not achieve ground state. It turns out that there is some mixing with Li pz orbital in the bonding so only px and py i.e. 3 and 4 can be removed. Orbital removal could be done with FreezeCore.\n",
    "\n",
    "For the ansatz, TwoLocal in combination with SPSA or SLSQP optimizer looked promising from the previous part a) of the exercise so I tried those. The 'default' with 3 repetitions and full entanglement worked fine with score 18. Then experimented with reducing the repetions, which amazingly went to just 1 and score 6! \n",
    "\n",
    "Progress next came after checking ?TwoLocal. I realized there were other entanglements like linear, circular and even a map. Mapping with [(0,1), (1, 2), (2, 3), (3, 0)] worked fantastic bringing the score to 4! From this point the returns of experimenting were diminishing. I actually thought 4 was the limit. Then I realized that somehow the entanglement (3,0) was somehow more important. This made me try mixing in such 'reversed' entanglements until finally [(3, 2), (2, 1), (1, 0)] worked! This 'reverse' linear was fantastic (actually might suggest additions of such reversed maps to TwoLocal i.e. 'reversed linear', 'reversed circular'). I still haven't figured out the 'scientific' reason why entanglement in that direction worked.\n",
    "\n",
    "The full code is below. Hope it is useful!\n",
    "\n",
    "## Code"
   ]
  },
  {
   "cell_type": "code",
   "execution_count": 2,
   "metadata": {},
   "outputs": [],
   "source": [
    "from qiskit_nature.drivers import PySCFDriver\n",
    "from qiskit_nature.problems.second_quantization.electronic import ElectronicStructureProblem\n",
    "from qiskit_nature.mappers.second_quantization import ParityMapper, BravyiKitaevMapper, JordanWignerMapper\n",
    "from qiskit_nature.converters.second_quantization.qubit_converter import QubitConverter\n",
    "from qiskit_nature.circuit.library import HartreeFock\n",
    "from qiskit.circuit.library import TwoLocal\n",
    "from qiskit_nature.circuit.library import UCCSD, PUCCD, SUCCD\n",
    "from qiskit import Aer\n",
    "from qiskit.algorithms.optimizers import COBYLA, L_BFGS_B, SPSA, SLSQP\n",
    "from qiskit_nature.algorithms.ground_state_solvers.minimum_eigensolver_factories import NumPyMinimumEigensolverFactory\n",
    "from qiskit_nature.algorithms.ground_state_solvers import GroundStateEigensolver\n",
    "import numpy as np \n",
    "from qiskit.algorithms import VQE\n",
    "from IPython.display import display, clear_output\n",
    "from qiskit_nature.transformers import FreezeCoreTransformer\n",
    "from qiskit.opflow import X, Y, Z, I, PauliSumOp, Z2Symmetries\n"
   ]
  },
  {
   "cell_type": "markdown",
   "metadata": {},
   "source": [
    "### Exact diagonalizer and callback "
   ]
  },
  {
   "cell_type": "code",
   "execution_count": 3,
   "metadata": {},
   "outputs": [],
   "source": [
    "def exact_diagonalizer(problem, converter):\n",
    "    solver = NumPyMinimumEigensolverFactory()\n",
    "    calc = GroundStateEigensolver(converter, solver)\n",
    "    result = calc.solve(problem)\n",
    "    return result\n",
    "\n",
    "def callback(eval_count, parameters, mean, std):  \n",
    "    # Overwrites the same line when printing\n",
    "    display(\"Evaluation: {}, Energy: {}, Std: {}\".format(eval_count, mean, std))\n",
    "    clear_output(wait=True)\n",
    "    counts.append(eval_count)\n",
    "    values.append(mean)\n",
    "    params.append(parameters)\n",
    "    deviation.append(std)"
   ]
  },
  {
   "cell_type": "code",
   "execution_count": 4,
   "metadata": {},
   "outputs": [],
   "source": [
    "molecule = 'Li 0.0 0.0 0.0; H 0.0 0.0 1.5474'\n",
    "driver = PySCFDriver(atom=molecule)\n",
    "qmolecule = driver.run()"
   ]
  },
  {
   "cell_type": "code",
   "execution_count": 5,
   "metadata": {},
   "outputs": [
    {
     "data": {
      "text/plain": [
       "'Evaluation: 700, Energy: -1.0862138177821778, Std: 0.0'"
      ]
     },
     "metadata": {},
     "output_type": "display_data"
    }
   ],
   "source": [
    "# Definitition of the problem\n",
    "## Takes a FreezeCoreTransformer with choice to freeze_core and list of orbitals to remove\n",
    "problem = ElectronicStructureProblem(driver, \n",
    "            q_molecule_transformers=[FreezeCoreTransformer(freeze_core=True, remove_orbitals=[3,4])])\n",
    "\n",
    "# Generate the second-quantized operators\n",
    "second_q_ops = problem.second_q_ops()\n",
    "\n",
    "# Hamiltonian\n",
    "main_op = second_q_ops[0]\n",
    "mapper = ParityMapper()\n",
    "converter = QubitConverter(mapper=mapper, two_qubit_reduction=True, z2symmetry_reduction=[-1])\n",
    "\n",
    "# The fermionic operators are mapped to qubit operators\n",
    "num_particles = (problem.molecule_data_transformed.num_alpha,\n",
    "             problem.molecule_data_transformed.num_beta)\n",
    "qubit_op = converter.convert(main_op, num_particles=num_particles)\n",
    "\n",
    "num_particles = (problem.molecule_data_transformed.num_alpha,\n",
    "             problem.molecule_data_transformed.num_beta)\n",
    "num_spin_orbitals = 2 * problem.molecule_data_transformed.num_molecular_orbitals\n",
    "init_state = HartreeFock(num_spin_orbitals, num_particles, converter)\n",
    "#print(init_state)\n",
    "#ansatz = UCCSD(converter,num_particles,num_spin_orbitals,initial_state = init_state)\n",
    "\n",
    "# TwoLocal Ansatz\n",
    "# Single qubit rotations that are placed on all qubits with independent parameters\n",
    "rotation_blocks = ['rz','rx']\n",
    "# Entangling gates\n",
    "entanglement_blocks = ['cx']\n",
    "# How the qubits are entangled \n",
    "entangler_map1 = [(0,1), (1, 2), (2, 3), (3, 0)]\n",
    "entangler_map2 = [(3, 2), (2, 1), (1, 0)]\n",
    "entanglement = entangler_map2\n",
    "#entanglement = 'linear'\n",
    "\n",
    "# Repetitions of rotation_blocks + entanglement_blocks with independent parameters\n",
    "repetitions = 1\n",
    "# Skip the final rotation_blocks layer\n",
    "skip_final_rotation_layer = False\n",
    "ansatz = TwoLocal(qubit_op.num_qubits, rotation_blocks, entanglement_blocks, reps=repetitions, \n",
    "                  entanglement=entanglement, skip_final_rotation_layer=skip_final_rotation_layer)\n",
    "# Add the initial state\n",
    "ansatz.compose(init_state, front=True, inplace=True)\n",
    "#ansatz.draw()\n",
    "backend = Aer.get_backend('statevector_simulator')\n",
    "\n",
    "optimizer = SLSQP(maxiter=500)\n",
    "\n",
    "result_exact = exact_diagonalizer(problem, converter)\n",
    "exact_energy = np.real(result_exact.eigenenergies[0])\n",
    "print(\"Exact electronic energy\", exact_energy)\n",
    "#print(result_exact)\n",
    "\n",
    "counts = []\n",
    "values = []\n",
    "params = []\n",
    "deviation = []\n",
    "\n",
    "# Set initial parameters of the ansatz\n",
    "# We choose a fixed small displacement \n",
    "# So all participants start from similar starting point\n",
    "try:\n",
    "    initial_point = [0.01] * len(ansatz.ordered_parameters)\n",
    "except:\n",
    "    initial_point = [0.01] * ansatz.num_parameters\n",
    "\n",
    "algorithm = VQE(ansatz,\n",
    "                optimizer=optimizer,\n",
    "                quantum_instance=backend,\n",
    "                callback=callback,\n",
    "                initial_point=initial_point)\n",
    "\n",
    "result = algorithm.compute_minimum_eigenvalue(qubit_op)"
   ]
  },
  {
   "cell_type": "code",
   "execution_count": 6,
   "metadata": {},
   "outputs": [
    {
     "data": {
      "image/png": "[encoded data removed]",
      "text/plain": [
       "<Figure size 507.997x264.88 with 1 Axes>"
      ]
     },
     "execution_count": 6,
     "metadata": {},
     "output_type": "execute_result"
    }
   ],
   "source": [
    "ansatz.draw()"
   ]
  },
  {
   "cell_type": "code",
   "execution_count": null,
   "metadata": {},
   "outputs": [],
   "source": []
  }
 ],
 "metadata": {
  "kernelspec": {
   "display_name": "Python 3",
   "language": "python",
   "name": "python3"
  },
  "language_info": {
   "codemirror_mode": {
    "name": "ipython",
    "version": 3
   },
   "file_extension": ".py",
   "mimetype": "text/x-python",
   "name": "python",
   "nbconvert_exporter": "python",
   "pygments_lexer": "ipython3",
   "version": "3.7.6"
  }
 },
 "nbformat": 4,
 "nbformat_minor": 5
}
