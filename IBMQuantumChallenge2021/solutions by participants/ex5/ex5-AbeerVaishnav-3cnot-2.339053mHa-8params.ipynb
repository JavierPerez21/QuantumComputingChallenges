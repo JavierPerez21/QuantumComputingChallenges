{
 "cells": [
  {
   "cell_type": "code",
   "execution_count": null,
   "metadata": {},
   "outputs": [],
   "source": [
    "# Importing useful things\n",
    "from qiskit_nature.drivers import PySCFDriver\n",
    "from qiskit_nature.transformers import FreezeCoreTransformer\n",
    "from qiskit_nature.problems.second_quantization.electronic import ElectronicStructureProblem\n",
    "from qiskit_nature.mappers.second_quantization import ParityMapper, BravyiKitaevMapper, JordanWignerMapper\n",
    "from qiskit_nature.converters.second_quantization.qubit_converter import QubitConverter\n",
    "from qiskit_nature.circuit.library import HartreeFock\n",
    "from qiskit.circuit.library import TwoLocal\n",
    "from qiskit_nature.circuit.library import UCCSD, PUCCD, SUCCD\n",
    "from qiskit import Aer\n",
    "from qiskit.algorithms.optimizers import COBYLA, L_BFGS_B, SPSA, SLSQP\n",
    "from qiskit_nature.algorithms.ground_state_solvers.minimum_eigensolver_factories import NumPyMinimumEigensolverFactory\n",
    "from qiskit_nature.algorithms.ground_state_solvers import GroundStateEigensolver\n",
    "from qiskit.algorithms import VQE\n",
    "from IPython.display import display, clear_output\n",
    "from qiskit.transpiler import PassManager\n",
    "from qiskit.transpiler.passes import Unroller\n",
    "import numpy as np"
   ]
  },
  {
   "cell_type": "markdown",
   "metadata": {},
   "source": [
    "# 1. Initializing the atomic structure of LiH using PySCF driver\n",
    "\n",
    "First we initialize the LiH molecule (this code was already provided in the exercise) in the most stable configuration of inter-atomic distance i.e. at 1.5474Å between the Li and H atoms."
   ]
  },
  {
   "cell_type": "code",
   "execution_count": 2,
   "metadata": {},
   "outputs": [],
   "source": [
    "molecule = 'Li 0.0 0.0 0.0; H 0.0 0.0 1.5474'\n",
    "driver = PySCFDriver(atom=molecule)\n",
    "qmolecule = driver.run()"
   ]
  },
  {
   "cell_type": "markdown",
   "metadata": {},
   "source": [
    "Then we initialize the backend as the `statevector_simulator` for running the VQE problem"
   ]
  },
  {
   "cell_type": "code",
   "execution_count": 3,
   "metadata": {},
   "outputs": [],
   "source": [
    "backend = Aer.get_backend('statevector_simulator')"
   ]
  },
  {
   "cell_type": "markdown",
   "metadata": {},
   "source": [
    "We derive the useful information like number of electrons (`n_el`), number of molecular orbitals (`n_mo`), number of spin orbitals (`n_so`), number of qubits (`n_q`, which is actually equal to `n_so`), and the nuclear repulsion energy of the molecule (`e_nn`)."
   ]
  },
  {
   "cell_type": "code",
   "execution_count": 4,
   "metadata": {},
   "outputs": [],
   "source": [
    "n_el = qmolecule.num_alpha + qmolecule.num_beta\n",
    "n_mo = qmolecule.num_molecular_orbitals\n",
    "n_so = 2 * qmolecule.num_molecular_orbitals\n",
    "n_q = 2 * qmolecule.num_molecular_orbitals\n",
    "e_nn = qmolecule.nuclear_repulsion_energy"
   ]
  },
  {
   "cell_type": "markdown",
   "metadata": {},
   "source": [
    "# 2. Defining the problem\n",
    "\n",
    "The electronic structure of Hydrogen ($H$) is $[1s^1]$, and for Lithium ($Li$) it is $[1s^2 2s^1]$.\n",
    "\n",
    "From the above electronic structures, we can see that only the 1st and 2nd molecular orbitals participate in the chemical reaction between $H$ and $Li$ to for $LiH$. The LiH molecule has the following electronic structure:-\n",
    "\n",
    "$$\n",
    "LiH = 1s^2 2s^2\n",
    "\\tag{2.1}\n",
    "$$\n",
    "\n",
    "The above configuration of the LiH molecule is a stable configuration as it has all the molecular orbitals fully filled, essentially giving it noble-gas-like reactivity properties. The electronegativity of the overall molecule decreases and hence the energy of the reaction also falls down when compared to the inital total energy of the reactants.\n",
    "\n",
    "Therefore, from the above analysis, we can see that we only need to consider the molecular orbitals number 1 and 2 for this experiment. The other empty orbitals can be removed as they don't play a role the reaction. For the removal process I have used the `FreezeCoreTransformer` from `qiskit_nature.transformers` to remove the orbitals \\[3, 4\\] as shown below. This gives us a good approximation of the energy value and also doesn't overutilize the resources (in this case, qubits) of the quantum system on which the experiment is being run."
   ]
  },
  {
   "cell_type": "code",
   "execution_count": null,
   "metadata": {},
   "outputs": [],
   "source": [
    "qmolecule_transformers = [FreezeCoreTransformer(freeze_core=True, remove_orbitals=[3, 4])]"
   ]
  },
  {
   "cell_type": "markdown",
   "metadata": {},
   "source": [
    "After applying the `FreezeCoreTransformer`, we have successfully reduced our problem into only calculating the energy for the useful parts of our chemical reaction.\n",
    "\n",
    "Now I use this instance of the `FreezeCoreTransformer` to derive an electronic structure problem using the `ElectronicStructureProblem` class in the `qiskit_nature.problems.second_quantization.electronic` package.\n",
    "\n",
    "This gives us access to the second quantized operators of the problem Hamiltonian in terms of the creation ($a^ \\dagger$) and annihilation ($a$) fermionic operators. This converts the problem into description of a fermionic system having $N$ single partical states (representing a spin orbital each) which can either be empty or occupied. With this process we can convert the k-local hamiltonian into a 2-local representation. The general representation of the 2-local Hamiltonian looks like:-\n",
    "\n",
    "$$\n",
    "H = \\sum _{i,j} h_{ij} a^\\dagger _i a_j \\ + \\ \\frac{1}{2} \\sum _{i,j,k,l} h_{ijkl} a^\\dagger_i a^\\dagger_j a_k a_l\n",
    "\\tag{2.2}\n",
    "$$\n",
    "\n",
    "Once we map the spin orbital electronic structure to qubits, we can easily perform a tensor product of the quantum states to derive the full quantum wavefunction of the molecule. Using this wavefunction then, we can perform quantum operations to find the grund-state energy eigenvalue of the LiH molecule. The above hamiltonian is stored in the variable `main_op`."
   ]
  },
  {
   "cell_type": "code",
   "execution_count": 15,
   "metadata": {},
   "outputs": [
    {
     "name": "stdout",
     "output_type": "stream",
     "text": [
      "Number of molecular orbitals:  3\n",
      "Number of spin orbitals:  6\n"
     ]
    }
   ],
   "source": [
    "# Define the problem\n",
    "problem = ElectronicStructureProblem(driver, q_molecule_transformers=qmolecule_transformers)\n",
    "second_q_ops = problem.second_q_ops() # Generate the second-quantized operators\n",
    "main_op = second_q_ops[0] # Hamiltonian\n",
    "\n",
    "print('Number of molecular orbitals: ', problem.molecule_data_transformed.num_molecular_orbitals)\n",
    "print('Number of spin orbitals: ', 2 * problem.molecule_data_transformed.num_molecular_orbitals)"
   ]
  },
  {
   "cell_type": "markdown",
   "metadata": {},
   "source": [
    "# 3. Mapping Fermions to Qubits\n",
    "\n",
    "Once we get the problem hamiltonian, we now have to map the fermionic operators onto the qubits so that e can encode the chemical information of the $LiH$ molecule onto our quantum computer.\n",
    "\n",
    "Since, we have 3 molecular orbitals (and 6 spin orbitals) associated to our $LiH$ simulation problem, we will have to use atleast 6-qubits to successfully map the fermionic operators to qubits using Jordan-Wigner or Bravyi-Kitaev mapping. However, if we use Parity mapping, it can reduce the number of qubits to just 5-qubits through qubit tapering of fermionic spin-parity symmetries. For this, I use the `ParityMapping` function from the `qiskit_nature.mappers.second_quantization` package.\n",
    "\n",
    "We can further optimize our resource usage by finding $\\mathbb{Z}_2$ -symmetries in the system as we only work with the s-orbital here and hence we get one $\\mathbb{Z}_2$ -symmetry. This reduces one more qubit from our bag of qubit resource and finally we end up with having just 4-qubits for our $LiH$ molecule simulation which is the most optimal number of qubits that we can get."
   ]
  },
  {
   "cell_type": "code",
   "execution_count": null,
   "metadata": {},
   "outputs": [],
   "source": [
    "# Qubit Converter\n",
    "mapper = ParityMapper()\n",
    "converter = QubitConverter(mapper=mapper, two_qubit_reduction=True, z2symmetry_reduction='auto')\n",
    "print(converter.z2symmetries)"
   ]
  },
  {
   "cell_type": "markdown",
   "metadata": {},
   "source": [
    "Then, we finally generate our qubit operators which are derived from the fermionic operators after this whole conversion procedure. The variable `qubit_op` stores the qubit operators as an array of spare pauli operations applied to initialise the qubits into the proper state corresponding to the quantum wavefunction of the $LiH$ molecule."
   ]
  },
  {
   "cell_type": "code",
   "execution_count": 6,
   "metadata": {},
   "outputs": [
    {
     "name": "stdout",
     "output_type": "stream",
     "text": [
      "Z2 symmetries:\n",
      "Symmetries:\n",
      "Single-Qubit Pauli X:\n",
      "Cliffords:\n",
      "Qubit index:\n",
      "[]\n",
      "Tapering values:\n",
      "  - Possible values: []\n"
     ]
    },
    {
     "data": {
      "text/plain": [
       "TaperedPauliSumOp(SparsePauliOp([[False, False, False, False, False, False, False, False],\n",
       "               [False, False, False, False, False, False, False,  True],\n",
       "               [False, False, False, False, False, False,  True, False],\n",
       "               [False, False, False, False, False, False,  True,  True],\n",
       "               [False, False, False, False, False,  True, False, False],\n",
       "               [False, False, False, False, False,  True, False,  True],\n",
       "               [False, False, False, False, False,  True,  True, False],\n",
       "               [False, False, False, False, False,  True,  True,  True],\n",
       "               [False, False, False, False,  True, False, False, False],\n",
       "               [False, False, False, False,  True, False, False,  True],\n",
       "               [False, False, False, False,  True, False,  True, False],\n",
       "               [False, False, False, False,  True, False,  True,  True],\n",
       "               [False, False, False, False,  True,  True, False, False],\n",
       "               [False, False, False, False,  True,  True, False,  True],\n",
       "               [False, False, False, False,  True,  True,  True, False],\n",
       "               [False, False, False, False,  True,  True,  True,  True],\n",
       "               [False, False, False,  True, False, False, False, False],\n",
       "               [False, False, False,  True, False, False,  True, False],\n",
       "               [False, False, False,  True, False,  True, False, False],\n",
       "               [False, False, False,  True, False,  True,  True, False],\n",
       "               [False, False, False,  True,  True, False, False, False],\n",
       "               [False, False, False,  True,  True, False,  True, False],\n",
       "               [False, False, False,  True,  True,  True, False, False],\n",
       "               [False, False, False,  True,  True,  True,  True, False],\n",
       "               [False, False,  True, False, False, False, False, False],\n",
       "               [False, False,  True, False, False, False, False,  True],\n",
       "               [False, False,  True, False, False,  True, False, False],\n",
       "               [False, False,  True, False, False,  True, False,  True],\n",
       "               [False, False,  True, False,  True, False, False, False],\n",
       "               [False, False,  True, False,  True, False, False,  True],\n",
       "               [False, False,  True, False,  True,  True, False, False],\n",
       "               [False, False,  True, False,  True,  True, False,  True],\n",
       "               [False, False,  True,  True, False, False, False, False],\n",
       "               [False, False,  True,  True, False, False,  True,  True],\n",
       "               [False, False,  True,  True, False,  True, False, False],\n",
       "               [False, False,  True,  True, False,  True,  True,  True],\n",
       "               [False, False,  True,  True,  True, False, False, False],\n",
       "               [False, False,  True,  True,  True, False,  True,  True],\n",
       "               [False, False,  True,  True,  True,  True, False, False],\n",
       "               [False, False,  True,  True,  True,  True,  True,  True],\n",
       "               [False,  True, False, False, False, False, False, False],\n",
       "               [False,  True, False, False, False, False, False,  True],\n",
       "               [False,  True, False, False, False, False,  True, False],\n",
       "               [False,  True, False, False, False, False,  True,  True],\n",
       "               [False,  True, False, False,  True, False, False, False],\n",
       "               [False,  True, False, False,  True, False, False,  True],\n",
       "               [False,  True, False, False,  True, False,  True, False],\n",
       "               [False,  True, False, False,  True, False,  True,  True],\n",
       "               [False,  True, False,  True, False, False, False, False],\n",
       "               [False,  True, False,  True, False, False,  True, False],\n",
       "               [False,  True, False,  True,  True, False, False, False],\n",
       "               [False,  True, False,  True,  True, False,  True, False],\n",
       "               [False,  True,  True, False, False, False, False, False],\n",
       "               [False,  True,  True, False, False, False, False,  True],\n",
       "               [False,  True,  True, False,  True, False, False, False],\n",
       "               [False,  True,  True, False,  True, False, False,  True],\n",
       "               [False,  True,  True,  True, False, False, False, False],\n",
       "               [False,  True,  True,  True, False, False,  True,  True],\n",
       "               [False,  True,  True,  True,  True, False, False, False],\n",
       "               [False,  True,  True,  True,  True, False,  True,  True],\n",
       "               [ True, False, False, False, False, False, False, False],\n",
       "               [ True, False, False, False, False, False, False,  True],\n",
       "               [ True, False, False, False, False, False,  True, False],\n",
       "               [ True, False, False, False, False, False,  True,  True],\n",
       "               [ True, False, False, False, False,  True, False, False],\n",
       "               [ True, False, False, False, False,  True, False,  True],\n",
       "               [ True, False, False, False, False,  True,  True, False],\n",
       "               [ True, False, False, False, False,  True,  True,  True],\n",
       "               [ True, False, False,  True, False, False, False, False],\n",
       "               [ True, False, False,  True, False, False,  True, False],\n",
       "               [ True, False, False,  True, False,  True, False, False],\n",
       "               [ True, False, False,  True, False,  True,  True, False],\n",
       "               [ True, False,  True, False, False, False, False, False],\n",
       "               [ True, False,  True, False, False, False, False,  True],\n",
       "               [ True, False,  True, False, False,  True, False, False],\n",
       "               [ True, False,  True, False, False,  True, False,  True],\n",
       "               [ True, False,  True,  True, False, False, False, False],\n",
       "               [ True, False,  True,  True, False, False,  True,  True],\n",
       "               [ True, False,  True,  True, False,  True, False, False],\n",
       "               [ True, False,  True,  True, False,  True,  True,  True],\n",
       "               [ True,  True, False, False, False, False, False, False],\n",
       "               [ True,  True, False, False, False, False, False,  True],\n",
       "               [ True,  True, False, False, False, False,  True, False],\n",
       "               [ True,  True, False, False, False, False,  True,  True],\n",
       "               [ True,  True, False, False,  True,  True, False, False],\n",
       "               [ True,  True, False, False,  True,  True, False,  True],\n",
       "               [ True,  True, False, False,  True,  True,  True, False],\n",
       "               [ True,  True, False, False,  True,  True,  True,  True],\n",
       "               [ True,  True, False,  True, False, False, False, False],\n",
       "               [ True,  True, False,  True, False, False,  True, False],\n",
       "               [ True,  True, False,  True,  True,  True, False, False],\n",
       "               [ True,  True, False,  True,  True,  True,  True, False],\n",
       "               [ True,  True,  True, False, False, False, False, False],\n",
       "               [ True,  True,  True, False, False, False, False,  True],\n",
       "               [ True,  True,  True, False,  True,  True, False, False],\n",
       "               [ True,  True,  True, False,  True,  True, False,  True],\n",
       "               [ True,  True,  True,  True, False, False, False, False],\n",
       "               [ True,  True,  True,  True, False, False,  True,  True],\n",
       "               [ True,  True,  True,  True,  True,  True, False, False],\n",
       "               [ True,  True,  True,  True,  True,  True,  True,  True]],\n",
       "              coeffs=[-0.20316606+0.00000000e+00j, -0.36525869+0.00000000e+00j,\n",
       "  0.09275995+0.00000000e+00j, -0.21188984+0.00000000e+00j,\n",
       "  0.36525869+0.00000000e+00j, -0.11384335+0.00000000e+00j,\n",
       "  0.11395252+0.00000000e+00j, -0.06044013+3.46944695e-18j,\n",
       " -0.09275995+3.46944695e-18j,  0.11395252+0.00000000e+00j,\n",
       " -0.12274244+6.93889390e-18j,  0.05628878+0.00000000e+00j,\n",
       " -0.21188984-6.93889390e-18j,  0.06044013+0.00000000e+00j,\n",
       " -0.05628878-3.46944695e-18j,  0.08460131+0.00000000e+00j,\n",
       "  0.01938941+0.00000000e+00j, -0.01938941-8.67361738e-19j,\n",
       " -0.01095277+8.67361738e-19j,  0.01095277+0.00000000e+00j,\n",
       "  0.01277933+0.00000000e+00j, -0.01277933+0.00000000e+00j,\n",
       " -0.0090025 +0.00000000e+00j,  0.0090025 +0.00000000e+00j,\n",
       "  0.00294114+0.00000000e+00j,  0.00294114+0.00000000e+00j,\n",
       " -0.01068186+8.67361738e-19j, -0.01068186+0.00000000e+00j,\n",
       "  0.01192553+0.00000000e+00j,  0.01192553+8.67361738e-19j,\n",
       " -0.00169746+0.00000000e+00j, -0.00169746+1.08420217e-19j,\n",
       " -0.0007428 +0.00000000e+00j,  0.0007428 +0.00000000e+00j,\n",
       "  0.03438975+0.00000000e+00j, -0.03438975+0.00000000e+00j,\n",
       " -0.0323953 +0.00000000e+00j,  0.0323953 +0.00000000e+00j,\n",
       "  0.00273725+0.00000000e+00j, -0.00273725+0.00000000e+00j,\n",
       "  0.01938941-8.67361738e-19j,  0.01095277+0.00000000e+00j,\n",
       " -0.01277933+8.67361738e-19j, -0.0090025 +0.00000000e+00j,\n",
       "  0.01938941+1.73472348e-18j,  0.01095277+0.00000000e+00j,\n",
       " -0.01277933+0.00000000e+00j, -0.0090025 +8.67361738e-19j,\n",
       "  0.00658758+0.00000000e+00j, -0.00658758+0.00000000e+00j,\n",
       "  0.00658758-4.33680869e-19j, -0.00658758+0.00000000e+00j,\n",
       "  0.00222161+0.00000000e+00j,  0.00222161+0.00000000e+00j,\n",
       "  0.00222161+0.00000000e+00j,  0.00222161+0.00000000e+00j,\n",
       " -0.007859  +0.00000000e+00j,  0.007859  +0.00000000e+00j,\n",
       " -0.007859  +0.00000000e+00j,  0.007859  -8.67361738e-19j,\n",
       "  0.00294114+2.16840434e-19j,  0.01068186+0.00000000e+00j,\n",
       " -0.01192553-8.67361738e-19j, -0.00169746+0.00000000e+00j,\n",
       " -0.00294114-2.16840434e-19j, -0.01068186+0.00000000e+00j,\n",
       "  0.01192553+8.67361738e-19j,  0.00169746+0.00000000e+00j,\n",
       "  0.00222161+0.00000000e+00j, -0.00222161+0.00000000e+00j,\n",
       " -0.00222161+0.00000000e+00j,  0.00222161+0.00000000e+00j,\n",
       "  0.00313948+0.00000000e+00j,  0.00313948+2.16840434e-19j,\n",
       " -0.00313948+0.00000000e+00j, -0.00313948-2.16840434e-19j,\n",
       " -0.00849916+0.00000000e+00j,  0.00849916+0.00000000e+00j,\n",
       "  0.00849916+0.00000000e+00j, -0.00849916+0.00000000e+00j,\n",
       " -0.0007428 +0.00000000e+00j, -0.03438975+0.00000000e+00j,\n",
       "  0.0323953 +0.00000000e+00j,  0.00273725-2.16840434e-19j,\n",
       "  0.0007428 +0.00000000e+00j,  0.03438975+0.00000000e+00j,\n",
       " -0.0323953 -3.46944695e-18j, -0.00273725+0.00000000e+00j,\n",
       " -0.007859  +8.67361738e-19j,  0.007859  +0.00000000e+00j,\n",
       "  0.007859  +0.00000000e+00j, -0.007859  +0.00000000e+00j,\n",
       " -0.00849916+0.00000000e+00j, -0.00849916+0.00000000e+00j,\n",
       "  0.00849916+0.00000000e+00j,  0.00849916+0.00000000e+00j,\n",
       "  0.0308461 +0.00000000e+00j, -0.0308461 +0.00000000e+00j,\n",
       " -0.0308461 +0.00000000e+00j,  0.0308461 +0.00000000e+00j]), coeff=1.0)"
      ]
     },
     "execution_count": 6,
     "metadata": {},
     "output_type": "execute_result"
    }
   ],
   "source": [
    "# The fermionic operators are mapped to qubit operators\n",
    "num_particles = (problem.molecule_data_transformed.num_alpha,\n",
    "             problem.molecule_data_transformed.num_beta)\n",
    "qubit_op = converter.convert(main_op, num_particles=num_particles, sector_locator=problem.symmetry_sector_locator)\n",
    "qubit_op"
   ]
  },
  {
   "cell_type": "markdown",
   "metadata": {},
   "source": [
    "Now using the electronic structure problem hamiltonian and the qubit operator, we can diagonalize the actual hamiltonian to get the exactly calculated ground-state energy eigenvalue for the $LiH$ molecule ans store it in the variable `exact_energy` for future reference."
   ]
  },
  {
   "cell_type": "code",
   "execution_count": 8,
   "metadata": {},
   "outputs": [
    {
     "name": "stdout",
     "output_type": "stream",
     "text": [
      "Exact electronic energy -1.0887060157347357\n"
     ]
    }
   ],
   "source": [
    "def exact_diagonalizer(problem, converter):\n",
    "    solver = NumPyMinimumEigensolverFactory()\n",
    "    calc = GroundStateEigensolver(converter, solver)\n",
    "    result = calc.solve(problem)\n",
    "    return result\n",
    "\n",
    "result_exact = exact_diagonalizer(problem, converter)\n",
    "exact_energy = np.real(result_exact.eigenenergies[0])\n",
    "print(\"Exact electronic energy\", exact_energy)"
   ]
  },
  {
   "cell_type": "markdown",
   "metadata": {},
   "source": [
    "# 4. Generating the initial state\n",
    "\n",
    "For generating the initial state, we resort to the Hartree-Fock perturbation theory in order to approximate the qubit operator `qubit_op` as a string of Pauli gates that can be applied to initialize the state of the system.\n",
    "\n",
    "We can achieve this by using the `HartreeFock` class found in the `qiskit_nature.circuit.library` package like so,"
   ]
  },
  {
   "cell_type": "code",
   "execution_count": 7,
   "metadata": {},
   "outputs": [
    {
     "data": {
      "image/png": "[encoded data removed]",
      "text/plain": [
       "<Figure size 146.797x264.88 with 1 Axes>"
      ]
     },
     "execution_count": 7,
     "metadata": {},
     "output_type": "execute_result"
    }
   ],
   "source": [
    "# HartreeFock Initial state\n",
    "num_particles = (problem.molecule_data_transformed.num_alpha,\n",
    "             problem.molecule_data_transformed.num_beta)\n",
    "num_spin_orbitals = 2 * problem.molecule_data_transformed.num_molecular_orbitals\n",
    "init_state = HartreeFock(num_spin_orbitals, num_particles, converter)\n",
    "init_state.draw('mpl')"
   ]
  },
  {
   "cell_type": "markdown",
   "metadata": {},
   "source": [
    "# 5. Developing the Problem Ansatz\n",
    "\n",
    "**Ansatz** is referred an educated guess or an assumption for solving a particular problem. It proivdes us with an initial estimate of the solution framework of any mathematical problem. We use an ansatz in this as we can never be exactly sure about the transformations that one needs to apply on the initial Hartree-Fock state for a molecular simulation problem to get the ground-state energy eigenvalue. Hence, we make an initial assumption and then keep changing the parameters/variables in the ansatz to optimize our final result.\n",
    "\n",
    "After the initial state is generated and stored in the variable `init_state`, we work on developing the Ansatz for the problem.\n",
    "\n",
    "One point we can straightaway notice is that our Hamiltonian in $eq. 2.2$ is a 2-local hamiltonian. Hence, the ansatz that we need will likely be such that it will have some single-qubit parameterized rotations and every adjacent qubit in the circuit will be entangled so as to simulate the effect of near-range interactions between the fermions of the $LiH$ molecule. Hence, we can fulfill these constrainsts of the ansatz by using the `TwoLocal` variational form from the `qiskit.circuit.library` package. Therefore, the code for the same will look like so,"
   ]
  },
  {
   "cell_type": "code",
   "execution_count": 9,
   "metadata": {},
   "outputs": [
    {
     "data": {
      "image/png": "[encoded data removed]",
      "text/plain": [
       "<Figure size 447.797x264.88 with 1 Axes>"
      ]
     },
     "execution_count": 9,
     "metadata": {},
     "output_type": "execute_result"
    }
   ],
   "source": [
    "# Ansatz Generation Parameters\n",
    "rotation_blocks = ['ry']\n",
    "entanglement_blocks = 'cx'\n",
    "entanglement = 'linear'\n",
    "repetitions = 1\n",
    "skip_final_rotation_layer = False\n",
    "\n",
    "# Instantiating the TwoLocal variational form as the problem ansatz\n",
    "ansatz_temp = TwoLocal(qubit_op.num_qubits, rotation_blocks, entanglement_blocks, reps=repetitions, \n",
    "                      entanglement=entanglement, skip_final_rotation_layer=skip_final_rotation_layer)\n",
    "\n",
    "# Prepending the initial state to the ansatz\n",
    "ansatz_temp.compose(init_state, front=True, inplace=True)\n",
    "\n",
    "# Transpiling the ansatz to have only 'u' and 'cx' gates\n",
    "from qiskit import transpile\n",
    "ansatz_t = transpile(ansatz_temp, basis_gates=['u', 'cx'], optimization_level=3)\n",
    "ansatz_t.draw('mpl')"
   ]
  },
  {
   "cell_type": "markdown",
   "metadata": {},
   "source": [
    "Finally, we run our VQE algorithm on the above circuit to iteratively optimize the circuit parameters and find the ground-state energy eigenvaluue for the $LiH$ molecule problem like so,"
   ]
  },
  {
   "cell_type": "code",
   "execution_count": 10,
   "metadata": {},
   "outputs": [
    {
     "name": "stdout",
     "output_type": "stream",
     "text": [
      "-1.0863669627124737\n",
      "{   'aux_operator_eigenvalues': None,\n",
      "    'cost_function_evals': 382,\n",
      "    'eigenstate': array([ 1.44328477e-03-1.60579700e-19j, -4.96356008e-03-4.24249959e-21j,\n",
      "        2.65620193e-02-4.52278690e-20j, -9.91390889e-01-1.19491577e-21j,\n",
      "       -5.41567628e-02+6.62855170e-18j, -2.74420486e-04+1.75125672e-19j,\n",
      "        9.17478065e-04-3.43312227e-20j, -2.41085956e-02-9.07027465e-22j,\n",
      "       -2.75862397e-03+3.37618296e-19j, -6.16754924e-06+8.91984154e-21j,\n",
      "        4.95851927e-06-1.67625051e-21j,  3.30760491e-04-4.42863706e-23j,\n",
      "        1.13527959e-01-1.38945094e-17j,  3.22266316e-04-3.67091545e-19j,\n",
      "       -5.70152849e-04+6.96195170e-20j,  4.80524570e-05+1.83934066e-21j]),\n",
      "    'eigenvalue': -1.0863669627124737,\n",
      "    'optimal_parameters': {   ParameterVectorElement(θ[6]): 3.1901804844152615,\n",
      "                              ParameterVectorElement(θ[0]): 0.25224802487276127,\n",
      "                              ParameterVectorElement(θ[2]): -3.1416856484938513,\n",
      "                              ParameterVectorElement(θ[7]): 0.444794638164746,\n",
      "                              ParameterVectorElement(θ[1]): -0.005980155746700461,\n",
      "                              ParameterVectorElement(θ[4]): 0.05282751049370395,\n",
      "                              ParameterVectorElement(θ[5]): 3.1315719142465333,\n",
      "                              ParameterVectorElement(θ[3]): -2.696128789844114},\n",
      "    'optimal_point': array([ 0.25224802, -0.00598016, -3.14168565, -2.69612879,  0.05282751,\n",
      "        3.13157191,  3.19018048,  0.44479464]),\n",
      "    'optimal_value': -1.0863669627124737,\n",
      "    'optimizer_evals': 382,\n",
      "    'optimizer_time': 2.1372835636138916}\n",
      "Completed!\n"
     ]
    }
   ],
   "source": [
    "# Print the progress of optimization process\n",
    "def callback(eval_count, parameters, mean, std):  \n",
    "    # Overwrites the same line when printing\n",
    "    display(\"Evaluation: {}, Energy: {}, Std: {}\".format(eval_count, mean, std))\n",
    "    clear_output(wait=True)\n",
    "\n",
    "# Set initial parameters of the ansatz\n",
    "try:\n",
    "    initial_point = [0.01] * len(ansatz_t.ordered_parameters)\n",
    "except:\n",
    "    initial_point = [0.01] * ansatz_t.num_parameters\n",
    "\n",
    "\n",
    "# Define the optimizer to use\n",
    "optimizer = SLSQP(maxiter=3000, tol=0.0001)\n",
    "\n",
    "# Initialize the VQE problem\n",
    "algorithm = VQE(ansatz_t,\n",
    "                optimizer=optimizer,\n",
    "                quantum_instance=backend,\n",
    "                callback=callback,\n",
    "                initial_point=initial_point)\n",
    "\n",
    "# Compute minimum energy eigenvalue of the ansatz\n",
    "result = algorithm.compute_minimum_eigenvalue(qubit_op)\n",
    "    \n",
    "print('Optimal VQE Energy: ', result.optimal_value)\n",
    "print(result)\n",
    "print('Completed!')"
   ]
  },
  {
   "cell_type": "markdown",
   "metadata": {},
   "source": [
    "Once we get the optimal value from our VQE result, we check if the solution is within the error margin of $4 mHa$ and also count the number of CNOT gates which is the cost for this problem."
   ]
  },
  {
   "cell_type": "code",
   "execution_count": 11,
   "metadata": {},
   "outputs": [
    {
     "name": "stdout",
     "output_type": "stream",
     "text": [
      "Ansatz used:  QuantumCircuit\n",
      "Number of parameters:  8\n",
      "VQE Energy:  -1.0863669627124737\n",
      "Error:  2.3390530222620054\n",
      "Pass/Fail:  True\n",
      "CNOT score:  3\n"
     ]
    }
   ],
   "source": [
    "# Unroller transpile your circuit into CNOTs and U gates\n",
    "pass_ = Unroller(['u', 'cx'])\n",
    "pm = PassManager(pass_)\n",
    "ansatz_tp = pm.run(ansatz_t)\n",
    "cnots = ansatz_tp.count_ops()['cx']\n",
    "score = cnots\n",
    "\n",
    "accuracy_threshold = 4.0 # in mHa\n",
    "energy = result.optimal_value\n",
    "\n",
    "result_dict = {\n",
    "    'optimizer': optimizer.__class__.__name__,\n",
    "    'mapping': converter.mapper.__class__.__name__,\n",
    "    'ansatz': ansatz_t.__class__.__name__,\n",
    "    'energy (Ha)': energy,\n",
    "    'error (mHa)': (energy - exact_energy)*1000,\n",
    "    'pass': (energy - exact_energy)*1000 <= accuracy_threshold,\n",
    "    '# of parameters': len(result.optimal_point),\n",
    "    'final parameters': result.optimal_point,\n",
    "    '# of evaluations': result.optimizer_evals,\n",
    "    'optimizer time': result.optimizer_time,\n",
    "    '# of qubits': int(qubit_op.num_qubits),\n",
    "    '# of CNOTs': cnots,\n",
    "    'score': score\n",
    "}\n",
    "\n",
    "print('Ansatz used: ', result_dict['ansatz'])\n",
    "print('Number of parameters: ', result_dict['# of parameters'])\n",
    "print('VQE Energy: ', result_dict['energy (Ha)'])\n",
    "print('Error: ', result_dict['error (mHa)'])\n",
    "print('Pass/Fail: ', result_dict['pass'])\n",
    "print('CNOT score: ', result_dict['score'])"
   ]
  },
  {
   "cell_type": "code",
   "execution_count": 12,
   "metadata": {},
   "outputs": [
    {
     "name": "stdout",
     "output_type": "stream",
     "text": [
      "Grading your answer for ex5. Please wait...\n",
      "\n",
      "Congratulations 🎉! Your answer is correct.\n",
      "Your cost is 3.\n",
      "Feel free to submit your answer.\n",
      "\n"
     ]
    }
   ],
   "source": [
    "# Check your answer using following code\n",
    "from qc_grader import grade_ex5\n",
    "freeze_core = True # change to True if you freezed core electrons\n",
    "grade_ex5(ansatz_temp,qubit_op,result,freeze_core)"
   ]
  }
 ],
 "metadata": {
  "kernelspec": {
   "display_name": "Python 3",
   "language": "python",
   "name": "python3"
  },
  "language_info": {
   "codemirror_mode": {
    "name": "ipython",
    "version": 3
   },
   "file_extension": ".py",
   "mimetype": "text/x-python",
   "name": "python",
   "nbconvert_exporter": "python",
   "pygments_lexer": "ipython3",
   "version": "3.7.6"
  }
 },
 "nbformat": 4,
 "nbformat_minor": 4
}
