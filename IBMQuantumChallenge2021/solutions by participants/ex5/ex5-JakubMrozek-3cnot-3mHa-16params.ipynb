{
 "cells": [
  {
   "cell_type": "markdown",
   "metadata": {},
   "source": [
    "# Solution to Exercise 5 from the IBM Quantum Challenge 2021 by Jakub Mrozek"
   ]
  },
  {
   "cell_type": "markdown",
   "metadata": {},
   "source": [
    "The fifth exercise of the challenge was about the algorithm known as Variational Quantum Eigensolver and using it to approximate the ground state energy of LiH molecule. The goal of this exercise is to find an ansatz that approximates the actual solution in fewest possible CNOT gates. <br>\n",
    "We were able to modify the existing code and to try many different settings, and each time check how close it comes to the accepted ground state energy. It is quite clear that our final solution will be a product of some kind of \"feedback loop\" implicitly looking at the ground state eigenstate and trying to approximate it. Even if you don't manually inspect the actual ground state, it is still guiding the \"evolution\" of your solution, in similar manner in which natural selection, an unconsious process, guides evolution in nature. <br>\n",
    "With this in mind, let's import a driver and define our molecule and then check that everything is correct."
   ]
  },
  {
   "cell_type": "code",
   "execution_count": 2,
   "metadata": {},
   "outputs": [],
   "source": [
    "from qiskit_nature.drivers import PySCFDriver\n",
    "\n",
    "molecule = 'Li 0.0 0.0 0.0; H 0.0 0.0 1.5474'\n",
    "driver = PySCFDriver(atom=molecule)\n",
    "qmolecule = driver.run()"
   ]
  },
  {
   "cell_type": "code",
   "execution_count": 6,
   "metadata": {},
   "outputs": [
    {
     "name": "stdout",
     "output_type": "stream",
     "text": [
      "Number of electrons: 4\n",
      "Number of molecular orbitals: 6\n",
      "Number of spin-orbitals: 12\n",
      "Nuclear repulsion energy: 1.0259348796432726\n"
     ]
    }
   ],
   "source": [
    "n_el = qmolecule.num_alpha + qmolecule.num_beta\n",
    "\n",
    "n_mo = qmolecule.num_molecular_orbitals\n",
    "\n",
    "n_so = 2 * qmolecule.num_molecular_orbitals\n",
    "\n",
    "e_nn = qmolecule.nuclear_repulsion_energy\n",
    "\n",
    "print(\"Number of electrons: {0}\".format(n_el))\n",
    "print(\"Number of molecular orbitals: {0}\".format(n_mo))\n",
    "print(\"Number of spin-orbitals: {0}\".format(n_so))\n",
    "print(\"Nuclear repulsion energy: {0}\".format(e_nn))"
   ]
  },
  {
   "cell_type": "markdown",
   "metadata": {},
   "source": [
    "We know from chemistry that H has one electron, sitting in a 1s orbital, and Li has 3 electrons, two in the 1s orbital and the last one in the 2s orbitals. For Li, the 2p orbitals are also possible, and there are three of them, $p_x, p_y$ and $p_z$. That gives the total of 6 (1+5). Each of those can contain a spin up or spin down electron, so the total number of spin-orbitals is 12. It seems like the driver successfully created the molecule. "
   ]
  },
  {
   "cell_type": "markdown",
   "metadata": {},
   "source": [
    "The problem can be cleanly split in half. The first half is trying to get as few qubits as possible while still having the ground state inside or just slighly outside your state space. After modifying the qubits, utilizing symmetries, freezing the core and all that, we have a quantum system with n spins and a certain Hamiltonian. If the ground state energy of that quantum system is too high, there is no point making ansatzes/choosing optimizers - there are no legal ways of getting to lower than the lowest eigenenergy, it's just how linear algebra works. If, on the other hand, our energy is within bounds, then there must exist a quantum circuit that gets us to the eigenstate, based on universality. So really we don't have to bother about ansatz or optimizers at all in this first part."
   ]
  },
  {
   "cell_type": "markdown",
   "metadata": {},
   "source": [
    "The LiH has axial symmetry. The Li 1s orbital has core electrons which shouldn't form the bond. The ground state of this molecule is a sigma bond, where electrons from H 1s and Li 2s orbitals mostly interact. Because of symmetry, you also allow some mixing with $p_z$ (if $z$ is in the direction of the axis between H and Li). This is of course some prior quantum chemistry knowledge, but not very advanced. Therefore it makes sense that you should be able to freeze the core and remove two orbitals ($p_x, p_y$) that do not contribute to the ground state. I could have checked which numbers correspond to $p_x$ and $p_y$ but it was faster to just run it and see how the exact energy changes, also confirming that I was (probably) right here. Those were orbitals 3 and 4."
   ]
  },
  {
   "cell_type": "code",
   "execution_count": 7,
   "metadata": {},
   "outputs": [],
   "source": [
    "from qiskit_nature.problems.second_quantization.electronic import ElectronicStructureProblem\n",
    "from qiskit_nature.transformers import FreezeCoreTransformer\n",
    "freezeCoreTransformer = FreezeCoreTransformer(True,[3,4])\n",
    "problem = ElectronicStructureProblem(driver, q_molecule_transformers=[freezeCoreTransformer])\n",
    "\n",
    "# Generate the second-quantized operators\n",
    "second_q_ops = problem.second_q_ops()\n",
    "\n",
    "# Hamiltonian\n",
    "main_op = second_q_ops[0]"
   ]
  },
  {
   "cell_type": "markdown",
   "metadata": {},
   "source": [
    "Furthermore, I decided to try the 2 qubit reduction setting, even though I still don't fully get how it works exactly. It would perhaps be more evident if I had read something explicit about the Parity Mapper. But it did work, ie. checking this option didn't mess the exact energy up."
   ]
  },
  {
   "cell_type": "code",
   "execution_count": 8,
   "metadata": {},
   "outputs": [],
   "source": [
    "from qiskit_nature.mappers.second_quantization import ParityMapper\n",
    "from qiskit_nature.converters.second_quantization.qubit_converter import QubitConverter\n",
    "\n",
    "# Setup the mapper and qubit converter\n",
    "mapper_type = 'ParityMapper'\n",
    "\n",
    "mapper = ParityMapper()\n",
    "\n",
    "converter = QubitConverter(mapper=mapper, two_qubit_reduction=True)\n",
    "\n",
    "# The fermionic operators are mapped to qubit operators\n",
    "num_particles = (problem.molecule_data_transformed.num_alpha,\n",
    "             problem.molecule_data_transformed.num_beta)\n",
    "qubit_op = converter.convert(main_op, num_particles=num_particles)"
   ]
  },
  {
   "cell_type": "markdown",
   "metadata": {},
   "source": [
    "We were required by this challenge to start with the Hartree-Fock state so let us do just that"
   ]
  },
  {
   "cell_type": "code",
   "execution_count": 9,
   "metadata": {},
   "outputs": [
    {
     "data": {
      "image/png": "[encoded data removed]",
      "text/plain": [
       "<Figure size 146.797x264.88 with 1 Axes>"
      ]
     },
     "execution_count": 9,
     "metadata": {},
     "output_type": "execute_result"
    }
   ],
   "source": [
    "from qiskit_nature.circuit.library import HartreeFock\n",
    "\n",
    "num_particles = (problem.molecule_data_transformed.num_alpha,\n",
    "             problem.molecule_data_transformed.num_beta)\n",
    "num_spin_orbitals = 2 * problem.molecule_data_transformed.num_molecular_orbitals\n",
    "init_state = HartreeFock(num_spin_orbitals, num_particles, converter)\n",
    "init_state.draw('mpl')"
   ]
  },
  {
   "cell_type": "markdown",
   "metadata": {},
   "source": [
    "It is at this point where we need to check if the exact ground state energy is correct. The exact result is $-8.90847$ Ha and we can be off by $0.004$ Ha, but it is safe to leave most of this margin to the optimizer/ansatz to deal with, it would be perfect if we still had close to the exact ground state energy at this point. It can only be higher, if it is lower it means we played with some wrong parameters or generally messed something up. If it is higher, it means we removed the actual ground state from the state space, but it probably sits just outside. We should still be able to approximate it using the VQE."
   ]
  },
  {
   "cell_type": "code",
   "execution_count": 10,
   "metadata": {},
   "outputs": [
    {
     "name": "stdout",
     "output_type": "stream",
     "text": [
      "Exact electronic energy -1.0887060157347381\n",
      "=== GROUND STATE ENERGY ===\n",
      " \n",
      "* Electronic ground state energy (Hartree): -8.907396311316\n",
      "  - computed part:      -1.088706015735\n",
      "  - FreezeCoreTransformer extracted energy part: -7.818690295581\n",
      "~ Nuclear repulsion energy (Hartree): 1.025934879643\n",
      "> Total ground state energy (Hartree): -7.881461431673\n",
      " \n",
      "=== MEASURED OBSERVABLES ===\n",
      " \n",
      "  0:  # Particles: 2.000 S: 0.000 S^2: 0.000 M: 0.000\n",
      " \n",
      "=== DIPOLE MOMENTS ===\n",
      " \n",
      "~ Nuclear dipole moment (a.u.): [0.0  0.0  2.92416221]\n",
      " \n",
      "  0: \n",
      "  * Electronic dipole moment (a.u.): [0.0  0.0  4.76300889]\n",
      "    - computed part:      [0.0  0.0  4.76695575]\n",
      "    - FreezeCoreTransformer extracted energy part: [0.0  0.0  -0.00394686]\n",
      "  > Dipole moment (a.u.): [0.0  0.0  -1.83884668]  Total: 1.83884668\n",
      "                 (debye): [0.0  0.0  -4.67388163]  Total: 4.67388163\n",
      " \n"
     ]
    }
   ],
   "source": [
    "from qiskit_nature.algorithms.ground_state_solvers.minimum_eigensolver_factories import NumPyMinimumEigensolverFactory\n",
    "from qiskit_nature.algorithms.ground_state_solvers import GroundStateEigensolver\n",
    "import numpy as np \n",
    "\n",
    "def exact_diagonalizer(problem, converter):\n",
    "    solver = NumPyMinimumEigensolverFactory()\n",
    "    calc = GroundStateEigensolver(converter, solver)\n",
    "    result = calc.solve(problem)\n",
    "    return result\n",
    "\n",
    "result_exact = exact_diagonalizer(problem, converter)\n",
    "exact_energy = np.real(result_exact.eigenenergies[0])\n",
    "print(\"Exact electronic energy\", exact_energy)\n",
    "print(result_exact)"
   ]
  },
  {
   "cell_type": "markdown",
   "metadata": {},
   "source": [
    "Great, we have $-8.90739$ Ha, which is off by $0.00108$ Ha, not terrible. We still have a margin of about $0.003$ Ha to work with."
   ]
  },
  {
   "cell_type": "markdown",
   "metadata": {},
   "source": [
    "Because of dimensionality of separable and entangled Hilbert spaces it is a good heuristic to realize that the eigenstate, whatever it is, is likely to be fully entangled. So each spin had to be connected to each other somehow, what requires $n-1$ CNOTs on $n$ qubits. Also, if you take a step back and think in terms of the second quantization operators, they tell you how many electrons are in each state, but the total number of valence electrons is 2. So you are more likely to have superpositions like $|01 \\rangle+|10\\rangle$ (entangled) rather than $|00 \\rangle+|10\\rangle$ (not entangled). Even though of course this is just an approximation at this point. This is of course because you would expect that if the electron is not in, say, the 2s Li orbital, then it is somewhere else, for example in the $p_z$ orbital. The \"0\"s correspond to the electron not being there and \"1\"s to the electron being there. <br>\n",
    "Either way, we expect the state to be highly entangled. With 4 qubits, we need at least 3 CNOTs. What would be a systematic approach to the ansatz to see if 3 qubits can work?<br>\n",
    "First, let's do a full layer of parametrized rotations. Then, introduce the CNOTs in some order, following each CNOT up with parametrized rotations on affected qubits. I later removed this as it wasn't necessary and reduced the number of parameters, and instead just did another full layer of rotations at the end. How many ways are there to introduce those 3 CNOTs? Well, we need to \"connect\" all the qubits, but we have the full layers of rotations anyway, and they can be used to invert the roles of target and control on a CNOT anyway, so there is no point considering, say, CNOT acting on the qubit 2 controlled by 1 and the CNOT acting on the qubit 1 controlled by 2 separately. The rotations are going to get different parameters and turn one into another anyway. So for the CNOTs it only matters which qubits they connect. <br>\n",
    "How many ways of placing them are there? First, pick two qubits and do a CNOT between them. We can choose in ${4 \\choose 2} = 6$ ways. Then, we can just do another CNOT between the two other qubits, and then the third one that connects one of the two selected in the first step to one of the two others. There are $4$ ways to do this as we select one of the $2$ twice. $24$ ways in total. Alternatively, the second CNOT connects one of the already entangled qubits with one of the other $2$, what gives $4$ possibilities, and the last one connects the last qubit to either of the other $3$, what gives $3$ possibilities. That is $72$ possibilities and a grand total of $96$ ways to order these $3$ CNOTs. We can just check all of them systematically but I only needed to get through about $12$ until I found one that worked:"
   ]
  },
  {
   "cell_type": "code",
   "execution_count": 11,
   "metadata": {
    "scrolled": true
   },
   "outputs": [
    {
     "data": {
      "image/png": "[encoded data removed]",
      "text/plain": [
       "<Figure size 628.397x264.88 with 1 Axes>"
      ]
     },
     "execution_count": 11,
     "metadata": {},
     "output_type": "execute_result"
    }
   ],
   "source": [
    "# Choose the ansatz\n",
    "ansatz_type = \"Custom\"\n",
    "\n",
    "from qiskit.circuit import Parameter, QuantumCircuit, QuantumRegister\n",
    "\n",
    "n = qubit_op.num_qubits\n",
    "    \n",
    "# Define the variational parameters\n",
    "    \n",
    "angles = {}\n",
    "for i in range(4*n):\n",
    "    angles[i] = Parameter('angles[{0}]'.format(i))\n",
    "    \n",
    "# Make an empty quantum circuit\n",
    "qc = QuantumCircuit(qubit_op.num_qubits)\n",
    "    \n",
    "#rotations\n",
    "for i in range(n):\n",
    "    qc.ry(angles[i],i)\n",
    "    qc.rz(angles[i+n],i)\n",
    "    \n",
    "# Place CNOTs\n",
    "qc.cx(2,3)\n",
    "qc.cx(0,2)\n",
    "qc.cx(1,3)\n",
    "    \n",
    "#second layer\n",
    "for i in range(n):\n",
    "    qc.ry(angles[2*n+i],i)\n",
    "    qc.rz(angles[3*n+i],i)\n",
    "    \n",
    "ansatz = qc\n",
    "ansatz.compose(init_state, front=True, inplace=True)\n",
    "\n",
    "ansatz.draw(output='mpl')"
   ]
  },
  {
   "cell_type": "markdown",
   "metadata": {},
   "source": [
    "Now, let us get the backend and the optimizer and finish the job."
   ]
  },
  {
   "cell_type": "code",
   "execution_count": 12,
   "metadata": {},
   "outputs": [],
   "source": [
    "from qiskit import Aer\n",
    "backend = Aer.get_backend('statevector_simulator')"
   ]
  },
  {
   "cell_type": "code",
   "execution_count": 13,
   "metadata": {},
   "outputs": [],
   "source": [
    "from qiskit.algorithms.optimizers import SLSQP\n",
    "\n",
    "optimizer_type = 'SLSQP'\n",
    "optimizer = SLSQP(maxiter=1000)"
   ]
  },
  {
   "cell_type": "code",
   "execution_count": 14,
   "metadata": {},
   "outputs": [
    {
     "name": "stdout",
     "output_type": "stream",
     "text": [
      "{   'aux_operator_eigenvalues': None,\n",
      "    'cost_function_evals': 701,\n",
      "    'eigenstate': array([-1.98497086e-05-6.10021405e-06j, -8.40207380e-04-9.32161344e-05j,\n",
      "        3.59776293e-02-5.97029555e-03j,  9.81156102e-01-1.37815772e-01j,\n",
      "        6.85243554e-04-1.50703514e-04j,  1.85041291e-05-1.37765766e-06j,\n",
      "       -2.27207188e-02+3.27279229e-03j, -1.70429527e-02+1.23138660e-03j,\n",
      "       -1.79635129e-03+3.56109623e-04j,  2.23921539e-03-1.03949959e-03j,\n",
      "        1.16642953e-03-2.33575547e-04j,  4.84963797e-03+2.93262732e-04j,\n",
      "       -1.11358155e-01+1.50822200e-02j, -7.79333319e-04+6.01217355e-04j,\n",
      "        5.85691192e-02-9.76025278e-03j,  2.99031188e-04-3.32702822e-04j]),\n",
      "    'eigenvalue': -1.0867024549370703,\n",
      "    'optimal_parameters': {   Parameter(angles[8]): 1.5413314816526815,\n",
      "                              Parameter(angles[9]): 1.08457192806228,\n",
      "                              Parameter(angles[10]): 1.5366172291219762,\n",
      "                              Parameter(angles[11]): 1.5829644902755327,\n",
      "                              Parameter(angles[12]): -0.07516502242781319,\n",
      "                              Parameter(angles[13]): -0.03070713211076208,\n",
      "                              Parameter(angles[14]): 0.07374912629304331,\n",
      "                              Parameter(angles[15]): 0.0910251825020692,\n",
      "                              Parameter(angles[6]): -0.006710394998695941,\n",
      "                              Parameter(angles[7]): -0.06832768157142485,\n",
      "                              Parameter(angles[2]): 1.6145908329309235,\n",
      "                              Parameter(angles[1]): 1.082934175969199,\n",
      "                              Parameter(angles[3]): -1.8167921539677532,\n",
      "                              Parameter(angles[4]): 0.007469036698403392,\n",
      "                              Parameter(angles[0]): 1.615307709256125,\n",
      "                              Parameter(angles[5]): 0.0004342020652048367},\n",
      "    'optimal_point': array([ 1.61530771e+00,  1.53661723e+00,  1.58296449e+00, -7.51650224e-02,\n",
      "       -3.07071321e-02,  7.37491263e-02,  9.10251825e-02,  1.08293418e+00,\n",
      "        1.61459083e+00, -1.81679215e+00,  7.46903670e-03,  4.34202065e-04,\n",
      "       -6.71039500e-03, -6.83276816e-02,  1.54133148e+00,  1.08457193e+00]),\n",
      "    'optimal_value': -1.0867024549370703,\n",
      "    'optimizer_evals': 701,\n",
      "    'optimizer_time': 5.85788631439209}\n"
     ]
    }
   ],
   "source": [
    "from qiskit.algorithms import VQE\n",
    "from IPython.display import display, clear_output\n",
    "\n",
    "# Print and save the data in lists\n",
    "def callback(eval_count, parameters, mean, std):  \n",
    "    # Overwrites the same line when printing\n",
    "    display(\"Evaluation: {}, Energy: {}, Std: {}\".format(eval_count, mean, std))\n",
    "    clear_output(wait=True)\n",
    "    counts.append(eval_count)\n",
    "    values.append(mean)\n",
    "    params.append(parameters)\n",
    "    deviation.append(std)\n",
    "\n",
    "counts = []\n",
    "values = []\n",
    "params = []\n",
    "deviation = []\n",
    "\n",
    "# Set initial parameters of the ansatz\n",
    "# We choose a fixed small displacement \n",
    "# So all participants start from similar starting point\n",
    "try:\n",
    "    initial_point = [0.01] * len(ansatz.ordered_parameters)\n",
    "except:\n",
    "    initial_point = [0.01] * ansatz.num_parameters\n",
    "\n",
    "algorithm = VQE(ansatz,\n",
    "                optimizer=optimizer,\n",
    "                quantum_instance=backend,\n",
    "                callback=callback,\n",
    "                initial_point=initial_point)\n",
    "\n",
    "result = algorithm.compute_minimum_eigenvalue(qubit_op)\n",
    "\n",
    "print(result)"
   ]
  },
  {
   "cell_type": "code",
   "execution_count": 15,
   "metadata": {},
   "outputs": [
    {
     "data": {
      "text/html": [
       "<div>\n",
       "<style scoped>\n",
       "    .dataframe tbody tr th:only-of-type {\n",
       "        vertical-align: middle;\n",
       "    }\n",
       "\n",
       "    .dataframe tbody tr th {\n",
       "        vertical-align: top;\n",
       "    }\n",
       "\n",
       "    .dataframe thead th {\n",
       "        text-align: right;\n",
       "    }\n",
       "</style>\n",
       "<table border=\"1\" class=\"dataframe\">\n",
       "  <thead>\n",
       "    <tr style=\"text-align: right;\">\n",
       "      <th></th>\n",
       "      <th>optimizer</th>\n",
       "      <th>ansatz</th>\n",
       "      <th># of qubits</th>\n",
       "      <th># of parameters</th>\n",
       "      <th>rotation blocks</th>\n",
       "      <th>entanglement_blocks</th>\n",
       "      <th>entanglement</th>\n",
       "      <th>repetitions</th>\n",
       "      <th>error (mHa)</th>\n",
       "      <th>pass</th>\n",
       "      <th>score</th>\n",
       "    </tr>\n",
       "  </thead>\n",
       "  <tbody>\n",
       "    <tr>\n",
       "      <th>0</th>\n",
       "      <td>SLSQP</td>\n",
       "      <td>QuantumCircuit</td>\n",
       "      <td>4</td>\n",
       "      <td>16</td>\n",
       "      <td>None</td>\n",
       "      <td>None</td>\n",
       "      <td>None</td>\n",
       "      <td>None</td>\n",
       "      <td>2.003561</td>\n",
       "      <td>True</td>\n",
       "      <td>3</td>\n",
       "    </tr>\n",
       "  </tbody>\n",
       "</table>\n",
       "</div>"
      ],
      "text/plain": [
       "  optimizer          ansatz  # of qubits  # of parameters rotation blocks  \\\n",
       "0     SLSQP  QuantumCircuit            4               16            None   \n",
       "\n",
       "  entanglement_blocks entanglement repetitions  error (mHa)  pass  score  \n",
       "0                None         None        None     2.003561  True      3  "
      ]
     },
     "execution_count": 15,
     "metadata": {},
     "output_type": "execute_result"
    },
    {
     "data": {
      "image/png": "[encoded data removed]",
      "text/plain": [
       "<Figure size 432x288 with 1 Axes>"
      ]
     },
     "metadata": {
      "needs_background": "light"
     },
     "output_type": "display_data"
    }
   ],
   "source": [
    "# Store results in a dictionary\n",
    "from qiskit.transpiler import PassManager\n",
    "from qiskit.transpiler.passes import Unroller\n",
    "\n",
    "# Unroller transpile your circuit into CNOTs and U gates\n",
    "pass_ = Unroller(['u', 'cx'])\n",
    "pm = PassManager(pass_)\n",
    "ansatz_tp = pm.run(ansatz)\n",
    "cnots = ansatz_tp.count_ops()['cx']\n",
    "score = cnots\n",
    "\n",
    "accuracy_threshold = 4.0 # in mHa\n",
    "energy = result.optimal_value\n",
    "\n",
    "if ansatz_type == \"TwoLocal\":\n",
    "    result_dict = {\n",
    "        'optimizer': optimizer.__class__.__name__,\n",
    "        'mapping': converter.mapper.__class__.__name__,\n",
    "        'ansatz': ansatz.__class__.__name__,\n",
    "        'rotation blocks': rotation_blocks,\n",
    "        'entanglement_blocks': entanglement_blocks,\n",
    "        'entanglement': entanglement,\n",
    "        'repetitions': repetitions,\n",
    "        'skip_final_rotation_layer': skip_final_rotation_layer,\n",
    "        'energy (Ha)': energy,\n",
    "        'error (mHa)': (energy-exact_energy)*1000,\n",
    "        'pass': (energy-exact_energy)*1000 <= accuracy_threshold,\n",
    "        '# of parameters': len(result.optimal_point),\n",
    "        'final parameters': result.optimal_point,\n",
    "        '# of evaluations': result.optimizer_evals,\n",
    "        'optimizer time': result.optimizer_time,\n",
    "        '# of qubits': int(qubit_op.num_qubits),\n",
    "        '# of CNOTs': cnots,\n",
    "        'score': score}\n",
    "else:\n",
    "    result_dict = {\n",
    "        'optimizer': optimizer.__class__.__name__,\n",
    "        'mapping': converter.mapper.__class__.__name__,\n",
    "        'ansatz': ansatz.__class__.__name__,\n",
    "        'rotation blocks': None,\n",
    "        'entanglement_blocks': None,\n",
    "        'entanglement': None,\n",
    "        'repetitions': None,\n",
    "        'skip_final_rotation_layer': None,\n",
    "        'energy (Ha)': energy,\n",
    "        'error (mHa)': (energy-exact_energy)*1000,\n",
    "        'pass': (energy-exact_energy)*1000 <= accuracy_threshold,\n",
    "        '# of parameters': len(result.optimal_point),\n",
    "        'final parameters': result.optimal_point,\n",
    "        '# of evaluations': result.optimizer_evals,\n",
    "        'optimizer time': result.optimizer_time,\n",
    "        '# of qubits': int(qubit_op.num_qubits),\n",
    "        '# of CNOTs': cnots,\n",
    "        'score': score}\n",
    "\n",
    "# Plot the results\n",
    "import matplotlib.pyplot as plt\n",
    "\n",
    "fig, ax = plt.subplots(1, 1)\n",
    "ax.set_xlabel('Iterations')\n",
    "ax.set_ylabel('Energy')\n",
    "ax.grid()\n",
    "fig.text(0.7, 0.75, f'Energy: {result.optimal_value:.3f}\\nScore: {score:.0f}')\n",
    "plt.title(f\"{result_dict['optimizer']}-{result_dict['mapping']}\\n{result_dict['ansatz']}\")\n",
    "ax.plot(counts, values)\n",
    "ax.axhline(exact_energy, linestyle='--')\n",
    "fig_title = f\"\\\n",
    "{result_dict['optimizer']}-\\\n",
    "{result_dict['mapping']}-\\\n",
    "{result_dict['ansatz']}-\\\n",
    "Energy({result_dict['energy (Ha)']:.3f})-\\\n",
    "Score({result_dict['score']:.0f})\\\n",
    ".png\"\n",
    "fig.savefig(fig_title, dpi=300)\n",
    "\n",
    "# Display and save the data\n",
    "import pandas as pd\n",
    "import os.path\n",
    "filename = 'results_hli.csv'\n",
    "if os.path.isfile(filename):\n",
    "    result_df = pd.read_csv(filename)\n",
    "    result_df = result_df.append([result_dict])\n",
    "else:\n",
    "    result_df = pd.DataFrame.from_dict([result_dict])\n",
    "result_df.to_csv(filename)\n",
    "result_df[['optimizer','ansatz', '# of qubits', '# of parameters','rotation blocks', 'entanglement_blocks',\n",
    "    'entanglement', 'repetitions', 'error (mHa)', 'pass', 'score']]"
   ]
  },
  {
   "cell_type": "markdown",
   "metadata": {},
   "source": [
    "The calculated value is $2.004$ mHa away from the result of the exact eigensolver, which was $1.08$ mHa away from the accepted value, so in total this result is $3.084$ mHa too high, which is within bounds of $4$ mHa."
   ]
  },
  {
   "cell_type": "code",
   "execution_count": null,
   "metadata": {},
   "outputs": [],
   "source": []
  }
 ],
 "metadata": {
  "kernelspec": {
   "display_name": "Python 3",
   "language": "python",
   "name": "python3"
  },
  "language_info": {
   "codemirror_mode": {
    "name": "ipython",
    "version": 3
   },
   "file_extension": ".py",
   "mimetype": "text/x-python",
   "name": "python",
   "nbconvert_exporter": "python",
   "pygments_lexer": "ipython3",
   "version": "3.7.6"
  }
 },
 "nbformat": 4,
 "nbformat_minor": 5
}
