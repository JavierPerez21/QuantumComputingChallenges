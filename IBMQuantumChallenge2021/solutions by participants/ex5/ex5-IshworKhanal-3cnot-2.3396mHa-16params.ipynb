{
 "cells": [
  {
   "cell_type": "markdown",
   "metadata": {},
   "source": [
    "<h1> Main Goal </h1>\n",
    "The main problem of this challenge is to create the shortest ansatz circuit that accurately represents <br>\n",
    "the ground state of the given problem , in this case LiH(Lithium Hydride) molecule.<br>"
   ]
  },
  {
   "cell_type": "markdown",
   "metadata": {},
   "source": [
    "The main problem can be divided into two sub problems<br>\n",
    "1. Reduce the number of qubits.<br>\n",
    "2. Optimize the ansatz.<br>\n",
    "\n",
    "First, we will tackle the problem of reducing the number of qubits problem.<br>\n",
    "Let's get started.<br>"
   ]
  },
  {
   "cell_type": "code",
   "execution_count": 1,
   "metadata": {},
   "outputs": [],
   "source": [
    "#run this cell if you do not have depedencies installed.(uncomment the following line to run.)\n",
    "#!pip install -r requirements.txt"
   ]
  },
  {
   "cell_type": "code",
   "execution_count": 2,
   "metadata": {},
   "outputs": [],
   "source": [
    "from qiskit_nature.drivers import PySCFDriver\n",
    "from qiskit_nature.problems.second_quantization.electronic import ElectronicStructureProblem\n",
    "from qiskit_nature.mappers.second_quantization import ParityMapper, BravyiKitaevMapper, JordanWignerMapper\n",
    "from qiskit_nature.converters.second_quantization.qubit_converter import QubitConverter\n",
    "from qiskit_nature.circuit.library import HartreeFock\n",
    "from qiskit.circuit.library import TwoLocal\n",
    "from qiskit_nature.circuit.library import UCCSD, PUCCD, SUCCD\n",
    "from qiskit import Aer\n",
    "from qiskit.algorithms.optimizers import COBYLA, L_BFGS_B, SPSA, SLSQP\n",
    "from qiskit_nature.algorithms.ground_state_solvers.minimum_eigensolver_factories import NumPyMinimumEigensolverFactory\n",
    "from qiskit_nature.algorithms.ground_state_solvers import GroundStateEigensolver\n",
    "import numpy as np\n",
    "from qiskit.algorithms import VQE\n",
    "from IPython.display import display, clear_output"
   ]
  },
  {
   "cell_type": "markdown",
   "metadata": {},
   "source": [
    "<h1> 1. Driver </h1>\n",
    "By running driver , we acquire all the necessary information about the LiH molecule <br>\n",
    "needed to run quantum algorithm"
   ]
  },
  {
   "cell_type": "code",
   "execution_count": 3,
   "metadata": {},
   "outputs": [],
   "source": [
    "molecule = 'Li 0.0 0.0 0.0; H 0.0 0.0 1.5474'\n",
    "driver = PySCFDriver(atom=molecule)\n",
    "qmolecule = driver.run()\n"
   ]
  },
  {
   "cell_type": "markdown",
   "metadata": {},
   "source": [
    "<h1>2. ElectronicStructureProblem </h1>\n",
    "By applying ElectronicStructureProblem we get the list of fermionic operators before mapping them to qubits <br>"
   ]
  },
  {
   "cell_type": "code",
   "execution_count": 4,
   "metadata": {},
   "outputs": [],
   "source": [
    "problem = ElectronicStructureProblem(driver)\n",
    "\n",
    "# Generate the second-quantized operators\n",
    "second_q_ops = problem.second_q_ops()\n",
    "\n",
    "# Hamiltonianmo\n",
    "main_op = second_q_ops[0]"
   ]
  },
  {
   "cell_type": "markdown",
   "metadata": {},
   "source": [
    "<h1> 3. Qubit Converter </h1>\n",
    "Qiskit provides various mapping schemes. We will use 'ParityMapper' mainly because it supports<br>'two_qubit_reduction' which we will see shortly in application.<br>"
   ]
  },
  {
   "cell_type": "code",
   "execution_count": 5,
   "metadata": {},
   "outputs": [],
   "source": [
    "# Setup the mapper and qubit converter\n",
    "mapper_type = 'ParityMapper'\n",
    "\n",
    "if mapper_type == 'ParityMapper':\n",
    "    mapper = ParityMapper()\n",
    "elif mapper_type == 'JordanWignerMapper':\n",
    "    mapper = JordanWignerMapper()\n",
    "elif mapper_type == 'BravyiKitaevMapper':\n",
    "    mapper = BravyiKitaevMapper()\n",
    "\n",
    "converter = QubitConverter(mapper=mapper,two_qubit_reduction = False)\n",
    "\n",
    "# The fermionic operators are mapped to qubit operators\n",
    "num_particles = (problem.molecule_data_transformed.num_alpha,\n",
    "             problem.molecule_data_transformed.num_beta)\n",
    "qubit_op = converter.convert(main_op, num_particles=num_particles)"
   ]
  },
  {
   "cell_type": "markdown",
   "metadata": {},
   "source": [
    "<h1> 4.Number of qubits reduction </h1>\n",
    "Let's see the number of qubits without any optimizations"
   ]
  },
  {
   "cell_type": "code",
   "execution_count": 6,
   "metadata": {},
   "outputs": [
    {
     "name": "stdout",
     "output_type": "stream",
     "text": [
      "The number of qubits without optimization is 12\n"
     ]
    }
   ],
   "source": [
    "print(f'The number of qubits without optimization is {qubit_op.num_qubits}')"
   ]
  },
  {
   "cell_type": "markdown",
   "metadata": {},
   "source": [
    "So, the number of qubits is 12 now, let's see how we can reduce it.<br>\n",
    "\n",
    "First thing we can do is assign the 'two_qubit_reduction' parameter <br>\n",
    "of 'QubitConverter' to 'True' and that will reduce the num_qubits by 2.<br><br>\n",
    "\n",
    "We will be reusing codes from above cells with some modifications.<br>\n"
   ]
  },
  {
   "cell_type": "code",
   "execution_count": 7,
   "metadata": {},
   "outputs": [],
   "source": [
    "# Setup the mapper and qubit converter\n",
    "mapper_type = 'ParityMapper'\n",
    "\n",
    "if mapper_type == 'ParityMapper':\n",
    "    mapper = ParityMapper()\n",
    "elif mapper_type == 'JordanWignerMapper':\n",
    "    mapper = JordanWignerMapper()\n",
    "elif mapper_type == 'BravyiKitaevMapper':\n",
    "    mapper = BravyiKitaevMapper()\n",
    "\n",
    "converter = QubitConverter(mapper=mapper,two_qubit_reduction = True)\n",
    "\n",
    "# The fermionic operators are mapped to qubit operators\n",
    "num_particles = (problem.molecule_data_transformed.num_alpha,\n",
    "             problem.molecule_data_transformed.num_beta)\n",
    "qubit_op = converter.convert(main_op, num_particles=num_particles)"
   ]
  },
  {
   "cell_type": "code",
   "execution_count": 8,
   "metadata": {},
   "outputs": [
    {
     "name": "stdout",
     "output_type": "stream",
     "text": [
      "The number of qubits after two_qubit_reduction is 10\n"
     ]
    }
   ],
   "source": [
    "print(f'The number of qubits after two_qubit_reduction is {qubit_op.num_qubits}')"
   ]
  },
  {
   "cell_type": "markdown",
   "metadata": {},
   "source": [
    "As we can see, the number of qubits has reduced to 10, now we can further reduce the number of qubits by <br>\n",
    "freezing the core electrons that do not contribute significantly to chemistry and also by applying <br>'remove_orbitals'"
   ]
  },
  {
   "cell_type": "markdown",
   "metadata": {},
   "source": [
    "<h3> 'remove_orbitals' </h3>\n",
    "I could have spend more time finding the exact orbitals necessary to remove here but <br>\n",
    "after quick hit and trial method , I found out the orbitals to be removed are 3 and 4 <br> <br>\n",
    "Without remove_orbitals the num_of_qubits is 8 and after applying it reduces to 4.\n"
   ]
  },
  {
   "cell_type": "code",
   "execution_count": 9,
   "metadata": {},
   "outputs": [],
   "source": [
    "from qiskit_nature.transformers import FreezeCoreTransformer\n",
    "problem = ElectronicStructureProblem(driver,q_molecule_transformers = [FreezeCoreTransformer(freeze_core = True,\n",
    "                                                                                            remove_orbitals = [3,4])])\n",
    "\n",
    "# Generate the second-quantized operators\n",
    "second_q_ops = problem.second_q_ops()\n",
    "\n",
    "# Hamiltonianmo\n",
    "main_op = second_q_ops[0]"
   ]
  },
  {
   "cell_type": "code",
   "execution_count": 10,
   "metadata": {},
   "outputs": [],
   "source": [
    "# Setup the mapper and qubit converter\n",
    "mapper_type = 'ParityMapper'\n",
    "\n",
    "if mapper_type == 'ParityMapper':\n",
    "    mapper = ParityMapper()\n",
    "elif mapper_type == 'JordanWignerMapper':\n",
    "    mapper = JordanWignerMapper()\n",
    "elif mapper_type == 'BravyiKitaevMapper':\n",
    "    mapper = BravyiKitaevMapper()\n",
    "\n",
    "converter = QubitConverter(mapper=mapper,two_qubit_reduction = True)\n",
    "\n",
    "# The fermionic operators are mapped to qubit operators\n",
    "num_particles = (problem.molecule_data_transformed.num_alpha,\n",
    "             problem.molecule_data_transformed.num_beta)\n",
    "qubit_op = converter.convert(main_op, num_particles=num_particles)"
   ]
  },
  {
   "cell_type": "markdown",
   "metadata": {},
   "source": [
    "Now, let's see the number of qubits after we have applied two_qubit_reduction, freeze_core and remove_orbitals."
   ]
  },
  {
   "cell_type": "code",
   "execution_count": 11,
   "metadata": {},
   "outputs": [
    {
     "name": "stdout",
     "output_type": "stream",
     "text": [
      "The number of qubits after  is 4\n"
     ]
    }
   ],
   "source": [
    "print(f'The number of qubits after  is {qubit_op.num_qubits}')"
   ]
  },
  {
   "cell_type": "markdown",
   "metadata": {},
   "source": [
    "<h1> 5. z2symmetries reduction </h1>\n",
    "Now, the only optimization remaining is to apply the 'z2symmetry_reduction' <br>\n",
    "and this can be done in the following way.<br>"
   ]
  },
  {
   "cell_type": "code",
   "execution_count": 12,
   "metadata": {},
   "outputs": [],
   "source": [
    "# Setup the mapper and qubit converter\n",
    "mapper_type = 'ParityMapper'\n",
    "\n",
    "if mapper_type == 'ParityMapper':\n",
    "    mapper = ParityMapper()\n",
    "elif mapper_type == 'JordanWignerMapper':\n",
    "    mapper = JordanWignerMapper()\n",
    "elif mapper_type == 'BravyiKitaevMapper':\n",
    "    mapper = BravyiKitaevMapper()\n",
    "\n",
    "converter = QubitConverter(mapper=mapper,two_qubit_reduction = True,z2symmetry_reduction = [1,1])\n",
    "\n",
    "# The fermionic operators are mapped to qubit operators\n",
    "num_particles = (problem.molecule_data_transformed.num_alpha,\n",
    "             problem.molecule_data_transformed.num_beta)\n",
    "qubit_op = converter.convert(main_op, num_particles=num_particles)"
   ]
  },
  {
   "cell_type": "markdown",
   "metadata": {},
   "source": [
    "One thing to be careful about z2symmetry_reduction is that the length of array parameter in the <br>\n",
    "'z2symmetry reduction' and 'remove_orbitals' should be same. In our case both are of length 2.<br>\n",
    "<br>\n",
    "In z2symmetry_reduction = [1,1] , we can pass either 1 or -1. '-1' means we will not apply z2symmetry_reduction<b2> and '1' means we will apply."
   ]
  },
  {
   "cell_type": "markdown",
   "metadata": {},
   "source": [
    "<h1> 6. Initial State </h1>\n",
    "HartreeFock is a good initial state and since we are already provided with that we will use it <br>\n",
    "without any modifications.<br>"
   ]
  },
  {
   "cell_type": "code",
   "execution_count": 13,
   "metadata": {},
   "outputs": [],
   "source": [
    "num_particles = (problem.molecule_data_transformed.num_alpha,\n",
    "             problem.molecule_data_transformed.num_beta)\n",
    "num_spin_orbitals = 2 * problem.molecule_data_transformed.num_molecular_orbitals\n",
    "init_state = HartreeFock(num_spin_orbitals, num_particles, converter)"
   ]
  },
  {
   "cell_type": "markdown",
   "metadata": {},
   "source": [
    "<h5> Let's inspect how the intial state looks </h5>\n"
   ]
  },
  {
   "cell_type": "code",
   "execution_count": 14,
   "metadata": {},
   "outputs": [
    {
     "data": {
      "image/png": "[encoded data removed]",
      "text/plain": [
       "<Figure size 146.797x264.88 with 1 Axes>"
      ]
     },
     "execution_count": 14,
     "metadata": {},
     "output_type": "execute_result"
    }
   ],
   "source": [
    "init_state.draw('mpl')"
   ]
  },
  {
   "cell_type": "markdown",
   "metadata": {},
   "source": [
    "<h1>7. Exact Eignesolver </h1>\n",
    "Now, let us see how much is the exact ground state energy with exact diagonalization of the Hamiltonian matrix.<br>"
   ]
  },
  {
   "cell_type": "code",
   "execution_count": 15,
   "metadata": {},
   "outputs": [
    {
     "name": "stdout",
     "output_type": "stream",
     "text": [
      "Exact electronic energy -1.0887060157347412\n",
      "=== GROUND STATE ENERGY ===\n",
      " \n",
      "* Electronic ground state energy (Hartree): -8.907396311316\n",
      "  - computed part:      -1.088706015735\n",
      "  - FreezeCoreTransformer extracted energy part: -7.818690295581\n",
      "~ Nuclear repulsion energy (Hartree): 1.025934879643\n",
      "> Total ground state energy (Hartree): -7.881461431673\n",
      " \n",
      "=== MEASURED OBSERVABLES ===\n",
      " \n",
      "  0:  # Particles: 2.000 S: 0.000 S^2: 0.000 M: 0.000\n",
      " \n",
      "=== DIPOLE MOMENTS ===\n",
      " \n",
      "~ Nuclear dipole moment (a.u.): [0.0  0.0  2.92416221]\n",
      " \n",
      "  0: \n",
      "  * Electronic dipole moment (a.u.): [0.0  0.0  4.76300889]\n",
      "    - computed part:      [0.0  0.0  4.76695575]\n",
      "    - FreezeCoreTransformer extracted energy part: [0.0  0.0  -0.00394686]\n",
      "  > Dipole moment (a.u.): [0.0  0.0  -1.83884668]  Total: 1.83884668\n",
      "                 (debye): [0.0  0.0  -4.67388163]  Total: 4.67388163\n",
      " \n"
     ]
    }
   ],
   "source": [
    "def exact_diagonalizer(problem, converter):\n",
    "    solver = NumPyMinimumEigensolverFactory()\n",
    "    calc = GroundStateEigensolver(converter, solver)\n",
    "    result = calc.solve(problem)\n",
    "    return result\n",
    "\n",
    "result_exact = exact_diagonalizer(problem, converter)\n",
    "exact_energy = np.real(result_exact.eigenenergies[0])\n",
    "print(\"Exact electronic energy\", exact_energy)\n",
    "print(result_exact)"
   ]
  },
  {
   "cell_type": "markdown",
   "metadata": {},
   "source": [
    "<h1> 8. Backend </h1>\n",
    "We will use statevector_simulator backend for this challenge."
   ]
  },
  {
   "cell_type": "code",
   "execution_count": 16,
   "metadata": {},
   "outputs": [],
   "source": [
    "backend = Aer.get_backend('statevector_simulator')"
   ]
  },
  {
   "cell_type": "markdown",
   "metadata": {},
   "source": [
    "<h1>9. Choice of Optimizers </h1>\n",
    "We have a few optimizers to choose from.<br>\n",
    "The following cell runs all optimizer one by one and then print the result for each one.<br>\n",
    "After that we will choose the best one.<br>\n",
    "<i> We will use default ansatz to run this optimizer test. </i><br>"
   ]
  },
  {
   "cell_type": "code",
   "execution_count": 17,
   "metadata": {},
   "outputs": [
    {
     "name": "stdout",
     "output_type": "stream",
     "text": [
      "COBLYA  Optimal Value:-1.0864747794534508   Optimizer time : 20.36427977704443\n",
      "L_BFGS_B  Optimal Value:-1.0858690710762091   Optimizer time : 18.651083620963618\n",
      "SPSA  Optimal Value:-1.0787876193001291   Optimizer time : 39.48127787606791\n",
      "SLSQP  Optimal Value:-1.0886964512937993   Optimizer time : 46.67370682791807\n"
     ]
    }
   ],
   "source": [
    "maxiter = 1000\n",
    "#-------ansatz part---------\n",
    "# Single qubit rotations that are placed on all qubits with independent parameters\n",
    "rotation_blocks = ['ry','rz']\n",
    "# Entangling gates\n",
    "entanglement_blocks = ['cx']\n",
    "# How the qubits are entangled \n",
    "entanglement = 'full'\n",
    "# Repetitions of rotation_blocks + entanglement_blocks with independent parameters\n",
    "repetitions = 5\n",
    "# Skip the final rotation_blocks layer\n",
    "skip_final_rotation_layer = True\n",
    "ansatz = TwoLocal(qubit_op.num_qubits, rotation_blocks, entanglement_blocks, reps=repetitions, \n",
    "                  entanglement=entanglement, skip_final_rotation_layer=skip_final_rotation_layer)\n",
    "\n",
    "##---------optimizer part---------------\n",
    "optimizers ={'COBLYA':COBYLA(maxiter=maxiter),\n",
    "             'L_BFGS_B':L_BFGS_B(maxfun=maxiter),\n",
    "             'SPSA':SPSA(maxiter=maxiter),\n",
    "             'SLSQP':SLSQP(maxiter= maxiter)}\n",
    "for key,val in optimizers.items():\n",
    "    # Set initial parameters of the ansatz\n",
    "    # We choose a fixed small displacement \n",
    "    # So all participants start from similar starting point\n",
    "    try:\n",
    "        initial_point = [0.01] * len(ansatz.ordered_parameters)\n",
    "    except:\n",
    "        initial_point = [0.01] * ansatz.num_parameters\n",
    "\n",
    "    algorithm = VQE(ansatz,\n",
    "                    optimizer=val,\n",
    "                    quantum_instance=backend,\n",
    "                    initial_point=initial_point)\n",
    "\n",
    "    result = algorithm.compute_minimum_eigenvalue(qubit_op)\n",
    "    print(f'{key}  Optimal Value:{result.optimal_value}   Optimizer time : {result.optimizer_time}')"
   ]
  },
  {
   "cell_type": "markdown",
   "metadata": {},
   "source": [
    "<h6>So, we find out that 'SLSQP' optimizer is the best one for us and we will be using that one.</h6>"
   ]
  },
  {
   "cell_type": "markdown",
   "metadata": {},
   "source": [
    "<h1>10. Ansatz </h1>\n",
    "Now, the only thing remaining is to optimize the ansatz.<br><br>\n",
    "We also have a few ansatz type to choose from.<br><br>\n",
    "<i>The main thing to keep in mind is that we want the cost i.e. number of CNOTs to be <br>\n",
    "as low as possible while keeping the error in acceptable range.</i>\n",
    "After some calculations, I prepared the following table which shows the statistics for <br>\n",
    "various ansatz"
   ]
  },
  {
   "cell_type": "code",
   "execution_count": 18,
   "metadata": {
    "scrolled": true
   },
   "outputs": [
    {
     "data": {
      "text/html": [
       "<div>\n",
       "<style scoped>\n",
       "    .dataframe tbody tr th:only-of-type {\n",
       "        vertical-align: middle;\n",
       "    }\n",
       "\n",
       "    .dataframe tbody tr th {\n",
       "        vertical-align: top;\n",
       "    }\n",
       "\n",
       "    .dataframe thead th {\n",
       "        text-align: right;\n",
       "    }\n",
       "</style>\n",
       "<table border=\"1\" class=\"dataframe\">\n",
       "  <thead>\n",
       "    <tr style=\"text-align: right;\">\n",
       "      <th></th>\n",
       "      <th>Ansatz Type</th>\n",
       "      <th>Score</th>\n",
       "      <th>Error</th>\n",
       "    </tr>\n",
       "  </thead>\n",
       "  <tbody>\n",
       "    <tr>\n",
       "      <th>0</th>\n",
       "      <td>UCCSD</td>\n",
       "      <td>172</td>\n",
       "      <td>0.000019</td>\n",
       "    </tr>\n",
       "    <tr>\n",
       "      <th>1</th>\n",
       "      <td>PUCCD</td>\n",
       "      <td>80</td>\n",
       "      <td>4.218935</td>\n",
       "    </tr>\n",
       "    <tr>\n",
       "      <th>2</th>\n",
       "      <td>SUCCD</td>\n",
       "      <td>120</td>\n",
       "      <td>2.241383</td>\n",
       "    </tr>\n",
       "    <tr>\n",
       "      <th>3</th>\n",
       "      <td>TwoLocal</td>\n",
       "      <td>30</td>\n",
       "      <td>0.053410</td>\n",
       "    </tr>\n",
       "  </tbody>\n",
       "</table>\n",
       "</div>"
      ],
      "text/plain": [
       "  Ansatz Type  Score     Error\n",
       "0       UCCSD    172  0.000019\n",
       "1       PUCCD     80  4.218935\n",
       "2       SUCCD    120  2.241383\n",
       "3    TwoLocal     30  0.053410"
      ]
     },
     "execution_count": 18,
     "metadata": {},
     "output_type": "execute_result"
    }
   ],
   "source": [
    "import pandas as pd\n",
    "df = pd.read_csv('ansatz_comparison.csv')\n",
    "df[['Ansatz Type','Score','Error']]"
   ]
  },
  {
   "cell_type": "markdown",
   "metadata": {},
   "source": [
    "If number of cnots was not as issue, it would have been a different story but <br>since the number of cnots\n",
    "    is a crucial factor we choose <i> TwoLocal </i>"
   ]
  },
  {
   "cell_type": "markdown",
   "metadata": {},
   "source": [
    "<h1> 11. Reducing the cost </h1>\n",
    "<br><br>Since we have chosen <i>TwoLocal</i> as our ansatz and <i>SLSQP</i> as our optimizer,<br>\n",
    "only thing remaining to do is reduce the cost and possibly bring it to lowest possible score <br>\n",
    "in our case <i> 3 </i>."
   ]
  },
  {
   "cell_type": "markdown",
   "metadata": {},
   "source": [
    "Let's start by changing the various parameters of TwoLocal starting with<br>\n",
    "<h4>Entanglement </h4>\n",
    "For entanglement, we can pass one of following values ['full','linear','circular','sca'] <br>\n",
    "Let's see which scheme provides best score within acepted error range."
   ]
  },
  {
   "cell_type": "code",
   "execution_count": 19,
   "metadata": {},
   "outputs": [
    {
     "name": "stdout",
     "output_type": "stream",
     "text": [
      "For full entanglement Error = 0.009564440941911556 Score = 30\n",
      "For linear entanglement Error = 0.002082203265363347 Score = 15\n",
      "For circular entanglement Error = 0.003740394391771318 Score = 20\n",
      "For sca entanglement Error = 0.02722792970155652 Score = 20\n"
     ]
    }
   ],
   "source": [
    "from qiskit.transpiler import PassManager\n",
    "from qiskit.transpiler.passes import Unroller\n",
    "entanglement_params = ['full','linear','circular','sca']\n",
    "\n",
    "#helper function to count the no.of cnots\n",
    "def count_cnots(ansatz):\n",
    "    pass_ = Unroller(['u', 'cx'])\n",
    "    pm = PassManager(pass_)\n",
    "    ansatz_tp = pm.run(ansatz)\n",
    "    cnots = ansatz_tp.count_ops()['cx']\n",
    "    return cnots\n",
    "\n",
    "\n",
    "\n",
    "#optimizer\n",
    "optimizer = SLSQP(maxiter = 1000)\n",
    "\n",
    "\n",
    "#ansatz\n",
    "# Single qubit rotations that are placed on all qubits with independent parameters\n",
    "rotation_blocks = ['ry','rz']\n",
    "# Entangling gates\n",
    "entanglement_blocks = ['cx']\n",
    "# How the qubits are entangled \n",
    "# Repetitions of rotation_blocks + entanglement_blocks with independent parameters\n",
    "repetitions = 5\n",
    "# Skip the final rotation_blocks layer\n",
    "skip_final_rotation_layer = True\n",
    "\n",
    "for each_params in entanglement_params:\n",
    "    ansatz = TwoLocal(qubit_op.num_qubits, rotation_blocks, entanglement_blocks, reps=repetitions, \n",
    "                  entanglement=each_params, skip_final_rotation_layer=skip_final_rotation_layer)\n",
    "    try:\n",
    "        initial_point = [0.01] * len(ansatz.ordered_parameters)\n",
    "    except:\n",
    "        initial_point = [0.01] * ansatz.num_parameters\n",
    "\n",
    "    algorithm = VQE(ansatz,\n",
    "                    optimizer = optimizer,\n",
    "                    quantum_instance = backend,\n",
    "                    initial_point = initial_point)\n",
    "\n",
    "    result = algorithm.compute_minimum_eigenvalue(qubit_op)\n",
    "    cnots  = count_cnots(ansatz)\n",
    "    error = (result.optimal_value - exact_energy) * 1000\n",
    "    print(f'For {each_params} entanglement Error = {error} Score = {cnots}')\n",
    "    \n"
   ]
  },
  {
   "cell_type": "markdown",
   "metadata": {},
   "source": [
    "From above run, it is clear 'linear' entanglement is best suited for us.<br>\n",
    "<br>\n",
    "<h4> Repetition </h4>\n",
    "\n",
    "Let's play around the 'repetition' parameter now."
   ]
  },
  {
   "cell_type": "code",
   "execution_count": 20,
   "metadata": {},
   "outputs": [
    {
     "name": "stdout",
     "output_type": "stream",
     "text": [
      "For 5 repetitions, Error = 0.002082203265363347 ,Score = 15\n",
      "For 4 repetitions, Error = 2.155432686287373 ,Score = 12\n",
      "For 3 repetitions, Error = 4.257978149452724 ,Score = 9\n",
      "For 2 repetitions, Error = 410.9160290696663 ,Score = 6\n",
      "For 1 repetitions, Error = 411.72712476577135 ,Score = 3\n"
     ]
    }
   ],
   "source": [
    "from qiskit.transpiler import PassManager\n",
    "from qiskit.transpiler.passes import Unroller\n",
    "entanglement_params = ['full','linear','circular','sca']\n",
    "\n",
    "#helper function to count the no.of cnots\n",
    "def count_cnots(ansatz):\n",
    "    pass_ = Unroller(['u', 'cx'])\n",
    "    pm = PassManager(pass_)\n",
    "    ansatz_tp = pm.run(ansatz)\n",
    "    cnots = ansatz_tp.count_ops()['cx']\n",
    "    return cnots\n",
    "\n",
    "\n",
    "\n",
    "#optimizer\n",
    "optimizer = SLSQP(maxiter = 2000)\n",
    "\n",
    "\n",
    "#ansatz\n",
    "# Single qubit rotations that are placed on all qubits with independent parameters\n",
    "rotation_blocks = ['ry','rz']\n",
    "# Entangling gates\n",
    "entanglement_blocks = ['cx']\n",
    "# How the qubits are entangled \n",
    "entanglement = 'linear'\n",
    "# Repetitions of rotation_blocks + entanglement_blocks with independent parameters\n",
    "repetitions = [5,4,3,2,1]\n",
    "# Skip the final rotation_blocks layer\n",
    "skip_final_rotation_layer = True\n",
    "\n",
    "for each_params in repetitions:\n",
    "    ansatz = TwoLocal(qubit_op.num_qubits, rotation_blocks, entanglement_blocks, reps=each_params, \n",
    "                  entanglement=entanglement, skip_final_rotation_layer=skip_final_rotation_layer)\n",
    "    try:\n",
    "        initial_point = [0.01] * len(ansatz.ordered_parameters)\n",
    "    except:\n",
    "        initial_point = [0.01] * ansatz.num_parameters\n",
    "\n",
    "    algorithm = VQE(ansatz,\n",
    "                    optimizer = optimizer,\n",
    "                    quantum_instance = backend,\n",
    "                    initial_point = initial_point)\n",
    "\n",
    "    result = algorithm.compute_minimum_eigenvalue(qubit_op)\n",
    "    cnots  = count_cnots(ansatz)\n",
    "    error = (result.optimal_value - exact_energy) * 1000\n",
    "    print(f'For {each_params} repetitions, Error = {error} ,Score = {cnots}')\n",
    "    \n"
   ]
  },
  {
   "cell_type": "markdown",
   "metadata": {},
   "source": [
    "<h4>skip_final_rotation_layer</h4>\n",
    "Let's run above code again but with 'skip_final_rotation_layer' set to 'False'"
   ]
  },
  {
   "cell_type": "code",
   "execution_count": 21,
   "metadata": {},
   "outputs": [
    {
     "name": "stdout",
     "output_type": "stream",
     "text": [
      "For 5 repetitions, Error = 0.0030763390261867585 ,Score = 15\n",
      "For 4 repetitions, Error = 0.08456785097421538 ,Score = 12\n",
      "For 3 repetitions, Error = 2.3188707477814763 ,Score = 9\n",
      "For 2 repetitions, Error = 0.0365492933909195 ,Score = 6\n",
      "For 1 repetitions, Error = 2.339638383359377 ,Score = 3\n"
     ]
    }
   ],
   "source": [
    "from qiskit.transpiler import PassManager\n",
    "from qiskit.transpiler.passes import Unroller\n",
    "entanglement_params = ['full','linear','circular','sca']\n",
    "\n",
    "#helper function to count the no.of cnots\n",
    "def count_cnots(ansatz):\n",
    "    pass_ = Unroller(['u', 'cx'])\n",
    "    pm = PassManager(pass_)\n",
    "    ansatz_tp = pm.run(ansatz)\n",
    "    cnots = ansatz_tp.count_ops()['cx']\n",
    "    return cnots\n",
    "\n",
    "\n",
    "\n",
    "#optimizer\n",
    "optimizer = SLSQP(maxiter = 2000)\n",
    "\n",
    "\n",
    "#ansatz\n",
    "# Single qubit rotations that are placed on all qubits with independent parameters\n",
    "rotation_blocks = ['ry','rz']\n",
    "# Entangling gates\n",
    "entanglement_blocks = ['cx']\n",
    "# How the qubits are entangled \n",
    "entanglement = 'linear'\n",
    "# Repetitions of rotation_blocks + entanglement_blocks with independent parameters\n",
    "repetitions = [5,4,3,2,1]\n",
    "# Skip the final rotation_blocks layer\n",
    "skip_final_rotation_layer = False\n",
    "\n",
    "for each_params in repetitions:\n",
    "    ansatz = TwoLocal(qubit_op.num_qubits, rotation_blocks, entanglement_blocks, reps=each_params, \n",
    "                  entanglement=entanglement, skip_final_rotation_layer=skip_final_rotation_layer)\n",
    "    try:\n",
    "        initial_point = [0.01] * len(ansatz.ordered_parameters)\n",
    "    except:\n",
    "        initial_point = [0.01] * ansatz.num_parameters\n",
    "\n",
    "    algorithm = VQE(ansatz,\n",
    "                    optimizer = optimizer,\n",
    "                    quantum_instance = backend,\n",
    "                    initial_point = initial_point)\n",
    "\n",
    "    result = algorithm.compute_minimum_eigenvalue(qubit_op)\n",
    "    cnots  = count_cnots(ansatz)\n",
    "    error = (result.optimal_value - exact_energy) * 1000\n",
    "    print(f'For {each_params} repetitions, Error = {error} ,Score = {cnots}')\n",
    "    \n"
   ]
  },
  {
   "cell_type": "markdown",
   "metadata": {},
   "source": [
    "<h1> Cheers!!! </h1>\n",
    "We have succesfully brought down the cost to 3 with an error of 2.33 mHa."
   ]
  },
  {
   "cell_type": "markdown",
   "metadata": {},
   "source": [
    "Now,let's write last few cells in one cell and also plot the result."
   ]
  },
  {
   "cell_type": "code",
   "execution_count": 22,
   "metadata": {},
   "outputs": [
    {
     "name": "stdout",
     "output_type": "stream",
     "text": [
      "{   'aux_operator_eigenvalues': None,\n",
      "    'cost_function_evals': 804,\n",
      "    'eigenstate': array([-1.38708962e-03-3.74219064e-05j,  4.84073299e-03+6.35343122e-05j,\n",
      "       -2.66843333e-02-3.06108112e-04j,  9.91388185e-01+1.37849612e-03j,\n",
      "        5.38298484e-02+5.39482418e-04j,  3.29546850e-04+9.85823567e-06j,\n",
      "       -9.06960014e-04+4.33130325e-06j,  2.39079984e-02-3.84695638e-04j,\n",
      "        2.72897812e-03+4.20770149e-05j,  9.40421973e-06+1.66387474e-06j,\n",
      "       -5.78410231e-06-6.01195958e-06j, -2.78484604e-04+2.24305460e-04j,\n",
      "       -1.13715539e-01+2.36184883e-04j, -4.50679774e-04-1.64083107e-05j,\n",
      "        5.62699643e-04-7.94095939e-06j, -2.53483068e-04+1.13295004e-05j]),\n",
      "    'eigenvalue': -1.0863663773513819,\n",
      "    'optimal_parameters': {   ParameterVectorElement(θ[15]): -0.012675013257083428,\n",
      "                              ParameterVectorElement(θ[13]): -0.011787953067959983,\n",
      "                              ParameterVectorElement(θ[14]): -0.017502249294221,\n",
      "                              ParameterVectorElement(θ[11]): 0.44186548796332054,\n",
      "                              ParameterVectorElement(θ[10]): 0.047992478185062165,\n",
      "                              ParameterVectorElement(θ[9]): -0.009776335043696505,\n",
      "                              ParameterVectorElement(θ[12]): -0.010068156645095784,\n",
      "                              ParameterVectorElement(θ[7]): -0.0010418684894404522,\n",
      "                              ParameterVectorElement(θ[8]): 0.053107787732208,\n",
      "                              ParameterVectorElement(θ[5]): -0.0037715839107154555,\n",
      "                              ParameterVectorElement(θ[0]): -2.889279206740154,\n",
      "                              ParameterVectorElement(θ[4]): -0.004753270194080485,\n",
      "                              ParameterVectorElement(θ[1]): 0.005734849006589084,\n",
      "                              ParameterVectorElement(θ[6]): -0.0055001558518199154,\n",
      "                              ParameterVectorElement(θ[2]): -3.1410368442523335,\n",
      "                              ParameterVectorElement(θ[3]): -0.4424445242148552},\n",
      "    'optimal_point': array([-2.88927921e+00,  4.79924782e-02,  4.41865488e-01, -1.00681566e-02,\n",
      "       -1.17879531e-02, -1.75022493e-02, -1.26750133e-02,  5.73484901e-03,\n",
      "       -3.14103684e+00, -4.42444524e-01, -4.75327019e-03, -3.77158391e-03,\n",
      "       -5.50015585e-03, -1.04186849e-03,  5.31077877e-02, -9.77633504e-03]),\n",
      "    'optimal_value': -1.0863663773513819,\n",
      "    'optimizer_evals': 804,\n",
      "    'optimizer_time': 15.765794427017681}\n"
     ]
    }
   ],
   "source": [
    "#optimizer\n",
    "optimizer = SLSQP(maxiter = 2000)\n",
    "\n",
    "\n",
    "#ansatz\n",
    "# Single qubit rotations that are placed on all qubits with independent parameters\n",
    "rotation_blocks = ['ry','rz']\n",
    "# Entangling gates\n",
    "entanglement_blocks = ['cx']\n",
    "# How the qubits are entangled \n",
    "entanglement = 'linear'\n",
    "# Repetitions of rotation_blocks + entanglement_blocks with independent parameters\n",
    "repetitions = 1\n",
    "# Skip the final rotation_blocks layer\n",
    "skip_final_rotation_layer = False\n",
    "\n",
    "ansatz = TwoLocal(qubit_op.num_qubits, rotation_blocks, entanglement_blocks, reps=repetitions, \n",
    "              entanglement=entanglement, skip_final_rotation_layer=skip_final_rotation_layer)\n",
    "\n",
    "\n",
    "def callback(eval_count, parameters, mean, std):  \n",
    "    # Overwrites the same line when printing\n",
    "    display(\"Evaluation: {}, Energy: {}, Std: {}\".format(eval_count, mean, std))\n",
    "    clear_output(wait=True)\n",
    "    counts.append(eval_count)\n",
    "    values.append(mean)\n",
    "    params.append(parameters)\n",
    "    deviation.append(std)\n",
    "\n",
    "counts = []\n",
    "values = []\n",
    "params = []\n",
    "deviation = []\n",
    "\n",
    "# Set initial parameters of the ansatz\n",
    "# We choose a fixed small displacement \n",
    "# So all participants start from similar starting point\n",
    "try:\n",
    "    initial_point = [0.01] * len(ansatz.ordered_parameters)\n",
    "except:\n",
    "    initial_point = [0.01] * ansatz.num_parameters\n",
    "\n",
    "algorithm = VQE(ansatz,\n",
    "                optimizer=optimizer,\n",
    "                quantum_instance=backend,\n",
    "                callback=callback,\n",
    "                initial_point=initial_point)\n",
    "\n",
    "result = algorithm.compute_minimum_eigenvalue(qubit_op)\n",
    "\n",
    "print(result)"
   ]
  },
  {
   "cell_type": "code",
   "execution_count": 23,
   "metadata": {},
   "outputs": [
    {
     "data": {
      "text/html": [
       "<div>\n",
       "<style scoped>\n",
       "    .dataframe tbody tr th:only-of-type {\n",
       "        vertical-align: middle;\n",
       "    }\n",
       "\n",
       "    .dataframe tbody tr th {\n",
       "        vertical-align: top;\n",
       "    }\n",
       "\n",
       "    .dataframe thead th {\n",
       "        text-align: right;\n",
       "    }\n",
       "</style>\n",
       "<table border=\"1\" class=\"dataframe\">\n",
       "  <thead>\n",
       "    <tr style=\"text-align: right;\">\n",
       "      <th></th>\n",
       "      <th>optimizer</th>\n",
       "      <th>ansatz</th>\n",
       "      <th># of qubits</th>\n",
       "      <th># of parameters</th>\n",
       "      <th>rotation blocks</th>\n",
       "      <th>entanglement_blocks</th>\n",
       "      <th>entanglement</th>\n",
       "      <th>repetitions</th>\n",
       "      <th>error (mHa)</th>\n",
       "      <th>pass</th>\n",
       "      <th>score</th>\n",
       "    </tr>\n",
       "  </thead>\n",
       "  <tbody>\n",
       "    <tr>\n",
       "      <th>0</th>\n",
       "      <td>SLSQP</td>\n",
       "      <td>TwoLocal</td>\n",
       "      <td>4</td>\n",
       "      <td>16</td>\n",
       "      <td>['ry', 'rz']</td>\n",
       "      <td>['cx']</td>\n",
       "      <td>linear</td>\n",
       "      <td>1</td>\n",
       "      <td>2.339644</td>\n",
       "      <td>True</td>\n",
       "      <td>3</td>\n",
       "    </tr>\n",
       "    <tr>\n",
       "      <th>0</th>\n",
       "      <td>SLSQP</td>\n",
       "      <td>TwoLocal</td>\n",
       "      <td>4</td>\n",
       "      <td>16</td>\n",
       "      <td>[ry, rz]</td>\n",
       "      <td>[cx]</td>\n",
       "      <td>linear</td>\n",
       "      <td>1</td>\n",
       "      <td>2.339638</td>\n",
       "      <td>True</td>\n",
       "      <td>3</td>\n",
       "    </tr>\n",
       "  </tbody>\n",
       "</table>\n",
       "</div>"
      ],
      "text/plain": [
       "  optimizer    ansatz  # of qubits  # of parameters rotation blocks  \\\n",
       "0     SLSQP  TwoLocal            4               16    ['ry', 'rz']   \n",
       "0     SLSQP  TwoLocal            4               16        [ry, rz]   \n",
       "\n",
       "  entanglement_blocks entanglement  repetitions  error (mHa)  pass  score  \n",
       "0              ['cx']       linear            1     2.339644  True      3  \n",
       "0                [cx]       linear            1     2.339638  True      3  "
      ]
     },
     "execution_count": 23,
     "metadata": {},
     "output_type": "execute_result"
    },
    {
     "data": {
      "image/png": "[encoded data removed]",
      "text/plain": [
       "<Figure size 432x288 with 1 Axes>"
      ]
     },
     "metadata": {
      "needs_background": "light"
     },
     "output_type": "display_data"
    }
   ],
   "source": [
    "ansatz_type = 'TwoLocal'\n",
    "\n",
    "# Store results in a dictionary\n",
    "from qiskit.transpiler import PassManager\n",
    "from qiskit.transpiler.passes import Unroller\n",
    "\n",
    "# Unroller transpile your circuit into CNOTs and U gates\n",
    "pass_ = Unroller(['u', 'cx'])\n",
    "pm = PassManager(pass_)\n",
    "ansatz_tp = pm.run(ansatz)\n",
    "cnots = ansatz_tp.count_ops()['cx']\n",
    "score = cnots\n",
    "\n",
    "accuracy_threshold = 4.0 # in mHa\n",
    "energy = result.optimal_value\n",
    "\n",
    "if ansatz_type == \"TwoLocal\":\n",
    "    result_dict = {\n",
    "        'optimizer': optimizer.__class__.__name__,\n",
    "        'mapping': converter.mapper.__class__.__name__,\n",
    "        'ansatz': ansatz.__class__.__name__,\n",
    "        'rotation blocks': rotation_blocks,\n",
    "        'entanglement_blocks': entanglement_blocks,\n",
    "        'entanglement': entanglement,\n",
    "        'repetitions': repetitions,\n",
    "        'skip_final_rotation_layer': skip_final_rotation_layer,\n",
    "        'energy (Ha)': energy,\n",
    "        'error (mHa)': (energy-exact_energy)*1000,\n",
    "        'pass': (energy-exact_energy)*1000 <= accuracy_threshold,\n",
    "        '# of parameters': len(result.optimal_point),\n",
    "        'final parameters': result.optimal_point,\n",
    "        '# of evaluations': result.optimizer_evals,\n",
    "        'optimizer time': result.optimizer_time,\n",
    "        '# of qubits': int(qubit_op.num_qubits),\n",
    "        '# of CNOTs': cnots,\n",
    "        'score': score}\n",
    "else:\n",
    "    result_dict = {\n",
    "        'optimizer': optimizer.__class__.__name__,\n",
    "        'mapping': converter.mapper.__class__.__name__,\n",
    "        'ansatz': ansatz.__class__.__name__,\n",
    "        'rotation blocks': None,\n",
    "        'entanglement_blocks': None,\n",
    "        'entanglement': None,\n",
    "        'repetitions': None,\n",
    "        'skip_final_rotation_layer': None,\n",
    "        'energy (Ha)': energy,\n",
    "        'error (mHa)': (energy-exact_energy)*1000,\n",
    "        'pass': (energy-exact_energy)*1000 <= accuracy_threshold,\n",
    "        '# of parameters': len(result.optimal_point),\n",
    "        'final parameters': result.optimal_point,\n",
    "        '# of evaluations': result.optimizer_evals,\n",
    "        'optimizer time': result.optimizer_time,\n",
    "        '# of qubits': int(qubit_op.num_qubits),\n",
    "        '# of CNOTs': cnots,\n",
    "        'score': score}\n",
    "\n",
    "# Plot the results\n",
    "import matplotlib.pyplot as plt\n",
    "\n",
    "fig, ax = plt.subplots(1, 1)\n",
    "ax.set_xlabel('Iterations')\n",
    "ax.set_ylabel('Energy')\n",
    "ax.grid()\n",
    "fig.text(0.7, 0.75, f'Energy: {result.optimal_value:.3f}\\nScore: {score:.0f}')\n",
    "plt.title(f\"{result_dict['optimizer']}-{result_dict['mapping']}\\n{result_dict['ansatz']}\")\n",
    "ax.plot(counts, values)\n",
    "ax.axhline(exact_energy, linestyle='--')\n",
    "fig_title = f\"\\\n",
    "{result_dict['optimizer']}-\\\n",
    "{result_dict['mapping']}-\\\n",
    "{result_dict['ansatz']}-\\\n",
    "Energy({result_dict['energy (Ha)']:.3f})-\\\n",
    "Score({result_dict['score']:.0f})\\\n",
    ".png\"\n",
    "fig.savefig(fig_title, dpi=300)\n",
    "\n",
    "# Display and save the data\n",
    "import pandas as pd\n",
    "import os.path\n",
    "filename = 'results_final.csv'\n",
    "if os.path.isfile(filename):\n",
    "    result_df = pd.read_csv(filename)\n",
    "    result_df = result_df.append([result_dict])\n",
    "else:\n",
    "    result_df = pd.DataFrame.from_dict([result_dict])\n",
    "result_df.to_csv(filename)\n",
    "result_df[['optimizer','ansatz', '# of qubits', '# of parameters','rotation blocks', 'entanglement_blocks',\n",
    "    'entanglement', 'repetitions', 'error (mHa)', 'pass', 'score']]"
   ]
  }
 ],
 "metadata": {
  "kernelspec": {
   "display_name": "Python 3",
   "language": "python",
   "name": "python3"
  },
  "language_info": {
   "codemirror_mode": {
    "name": "ipython",
    "version": 3
   },
   "file_extension": ".py",
   "mimetype": "text/x-python",
   "name": "python",
   "nbconvert_exporter": "python",
   "pygments_lexer": "ipython3",
   "version": "3.7.6"
  }
 },
 "nbformat": 4,
 "nbformat_minor": 5
}
