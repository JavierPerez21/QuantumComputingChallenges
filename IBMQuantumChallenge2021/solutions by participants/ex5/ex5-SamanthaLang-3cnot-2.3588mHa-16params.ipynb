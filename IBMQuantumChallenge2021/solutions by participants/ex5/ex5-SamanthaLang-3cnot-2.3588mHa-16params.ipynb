{
 "cells": [
  {
   "cell_type": "markdown",
   "metadata": {},
   "source": [
    "# Exercise 5: VQE\n",
    "\n",
    "Name: Samantha Lang <br>\n",
    "Score: 3 <br>\n",
    "Error: 2.35881 mHa <br>\n",
    "Number of parameters: 16 <br>\n",
    "\n",
    "General approach: start with a custom hardware efficient ansatz (HEA) using simple rotation and entanglement blocks. Achieve an acceptable ground state energy by adjusting the transformers, reductions, ansatz repetitions, and optimizer hyperparameters based on the results.\n"
   ]
  },
  {
   "cell_type": "code",
   "execution_count": 1,
   "metadata": {},
   "outputs": [],
   "source": [
    "from qiskit_nature.problems.second_quantization.electronic import ElectronicStructureProblem\n",
    "from qiskit_nature.circuit.library import HartreeFock\n",
    "from qiskit_nature.mappers.second_quantization import ParityMapper\n",
    "from qiskit_nature.converters.second_quantization.qubit_converter import QubitConverter\n",
    "from qiskit_nature.drivers import PySCFDriver\n",
    "from qiskit_nature.transformers import FreezeCoreTransformer\n",
    "from qiskit_nature.algorithms.ground_state_solvers.minimum_eigensolver_factories import NumPyMinimumEigensolverFactory\n",
    "from qiskit_nature.algorithms.ground_state_solvers import GroundStateEigensolver\n",
    "from qiskit.algorithms.optimizers import SLSQP\n",
    "from qiskit.circuit.library import TwoLocal\n",
    "from IPython.display import display, clear_output\n",
    "from qiskit.algorithms import VQE\n",
    "from qiskit.circuit import Parameter, QuantumCircuit, QuantumRegister\n",
    "from qiskit import Aer\n",
    "\n",
    "import numpy as np \n",
    "\n",
    "backend = Aer.get_backend('statevector_simulator')"
   ]
  },
  {
   "cell_type": "markdown",
   "metadata": {},
   "source": [
    "The first two cells define and preprocess LiH under the following assumptions:\n",
    "* Core orbitals were frozen.\n",
    "* Unoccupied orbitals were removed to simplify the quantum circuit. \n",
    "\n",
    "Specifically, the two spin orbitals that contribute to antibonding MO 3$\\sigma^*$ were removed from the problem. These spin orbitals correspond to the row indices 3 and 4. Note that the orbital indices can be determined by the row number of a fully reduced row in qmolecule.one_body_integrals, but this step is omitted for brevity."
   ]
  },
  {
   "cell_type": "code",
   "execution_count": 2,
   "metadata": {},
   "outputs": [],
   "source": [
    "molecule = 'Li 0.0 0.0 0.0; H 0.0 0.0 1.5474'\n",
    "driver = PySCFDriver(atom=molecule)\n",
    "qmolecule = driver.run()\n",
    "\n",
    "# Freeze core\n",
    "freezer = FreezeCoreTransformer(freeze_core = True, remove_orbitals=[3,4])"
   ]
  },
  {
   "cell_type": "code",
   "execution_count": 3,
   "metadata": {},
   "outputs": [],
   "source": [
    "# VQE data callback function (provided in ex. 5)\n",
    "def callback(eval_count, parameters, mean, std):  \n",
    "    display(\"Evaluation: {}, Energy: {}, Std: {}\".format(eval_count, mean, std))\n",
    "    clear_output(wait=True)\n",
    "    counts.append(eval_count)\n",
    "    values.append(mean)\n",
    "    params.append(parameters)\n",
    "    deviation.append(std)"
   ]
  },
  {
   "cell_type": "markdown",
   "metadata": {},
   "source": [
    "The next two cells construct the ElectronicStructureProblem to then form the qubit operators, map the problem Hamiltonian to a minimum number of qubits, and sets the InitialState of the ansatz circuit as a Fock matrix.\n",
    "\n",
    "ParityMapper() was arbitrarily chosen as the fermionic mapping method among those available in Qiskit Nature because it best reduced the number of qubits used in the ansatz."
   ]
  },
  {
   "cell_type": "code",
   "execution_count": 4,
   "metadata": {},
   "outputs": [],
   "source": [
    "# Create e- structure\n",
    "problem = ElectronicStructureProblem(driver, q_molecule_transformers=[freezer])\n",
    "\n",
    "# Generate the second-quantized operators\n",
    "second_q_ops = problem.second_q_ops()\n",
    "\n",
    "# Hamiltonian\n",
    "main_op = second_q_ops[0]\n",
    "\n",
    "# Mapper - Parity selected in order to use two_qubit_reduction\n",
    "mapper = ParityMapper()\n",
    "\n",
    "# Converter\n",
    "converter = QubitConverter(mapper=mapper, two_qubit_reduction=True, z2symmetry_reduction = [1])"
   ]
  },
  {
   "cell_type": "code",
   "execution_count": 5,
   "metadata": {},
   "outputs": [],
   "source": [
    "# Operator mapping\n",
    "num_particles = (problem.molecule_data_transformed.num_alpha,\n",
    "             problem.molecule_data_transformed.num_beta)\n",
    "qubit_op = converter.convert(main_op, num_particles=num_particles)\n",
    "\n",
    "# Generate LiH data for initial state\n",
    "num_particles = (problem.molecule_data_transformed.num_alpha,\n",
    "             problem.molecule_data_transformed.num_beta)\n",
    "num_spin_orbitals = 2 * problem.molecule_data_transformed.num_molecular_orbitals\n",
    "\n",
    "# Hartree-Fock initial state creates Fock matrix for N-body approximation\n",
    "init_state = HartreeFock(num_spin_orbitals, num_particles, converter)"
   ]
  },
  {
   "cell_type": "markdown",
   "metadata": {},
   "source": [
    "The eigenvalue for the ground state energy was solved by classical methods (diagonalization):"
   ]
  },
  {
   "cell_type": "code",
   "execution_count": 6,
   "metadata": {},
   "outputs": [
    {
     "name": "stdout",
     "output_type": "stream",
     "text": [
      "Exact electronic energy -1.0887060157347406\n"
     ]
    }
   ],
   "source": [
    "def exact_diagonalizer(problem, converter):\n",
    "    solver = NumPyMinimumEigensolverFactory()\n",
    "    calc = GroundStateEigensolver(converter, solver)\n",
    "    result = calc.solve(problem)\n",
    "    return result\n",
    "\n",
    "result_exact = exact_diagonalizer(problem, converter)\n",
    "exact_energy = np.real(result_exact.eigenenergies[0])\n",
    "print(\"Exact electronic energy\", exact_energy)"
   ]
  },
  {
   "cell_type": "markdown",
   "metadata": {},
   "source": [
    "The HEA used here, based on [Kandala et al.](https://arxiv.org/pdf/1704.05018.pdf), is constructed by the add_ansatz method with the number of qubits used by qubit_op and init_state. For ease of implementation, the HEA was constructed out of TwoLocal by changing the entanglement method and block. Full access to qubit phases is provided by the rotation block sequence of RYRZ, whereas amplitude access is provided by the RY component and the CX entanglement block.\n",
    "\n",
    "Only one repetition of TwoLocal was found necessary during the parameter reduction stage. The ansatz was initially run with 7 repetitions as recommended by the authors; however, VQE could not converge to an acceptable ground state energy with this large of an ansatz. Reducing the size to a less rigid QuantumCircuit, up to 3 repetitions, resulted in a ground state energy convergence within the required 4 mHa error bound. \n",
    "\n",
    "SLSQP was chosen as the optimizer among COBYLA and L_BFGS_B because it consistently reached more accurate ground state energies despite the other VQE parameters."
   ]
  },
  {
   "cell_type": "code",
   "execution_count": 7,
   "metadata": {},
   "outputs": [],
   "source": [
    "def add_ansatz(qubit_op, init_state, reps):\n",
    "    # Implement single-layer hardware efficient ansatz using TwoLocal()\n",
    "    ansatz = TwoLocal(qubit_op.num_qubits, rotation_blocks = ['ry', 'rz'], \n",
    "                      entanglement_blocks = ['cx'], reps = 1, entanglement = 'linear', \n",
    "                      skip_final_rotation_layer = False)\n",
    "    ansatz.compose(init_state, front=True, inplace=True)\n",
    "    return ansatz"
   ]
  },
  {
   "cell_type": "code",
   "execution_count": 8,
   "metadata": {},
   "outputs": [
    {
     "name": "stdout",
     "output_type": "stream",
     "text": [
      "{   'aux_operator_eigenvalues': None,\n",
      "    'cost_function_evals': 786,\n",
      "    'eigenstate': array([ 1.39107837e-03+1.62872423e-04j, -4.80381191e-03-1.46983736e-04j,\n",
      "        2.62455793e-02+8.47575473e-04j, -9.91330272e-01+1.36833755e-02j,\n",
      "       -5.37457657e-02-3.77331021e-03j, -3.69359538e-04-8.90867623e-05j,\n",
      "        8.79325469e-04-4.46380197e-06j, -2.32777011e-02+1.49212729e-03j,\n",
      "       -2.67383906e-03-7.05383443e-05j, -1.12020626e-05-8.31917817e-06j,\n",
      "        3.67368843e-06+2.34856862e-05j,  3.09706913e-04-9.10756570e-04j,\n",
      "        1.13572137e-01-2.69517875e-03j,  5.55616499e-04+1.40861032e-04j,\n",
      "       -5.49420576e-04+3.83215696e-05j, -2.93728468e-05-1.93995425e-05j]),\n",
      "    'eigenvalue': -1.0863472033959158,\n",
      "    'optimal_parameters': {   ParameterVectorElement(θ[1]): -0.005427469361328748,\n",
      "                              ParameterVectorElement(θ[5]): 0.028613566643720716,\n",
      "                              ParameterVectorElement(θ[2]): -3.1415190478209354,\n",
      "                              ParameterVectorElement(θ[12]): -0.04587983569304013,\n",
      "                              ParameterVectorElement(θ[10]): 3.188672390917839,\n",
      "                              ParameterVectorElement(θ[9]): 3.131885346476307,\n",
      "                              ParameterVectorElement(θ[15]): -0.09608592369168004,\n",
      "                              ParameterVectorElement(θ[14]): -0.05014556484448813,\n",
      "                              ParameterVectorElement(θ[4]): -0.045189019163149914,\n",
      "                              ParameterVectorElement(θ[7]): 0.004098409970714469,\n",
      "                              ParameterVectorElement(θ[0]): 0.2521549141328518,\n",
      "                              ParameterVectorElement(θ[13]): -0.04486289076653689,\n",
      "                              ParameterVectorElement(θ[8]): 0.052285007081419886,\n",
      "                              ParameterVectorElement(θ[11]): 0.442456921094349,\n",
      "                              ParameterVectorElement(θ[3]): -2.698311672076479,\n",
      "                              ParameterVectorElement(θ[6]): -0.07022044072864803},\n",
      "    'optimal_point': array([ 0.25215491,  3.18867239,  0.44245692, -0.04587984, -0.04486289,\n",
      "       -0.05014556, -0.09608592, -0.00542747, -3.14151905, -2.69831167,\n",
      "       -0.04518902,  0.02861357, -0.07022044,  0.00409841,  0.05228501,\n",
      "        3.13188535]),\n",
      "    'optimal_value': -1.0863472033959158,\n",
      "    'optimizer_evals': 786,\n",
      "    'optimizer_time': 3.7326467037200928}\n"
     ]
    }
   ],
   "source": [
    "# Set ansatz\n",
    "ansatz = add_ansatz(qubit_op, init_state, reps = 1)\n",
    "\n",
    "optimizer = SLSQP(maxiter = 10000)\n",
    "\n",
    "counts = []\n",
    "values = []\n",
    "params = []\n",
    "deviation = []\n",
    "\n",
    "# Set initial parameters of the ansatz with predefined displacements for challenge\n",
    "try:\n",
    "    initial_point = [0.01] * len(ansatz.ordered_parameters)\n",
    "except:\n",
    "    initial_point = [0.01] * ansatz.num_parameters\n",
    "\n",
    "algorithm = VQE(ansatz,\n",
    "                optimizer=optimizer,\n",
    "                quantum_instance=backend,\n",
    "                callback=callback,\n",
    "                initial_point=initial_point)\n",
    "\n",
    "result = algorithm.compute_minimum_eigenvalue(qubit_op)\n",
    "\n",
    "print(result)"
   ]
  },
  {
   "cell_type": "code",
   "execution_count": 9,
   "metadata": {},
   "outputs": [
    {
     "data": {
      "image/png": "[encoded data removed]",
      "text/plain": [
       "<Figure size 568.197x264.88 with 1 Axes>"
      ]
     },
     "execution_count": 9,
     "metadata": {},
     "output_type": "execute_result"
    }
   ],
   "source": [
    "ansatz.draw(output='mpl')"
   ]
  },
  {
   "cell_type": "code",
   "execution_count": 10,
   "metadata": {},
   "outputs": [
    {
     "name": "stdout",
     "output_type": "stream",
     "text": [
      "Error:  2.358812338824734 mHa\n"
     ]
    }
   ],
   "source": [
    "print(\"Error: \", abs(exact_energy-result.optimal_value) * 1000, \"mHa\")"
   ]
  }
 ],
 "metadata": {
  "kernelspec": {
   "display_name": "Python 3",
   "language": "python",
   "name": "python3"
  },
  "language_info": {
   "codemirror_mode": {
    "name": "ipython",
    "version": 3
   },
   "file_extension": ".py",
   "mimetype": "text/x-python",
   "name": "python",
   "nbconvert_exporter": "python",
   "pygments_lexer": "ipython3",
   "version": "3.7.6"
  }
 },
 "nbformat": 4,
 "nbformat_minor": 5
}
