{
 "cells": [
  {
   "cell_type": "markdown",
   "metadata": {},
   "source": [
    "# Exercise 1 - Toffoli gate\n"
   ]
  },
  {
   "cell_type": "code",
   "execution_count": 5,
   "metadata": {},
   "outputs": [],
   "source": [
    "from qiskit import QuantumRegister, ClassicalRegister, QuantumCircuit\n",
    "from qiskit import IBMQ, Aer, execute\n",
    "from ibm_quantum_widgets import CircuitComposer\n",
    "editorEx = CircuitComposer() \n",
    "editorEx\n",
    "import math\n",
    "pi=math.pi"
   ]
  },
  {
   "cell_type": "code",
   "execution_count": 6,
   "metadata": {},
   "outputs": [],
   "source": [
    "# You can also build your circuit programmatically using Qiskit code\n",
    "circuit = QuantumCircuit(3)\n",
    "theta = pi/4 # Theta can be anything (pi chosen arbitrarily)\n",
    "# WRITE YOUR CODE BETWEEN THESE LINES - START\n",
    "\n",
    "### Hadamard ###\n",
    "circuit.rz(pi/2, 2)\n",
    "circuit.sx(2)\n",
    "circuit.rz(pi/2, 2)\n",
    "\n",
    "circuit.cx(1,2)\n",
    "\n",
    "circuit.rz(-theta, 2)\n",
    "\n",
    "circuit.cx(0,2)\n",
    "\n",
    "circuit.rz(theta, 2)\n",
    "\n",
    "circuit.cx(1,2)\n",
    "\n",
    "circuit.rz(-theta, 2)\n",
    "\n",
    "circuit.cx(0,2)\n",
    "\n",
    "circuit.rz(theta, 1)\n",
    "circuit.rz(theta, 2)\n",
    "\n",
    "### Hadamard ###\n",
    "circuit.rz(pi/2, 2)\n",
    "circuit.sx(2)\n",
    "circuit.rz(pi/2, 2)\n",
    "\n",
    "circuit.cnot(0,1)\n",
    "circuit.rz(theta, 0)\n",
    "circuit.rz(-theta, 1)\n",
    "circuit.cnot(0,1)\n",
    "\n",
    "# WRITE YOUR CODE BETWEEN THESE LINES - END"
   ]
  },
  {
   "cell_type": "code",
   "execution_count": 7,
   "metadata": {},
   "outputs": [
    {
     "data": {
      "image/png": "[encoded data removed]",
      "text/plain": [
       "<Figure size 929.397x204.68 with 1 Axes>"
      ]
     },
     "execution_count": 7,
     "metadata": {},
     "output_type": "execute_result"
    }
   ],
   "source": [
    "# Checking the resulting circuit\n",
    "qc = editorEx.circuit \n",
    "qc = circuit # Uncomment this line if you want to submit the circuit built using Qiskit code\n",
    "\n",
    "qc.draw(output='mpl')"
   ]
  },
  {
   "cell_type": "markdown",
   "metadata": {},
   "source": [
    "## By Innan Nouhaila"
   ]
  }
 ],
 "metadata": {
  "kernelspec": {
   "display_name": "Python 3",
   "language": "python",
   "name": "python3"
  },
  "language_info": {
   "codemirror_mode": {
    "name": "ipython",
    "version": 3
   },
   "file_extension": ".py",
   "mimetype": "text/x-python",
   "name": "python",
   "nbconvert_exporter": "python",
   "pygments_lexer": "ipython3",
   "version": "3.7.6"
  },
  "widgets": {
   "application/vnd.jupyter.widget-state+json": {
    "state": {
     "0a5d2466b4d04c429b5f8d0f1e76fdaa": {
      "model_module": "@jupyter-widgets/controls",
      "model_module_version": "1.5.0",
      "model_name": "HBoxModel",
      "state": {
       "children": [
        "IPY_MODEL_24013095dd2b4fc1bbe702a7f204ee9e",
        "IPY_MODEL_7c436912eb97466e907f61f3184b8c39",
        "IPY_MODEL_b5999dac6b884a76b4bf541cd706bc12",
        "IPY_MODEL_11a89e1a2b114c1392c95de661d32581",
        "IPY_MODEL_dc479c27e2d04b459b728071b78bbe71"
       ],
       "layout": "IPY_MODEL_ff33650eb0694978b8ce12b127b3da08"
      }
     },
     "11a89e1a2b114c1392c95de661d32581": {
      "model_module": "@jupyter-widgets/controls",
      "model_module_version": "1.5.0",
      "model_name": "HTMLModel",
      "state": {
       "layout": "IPY_MODEL_97057d6f996f4620ae3d7ec0bbd117d1",
       "style": "IPY_MODEL_6730b7bcba3f442aa0666837bcdbcba2",
       "value": "<h5>Queue</h5>"
      }
     },
     "1aa86763cf1f423296ffdb0c5d8277e3": {
      "model_module": "@quantum/ibm-q-lab-widgets",
      "model_module_version": "^1.0.3",
      "model_name": "CircuitComposerModel",
      "state": {
       "_model_module_version": "^1.0.3",
       "_view_module_version": "^1.0.3",
       "circuit": "\"OPENQASM 2.0;\\ninclude \\\"qelib1.inc\\\";\\n\\nqreg q[3];\\ncreg c[3];\\n\\n\"",
       "editable": true,
       "layout": "IPY_MODEL_2279bd0c43ea42c09d9a4c6f3cfb723e",
       "qiskit_code_cell_index": -1
      }
     },
     "2279bd0c43ea42c09d9a4c6f3cfb723e": {
      "model_module": "@jupyter-widgets/base",
      "model_module_version": "1.2.0",
      "model_name": "LayoutModel",
      "state": {}
     },
     "24013095dd2b4fc1bbe702a7f204ee9e": {
      "model_module": "@jupyter-widgets/controls",
      "model_module_version": "1.5.0",
      "model_name": "HTMLModel",
      "state": {
       "layout": "IPY_MODEL_67da33b86a104c0fb7bb31943db6eb5f",
       "style": "IPY_MODEL_d9df7583d3e14d56902489989643c8df",
       "value": "<h5>Job ID</h5>"
      }
     },
     "3cccccc8e09345b0b8c7608df973f46e": {
      "model_module": "@jupyter-widgets/base",
      "model_module_version": "1.2.0",
      "model_name": "LayoutModel",
      "state": {
       "margin": "0px 0px 10px 0px"
      }
     },
     "55a473cc66b24fc68e45703e7ad398b7": {
      "model_module": "@jupyter-widgets/controls",
      "model_module_version": "1.5.0",
      "model_name": "DescriptionStyleModel",
      "state": {
       "description_width": ""
      }
     },
     "6730b7bcba3f442aa0666837bcdbcba2": {
      "model_module": "@jupyter-widgets/controls",
      "model_module_version": "1.5.0",
      "model_name": "DescriptionStyleModel",
      "state": {
       "description_width": ""
      }
     },
     "67da33b86a104c0fb7bb31943db6eb5f": {
      "model_module": "@jupyter-widgets/base",
      "model_module_version": "1.2.0",
      "model_name": "LayoutModel",
      "state": {
       "width": "190px"
      }
     },
     "6b3d8f9baf664714b450f66e452c3069": {
      "model_module": "@jupyter-widgets/base",
      "model_module_version": "1.2.0",
      "model_name": "LayoutModel",
      "state": {
       "grid_template_areas": "\n                                       \". . . . right \"\n                                        ",
       "grid_template_columns": "20% 20% 20% 20% 20%",
       "width": "100%"
      }
     },
     "6da8aacab2f046248756070e143075ab": {
      "model_module": "@jupyter-widgets/base",
      "model_module_version": "1.2.0",
      "model_name": "LayoutModel",
      "state": {
       "grid_area": "right",
       "padding": "0px 0px 0px 0px",
       "width": "70px"
      }
     },
     "7c436912eb97466e907f61f3184b8c39": {
      "model_module": "@jupyter-widgets/controls",
      "model_module_version": "1.5.0",
      "model_name": "HTMLModel",
      "state": {
       "layout": "IPY_MODEL_ef1974ae27c54dc98caf47fa984b48f3",
       "style": "IPY_MODEL_55a473cc66b24fc68e45703e7ad398b7",
       "value": "<h5>Backend</h5>"
      }
     },
     "88aa506084114e8e946a163a20242d7f": {
      "model_module": "@jupyter-widgets/controls",
      "model_module_version": "1.5.0",
      "model_name": "HTMLModel",
      "state": {
       "layout": "IPY_MODEL_3cccccc8e09345b0b8c7608df973f46e",
       "style": "IPY_MODEL_a56577c2ec6741138818d167b4608f49",
       "value": "<p style='font-family: IBM Plex Sans, Arial, Helvetica, sans-serif; font-size: 20px; font-weight: medium;'>Circuit Properties</p>"
      }
     },
     "903596a2a753496f924ec797bff17514": {
      "model_module": "@jupyter-widgets/base",
      "model_module_version": "1.2.0",
      "model_name": "LayoutModel",
      "state": {}
     },
     "923d7391244641b7995b5d30efdcfe2f": {
      "model_module": "@jupyter-widgets/controls",
      "model_module_version": "1.5.0",
      "model_name": "DescriptionStyleModel",
      "state": {
       "description_width": ""
      }
     },
     "964eeaa8c205442998733e7f1c079c83": {
      "model_module": "@jupyter-widgets/controls",
      "model_module_version": "1.5.0",
      "model_name": "GridBoxModel",
      "state": {
       "children": [
        "IPY_MODEL_c87385511a8147a2a78ce7718e41f9d6"
       ],
       "layout": "IPY_MODEL_6b3d8f9baf664714b450f66e452c3069"
      }
     },
     "97057d6f996f4620ae3d7ec0bbd117d1": {
      "model_module": "@jupyter-widgets/base",
      "model_module_version": "1.2.0",
      "model_name": "LayoutModel",
      "state": {
       "width": "70px"
      }
     },
     "a56577c2ec6741138818d167b4608f49": {
      "model_module": "@jupyter-widgets/controls",
      "model_module_version": "1.5.0",
      "model_name": "DescriptionStyleModel",
      "state": {
       "description_width": ""
      }
     },
     "b16e0297fad74bc5a27987cb18a06113": {
      "model_module": "@jupyter-widgets/base",
      "model_module_version": "1.2.0",
      "model_name": "LayoutModel",
      "state": {
       "width": "95px"
      }
     },
     "b5999dac6b884a76b4bf541cd706bc12": {
      "model_module": "@jupyter-widgets/controls",
      "model_module_version": "1.5.0",
      "model_name": "HTMLModel",
      "state": {
       "layout": "IPY_MODEL_b16e0297fad74bc5a27987cb18a06113",
       "style": "IPY_MODEL_cb719e40385a4ced8171c5910a5df817",
       "value": "<h5>Status</h5>"
      }
     },
     "c87385511a8147a2a78ce7718e41f9d6": {
      "model_module": "@jupyter-widgets/controls",
      "model_module_version": "1.5.0",
      "model_name": "ButtonModel",
      "state": {
       "button_style": "primary",
       "description": "Clear",
       "layout": "IPY_MODEL_6da8aacab2f046248756070e143075ab",
       "style": "IPY_MODEL_d85c4d28ec9c43dd8e545c8e0b6e8928"
      }
     },
     "cb719e40385a4ced8171c5910a5df817": {
      "model_module": "@jupyter-widgets/controls",
      "model_module_version": "1.5.0",
      "model_name": "DescriptionStyleModel",
      "state": {
       "description_width": ""
      }
     },
     "d85c4d28ec9c43dd8e545c8e0b6e8928": {
      "model_module": "@jupyter-widgets/controls",
      "model_module_version": "1.5.0",
      "model_name": "ButtonStyleModel",
      "state": {}
     },
     "d9df7583d3e14d56902489989643c8df": {
      "model_module": "@jupyter-widgets/controls",
      "model_module_version": "1.5.0",
      "model_name": "DescriptionStyleModel",
      "state": {
       "description_width": ""
      }
     },
     "dc479c27e2d04b459b728071b78bbe71": {
      "model_module": "@jupyter-widgets/controls",
      "model_module_version": "1.5.0",
      "model_name": "HTMLModel",
      "state": {
       "layout": "IPY_MODEL_903596a2a753496f924ec797bff17514",
       "style": "IPY_MODEL_923d7391244641b7995b5d30efdcfe2f",
       "value": "<h5>Message</h5>"
      }
     },
     "ef1974ae27c54dc98caf47fa984b48f3": {
      "model_module": "@jupyter-widgets/base",
      "model_module_version": "1.2.0",
      "model_name": "LayoutModel",
      "state": {
       "width": "145px"
      }
     },
     "ff33650eb0694978b8ce12b127b3da08": {
      "model_module": "@jupyter-widgets/base",
      "model_module_version": "1.2.0",
      "model_name": "LayoutModel",
      "state": {
       "margin": "0px 0px 0px 37px",
       "width": "600px"
      }
     }
    },
    "version_major": 2,
    "version_minor": 0
   }
  }
 },
 "nbformat": 4,
 "nbformat_minor": 5
}
