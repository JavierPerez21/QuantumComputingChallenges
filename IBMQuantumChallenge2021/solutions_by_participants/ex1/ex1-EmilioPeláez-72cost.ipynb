{
 "cells": [
  {
   "cell_type": "markdown",
   "metadata": {},
   "source": [
    "# Exercise 1 - Toffoli gate\n",
    "This notebook contains my solution to the first exercise of the IBM Quantum Challenge 2021. My final solution has a cost of 72, but along the way I was able to construct a Toffoli gate with some phase difference with a cost of 70. My name is Emilio Peláez and my GitHub profile is [@epelaaez](https://github.com/epelaaez) if you want to check it out!"
   ]
  },
  {
   "cell_type": "markdown",
   "metadata": {},
   "source": [
    "### Imports\n",
    "The next cell imports everything needed for this notebook."
   ]
  },
  {
   "cell_type": "code",
   "execution_count": 3,
   "metadata": {},
   "outputs": [],
   "source": [
    "from qiskit import QuantumCircuit, execute, BasicAer, Aer, IBMQ, QuantumRegister, ClassicalRegister\n",
    "from qiskit.compiler import transpile, assemble\n",
    "import numpy as np\n",
    "from sympy import Matrix"
   ]
  },
  {
   "cell_type": "markdown",
   "metadata": {},
   "source": [
    "### Helper functions\n",
    "I defined two functions to help get to my solution. First, one that prints the unitary matrix corresponding to my circuit. It is defined as follows."
   ]
  },
  {
   "cell_type": "code",
   "execution_count": 4,
   "metadata": {},
   "outputs": [],
   "source": [
    "def unitary(circ):\n",
    "    backend = BasicAer.get_backend('unitary_simulator')\n",
    "    out = execute(circ, backend).result().get_unitary()\n",
    "    display(Matrix(np.round(out, 10))) "
   ]
  },
  {
   "cell_type": "markdown",
   "metadata": {},
   "source": [
    "And the other function gets the cost of my circuit as defined in the problem notebook."
   ]
  },
  {
   "cell_type": "code",
   "execution_count": 101,
   "metadata": {},
   "outputs": [],
   "source": [
    "def cost(circ):\n",
    "    circ = transpile(circ, basis_gates= ['rz', 'sx', 'x', 'cx'], optimization_level=3)\n",
    "    gates = circ.count_ops()\n",
    "\n",
    "    try:\n",
    "        no_rz = gates['rz']\n",
    "    except:\n",
    "        no_rz = 0\n",
    "    try:\n",
    "        no_sx = gates['sx']\n",
    "    except:\n",
    "        no_sx = 0\n",
    "    try:\n",
    "        no_x = gates['x']\n",
    "    except:\n",
    "        no_x = 0\n",
    "    try:\n",
    "        no_cx = gates['cx']\n",
    "    except:\n",
    "        no_cx = 0\n",
    "    cost = no_rz + no_sx + no_x + 10*no_cx\n",
    "    \n",
    "    print(cost)"
   ]
  },
  {
   "cell_type": "markdown",
   "metadata": {},
   "source": [
    "### Solution\n",
    "First, I'll describe how I tried to get a cost 70 solution. To do this, first I got the unitary for a normal Toffoli gate to work from there."
   ]
  },
  {
   "cell_type": "code",
   "execution_count": 102,
   "metadata": {},
   "outputs": [
    {
     "data": {
      "text/latex": [
       "$\\displaystyle \\left[\\begin{matrix}1.0 & 0 & 0 & 0 & 0 & 0 & 0 & 0\\\\0 & 1.0 & 0 & 0 & 0 & 0 & 0 & 0\\\\0 & 0 & 1.0 & 0 & 0 & 0 & 0 & 0\\\\0 & 0 & 0 & 0 & 0 & 0 & 0 & 1.0\\\\0 & 0 & 0 & 0 & 1.0 & 0 & 0 & 0\\\\0 & 0 & 0 & 0 & 0 & 1.0 & 0 & 0\\\\0 & 0 & 0 & 0 & 0 & 0 & 1.0 & 0\\\\0 & 0 & 0 & 1.0 & 0 & 0 & 0 & 0\\end{matrix}\\right]$"
      ],
      "text/plain": [
       "Matrix([\n",
       "[1.0,   0,   0,   0,   0,   0,   0,   0],\n",
       "[  0, 1.0,   0,   0,   0,   0,   0,   0],\n",
       "[  0,   0, 1.0,   0,   0,   0,   0,   0],\n",
       "[  0,   0,   0,   0,   0,   0,   0, 1.0],\n",
       "[  0,   0,   0,   0, 1.0,   0,   0,   0],\n",
       "[  0,   0,   0,   0,   0, 1.0,   0,   0],\n",
       "[  0,   0,   0,   0,   0,   0, 1.0,   0],\n",
       "[  0,   0,   0, 1.0,   0,   0,   0,   0]])"
      ]
     },
     "metadata": {},
     "output_type": "display_data"
    }
   ],
   "source": [
    "qc = QuantumCircuit(3)\n",
    "qc.ccx(0, 1, 2)\n",
    "unitary(qc)"
   ]
  },
  {
   "cell_type": "markdown",
   "metadata": {},
   "source": [
    "Then, I constructed the following circuit that resembles this matrix up to some phase difference. At this point, I already knew that the answer was probably going to get rejected because of this difference, but I still wanted to go ahead and try."
   ]
  },
  {
   "cell_type": "code",
   "execution_count": 103,
   "metadata": {},
   "outputs": [
    {
     "data": {
      "image/png": "[encoded data removed]",
      "text/plain": [
       "<Figure size 387.597x204.68 with 1 Axes>"
      ]
     },
     "execution_count": 103,
     "metadata": {},
     "output_type": "execute_result"
    }
   ],
   "source": [
    "qc = QuantumCircuit(3)\n",
    "\n",
    "qc.ch(0,2)\n",
    "qc.h(2)\n",
    "qc.cx(1,2)\n",
    "qc.h(2)\n",
    "qc.ch(0,2)\n",
    "\n",
    "qc.draw('mpl')"
   ]
  },
  {
   "cell_type": "code",
   "execution_count": 104,
   "metadata": {},
   "outputs": [
    {
     "data": {
      "text/latex": [
       "$\\displaystyle \\left[\\begin{matrix}1.0 & 0 & 0 & 0 & 0 & 0 & 0 & 0\\\\0 & 1.0 & 0 & 0 & 0 & 0 & 0 & 0\\\\0 & 0 & 1.0 & 0 & 0 & 0 & 0 & 0\\\\0 & 0 & 0 & 0 & 0 & 0 & 0 & 1.0\\\\0 & 0 & 0 & 0 & 1.0 & 0 & 0 & 0\\\\0 & 0 & 0 & 0 & 0 & 1.0 & 0 & 0\\\\0 & 0 & 0 & 0 & 0 & 0 & -1.0 & 0\\\\0 & 0 & 0 & 1.0 & 0 & 0 & 0 & 0\\end{matrix}\\right]$"
      ],
      "text/plain": [
       "Matrix([\n",
       "[1.0,   0,   0,   0,   0,   0,    0,   0],\n",
       "[  0, 1.0,   0,   0,   0,   0,    0,   0],\n",
       "[  0,   0, 1.0,   0,   0,   0,    0,   0],\n",
       "[  0,   0,   0,   0,   0,   0,    0, 1.0],\n",
       "[  0,   0,   0,   0, 1.0,   0,    0,   0],\n",
       "[  0,   0,   0,   0,   0, 1.0,    0,   0],\n",
       "[  0,   0,   0,   0,   0,   0, -1.0,   0],\n",
       "[  0,   0,   0, 1.0,   0,   0,    0,   0]])"
      ]
     },
     "metadata": {},
     "output_type": "display_data"
    }
   ],
   "source": [
    "unitary(qc)"
   ]
  },
  {
   "cell_type": "markdown",
   "metadata": {},
   "source": [
    "As you can see, a phase difference of -1 can be seen in the (7,7) element of the matrix. To get this solution working, I had to write the circuit above only with the gates allowed. Building the Hadamard gate was easy since it was already given in the tutorial part of the notebook."
   ]
  },
  {
   "cell_type": "code",
   "execution_count": 105,
   "metadata": {},
   "outputs": [
    {
     "data": {
      "image/png": "[encoded data removed]",
      "text/plain": [
       "<Figure size 253.926x84.28 with 1 Axes>"
      ]
     },
     "execution_count": 105,
     "metadata": {},
     "output_type": "execute_result"
    }
   ],
   "source": [
    "def hadamard(qc, target):\n",
    "    qc.rz(np.pi/2, target)\n",
    "    qc.sx(target)\n",
    "    qc.rz(np.pi/2, target)\n",
    "    \n",
    "qc = QuantumCircuit(1)\n",
    "hadamard(qc, 0)\n",
    "qc.draw('mpl')"
   ]
  },
  {
   "cell_type": "code",
   "execution_count": 106,
   "metadata": {},
   "outputs": [
    {
     "data": {
      "text/latex": [
       "$\\displaystyle \\left[\\begin{matrix}0.5 - 0.5 i & 0.5 - 0.5 i\\\\0.5 - 0.5 i & -0.5 + 0.5 i\\end{matrix}\\right]$"
      ],
      "text/plain": [
       "Matrix([\n",
       "[0.5 - 0.5*I,  0.5 - 0.5*I],\n",
       "[0.5 - 0.5*I, -0.5 + 0.5*I]])"
      ]
     },
     "metadata": {},
     "output_type": "display_data"
    }
   ],
   "source": [
    "unitary(qc)"
   ]
  },
  {
   "cell_type": "markdown",
   "metadata": {},
   "source": [
    "The matrix for this gate doesn't seem completely right. Let's look at the matrix for a normal Hadamard gate to compare it."
   ]
  },
  {
   "cell_type": "code",
   "execution_count": 107,
   "metadata": {},
   "outputs": [
    {
     "data": {
      "text/latex": [
       "$\\displaystyle \\left[\\begin{matrix}0.7071067812 & 0.7071067812\\\\0.7071067812 & -0.7071067812\\end{matrix}\\right]$"
      ],
      "text/plain": [
       "Matrix([\n",
       "[0.7071067812,  0.7071067812],\n",
       "[0.7071067812, -0.7071067812]])"
      ]
     },
     "metadata": {},
     "output_type": "display_data"
    }
   ],
   "source": [
    "qc = QuantumCircuit(1)\n",
    "qc.h(0)\n",
    "unitary(qc)"
   ]
  },
  {
   "cell_type": "markdown",
   "metadata": {},
   "source": [
    "As you can see, the matrices are indeed different. However, this is only a phase difference. You can see this by comparing the norm of each element between the two matrices, they are all equal to $1/\\sqrt{2}$. Now, we are only missing to build a controlled Hadamard gate with the allowed gates. \n",
    "\n",
    "Doing this was mostly a matter of playing around with different rotations while imagining their effect on the Bloch sphere. Another important thing was that we needed to introduce some controlled gate, the only one allowed being CX. And while introducing this gate we had to be careful that the overall effect when the control qubit was set to 0 was equal to the identity. After some thought, this was the result."
   ]
  },
  {
   "cell_type": "code",
   "execution_count": 108,
   "metadata": {},
   "outputs": [
    {
     "data": {
      "image/png": "[encoded data removed]",
      "text/plain": [
       "<Figure size 688.452x144.48 with 1 Axes>"
      ]
     },
     "execution_count": 108,
     "metadata": {},
     "output_type": "execute_result"
    }
   ],
   "source": [
    "def c_hadamard(qc, control, target):\n",
    "    # Ry pi/4\n",
    "    qc.sx(target)\n",
    "    qc.rz(np.pi/4, target)\n",
    "    qc.sx(target)\n",
    "    qc.x(target)\n",
    "\n",
    "    qc.cx(control,target)\n",
    "\n",
    "    # Ry -pi/4\n",
    "    qc.sx(target)\n",
    "    qc.rz(-np.pi/4, target)\n",
    "    qc.sx(target)\n",
    "    qc.x(target)\n",
    "\n",
    "    qc.cx(control,target)\n",
    "    \n",
    "    return qc\n",
    "\n",
    "qc = QuantumCircuit(2)\n",
    "c_hadamard(qc, 0, 1)\n",
    "qc.draw('mpl')"
   ]
  },
  {
   "cell_type": "code",
   "execution_count": 109,
   "metadata": {},
   "outputs": [
    {
     "data": {
      "text/latex": [
       "$\\displaystyle \\left[\\begin{matrix}1.0 & 0 & 0 & 0\\\\0 & 0.7071067812 & 0 & -0.7071067812\\\\0 & 0 & 1.0 & 0\\\\0 & 0.7071067812 & 0 & 0.7071067812\\end{matrix}\\right]$"
      ],
      "text/plain": [
       "Matrix([\n",
       "[1.0,            0,   0,             0],\n",
       "[  0, 0.7071067812,   0, -0.7071067812],\n",
       "[  0,            0, 1.0,             0],\n",
       "[  0, 0.7071067812,   0,  0.7071067812]])"
      ]
     },
     "metadata": {},
     "output_type": "display_data"
    }
   ],
   "source": [
    "unitary(qc)"
   ]
  },
  {
   "cell_type": "markdown",
   "metadata": {},
   "source": [
    "And we compare it with the normal controlled Hadamard gate."
   ]
  },
  {
   "cell_type": "code",
   "execution_count": 110,
   "metadata": {},
   "outputs": [
    {
     "data": {
      "text/latex": [
       "$\\displaystyle \\left[\\begin{matrix}1.0 & 0 & 0 & 0\\\\0 & 0.7071067812 & 0 & 0.7071067812\\\\0 & 0 & 1.0 & 0\\\\0 & 0.7071067812 & 0 & -0.7071067812\\end{matrix}\\right]$"
      ],
      "text/plain": [
       "Matrix([\n",
       "[1.0,            0,   0,             0],\n",
       "[  0, 0.7071067812,   0,  0.7071067812],\n",
       "[  0,            0, 1.0,             0],\n",
       "[  0, 0.7071067812,   0, -0.7071067812]])"
      ]
     },
     "metadata": {},
     "output_type": "display_data"
    }
   ],
   "source": [
    "qc = QuantumCircuit(2)\n",
    "qc.ch(0,1)\n",
    "unitary(qc)"
   ]
  },
  {
   "cell_type": "markdown",
   "metadata": {},
   "source": [
    "As you can see, this gate again introduces some more phase difference, this case in two elements of the matrix. Finally, we also had to defined the inverse of the controlled Hadamard gate. This is because in the original circuit the second controlled Hadamard gate serves the purpose of being the dagger of the first controlled Hadamard. The original controlled Hadamard is its own inverse, but in our implementation we had to change the order of the R$_y$ rotations to make them inverses of each other."
   ]
  },
  {
   "cell_type": "code",
   "execution_count": 111,
   "metadata": {},
   "outputs": [],
   "source": [
    "def c_hadamard_dag(qc, control, target):\n",
    "    # Ry -pi/4\n",
    "    qc.sx(target)\n",
    "    qc.rz(-np.pi/4, target)\n",
    "    qc.sx(target)\n",
    "    qc.x(target)\n",
    "\n",
    "    qc.cx(control,target)\n",
    "\n",
    "    # Ry pi/4\n",
    "    qc.sx(target)\n",
    "    qc.rz(np.pi/4, target)\n",
    "    qc.sx(target)\n",
    "    qc.x(target)\n",
    "\n",
    "    qc.cx(control,target)\n",
    "    \n",
    "    return qc"
   ]
  },
  {
   "cell_type": "markdown",
   "metadata": {},
   "source": [
    "Now, we can build the circuit we showed first using the new functions we defined that ensure we only used the gates allowed by the challenge."
   ]
  },
  {
   "cell_type": "code",
   "execution_count": 112,
   "metadata": {},
   "outputs": [
    {
     "data": {
      "image/png": "[encoded data removed]",
      "text/plain": [
       "<Figure size 1591.6x445.48 with 1 Axes>"
      ]
     },
     "execution_count": 112,
     "metadata": {},
     "output_type": "execute_result"
    }
   ],
   "source": [
    "circuit = QuantumCircuit(3)\n",
    "\n",
    "c_hadamard(circuit, 0, 2)\n",
    "hadamard(circuit, 2)\n",
    "circuit.cx(1, 2)\n",
    "hadamard(circuit, 2)\n",
    "c_hadamard_dag(circuit, 0, 2)\n",
    "\n",
    "circuit.draw(output='mpl')"
   ]
  },
  {
   "cell_type": "code",
   "execution_count": 113,
   "metadata": {},
   "outputs": [
    {
     "data": {
      "text/latex": [
       "$\\displaystyle \\left[\\begin{matrix}- 1.0 i & 0 & 0 & 0 & 0 & 0 & 0 & 0\\\\0 & - 1.0 i & 0 & 0 & 0 & 0 & 0 & 0\\\\0 & 0 & - 1.0 i & 0 & 0 & 0 & 0 & 0\\\\0 & 0 & 0 & 0 & 0 & 0 & 0 & 1.0 i\\\\0 & 0 & 0 & 0 & - 1.0 i & 0 & 0 & 0\\\\0 & 0 & 0 & 0 & 0 & - 1.0 i & 0 & 0\\\\0 & 0 & 0 & 0 & 0 & 0 & 1.0 i & 0\\\\0 & 0 & 0 & 1.0 i & 0 & 0 & 0 & 0\\end{matrix}\\right]$"
      ],
      "text/plain": [
       "Matrix([\n",
       "[-1.0*I,      0,      0,     0,      0,      0,     0,     0],\n",
       "[     0, -1.0*I,      0,     0,      0,      0,     0,     0],\n",
       "[     0,      0, -1.0*I,     0,      0,      0,     0,     0],\n",
       "[     0,      0,      0,     0,      0,      0,     0, 1.0*I],\n",
       "[     0,      0,      0,     0, -1.0*I,      0,     0,     0],\n",
       "[     0,      0,      0,     0,      0, -1.0*I,     0,     0],\n",
       "[     0,      0,      0,     0,      0,      0, 1.0*I,     0],\n",
       "[     0,      0,      0, 1.0*I,      0,      0,     0,     0]])"
      ]
     },
     "metadata": {},
     "output_type": "display_data"
    },
    {
     "name": "stdout",
     "output_type": "stream",
     "text": [
      "70\n"
     ]
    }
   ],
   "source": [
    "unitary(circuit)\n",
    "cost(circuit)"
   ]
  },
  {
   "cell_type": "markdown",
   "metadata": {},
   "source": [
    "As you can see, this circuit gives us the desired matrix (up to some phase difference) with cost 70. We see even more phase difference than the first time we built this circuit because the implementation of each gate added some more phase difference. As I said before, this solution is not accepted because of this, but it could be useful for some speciric cases in which you don't care about phase.\n",
    "\n",
    "Now, for the actual solution I submitted. I just went ahead and build the Toffoli gate the same way the unroller does. This solution may not be the most clever but I spend a lot of time building the pseudo-solution above and I wanted to move on with other exercises."
   ]
  },
  {
   "cell_type": "code",
   "execution_count": 116,
   "metadata": {},
   "outputs": [
    {
     "name": "stdout",
     "output_type": "stream",
     "text": [
      "72\n"
     ]
    },
    {
     "data": {
      "image/png": "[encoded data removed]",
      "text/plain": [
       "<Figure size 869.197x204.68 with 1 Axes>"
      ]
     },
     "execution_count": 116,
     "metadata": {},
     "output_type": "execute_result"
    }
   ],
   "source": [
    "circ = QuantumCircuit(3)\n",
    "\n",
    "circ.rz(np.pi/2, 2)\n",
    "circ.sx(2)\n",
    "circ.rz(np.pi/2, 2)\n",
    "circ.cx(1, 2)\n",
    "circ.rz(-np.pi/4, 2)\n",
    "circ.cx(0, 2)\n",
    "circ.rz(np.pi/4, 2)\n",
    "circ.cx(1, 2)\n",
    "circ.rz(np.pi/4, 1)\n",
    "circ.rz(-np.pi/4, 2)\n",
    "circ.cx(0, 2)\n",
    "circ.cx(0, 1)\n",
    "circ.rz(3*np.pi/4, 2)\n",
    "circ.rz(np.pi/4, 0)\n",
    "circ.rz(-np.pi/4, 1)\n",
    "circ.sx(2)\n",
    "circ.cx(0, 1)\n",
    "circ.rz(np.pi/2, 2)\n",
    "\n",
    "cost(circ)\n",
    "circ.draw(output='mpl')"
   ]
  },
  {
   "cell_type": "code",
   "execution_count": 118,
   "metadata": {},
   "outputs": [
    {
     "data": {
      "text/latex": [
       "$\\displaystyle \\left[\\begin{matrix}-0.3826834324 - 0.9238795325 i & 0 & 0 & 0 & 0 & 0 & 0 & 0\\\\0 & -0.3826834324 - 0.9238795325 i & 0 & 0 & 0 & 0 & 0 & 0\\\\0 & 0 & -0.3826834324 - 0.9238795325 i & 0 & 0 & 0 & 0 & 0\\\\0 & 0 & 0 & 0 & 0 & 0 & 0 & -0.3826834324 - 0.9238795325 i\\\\0 & 0 & 0 & 0 & -0.3826834324 - 0.9238795325 i & 0 & 0 & 0\\\\0 & 0 & 0 & 0 & 0 & -0.3826834324 - 0.9238795325 i & 0 & 0\\\\0 & 0 & 0 & 0 & 0 & 0 & -0.3826834324 - 0.9238795325 i & 0\\\\0 & 0 & 0 & -0.3826834324 - 0.9238795325 i & 0 & 0 & 0 & 0\\end{matrix}\\right]$"
      ],
      "text/plain": [
       "Matrix([\n",
       "[-0.3826834324 - 0.9238795325*I,                              0,                              0,                              0,                              0,                              0,                              0,                              0],\n",
       "[                             0, -0.3826834324 - 0.9238795325*I,                              0,                              0,                              0,                              0,                              0,                              0],\n",
       "[                             0,                              0, -0.3826834324 - 0.9238795325*I,                              0,                              0,                              0,                              0,                              0],\n",
       "[                             0,                              0,                              0,                              0,                              0,                              0,                              0, -0.3826834324 - 0.9238795325*I],\n",
       "[                             0,                              0,                              0,                              0, -0.3826834324 - 0.9238795325*I,                              0,                              0,                              0],\n",
       "[                             0,                              0,                              0,                              0,                              0, -0.3826834324 - 0.9238795325*I,                              0,                              0],\n",
       "[                             0,                              0,                              0,                              0,                              0,                              0, -0.3826834324 - 0.9238795325*I,                              0],\n",
       "[                             0,                              0,                              0, -0.3826834324 - 0.9238795325*I,                              0,                              0,                              0,                              0]])"
      ]
     },
     "metadata": {},
     "output_type": "display_data"
    }
   ],
   "source": [
    "unitary(circ)"
   ]
  },
  {
   "cell_type": "markdown",
   "metadata": {},
   "source": [
    "And eventhough the matrix for this circuit is not the exact same as the one of the normal Toffoli gate, the phase difference introduced is the same for each element of the matrix (which is not true in my first attempt) and therefore it can be considered a global difference and ignored.\n",
    "\n",
    "And it is indeed ignored by the grader and thus the solution is correct."
   ]
  },
  {
   "cell_type": "code",
   "execution_count": 120,
   "metadata": {},
   "outputs": [
    {
     "name": "stdout",
     "output_type": "stream",
     "text": [
      "Grading your answer for ex1. Please wait...\n",
      "\n",
      "Congratulations 🎉! Your answer is correct.\n",
      "Your cost is 72.\n",
      "Feel free to submit your answer.\r\n",
      "\n"
     ]
    }
   ],
   "source": [
    "from qc_grader import grade_ex1\n",
    "grade_ex1(circ)"
   ]
  }
 ],
 "metadata": {
  "kernelspec": {
   "display_name": "Python 3",
   "language": "python",
   "name": "python3"
  },
  "language_info": {
   "codemirror_mode": {
    "name": "ipython",
    "version": 3
   },
   "file_extension": ".py",
   "mimetype": "text/x-python",
   "name": "python",
   "nbconvert_exporter": "python",
   "pygments_lexer": "ipython3",
   "version": "3.7.6"
  }
 },
 "nbformat": 4,
 "nbformat_minor": 5
}
