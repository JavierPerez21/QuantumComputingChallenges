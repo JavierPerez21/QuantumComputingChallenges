{
 "cells": [
  {
   "cell_type": "code",
   "execution_count": null,
   "metadata": {},
   "outputs": [],
   "source": [
    "#Solution to Ex1 by Viduranga Landers\n",
    "#Score: 73"
   ]
  },
  {
   "cell_type": "code",
   "execution_count": 48,
   "metadata": {},
   "outputs": [
    {
     "name": "stderr",
     "output_type": "stream",
     "text": [
      "ibmqfactory.load_account:WARNING:2021-06-04 14:05:28,263: Credentials are already in use. The existing account in the session will be replaced.\n"
     ]
    }
   ],
   "source": [
    "import numpy as np\n",
    "# Importing standard Qiskit libraries\n",
    "from qiskit import QuantumCircuit, transpile, Aer, IBMQ\n",
    "from qiskit.tools.jupyter import *\n",
    "from qiskit.visualization import *\n",
    "from ibm_quantum_widgets import *\n",
    "\n",
    "# Loading your IBM Quantum account(s)\n",
    "provider = IBMQ.load_account()"
   ]
  },
  {
   "cell_type": "code",
   "execution_count": null,
   "metadata": {},
   "outputs": [],
   "source": [
    "#Solution to Ex1 by Viduranga Landers\n",
    "#Score: 73\n",
    "\n",
    "# You can also build your circuit programmatically using Qiskit code\n",
    "from qiskit import QuantumRegister, ClassicalRegister, QuantumCircuit\n",
    "from numpy import pi\n",
    "circuit = QuantumCircuit(3)\n",
    "\n",
    "# WRITE YOUR CODE BETWEEN THESE LINES - START\n",
    "circuit.rz(pi/2,2)\n",
    "circuit.sx(2)\n",
    "circuit.rz(pi/2,2)\n",
    "circuit.cx(1,2)\n",
    "circuit.rz(-pi/4,2)\n",
    "circuit.cx(0,2)\n",
    "circuit.rz(pi/4,2)\n",
    "circuit.cx(1,2)\n",
    "circuit.rz(pi/4,1)\n",
    "circuit.rz(-pi/4,2)\n",
    "circuit.cx(0,2)\n",
    "circuit.cx(0,1)\n",
    "circuit.rz(pi/4,2)\n",
    "circuit.rz(pi/4,0)\n",
    "circuit.rz(-pi/4,1)\n",
    "circuit.rz(pi/2,2)\n",
    "circuit.cx(0,1)\n",
    "circuit.sx(2)\n",
    "circuit.rz(pi/2,2)\n",
    "# WRITE YOUR CODE BETWEEN THESE LINES - END\n",
    "# Checking the resulting circuit\n",
    "qc = circuit \n",
    "qc.draw(output='mpl')"
   ]
  },
  {
   "cell_type": "code",
   "execution_count": null,
   "metadata": {},
   "outputs": [],
   "source": []
  }
 ],
 "metadata": {
  "kernelspec": {
   "display_name": "Python 3",
   "language": "python",
   "name": "python3"
  },
  "language_info": {
   "codemirror_mode": {
    "name": "ipython",
    "version": 3
   },
   "file_extension": ".py",
   "mimetype": "text/x-python",
   "name": "python",
   "nbconvert_exporter": "python",
   "pygments_lexer": "ipython3",
   "version": "3.7.6"
  }
 },
 "nbformat": 4,
 "nbformat_minor": 5
}
