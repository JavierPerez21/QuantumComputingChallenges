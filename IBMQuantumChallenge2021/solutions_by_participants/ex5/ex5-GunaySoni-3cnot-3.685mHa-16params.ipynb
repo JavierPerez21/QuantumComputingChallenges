{
 "cells": [
  {
   "cell_type": "code",
   "execution_count": 1,
   "metadata": {},
   "outputs": [],
   "source": [
    "import numpy as np\n"
   ]
  },
  {
   "cell_type": "markdown",
   "metadata": {},
   "source": [
    "First we define our molecule using the PySCFDriver"
   ]
  },
  {
   "cell_type": "code",
   "execution_count": 2,
   "metadata": {},
   "outputs": [],
   "source": [
    "from qiskit_nature.drivers import PySCFDriver\n",
    "\n",
    "molecule = 'Li 0.0 0.0 0.0; H 0.0 0.0 1.5474'\n",
    "driver = PySCFDriver(atom=molecule)\n",
    "qmolecule = driver.run()"
   ]
  },
  {
   "cell_type": "code",
   "execution_count": 3,
   "metadata": {},
   "outputs": [
    {
     "name": "stdout",
     "output_type": "stream",
     "text": [
      "Number of electrons is 4\n",
      "Numberr of molecular orbitals is 6\n",
      "Number of spin-orbitals is 12\n",
      "Number of qubits required is 12\n"
     ]
    }
   ],
   "source": [
    "n_el = qmolecule.num_alpha + qmolecule.num_beta\n",
    "n_mo = qmolecule.num_molecular_orbitals\n",
    "n_so = 2 * qmolecule.num_molecular_orbitals\n",
    "n_q = 2* qmolecule.num_molecular_orbitals\n",
    "\n",
    "print('Number of electrons is',n_el)\n",
    "print('Numberr of molecular orbitals is',n_mo)\n",
    "print('Number of spin-orbitals is',n_so)\n",
    "print('Number of qubits required is',n_q)\n"
   ]
  },
  {
   "cell_type": "markdown",
   "metadata": {},
   "source": [
    "Now we create an ElectronicStructureProblem and then map it to our qubits. We first calculate the exact energy with no transformers and JordanWigner mapping as a benchmark. \n",
    "\n",
    "In the JordanWigner mapping a qubit represents a spin-orbital.\n"
   ]
  },
  {
   "cell_type": "code",
   "execution_count": 4,
   "metadata": {},
   "outputs": [],
   "source": [
    "from qiskit_nature.problems.second_quantization.electronic import ElectronicStructureProblem\n",
    "problem = ElectronicStructureProblem(driver)\n",
    "# Generate the second-quantized operators\n",
    "second_q_ops = problem.second_q_ops()\n",
    "# Hamiltonian\n",
    "main_op = second_q_ops[0]"
   ]
  },
  {
   "cell_type": "code",
   "execution_count": 5,
   "metadata": {},
   "outputs": [],
   "source": [
    "from qiskit_nature.mappers.second_quantization import ParityMapper,JordanWignerMapper\n",
    "from qiskit_nature.converters.second_quantization.qubit_converter import QubitConverter\n",
    "mapper = JordanWignerMapper()\n",
    "converter = QubitConverter(mapper=mapper)\n",
    "num_particles = (problem.molecule_data_transformed.num_alpha,problem.molecule_data_transformed.num_beta)\n",
    "qubit_op = converter.convert(main_op, num_particles=num_particles)"
   ]
  },
  {
   "cell_type": "code",
   "execution_count": 6,
   "metadata": {},
   "outputs": [
    {
     "name": "stdout",
     "output_type": "stream",
     "text": [
      "      ┌───┐\n",
      " q_0: ┤ X ├\n",
      "      ├───┤\n",
      " q_1: ┤ X ├\n",
      "      └───┘\n",
      " q_2: ─────\n",
      "           \n",
      " q_3: ─────\n",
      "           \n",
      " q_4: ─────\n",
      "           \n",
      " q_5: ─────\n",
      "      ┌───┐\n",
      " q_6: ┤ X ├\n",
      "      ├───┤\n",
      " q_7: ┤ X ├\n",
      "      └───┘\n",
      " q_8: ─────\n",
      "           \n",
      " q_9: ─────\n",
      "           \n",
      "q_10: ─────\n",
      "           \n",
      "q_11: ─────\n",
      "           \n"
     ]
    }
   ],
   "source": [
    "from qiskit_nature.circuit.library import HartreeFock\n",
    "num_spin_orbitals = 2 * problem.molecule_data_transformed.num_molecular_orbitals\n",
    "init_state = HartreeFock(num_spin_orbitals, num_particles, converter)\n",
    "print(init_state)"
   ]
  },
  {
   "cell_type": "code",
   "execution_count": 7,
   "metadata": {},
   "outputs": [
    {
     "name": "stdout",
     "output_type": "stream",
     "text": [
      "=== GROUND STATE ENERGY ===\n",
      " \n",
      "* Electronic ground state energy (Hartree): -8.908697116424\n",
      "  - computed part:      -8.908697116424\n",
      "~ Nuclear repulsion energy (Hartree): 1.025934879643\n",
      "> Total ground state energy (Hartree): -7.882762236781\n",
      " \n",
      "=== MEASURED OBSERVABLES ===\n",
      " \n",
      "  0:  # Particles: 4.000 S: 0.000 S^2: 0.000 M: 0.000\n",
      " \n",
      "=== DIPOLE MOMENTS ===\n",
      " \n",
      "~ Nuclear dipole moment (a.u.): [0.0  0.0  2.92416221]\n",
      " \n",
      "  0: \n",
      "  * Electronic dipole moment (a.u.): [0.0  0.0  4.74455828]\n",
      "    - computed part:      [0.0  0.0  4.74455828]\n",
      "  > Dipole moment (a.u.): [0.0  0.0  -1.82039607]  Total: 1.82039607\n",
      "                 (debye): [0.0  0.0  -4.62698485]  Total: 4.62698485\n",
      " \n"
     ]
    }
   ],
   "source": [
    "from qiskit_nature.algorithms.ground_state_solvers.minimum_eigensolver_factories import NumPyMinimumEigensolverFactory\n",
    "from qiskit_nature.algorithms.ground_state_solvers import GroundStateEigensolver\n",
    "\n",
    "def exact_diagonalizer(problem, converter):\n",
    "    solver = NumPyMinimumEigensolverFactory()\n",
    "    calc = GroundStateEigensolver(converter, solver)\n",
    "    result = calc.solve(problem)\n",
    "    return result\n",
    "\n",
    "result_exact = exact_diagonalizer(problem, converter)\n",
    "print(result_exact)"
   ]
  },
  {
   "cell_type": "code",
   "execution_count": 8,
   "metadata": {},
   "outputs": [
    {
     "data": {
      "text/plain": [
       "-8.908697116424243"
      ]
     },
     "execution_count": 8,
     "metadata": {},
     "output_type": "execute_result"
    }
   ],
   "source": [
    "initial_exact_energy=np.real(result_exact.eigenenergies[0])\n",
    "initial_exact_energy"
   ]
  },
  {
   "cell_type": "markdown",
   "metadata": {},
   "source": [
    "Now we get a 12 qubit circuit and an energy which we can compare with. Now we try to reduce our number of qubits."
   ]
  },
  {
   "cell_type": "markdown",
   "metadata": {},
   "source": [
    "Now we use a transformer to freeze the core electrons and remove the orbitals which don't contribute significantly to the Hamiltonian"
   ]
  },
  {
   "cell_type": "code",
   "execution_count": 9,
   "metadata": {},
   "outputs": [],
   "source": [
    "from qiskit_nature.transformers import FreezeCoreTransformer\n",
    "problem = ElectronicStructureProblem(driver,q_molecule_transformers=[FreezeCoreTransformer(qmolecule,remove_orbitals=[3,4])])\n",
    "\n",
    "# Generate the second-quantized operators\n",
    "second_q_ops = problem.second_q_ops()\n",
    "\n",
    "# Hamiltonian\n",
    "main_op = second_q_ops[0]"
   ]
  },
  {
   "cell_type": "markdown",
   "metadata": {},
   "source": [
    "Now we use a ParityMapper, two_qubit_reduction and Z<sup>2</sup> symmetries of the Hamiltonian to reduce the number of Qubits required.   "
   ]
  },
  {
   "cell_type": "code",
   "execution_count": 10,
   "metadata": {},
   "outputs": [],
   "source": [
    "mapper=ParityMapper()\n",
    "converter = QubitConverter(mapper=mapper, two_qubit_reduction=True,z2symmetry_reduction=[1])"
   ]
  },
  {
   "cell_type": "code",
   "execution_count": 11,
   "metadata": {},
   "outputs": [
    {
     "name": "stdout",
     "output_type": "stream",
     "text": [
      "     ┌───┐\n",
      "q_0: ┤ X ├\n",
      "     ├───┤\n",
      "q_1: ┤ X ├\n",
      "     └───┘\n",
      "q_2: ─────\n",
      "          \n",
      "q_3: ─────\n",
      "          \n"
     ]
    }
   ],
   "source": [
    "num_particles = (problem.molecule_data_transformed.num_alpha,problem.molecule_data_transformed.num_beta)\n",
    "qubit_op = converter.convert(main_op, num_particles=num_particles)\n",
    "num_spin_orbitals = 2 * problem.molecule_data_transformed.num_molecular_orbitals\n",
    "init_state = HartreeFock(num_spin_orbitals, num_particles, converter)\n",
    "print(init_state)"
   ]
  },
  {
   "cell_type": "markdown",
   "metadata": {},
   "source": [
    "We get a 4 qubit circuit which results in an energy eigenvalue sufficiently close to our initial result.\n",
    "\n",
    "If we remove any more orbitals then the Hamiltonian will not be able to reflect the molecule accurately."
   ]
  },
  {
   "cell_type": "code",
   "execution_count": 12,
   "metadata": {},
   "outputs": [
    {
     "name": "stdout",
     "output_type": "stream",
     "text": [
      "Computed energy is -1.0887060157347412\n",
      "FreezeCoreTransformer extracted energy part is -7.818690295581148\n",
      "Ground State Energy is -8.907396311315889\n"
     ]
    }
   ],
   "source": [
    "result_exact = exact_diagonalizer(problem, converter)\n",
    "print('Computed energy is',(result_exact.computed_energies[0]))\n",
    "print('FreezeCoreTransformer extracted energy part is',(result_exact.extracted_transformer_energy))\n",
    "print('Ground State Energy is',(result_exact.computed_energies[0])+(result_exact.extracted_transformer_energy))"
   ]
  },
  {
   "cell_type": "markdown",
   "metadata": {},
   "source": [
    "Now we make our ansatz circuit. 3 is the minimum number of CNOTs you need to connect 4 qubits"
   ]
  },
  {
   "cell_type": "code",
   "execution_count": 13,
   "metadata": {},
   "outputs": [
    {
     "data": {
      "image/png": "[encoded data removed]",
      "text/plain": [
       "<Figure size 568.197x264.88 with 1 Axes>"
      ]
     },
     "execution_count": 13,
     "metadata": {},
     "output_type": "execute_result"
    }
   ],
   "source": [
    "from qiskit.circuit.library import TwoLocal\n",
    "ansatz_type = \"TwoLocal\"\n",
    "# Single qubit rotations that are placed on all qubits with independent parameters\n",
    "rotation_blocks = ['ry', 'rz']\n",
    "# Entangling gates\n",
    "entanglement_blocks = 'cx'\n",
    "# How the qubits are entangled \n",
    "entanglement = 'linear'\n",
    "# Repetitions of rotation_blocks + entanglement_blocks with independent parameters\n",
    "repetitions = 1\n",
    "# Skip the final rotation_blocks layer\n",
    "skip_final_rotation_layer = False\n",
    "ansatz = TwoLocal(qubit_op.num_qubits, rotation_blocks, entanglement_blocks, reps=repetitions,\n",
    "                  entanglement=entanglement, skip_final_rotation_layer=skip_final_rotation_layer)\n",
    "# Add the initial state\n",
    "ansatz.compose(init_state, front=True, inplace=True)\n",
    "ansatz.draw()"
   ]
  },
  {
   "cell_type": "code",
   "execution_count": 14,
   "metadata": {},
   "outputs": [],
   "source": [
    "from qiskit import Aer\n",
    "backend = Aer.get_backend('statevector_simulator')"
   ]
  },
  {
   "cell_type": "markdown",
   "metadata": {},
   "source": [
    "Then we use a classical optimiser to find our 16 parameters "
   ]
  },
  {
   "cell_type": "code",
   "execution_count": 15,
   "metadata": {},
   "outputs": [],
   "source": [
    "from qiskit.algorithms.optimizers import COBYLA\n",
    "optimizer = COBYLA(maxiter=15000)"
   ]
  },
  {
   "cell_type": "code",
   "execution_count": 16,
   "metadata": {},
   "outputs": [
    {
     "name": "stdout",
     "output_type": "stream",
     "text": [
      "{   'aux_operator_eigenvalues': None,\n",
      "    'cost_function_evals': 15000,\n",
      "    'eigenstate': array([ 1.30043312e-03+4.09329362e-04j, -4.51487091e-03-2.46028356e-03j,\n",
      "        8.71548764e-03+1.95991332e-02j, -7.95141351e-01-5.92539916e-01j,\n",
      "       -4.17440574e-02-3.27628443e-02j, -3.81455279e-04-6.16561407e-04j,\n",
      "        1.89346644e-04+6.49111787e-04j, -1.01172212e-02-1.81637625e-02j,\n",
      "       -2.37898814e-03-5.25373839e-04j, -2.18548676e-05-1.52234203e-05j,\n",
      "        7.10404081e-06-1.48293086e-06j,  3.26070609e-04+1.31268137e-04j,\n",
      "        9.10423309e-02+6.79057723e-02j,  7.01181486e-04+1.11396524e-03j,\n",
      "       -4.19908461e-04-3.94286255e-04j, -4.63453251e-04-9.08860898e-04j]),\n",
      "    'eigenvalue': -1.0863215917392375,\n",
      "    'optimal_parameters': {   ParameterVectorElement(θ[0]): 2.8901587552938297,\n",
      "                              ParameterVectorElement(θ[10]): 0.04289321128538392,\n",
      "                              ParameterVectorElement(θ[13]): 0.14114256364535704,\n",
      "                              ParameterVectorElement(θ[12]): 2.619106522057637,\n",
      "                              ParameterVectorElement(θ[3]): -2.7041545081306824,\n",
      "                              ParameterVectorElement(θ[6]): -0.05762962028012131,\n",
      "                              ParameterVectorElement(θ[11]): 2.704799986014151,\n",
      "                              ParameterVectorElement(θ[8]): 3.098047936114195,\n",
      "                              ParameterVectorElement(θ[7]): 0.0003922708233321477,\n",
      "                              ParameterVectorElement(θ[9]): -0.010399821488746035,\n",
      "                              ParameterVectorElement(θ[15]): 3.1167592620641744,\n",
      "                              ParameterVectorElement(θ[2]): 3.139321737230238,\n",
      "                              ParameterVectorElement(θ[4]): -0.7794227757572584,\n",
      "                              ParameterVectorElement(θ[1]): -0.0043096360011648654,\n",
      "                              ParameterVectorElement(θ[5]): 1.338701319870004,\n",
      "                              ParameterVectorElement(θ[14]): 0.42350602780452173},\n",
      "    'optimal_point': array([ 2.89015876e+00,  4.28932113e-02,  2.70479999e+00,  2.61910652e+00,\n",
      "        1.41142564e-01,  4.23506028e-01,  3.11675926e+00, -4.30963600e-03,\n",
      "        3.13932174e+00, -2.70415451e+00, -7.79422776e-01,  1.33870132e+00,\n",
      "       -5.76296203e-02,  3.92270823e-04,  3.09804794e+00, -1.03998215e-02]),\n",
      "    'optimal_value': -1.0863215917392375,\n",
      "    'optimizer_evals': 15000,\n",
      "    'optimizer_time': 276.68843841552734}\n"
     ]
    }
   ],
   "source": [
    "from qiskit.algorithms import VQE\n",
    "from IPython.display import display, clear_output\n",
    "\n",
    "# Print and save the data in lists\n",
    "def callback(eval_count, parameters, mean, std):  \n",
    "    # Overwrites the same line when printing\n",
    "    display(\"Evaluation: {}, Energy: {}, Std: {}\".format(eval_count, mean, std))\n",
    "    clear_output(wait=True)\n",
    "    counts.append(eval_count)\n",
    "    values.append(mean)\n",
    "    params.append(parameters)\n",
    "    deviation.append(std)\n",
    "\n",
    "counts = []\n",
    "values = []\n",
    "params = []\n",
    "deviation = []\n",
    "\n",
    "# Set initial parameters of the ansatz\n",
    "# We choose a fixed small displacement \n",
    "# So all participants start from similar starting point\n",
    "try:\n",
    "    initial_point = [0.01]* len(ansatz.ordered_parameters) \n",
    "except:\n",
    "    initial_point = [0.01] * ansatz.num_parameters\n",
    "\n",
    "algorithm = VQE(ansatz,\n",
    "                optimizer=optimizer,\n",
    "                quantum_instance=backend,\n",
    "                callback=callback,\n",
    "                initial_point=initial_point)\n",
    "\n",
    "result = algorithm.compute_minimum_eigenvalue(qubit_op)\n",
    "energy=result.optimal_value+result_exact.extracted_transformer_energy\n",
    "print(result)"
   ]
  },
  {
   "cell_type": "markdown",
   "metadata": {},
   "source": [
    "Now we compare our computed value with our initial exact energy"
   ]
  },
  {
   "cell_type": "code",
   "execution_count": 17,
   "metadata": {},
   "outputs": [
    {
     "data": {
      "text/html": [
       "<div>\n",
       "<style scoped>\n",
       "    .dataframe tbody tr th:only-of-type {\n",
       "        vertical-align: middle;\n",
       "    }\n",
       "\n",
       "    .dataframe tbody tr th {\n",
       "        vertical-align: top;\n",
       "    }\n",
       "\n",
       "    .dataframe thead th {\n",
       "        text-align: right;\n",
       "    }\n",
       "</style>\n",
       "<table border=\"1\" class=\"dataframe\">\n",
       "  <thead>\n",
       "    <tr style=\"text-align: right;\">\n",
       "      <th></th>\n",
       "      <th>optimizer</th>\n",
       "      <th>ansatz</th>\n",
       "      <th># of qubits</th>\n",
       "      <th># of parameters</th>\n",
       "      <th>rotation blocks</th>\n",
       "      <th>entanglement_blocks</th>\n",
       "      <th>entanglement</th>\n",
       "      <th>repetitions</th>\n",
       "      <th>error (mHa)</th>\n",
       "      <th>pass</th>\n",
       "      <th>score</th>\n",
       "    </tr>\n",
       "  </thead>\n",
       "  <tbody>\n",
       "    <tr>\n",
       "      <th>0</th>\n",
       "      <td>COBYLA</td>\n",
       "      <td>TwoLocal</td>\n",
       "      <td>4</td>\n",
       "      <td>16</td>\n",
       "      <td>[ry, rz]</td>\n",
       "      <td>cx</td>\n",
       "      <td>linear</td>\n",
       "      <td>1</td>\n",
       "      <td>3.685229</td>\n",
       "      <td>True</td>\n",
       "      <td>3</td>\n",
       "    </tr>\n",
       "  </tbody>\n",
       "</table>\n",
       "</div>"
      ],
      "text/plain": [
       "  optimizer    ansatz  # of qubits  # of parameters rotation blocks  \\\n",
       "0    COBYLA  TwoLocal            4               16        [ry, rz]   \n",
       "\n",
       "  entanglement_blocks entanglement  repetitions  error (mHa)  pass  score  \n",
       "0                  cx       linear            1     3.685229  True      3  "
      ]
     },
     "execution_count": 17,
     "metadata": {},
     "output_type": "execute_result"
    }
   ],
   "source": [
    "# Store results in a dictionary\n",
    "from qiskit.transpiler import PassManager\n",
    "from qiskit.transpiler.passes import Unroller\n",
    "\n",
    "# Unroller transpile your circuit into CNOTs and U gates\n",
    "pass_ = Unroller(['u', 'cx'])\n",
    "pm = PassManager(pass_)\n",
    "ansatz_tp = pm.run(ansatz)\n",
    "cnots = ansatz_tp.count_ops()['cx']\n",
    "score = cnots\n",
    "\n",
    "accuracy_threshold = 4.0 # in mHa\n",
    "\n",
    "if ansatz_type == \"TwoLocal\":\n",
    "    result_dict = {\n",
    "        'optimizer': optimizer.__class__.__name__,\n",
    "        'mapping': converter.mapper.__class__.__name__,\n",
    "        'ansatz': ansatz.__class__.__name__,\n",
    "        'rotation blocks': rotation_blocks,\n",
    "        'entanglement_blocks': entanglement_blocks,\n",
    "        'entanglement': entanglement,\n",
    "        'repetitions': repetitions,\n",
    "        'skip_final_rotation_layer': skip_final_rotation_layer,\n",
    "        'energy (Ha)': energy,\n",
    "        'error (mHa)': (energy-initial_exact_energy)*1000,\n",
    "        'pass': (energy-initial_exact_energy)*1000 <= accuracy_threshold,\n",
    "        '# of parameters': len(result.optimal_point),\n",
    "        'final parameters': result.optimal_point,\n",
    "        '# of evaluations': result.optimizer_evals,\n",
    "        'optimizer time': result.optimizer_time,\n",
    "        '# of qubits': int(qubit_op.num_qubits),\n",
    "        '# of CNOTs': cnots,\n",
    "        'score': score}\n",
    "\n",
    "# Display and save the data\n",
    "import pandas as pd\n",
    "result_df = pd.DataFrame.from_dict([result_dict])\n",
    "result_df[['optimizer','ansatz', '# of qubits', '# of parameters','rotation blocks', 'entanglement_blocks',\n",
    "    'entanglement', 'repetitions', 'error (mHa)', 'pass', 'score']]"
   ]
  },
  {
   "cell_type": "code",
   "execution_count": null,
   "metadata": {},
   "outputs": [],
   "source": []
  }
 ],
 "metadata": {
  "kernelspec": {
   "display_name": "Python 3",
   "language": "python",
   "name": "python3"
  },
  "language_info": {
   "codemirror_mode": {
    "name": "ipython",
    "version": 3
   },
   "file_extension": ".py",
   "mimetype": "text/x-python",
   "name": "python",
   "nbconvert_exporter": "python",
   "pygments_lexer": "ipython3",
   "version": "3.7.6"
  }
 },
 "nbformat": 4,
 "nbformat_minor": 5
}
