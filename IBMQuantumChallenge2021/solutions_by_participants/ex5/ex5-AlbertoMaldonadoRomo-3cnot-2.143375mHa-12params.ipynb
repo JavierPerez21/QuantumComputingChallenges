{
 "cells": [
  {
   "cell_type": "markdown",
   "metadata": {},
   "source": [
    "# Exercise 5 - Variational quantum eigensolver\n",
    "\n",
    "Simulation of LiH molecule using the STO-3G basis with the PySCF driver and Jordan-Wigner mapping.\n",
    "We will guide you through the following parts so then you can tackle harder problems."
   ]
  },
  {
   "cell_type": "markdown",
   "metadata": {},
   "source": [
    "#### 1. Pass the LiH to a Driver\n",
    "\n",
    "The interfaces to the classical chemistry codes that are available in Qiskit are called drivers.\n",
    "We use  `PySCFDriver` for this method we obtain necessary information about our molecule.\n",
    "\n",
    "By running a driver (Hartree-Fock calculation for a given basis set and molecular geometry), in the cell below, we obtain all the necessary information about our molecule to apply then a quantum algorithm."
   ]
  },
  {
   "cell_type": "code",
   "execution_count": 1,
   "metadata": {},
   "outputs": [
    {
     "name": "stdout",
     "output_type": "stream",
     "text": [
      "[[-4.73853724  0.10753914  0.1675853   0.          0.         -0.03026284\n",
      "   0.          0.          0.          0.          0.          0.        ]\n",
      " [ 0.10753914 -1.51317577  0.03434669  0.          0.         -0.06802917\n",
      "   0.          0.          0.          0.          0.          0.        ]\n",
      " [ 0.1675853   0.03434669 -1.12916229  0.          0.          0.03143223\n",
      "   0.          0.          0.          0.          0.          0.        ]\n",
      " [ 0.          0.          0.         -1.14077094  0.          0.\n",
      "   0.          0.          0.          0.          0.          0.        ]\n",
      " [ 0.          0.          0.          0.         -1.14077094  0.\n",
      "   0.          0.          0.          0.          0.          0.        ]\n",
      " [-0.03026284 -0.06802917  0.03143223  0.          0.         -0.9418187\n",
      "   0.          0.          0.          0.          0.          0.        ]\n",
      " [ 0.          0.          0.          0.          0.          0.\n",
      "  -4.73853724  0.10753914  0.1675853   0.          0.         -0.03026284]\n",
      " [ 0.          0.          0.          0.          0.          0.\n",
      "   0.10753914 -1.51317577  0.03434669  0.          0.         -0.06802917]\n",
      " [ 0.          0.          0.          0.          0.          0.\n",
      "   0.1675853   0.03434669 -1.12916229  0.          0.          0.03143223]\n",
      " [ 0.          0.          0.          0.          0.          0.\n",
      "   0.          0.          0.         -1.14077094  0.          0.        ]\n",
      " [ 0.          0.          0.          0.          0.          0.\n",
      "   0.          0.          0.          0.         -1.14077094  0.        ]\n",
      " [ 0.          0.          0.          0.          0.          0.\n",
      "  -0.03026284 -0.06802917  0.03143223  0.          0.         -0.9418187 ]]\n"
     ]
    }
   ],
   "source": [
    "from qiskit_nature.drivers import PySCFDriver\n",
    "molecule = 'Li 0.0 0.0 0.0; H 0.0 0.0 1.5474'\n",
    "driver = PySCFDriver(atom=molecule)\n",
    "qmolecule = driver.run()\n",
    "print(qmolecule.one_body_integrals)"
   ]
  },
  {
   "cell_type": "code",
   "execution_count": 2,
   "metadata": {},
   "outputs": [
    {
     "name": "stdout",
     "output_type": "stream",
     "text": [
      "Total number of electrons in the system 4\n",
      "Number of molecular orbitals 6\n",
      "Number of spin-orbitals 12\n",
      "Number of qubits  you need to simulate this molecule with Jordan-Wigner mapping 12\n",
      "Value of the nuclear repulsion energy 1.0259348796432726\n"
     ]
    }
   ],
   "source": [
    "n_el = qmolecule.num_alpha + qmolecule.num_beta\n",
    "n_mo = qmolecule.num_molecular_orbitals\n",
    "n_so = 2 * qmolecule.num_molecular_orbitals\n",
    "n_q = 2* qmolecule.num_molecular_orbitals\n",
    "e_nn = qmolecule.nuclear_repulsion_energy\n",
    "print(\"Total number of electrons in the system\",n_el)\n",
    "print(\"Number of molecular orbitals\",n_mo)\n",
    "print(\"Number of spin-orbitals\",n_so)\n",
    "print(\"Number of qubits  you need to simulate this molecule with Jordan-Wigner mapping\",n_q)\n",
    "print(\"Value of the nuclear repulsion energy\",e_nn)"
   ]
  },
  {
   "cell_type": "markdown",
   "metadata": {},
   "source": [
    "#### 2. Electronic structure\n",
    "\n",
    "The next step is to use the ElectronicStructureProblem method which returns a list of fermionic. Similarly, we have to reduce or in this case freeze the core orbitals to reduce the number of qubits, this can be done thanks to the FreezeCoreTransformer method and we will remove the orbitals [3,4]."
   ]
  },
  {
   "cell_type": "code",
   "execution_count": 3,
   "metadata": {},
   "outputs": [
    {
     "name": "stderr",
     "output_type": "stream",
     "text": [
      "/opt/conda/lib/python3.8/site-packages/qiskit/chemistry/__init__.py:170: DeprecationWarning: The package qiskit.chemistry is deprecated. It was moved/refactored to qiskit_nature (pip install qiskit-nature). For more information see <https://github.com/Qiskit/qiskit-aqua/blob/master/README.md#migration-guide>\n",
      "  warn_package('chemistry', 'qiskit_nature', 'qiskit-nature')\n"
     ]
    }
   ],
   "source": [
    "from qiskit_nature.problems.second_quantization.electronic import ElectronicStructureProblem\n",
    "from qiskit_nature.transformers import FreezeCoreTransformer\n",
    "from qiskit.aqua.operators import Z2Symmetries\n",
    "from qiskit.chemistry import FermionicOperator\n",
    "\n",
    "#FreezingCore\n",
    "problem = ElectronicStructureProblem(driver, [FreezeCoreTransformer(remove_orbitals=[3,4])])\n",
    "\n",
    "\n",
    "# Generate the second-quantized operators\n",
    "second_q_ops = problem.second_q_ops()\n",
    "\n",
    "# Hamiltonian\n",
    "main_op = second_q_ops[0]"
   ]
  },
  {
   "cell_type": "markdown",
   "metadata": {},
   "source": [
    "#### 3. QubitConverter\n",
    "\n",
    "Allows to define the mapping that you will use in the simulation. You can try different mapping but \n",
    "we will stick to `JordanWignerMapper` as allows a simple correspondence: a qubit represents a spin-orbital in the molecule."
   ]
  },
  {
   "cell_type": "code",
   "execution_count": 4,
   "metadata": {},
   "outputs": [
    {
     "name": "stdout",
     "output_type": "stream",
     "text": [
      "-0.20316606150558705 * IIII\n",
      "+ (-0.36525869021603924-1.3877787807814457e-17j) * ZIII\n",
      "+ 0.09275994933497489 * IZII\n",
      "- 0.2118898429700879 * ZZII\n",
      "+ (0.36525869021603924-2.7755575615628914e-17j) * IIZI\n",
      "- 0.1138433517646434 * ZIZI\n",
      "+ 0.11395251883046345 * IZZI\n",
      "+ (-0.060440128573161965+3.469446951953614e-18j) * ZZZI\n",
      "+ (-0.09275994933497494+3.469446951953614e-18j) * IIIZ\n",
      "+ 0.11395251883046345 * ZIIZ\n",
      "- 0.12274244052543896 * IZIZ\n",
      "+ 0.056288781672179385 * ZZIZ\n",
      "+ (-0.2118898429700879-1.3877787807814457e-17j) * IIZZ\n",
      "+ 0.060440128573161965 * ZIZZ\n",
      "+ (-0.05628878167217939-3.469446951953614e-18j) * IZZZ\n",
      "+ 0.08460131391823722 * ZZZZ\n",
      "+ 0.019389408583694687 * XIII\n",
      "- 0.019389408583694687 * XZII\n",
      "+ (-0.010952773573810434+8.673617379884035e-19j) * XIZI\n",
      "+ 0.010952773573810432 * XZZI\n",
      "+ 0.012779333033028169 * XIIZ\n",
      "- 0.01277933303302817 * XZIZ\n",
      "- 0.00900250124383854 * XIZZ\n",
      "+ 0.00900250124383854 * XZZZ\n",
      "+ 0.002941141087339334 * IXII\n",
      "+ 0.0029411410873393337 * ZXII\n",
      "+ (-0.0106818562829518-8.673617379884035e-19j) * IXZI\n",
      "- 0.0106818562829518 * ZXZI\n",
      "+ 0.011925529284506695 * IXIZ\n",
      "+ (0.011925529284506695+8.673617379884035e-19j) * ZXIZ\n",
      "- 0.0016974649623951227 * IXZZ\n",
      "+ (-0.0016974649623951225+1.0842021724855044e-19j) * ZXZZ\n",
      "- 0.0007427996394816952 * XXII\n",
      "+ 0.0007427996394816956 * YYII\n",
      "+ 0.03438974814047263 * XXZI\n",
      "- 0.03438974814047263 * YYZI\n",
      "- 0.032395297319854965 * XXIZ\n",
      "+ 0.032395297319854965 * YYIZ\n",
      "+ 0.0027372506123241463 * XXZZ\n",
      "- 0.0027372506123241463 * YYZZ\n",
      "+ 0.0193894085836947 * IIXI\n",
      "+ 0.010952773573810434 * ZIXI\n",
      "+ (-0.01277933303302817-8.673617379884035e-19j) * IZXI\n",
      "- 0.00900250124383854 * ZZXI\n",
      "+ (0.0193894085836947+8.673617379884035e-19j) * IIXZ\n",
      "+ 0.010952773573810432 * ZIXZ\n",
      "- 0.012779333033028169 * IZXZ\n",
      "- 0.00900250124383854 * ZZXZ\n",
      "+ 0.00658758419006301 * XIXI\n",
      "- 0.00658758419006301 * XZXI\n",
      "+ (0.00658758419006301-4.336808689942018e-19j) * XIXZ\n",
      "- 0.00658758419006301 * XZXZ\n",
      "+ 0.0022216108081557573 * IXXI\n",
      "+ 0.0022216108081557573 * ZXXI\n",
      "+ 0.0022216108081557573 * IXXZ\n",
      "+ 0.0022216108081557573 * ZXXZ\n",
      "- 0.007859003265906543 * XXXI\n",
      "+ 0.007859003265906543 * YYXI\n",
      "- 0.007859003265906543 * XXXZ\n",
      "+ 0.007859003265906543 * YYXZ\n",
      "+ 0.002941141087339335 * IIIX\n",
      "+ 0.0106818562829518 * ZIIX\n",
      "+ (-0.011925529284506695-8.673617379884035e-19j) * IZIX\n",
      "- 0.0016974649623951227 * ZZIX\n",
      "- 0.002941141087339335 * IIZX\n",
      "- 0.0106818562829518 * ZIZX\n",
      "+ (0.011925529284506695+8.673617379884035e-19j) * IZZX\n",
      "+ 0.0016974649623951227 * ZZZX\n",
      "+ 0.0022216108081557573 * XIIX\n",
      "- 0.0022216108081557573 * XZIX\n",
      "- 0.0022216108081557573 * XIZX\n",
      "+ 0.0022216108081557573 * XZZX\n",
      "+ 0.003139482375508742 * IXIX\n",
      "+ (0.003139482375508742+2.168404344971009e-19j) * ZXIX\n",
      "- 0.003139482375508742 * IXZX\n",
      "+ (-0.003139482375508742-2.168404344971009e-19j) * ZXZX\n",
      "- 0.008499158469820228 * XXIX\n",
      "+ 0.008499158469820228 * YYIX\n",
      "+ 0.008499158469820228 * XXZX\n",
      "- 0.008499158469820228 * YYZX\n",
      "- 0.0007427996394816835 * IIXX\n",
      "- 0.03438974814047263 * ZIXX\n",
      "+ 0.032395297319854965 * IZXX\n",
      "+ 0.0027372506123241463 * ZZXX\n",
      "+ 0.0007427996394816835 * IIYY\n",
      "+ 0.03438974814047263 * ZIYY\n",
      "- 0.032395297319854965 * IZYY\n",
      "- 0.0027372506123241463 * ZZYY\n",
      "- 0.007859003265906543 * XIXX\n",
      "+ 0.007859003265906543 * XZXX\n",
      "+ 0.007859003265906543 * XIYY\n",
      "- 0.007859003265906543 * XZYY\n",
      "- 0.008499158469820228 * IXXX\n",
      "- 0.008499158469820228 * ZXXX\n",
      "+ 0.008499158469820228 * IXYY\n",
      "+ 0.008499158469820228 * ZXYY\n",
      "+ 0.030846096963267667 * XXXX\n",
      "- 0.030846096963267667 * YYXX\n",
      "- 0.030846096963267667 * XXYY\n",
      "+ 0.030846096963267663 * YYYY\n"
     ]
    }
   ],
   "source": [
    "from qiskit_nature.mappers.second_quantization import ParityMapper, BravyiKitaevMapper, JordanWignerMapper\n",
    "from qiskit_nature.converters.second_quantization.qubit_converter import QubitConverter\n",
    "\n",
    "# Setup the mapper and qubit converter\n",
    "mapper = ParityMapper()\n",
    "converter = QubitConverter(mapper=mapper, two_qubit_reduction=True,z2symmetry_reduction = [1,1])\n",
    "num_particles = (problem.molecule_data_transformed.num_alpha,\n",
    "             problem.molecule_data_transformed.num_beta)\n",
    "qubit_op = converter.convert(main_op, num_particles=num_particles)\n",
    "print(qubit_op)"
   ]
  },
  {
   "cell_type": "markdown",
   "metadata": {},
   "source": [
    "#### 4. Initial state\n",
    "We need an initial state, in chemistry a good initial state is the HartreeFock (HF) state (i.e. $|\\Psi_{HF} \\rangle = |1100 \\rangle$). We can initialize it as follows:"
   ]
  },
  {
   "cell_type": "code",
   "execution_count": 5,
   "metadata": {},
   "outputs": [
    {
     "name": "stdout",
     "output_type": "stream",
     "text": [
      "     ┌───┐\n",
      "q_0: ┤ X ├\n",
      "     ├───┤\n",
      "q_1: ┤ X ├\n",
      "     └───┘\n",
      "q_2: ─────\n",
      "          \n",
      "q_3: ─────\n",
      "          \n"
     ]
    }
   ],
   "source": [
    "from qiskit_nature.circuit.library import HartreeFock\n",
    "num_spin_orbitals = 2 * problem.molecule_data_transformed.num_molecular_orbitals\n",
    "init_state = HartreeFock(num_spin_orbitals, num_particles, converter)\n",
    "print(init_state)"
   ]
  },
  {
   "cell_type": "markdown",
   "metadata": {},
   "source": [
    "#### 5. Ansatz\n",
    "One of the most important choices is the quantum circuit that you choose to approximate your ground state.\n",
    "Here is the example of qiskit circuit library that contains many possibilities for making your own circuit."
   ]
  },
  {
   "cell_type": "code",
   "execution_count": 6,
   "metadata": {},
   "outputs": [
    {
     "name": "stdout",
     "output_type": "stream",
     "text": [
      "     ┌───┐ ░ ┌──────────┐ ░ ┌───┐ ░  ┌──────────┐ ░ ┌───────────┐ ░ ┌───┐ ░ »\n",
      "q_0: ┤ X ├─░─┤ RY(a[0]) ├─░─┤ H ├─░──┤ RZ(a[8]) ├─░─┤ RX(a[16]) ├─░─┤ X ├─░─»\n",
      "     ├───┤ ░ ├──────────┤ ░ ├───┤ ░  ├──────────┤ ░ ├───────────┤ ░ └─┬─┘ ░ »\n",
      "q_1: ┤ X ├─░─┤ RY(a[1]) ├─░─┤ H ├─░──┤ RZ(a[9]) ├─░─┤ RX(a[17]) ├─░───■───░─»\n",
      "     └───┘ ░ ├──────────┤ ░ ├───┤ ░ ┌┴──────────┤ ░ ├───────────┤ ░       ░ »\n",
      "q_2: ──────░─┤ RY(a[2]) ├─░─┤ H ├─░─┤ RZ(a[10]) ├─░─┤ RX(a[18]) ├─░───────░─»\n",
      "           ░ ├──────────┤ ░ ├───┤ ░ ├───────────┤ ░ ├───────────┤ ░       ░ »\n",
      "q_3: ──────░─┤ RY(a[3]) ├─░─┤ H ├─░─┤ RZ(a[11]) ├─░─┤ RX(a[19]) ├─░───────░─»\n",
      "           ░ └──────────┘ ░ └───┘ ░ └───────────┘ ░ └───────────┘ ░       ░ »\n",
      "«     ┌───┐ ░ ┌───┐ ░ ┌───────────┐ ░  ┌──────────┐ ░ ┌───┐ ░  ░ ┌──────────┐»\n",
      "«q_0: ┤ X ├─░─┤ X ├─░─┤ RX(a[16]) ├─░──┤ RZ(a[8]) ├─░─┤ H ├─░──░─┤ RY(a[0]) ├»\n",
      "«     └─┬─┘ ░ └─┬─┘ ░ ├───────────┤ ░  ├──────────┤ ░ ├───┤ ░  ░ ├──────────┤»\n",
      "«q_1: ──┼───░───┼───░─┤ RX(a[17]) ├─░──┤ RZ(a[9]) ├─░─┤ H ├─░──░─┤ RY(a[1]) ├»\n",
      "«       │   ░   │   ░ ├───────────┤ ░ ┌┴──────────┤ ░ ├───┤ ░  ░ ├──────────┤»\n",
      "«q_2: ──■───░───┼───░─┤ RX(a[18]) ├─░─┤ RZ(a[10]) ├─░─┤ H ├─░──░─┤ RY(a[2]) ├»\n",
      "«           ░   │   ░ ├───────────┤ ░ ├───────────┤ ░ ├───┤ ░  ░ ├──────────┤»\n",
      "«q_3: ──────░───■───░─┤ RX(a[19]) ├─░─┤ RZ(a[11]) ├─░─┤ H ├─░──░─┤ RY(a[3]) ├»\n",
      "«           ░       ░ └───────────┘ ░ └───────────┘ ░ └───┘ ░  ░ └──────────┘»\n",
      "«      ░  ░ \n",
      "«q_0: ─░──░─\n",
      "«      ░  ░ \n",
      "«q_1: ─░──░─\n",
      "«      ░  ░ \n",
      "«q_2: ─░──░─\n",
      "«      ░  ░ \n",
      "«q_3: ─░──░─\n",
      "«      ░  ░ \n"
     ]
    }
   ],
   "source": [
    "# Parameters for q-UCC antatze\n",
    "num_particles = (problem.molecule_data_transformed.num_alpha,\n",
    "             problem.molecule_data_transformed.num_beta)\n",
    "num_spin_orbitals = 2 * problem.molecule_data_transformed.num_molecular_orbitals\n",
    "\n",
    "\n",
    "\n",
    "from qiskit.circuit import Parameter, QuantumCircuit, QuantumRegister, ParameterVector\n",
    "    # Define the variational parameter\n",
    "theta = ParameterVector('a', length=20)\n",
    "n = qubit_op.num_qubits\n",
    "    # Make an empty quantum circuit\n",
    "qc = QuantumCircuit(qubit_op.num_qubits)\n",
    "qubit_label = 0\n",
    "qc.barrier()\n",
    "for i in range(n):\n",
    "    qc.ry(theta[i], i)\n",
    "qc.barrier()\n",
    "\n",
    "qc.h( range(n))\n",
    "qc.barrier()\n",
    "for i in range(n):\n",
    "    qc.rz(theta[8+i], i)\n",
    "qc.barrier()\n",
    "for i in range(n):\n",
    "    qc.rx(theta[16+i], i)\n",
    "qc.barrier()\n",
    "qc.cx(1,0)\n",
    "qc.barrier()\n",
    "qc.cx(2,0)\n",
    "qc.barrier()\n",
    "qc.cx(3,0)\n",
    "    \n",
    "qc.barrier()\n",
    "for i in range(n):\n",
    "    qc.rx(theta[16+i], i).inverse()\n",
    "qc.barrier()\n",
    "for i in range(n):\n",
    "    qc.rz(theta[8+i], i).inverse()\n",
    "qc.barrier() \n",
    "qc.h( range(n))\n",
    "qc.barrier()\n",
    "qc.barrier()\n",
    "\n",
    "for i in range(n):\n",
    "    qc.ry(theta[i],  i).inverse()\n",
    "qc.barrier()    \n",
    "\n",
    "# Visual separator\n",
    "qc.barrier()\n",
    "ansatz = qc\n",
    "ansatz.compose(init_state, front=True, inplace=True)\n",
    "\n",
    "print(ansatz)\n"
   ]
  },
  {
   "cell_type": "markdown",
   "metadata": {},
   "source": [
    "#### 6. Backend\n",
    "This is where you specify the simulator or device where you want to run your algorithm.\n",
    "We will focus on the `statevector_simulator` in this challenge.\n"
   ]
  },
  {
   "cell_type": "code",
   "execution_count": 7,
   "metadata": {},
   "outputs": [],
   "source": [
    "from qiskit import Aer\n",
    "backend = Aer.get_backend('statevector_simulator')"
   ]
  },
  {
   "cell_type": "markdown",
   "metadata": {},
   "source": [
    "#### 7. Optimizer\n",
    "\n",
    "The optimizer guides the evolution of the parameters of the ansatz so it is very important to investigate the energy convergence as it would define the number of measurements that have to be performed on the QPU.\n",
    "A clever choice might reduce drastically the number of needed energy evaluations."
   ]
  },
  {
   "cell_type": "code",
   "execution_count": 8,
   "metadata": {},
   "outputs": [],
   "source": [
    "from qiskit.algorithms.optimizers import COBYLA\n",
    "optimizer_type = 'COBYLA'\n",
    "optimizer = COBYLA(maxiter=20000)"
   ]
  },
  {
   "cell_type": "markdown",
   "metadata": {},
   "source": [
    "#### 8. Exact eigensolver\n",
    "For learning purposes, we can solve the problem exactly with the exact diagonalization of the Hamiltonian matrix so we know where to aim with VQE.\n",
    "Of course, the dimensions of this matrix scale exponentially in the number of molecular orbitals so you can try doing this for a large molecule of your choice and see how slow this becomes. \n",
    "For very large systems you would run out of memory trying to store their wavefunctions."
   ]
  },
  {
   "cell_type": "code",
   "execution_count": 9,
   "metadata": {
    "scrolled": true
   },
   "outputs": [
    {
     "name": "stdout",
     "output_type": "stream",
     "text": [
      "Exact electronic energy -1.088706015734739\n",
      "=== GROUND STATE ENERGY ===\n",
      " \n",
      "* Electronic ground state energy (Hartree): -8.907396311316\n",
      "  - computed part:      -1.088706015735\n",
      "  - FreezeCoreTransformer extracted energy part: -7.818690295581\n",
      "~ Nuclear repulsion energy (Hartree): 1.025934879643\n",
      "> Total ground state energy (Hartree): -7.881461431673\n",
      " \n",
      "=== MEASURED OBSERVABLES ===\n",
      " \n",
      "  0:  # Particles: 2.000 S: 0.000 S^2: 0.000 M: 0.000\n",
      " \n",
      "=== DIPOLE MOMENTS ===\n",
      " \n",
      "~ Nuclear dipole moment (a.u.): [0.0  0.0  2.92416221]\n",
      " \n",
      "  0: \n",
      "  * Electronic dipole moment (a.u.): [0.0  0.0  4.76300889]\n",
      "    - computed part:      [0.0  0.0  4.76695575]\n",
      "    - FreezeCoreTransformer extracted energy part: [0.0  0.0  -0.00394686]\n",
      "  > Dipole moment (a.u.): [0.0  0.0  -1.83884668]  Total: 1.83884668\n",
      "                 (debye): [0.0  0.0  -4.67388163]  Total: 4.67388163\n",
      " \n"
     ]
    }
   ],
   "source": [
    "from qiskit_nature.algorithms.ground_state_solvers.minimum_eigensolver_factories import NumPyMinimumEigensolverFactory\n",
    "from qiskit_nature.algorithms.ground_state_solvers import GroundStateEigensolver\n",
    "import numpy as np \n",
    "\n",
    "def exact_diagonalizer(problem, converter):\n",
    "    solver = NumPyMinimumEigensolverFactory()\n",
    "    calc = GroundStateEigensolver(converter, solver)\n",
    "    result = calc.solve(problem)\n",
    "    return result\n",
    "\n",
    "result_exact = exact_diagonalizer(problem, converter)\n",
    "exact_energy = np.real(result_exact.eigenenergies[0])\n",
    "print(\"Exact electronic energy\", exact_energy)\n",
    "print(result_exact)\n",
    "\n",
    "# The targeted electronic energy for H2 is -1.85336 Ha\n",
    "# Check with your VQE result."
   ]
  },
  {
   "cell_type": "markdown",
   "metadata": {},
   "source": [
    "#### 9. VQE and initial parameters for the ansatz\n",
    "Now we can import the VQE class and run the algorithm."
   ]
  },
  {
   "cell_type": "code",
   "execution_count": 10,
   "metadata": {
    "scrolled": false
   },
   "outputs": [
    {
     "name": "stdout",
     "output_type": "stream",
     "text": [
      "{   'aux_operator_eigenvalues': None,\n",
      "    'cost_function_evals': 4796,\n",
      "    'eigenstate': array([ 1.41612631e-04+1.68089625e-04j,  1.26044865e-03+1.18314236e-03j,\n",
      "       -9.63255943e-02-7.96593781e-02j, -7.23764108e-01-6.66827503e-01j,\n",
      "       -3.07958586e-02-3.04536072e-02j,  3.69635796e-03+4.07445389e-03j,\n",
      "        2.10410872e-02+1.98230782e-02j, -1.43846834e-03-3.80883906e-03j,\n",
      "        5.43737618e-05-5.92094305e-05j, -7.22219733e-06+7.20806749e-06j,\n",
      "       -4.14561370e-05+3.56221113e-05j, -3.92761840e-05-4.30276586e-05j,\n",
      "        6.96082425e-02+6.39194206e-02j, -8.39283207e-03-8.58160778e-03j,\n",
      "       -4.72112862e-02-4.18659256e-02j,  5.70257735e-03+5.63174848e-03j]),\n",
      "    'eigenvalue': -1.086561614912408,\n",
      "    'optimal_parameters': {   ParameterVectorElement(a[2]): -0.15300653808351788,\n",
      "                              ParameterVectorElement(a[3]): -1.1408071261028125,\n",
      "                              ParameterVectorElement(a[8]): -0.013418612806918752,\n",
      "                              ParameterVectorElement(a[9]): 1.585232071534298,\n",
      "                              ParameterVectorElement(a[10]): 0.0008606781937063213,\n",
      "                              ParameterVectorElement(a[11]): 1.5371630413608148,\n",
      "                              ParameterVectorElement(a[16]): 0.8160281455268605,\n",
      "                              ParameterVectorElement(a[17]): -1.5725526486281136,\n",
      "                              ParameterVectorElement(a[18]): 1.5812211761346517,\n",
      "                              ParameterVectorElement(a[19]): 1.5707370770809803,\n",
      "                              ParameterVectorElement(a[1]): 0.9820083175734854,\n",
      "                              ParameterVectorElement(a[0]): 2.88926330159306},\n",
      "    'optimal_point': array([ 2.88926330e+00,  8.60678194e-04,  1.53716304e+00,  8.16028146e-01,\n",
      "       -1.57255265e+00,  1.58122118e+00,  1.57073708e+00,  9.82008318e-01,\n",
      "       -1.53006538e-01, -1.14080713e+00, -1.34186128e-02,  1.58523207e+00]),\n",
      "    'optimal_value': -1.086561614912408,\n",
      "    'optimizer_evals': 4796,\n",
      "    'optimizer_time': 28.27379608154297}\n"
     ]
    }
   ],
   "source": [
    "from qiskit.algorithms import VQE\n",
    "from IPython.display import display, clear_output\n",
    "\n",
    "# Print and save the data in lists\n",
    "def callback(eval_count, parameters, mean, std):  \n",
    "    # Overwrites the same line when printing\n",
    "    display(\"Evaluation: {}, Energy: {}, Std: {}\".format(eval_count, mean, std))\n",
    "    clear_output(wait=True)\n",
    "    counts.append(eval_count)\n",
    "    values.append(mean)\n",
    "    params.append(parameters)\n",
    "    deviation.append(std)\n",
    "\n",
    "counts = []\n",
    "values = []\n",
    "params = []\n",
    "deviation = []\n",
    "\n",
    "# Set initial parameters of the ansatz\n",
    "# We choose a fixed small displacement \n",
    "# So all participants start from similar starting point\n",
    "try:\n",
    "    initial_point = [0.01] * len(ansatz.ordered_parameters)\n",
    "except:\n",
    "    initial_point = [0.01] * ansatz.num_parameters\n",
    "\n",
    "algorithm = VQE(ansatz,\n",
    "                optimizer=optimizer,\n",
    "                quantum_instance=backend,\n",
    "                callback=callback,\n",
    "                initial_point=initial_point)\n",
    "\n",
    "result = algorithm.compute_minimum_eigenvalue(qubit_op)\n",
    "\n",
    "print(result)"
   ]
  },
  {
   "cell_type": "markdown",
   "metadata": {},
   "source": [
    "#### 9. Scoring function \n",
    "We need to judge how good are your VQE simulations, your choice of ansatz/optimizer.\n",
    "For this, we implemented the following simple scoring function:\n",
    "\n",
    "$$ score = N_{CNOT}$$\n",
    "\n",
    "where $N_{CNOT}$ is the number of CNOTs. \n",
    "But you have to reach the chemical accuracy which is $\\delta E_{chem} = 0.004$ Ha $= 4$ mHa, which may be hard to reach depending on the problem. \n",
    "You have to reach the accuracy we set in a minimal number of CNOTs to win the challenge. \n",
    "The lower the score the better!"
   ]
  },
  {
   "cell_type": "code",
   "execution_count": 11,
   "metadata": {
    "scrolled": true
   },
   "outputs": [
    {
     "data": {
      "text/html": [
       "<div>\n",
       "<style scoped>\n",
       "    .dataframe tbody tr th:only-of-type {\n",
       "        vertical-align: middle;\n",
       "    }\n",
       "\n",
       "    .dataframe tbody tr th {\n",
       "        vertical-align: top;\n",
       "    }\n",
       "\n",
       "    .dataframe thead th {\n",
       "        text-align: right;\n",
       "    }\n",
       "</style>\n",
       "<table border=\"1\" class=\"dataframe\">\n",
       "  <thead>\n",
       "    <tr style=\"text-align: right;\">\n",
       "      <th></th>\n",
       "      <th>optimizer</th>\n",
       "      <th>ansatz</th>\n",
       "      <th># of qubits</th>\n",
       "      <th># of parameters</th>\n",
       "      <th>rotation blocks</th>\n",
       "      <th>entanglement_blocks</th>\n",
       "      <th>entanglement</th>\n",
       "      <th>repetitions</th>\n",
       "      <th>error (mHa)</th>\n",
       "      <th>pass</th>\n",
       "      <th>score</th>\n",
       "    </tr>\n",
       "  </thead>\n",
       "  <tbody>\n",
       "    <tr>\n",
       "      <th>0</th>\n",
       "      <td>COBYLA</td>\n",
       "      <td>QuantumCircuit</td>\n",
       "      <td>4</td>\n",
       "      <td>12</td>\n",
       "      <td>NaN</td>\n",
       "      <td>NaN</td>\n",
       "      <td>NaN</td>\n",
       "      <td>NaN</td>\n",
       "      <td>2.144522</td>\n",
       "      <td>True</td>\n",
       "      <td>3</td>\n",
       "    </tr>\n",
       "    <tr>\n",
       "      <th>0</th>\n",
       "      <td>COBYLA</td>\n",
       "      <td>QuantumCircuit</td>\n",
       "      <td>4</td>\n",
       "      <td>12</td>\n",
       "      <td>None</td>\n",
       "      <td>None</td>\n",
       "      <td>None</td>\n",
       "      <td>None</td>\n",
       "      <td>2.144401</td>\n",
       "      <td>True</td>\n",
       "      <td>3</td>\n",
       "    </tr>\n",
       "  </tbody>\n",
       "</table>\n",
       "</div>"
      ],
      "text/plain": [
       "  optimizer          ansatz  # of qubits  # of parameters rotation blocks  \\\n",
       "0    COBYLA  QuantumCircuit            4               12             NaN   \n",
       "0    COBYLA  QuantumCircuit            4               12            None   \n",
       "\n",
       "  entanglement_blocks entanglement repetitions  error (mHa)  pass  score  \n",
       "0                 NaN          NaN         NaN     2.144522  True      3  \n",
       "0                None         None        None     2.144401  True      3  "
      ]
     },
     "execution_count": 11,
     "metadata": {},
     "output_type": "execute_result"
    },
    {
     "data": {
      "image/png": "[encoded data removed]",
      "text/plain": [
       "<Figure size 432x288 with 1 Axes>"
      ]
     },
     "metadata": {
      "needs_background": "light"
     },
     "output_type": "display_data"
    }
   ],
   "source": [
    "# Store results in a dictionary\n",
    "from qiskit.transpiler import PassManager\n",
    "from qiskit.transpiler.passes import Unroller\n",
    "\n",
    "# Unroller transpile your circuit into CNOTs and U gates\n",
    "pass_ = Unroller(['u', 'cx'])\n",
    "pm = PassManager(pass_)\n",
    "ansatz_tp = pm.run(ansatz)\n",
    "try:\n",
    "    cnots = ansatz_tp.count_ops()['cx']\n",
    "except:\n",
    "    cnots = 0\n",
    "score = cnots\n",
    "\n",
    "accuracy_threshold =4.0 # in mHa\n",
    "energy = result.optimal_value\n",
    "\n",
    "\n",
    "result_dict = {\n",
    "        'optimizer': optimizer.__class__.__name__,\n",
    "        'mapping': converter.mapper.__class__.__name__,\n",
    "        'ansatz': ansatz.__class__.__name__,\n",
    "        'rotation blocks': None,\n",
    "        'entanglement_blocks': None,\n",
    "        'entanglement': None,\n",
    "        'repetitions': None,\n",
    "        'skip_final_rotation_layer': None,\n",
    "        'energy (Ha)': energy,\n",
    "        'error (mHa)': (energy-exact_energy)*1000,\n",
    "        'pass': (energy-exact_energy)*1000 <= accuracy_threshold,\n",
    "        '# of parameters': len(result.optimal_point),\n",
    "        'final parameters': result.optimal_point,\n",
    "        '# of evaluations': result.optimizer_evals,\n",
    "        'optimizer time': result.optimizer_time,\n",
    "        '# of qubits': int(qubit_op.num_qubits),\n",
    "        '# of CNOTs': cnots,\n",
    "        'score': score}\n",
    "\n",
    "# Plot the results\n",
    "import matplotlib.pyplot as plt\n",
    "\n",
    "fig, ax = plt.subplots(1, 1)\n",
    "ax.set_xlabel('Iterations')\n",
    "ax.set_ylabel('Energy')\n",
    "ax.grid()\n",
    "fig.text(0.7, 0.75, f'Energy: {result.optimal_value:.3f}\\nScore: {score:.0f}')\n",
    "plt.title(f\"{result_dict['optimizer']}-{result_dict['mapping']}\\n{result_dict['ansatz']}\")\n",
    "ax.plot(counts, values)\n",
    "ax.axhline(exact_energy, linestyle='--')\n",
    "fig_title = f\"\\\n",
    "{result_dict['optimizer']}-\\\n",
    "{result_dict['mapping']}-\\\n",
    "{result_dict['ansatz']}-\\\n",
    "Energy({result_dict['energy (Ha)']:.3f})-\\\n",
    "Score({result_dict['score']:.0f})\\\n",
    ".png\"\n",
    "fig.savefig(fig_title, dpi=300)\n",
    "\n",
    "# Display and save the data\n",
    "import pandas as pd\n",
    "import os.path\n",
    "filename = 'results_h2.csv'\n",
    "if os.path.isfile(filename):\n",
    "    result_df = pd.read_csv(filename)\n",
    "    result_df = result_df.append([result_dict])\n",
    "else:\n",
    "    result_df = pd.DataFrame.from_dict([result_dict])\n",
    "result_df.to_csv(filename)\n",
    "result_df[['optimizer','ansatz', '# of qubits', '# of parameters','rotation blocks', 'entanglement_blocks',\n",
    "    'entanglement', 'repetitions', 'error (mHa)', 'pass', 'score']]"
   ]
  },
  {
   "cell_type": "markdown",
   "metadata": {},
   "source": [
    "#### 10. Explanation\n",
    "For quantum computing, reducing the cost (the number of CNot gates) is very important for this, it is also necessary to reduce the number of initial qubits from 12 to 4, this can be achieved by using the methods FreezeCoreTransformer(remove_orbitals=[3,4]) and QubitConverter(mapper=mapper, two_qubit_reduction=True,z2symmetry_reduction = [1,1]). However, the ansatz proposed for the challenge gave me a higher cost or exceeded the maximum number allowed, 500, so I dedicated myself to design my proposal for 8, 6 and 4 qubits\n",
    "\n",
    "\n",
    "For this I had to perform many experiments ,in one of those experiments I noticed that q0 is the most important and so each one represents a relevant energy, so I contemplated to make the entanglements with q0 , in addition, I considered the designs of two ansatz https://joshuagoings.com/2020/08/20/VQE/ that occupies the three rotations and the structure that you have in the example of qiskit https://qiskit.org/textbook/ch-applications/vqe-molecules.html#Contents\n",
    "I decided to make a modification to the qiskit example by changing the cx of qc.cx(i,0) where i ={1,2,3}, because otherwise it always gave the same or lower energy, I also added a layer of rx, which was ry,rz,ry but these had no effect so if I applied the H gate before rz it approached the value and to increase the ratio considering the ansatz of this work https://joshuagoings. com/2020/08/20/VQE/ I saw that they tried to increase with applying inverses after applying the cx so I did the same with each layer of rotation (ry,rz,rx) as in the Hadamard, finally the combination of two schemes were the ones that I based to generate this proposal and using the optimizer COBYLA with 20,000 iteration, because we can reduce the energy with each of this.\n",
    "\n",
    "For the 8 qubit case I had a cost of 14 because I had to make the block twice, in 6 qubits I had a cost of 10 for the same 8 qubit situation, in the 4 qubit case a cost of 3 6 was obtained but reduced with 1 layer of 3 CNOTs and error of 2.143375 mHa .\n",
    "\n",
    "\n",
    "\n",
    "\n"
   ]
  },
  {
   "cell_type": "markdown",
   "metadata": {},
   "source": [
    "#### 11. Solution\n",
    "\n",
    "We validate the result with the grade for the challenge."
   ]
  },
  {
   "cell_type": "code",
   "execution_count": 12,
   "metadata": {
    "scrolled": true
   },
   "outputs": [
    {
     "name": "stdout",
     "output_type": "stream",
     "text": [
      "Grading your answer for ex5. Please wait...\n",
      "\n",
      "Congratulations 🎉! Your answer is correct.\n",
      "Your cost is 3.\n",
      "Feel free to submit your answer.\n",
      "\n"
     ]
    }
   ],
   "source": [
    "# Check your answer using following code\n",
    "from qc_grader import grade_ex5\n",
    "freeze_core = True # change to True if you freezed core electrons\n",
    "grade_ex5(ansatz,qubit_op,result,freeze_core)"
   ]
  },
  {
   "cell_type": "code",
   "execution_count": 13,
   "metadata": {},
   "outputs": [
    {
     "name": "stdout",
     "output_type": "stream",
     "text": [
      "Submitting your answer for ex5. Please wait...\n",
      "Failed: Error wrong data received.\n"
     ]
    }
   ],
   "source": [
    "# Submit your answer. You can re-submit at any time.\n",
    "from qc_grader import submit_ex5\n",
    "submit_ex5(ansatz,qubit_op,result,freeze_core)"
   ]
  },
  {
   "cell_type": "markdown",
   "metadata": {},
   "source": [
    "## Additional information\n",
    "\n",
    "**Created by:** Igor Sokolov, Junye Huang, Rahul Pratap Singh\n",
    "\n",
    "**Version:** 1.0.0\n",
    "\n",
    "## Results\n",
    "\n",
    "$|𝐸_{𝑒𝑥𝑎𝑐𝑡}−𝐸_{𝑉𝑄𝐸}|<\t2.143375$ mHa\n",
    "\n",
    "**Number of parameters:** 12 \n",
    "\n",
    "**Score:** 3 CNOTs. \n",
    "\n",
    "**Solved by:** Alberto Maldonado Romo (github MaldoAlberto)"
   ]
  }
 ],
 "metadata": {
  "kernelspec": {
   "display_name": "Python 3",
   "language": "python",
   "name": "python3"
  },
  "language_info": {
   "codemirror_mode": {
    "name": "ipython",
    "version": 3
   },
   "file_extension": ".py",
   "mimetype": "text/x-python",
   "name": "python",
   "nbconvert_exporter": "python",
   "pygments_lexer": "ipython3",
   "version": "3.7.6"
  }
 },
 "nbformat": 4,
 "nbformat_minor": 4
}
