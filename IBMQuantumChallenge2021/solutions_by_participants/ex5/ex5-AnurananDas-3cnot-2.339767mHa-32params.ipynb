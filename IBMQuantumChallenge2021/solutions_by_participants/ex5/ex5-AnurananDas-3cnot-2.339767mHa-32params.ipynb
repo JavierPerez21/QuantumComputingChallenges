{
 "cells": [
  {
   "cell_type": "markdown",
   "metadata": {},
   "source": [
    "### Reducing the problem size\n",
    "\n",
    "I reduced the number of qubits for my simulation considering the following:\n",
    "- I froze the core electrons that do not contribute significantly to chemistry and considered only the valence electrons. Qiskit  already has this functionality implemented. So inspected the different transformers in `qiskit_nature.transformers`  and find the one that performs the freeze core approximation. Still for further optimization, I removed two orbitals(indexed 3 and 4) which was also less contributing to these cases.\n",
    "- Used `ParityMapper` with `two_qubit_reduction=True` to eliminate 2 qubits, motive was to reduce the number of qubits used\n",
    "- There weren't any symmetry left after implementing the above."
   ]
  },
  {
   "cell_type": "code",
   "execution_count": 2,
   "metadata": {},
   "outputs": [
    {
     "name": "stdout",
     "output_type": "stream",
     "text": [
      "{'FreezeCoreTransformer': -7.818690295581144}\n"
     ]
    },
    {
     "data": {
      "text/latex": [
       "$$\n",
       "\n",
       "\\begin{bmatrix}\n",
       "-0.17075 & -0.20934 & 0.08642  \\\\\n",
       " 0.45051 & 0.80042 & -0.72399  \\\\\n",
       " 0 & 0 & 0  \\\\\n",
       " 0 & 0 & 0  \\\\\n",
       " 0.34786 & -0.61262 & -0.99559  \\\\\n",
       " 0.54621 & -0.13655 & 1.2123  \\\\\n",
       " \\end{bmatrix}\n",
       "$$"
      ],
      "text/plain": [
       "<IPython.core.display.Latex object>"
      ]
     },
     "execution_count": 2,
     "metadata": {},
     "output_type": "execute_result"
    }
   ],
   "source": [
    "from qiskit_nature.drivers import PySCFDriver\n",
    "from qiskit_nature.transformers import FreezeCoreTransformer, ActiveSpaceTransformer\n",
    "from qiskit.visualization import array_to_latex\n",
    "molecule = 'Li 0.0 0.0 0.0; H 0.0 0.0 1.5474'\n",
    "freezeCoreTransfomer = FreezeCoreTransformer(True, [3,4])\n",
    "driver = PySCFDriver(atom=molecule)\n",
    "qmolecule = driver.run()\n",
    "qmolecule = freezeCoreTransfomer.transform(qmolecule)\n",
    "print(qmolecule.energy_shift)\n",
    "array_to_latex(qmolecule.mo_coeff)\n"
   ]
  },
  {
   "cell_type": "code",
   "execution_count": 3,
   "metadata": {},
   "outputs": [
    {
     "name": "stdout",
     "output_type": "stream",
     "text": [
      "Total number of electrons is 2\n",
      "Total number of molecular orbitals is 3\n",
      "Total number of spin orbitals is 6\n",
      "qubits you need to simulate this molecule with Jordan-Wigner mapping is 6\n",
      "The value of the nuclear repulsion energy is 1.0259348796432726\n"
     ]
    }
   ],
   "source": [
    "# WRITE YOUR CODE BETWEEN THESE LINES - START\n",
    "print(\"Total number of electrons is {}\".format(qmolecule.num_alpha + qmolecule.num_beta))\n",
    "print(\"Total number of molecular orbitals is {}\".format(qmolecule.num_molecular_orbitals))\n",
    "print(\"Total number of spin orbitals is {}\".format(2 * qmolecule.num_molecular_orbitals))\n",
    "print(\"qubits you need to simulate this molecule with Jordan-Wigner mapping is {}\".format(2 * qmolecule.num_molecular_orbitals))\n",
    "print(\"The value of the nuclear repulsion energy is {}\".format(qmolecule.nuclear_repulsion_energy))\n",
    "# WRITE YOUR CODE BETWEEN THESE LINES - END"
   ]
  },
  {
   "cell_type": "markdown",
   "metadata": {},
   "source": [
    "#### 2. Electronic structure problem\n",
    "\n",
    "Created an `ElectronicStructureProblem` that can produce the list of fermionic operators before mapping them to qubits (Pauli strings), included the 'freezecore' parameter."
   ]
  },
  {
   "cell_type": "code",
   "execution_count": 4,
   "metadata": {},
   "outputs": [
    {
     "name": "stdout",
     "output_type": "stream",
     "text": [
      "{'driver': <qiskit_nature.drivers.pyscfd.pyscfdriver.PySCFDriver object at 0x7fe3a68f8e50>, 'transformers': [<qiskit_nature.transformers.freeze_core_transformer.FreezeCoreTransformer object at 0x7fe3a2965850>], '_molecule_data': <qiskit_nature.drivers.qmolecule.QMolecule object at 0x7fe398925250>, '_molecule_data_transformed': <qiskit_nature.drivers.qmolecule.QMolecule object at 0x7fe39d6db9d0>}\n"
     ]
    }
   ],
   "source": [
    "from qiskit_nature.problems.second_quantization.electronic import ElectronicStructureProblem\n",
    "problem = ElectronicStructureProblem(driver, [freezeCoreTransfomer])\n",
    "\n",
    "# Generate the second-quantized operators\n",
    "second_q_ops = problem.second_q_ops()\n",
    "\n",
    "# Hamiltonian\n",
    "main_op = second_q_ops[0]\n",
    "print(problem.__dict__)"
   ]
  },
  {
   "cell_type": "markdown",
   "metadata": {},
   "source": [
    "#### 3. QubitConverter\n",
    "\n",
    "Mapping defined as `ParityMapper` with ``two_qubit_reduction=True``"
   ]
  },
  {
   "cell_type": "code",
   "execution_count": 5,
   "metadata": {},
   "outputs": [
    {
     "name": "stdout",
     "output_type": "stream",
     "text": [
      "Z2 symmetries:\n",
      "Symmetries:\n",
      "Single-Qubit Pauli X:\n",
      "Cliffords:\n",
      "Qubit index:\n",
      "[]\n",
      "Tapering values:\n",
      "  - Possible values: []\n"
     ]
    }
   ],
   "source": [
    "from qiskit_nature.mappers.second_quantization import ParityMapper, BravyiKitaevMapper, JordanWignerMapper\n",
    "from qiskit_nature.converters.second_quantization.qubit_converter import QubitConverter\n",
    "\n",
    "# Setup the mapper and qubit converter\n",
    "mapper_type = 'ParityMapper'\n",
    "\n",
    "if mapper_type == 'ParityMapper':\n",
    "    mapper = ParityMapper()\n",
    "elif mapper_type == 'JordanWignerMapper':\n",
    "    mapper = JordanWignerMapper()\n",
    "elif mapper_type == 'BravyiKitaevMapper':\n",
    "    mapper = BravyiKitaevMapper()\n",
    "\n",
    "converter = QubitConverter(mapper=mapper, two_qubit_reduction=True, z2symmetry_reduction=None)\n",
    "\n",
    "# The fermionic operators are mapped to qubit operators\n",
    "num_particles = (problem.molecule_data_transformed.num_alpha,\n",
    "             problem.molecule_data_transformed.num_beta)\n",
    "qubit_op = converter.convert(main_op, num_particles=num_particles)\n",
    "print(converter.z2symmetries)"
   ]
  },
  {
   "cell_type": "markdown",
   "metadata": {},
   "source": [
    "#### 4. Initial state\n",
    "As we described in the Theory section, a good initial state in chemistry is the HF state (i.e. $|\\Psi_{HF} \\rangle = |0101 \\rangle$). I initialize it as follows:"
   ]
  },
  {
   "cell_type": "code",
   "execution_count": 6,
   "metadata": {},
   "outputs": [
    {
     "name": "stdout",
     "output_type": "stream",
     "text": [
      "     ┌───┐\n",
      "q_0: ┤ X ├\n",
      "     ├───┤\n",
      "q_1: ┤ X ├\n",
      "     └───┘\n",
      "q_2: ─────\n",
      "          \n",
      "q_3: ─────\n",
      "          \n"
     ]
    }
   ],
   "source": [
    "from qiskit_nature.circuit.library import HartreeFock\n",
    "\n",
    "num_particles = (problem.molecule_data_transformed.num_alpha,\n",
    "             problem.molecule_data_transformed.num_beta)\n",
    "num_spin_orbitals = 2 * problem.molecule_data_transformed.num_molecular_orbitals\n",
    "init_state = HartreeFock(num_spin_orbitals, num_particles, converter)\n",
    "print(init_state)"
   ]
  },
  {
   "cell_type": "markdown",
   "metadata": {},
   "source": [
    "#### 5. Ansatz\n",
    "The ansatz used was `TwoLocal`, with rotation layers as `['ry', 'rx', 'ry', 'rx']`, entanglement gate was only `cx`, `linear` type of entanglement, `repetitions` set to `1`. Idea was to get maximum entanglement with minimum circuit depth, all the while satisfying the costs."
   ]
  },
  {
   "cell_type": "code",
   "execution_count": 8,
   "metadata": {},
   "outputs": [
    {
     "name": "stdout",
     "output_type": "stream",
     "text": [
      "        ┌───┐    ┌──────────┐ ┌──────────┐ ┌──────────┐┌───────────┐     »\n",
      "q_0: ───┤ X ├────┤ RY(θ[0]) ├─┤ RX(θ[4]) ├─┤ RY(θ[8]) ├┤ RX(θ[12]) ├──■──»\n",
      "        ├───┤    ├──────────┤ ├──────────┤ ├──────────┤├───────────┤┌─┴─┐»\n",
      "q_1: ───┤ X ├────┤ RY(θ[1]) ├─┤ RX(θ[5]) ├─┤ RY(θ[9]) ├┤ RX(θ[13]) ├┤ X ├»\n",
      "     ┌──┴───┴───┐├──────────┤┌┴──────────┤┌┴──────────┤└───────────┘└───┘»\n",
      "q_2: ┤ RY(θ[2]) ├┤ RX(θ[6]) ├┤ RY(θ[10]) ├┤ RX(θ[14]) ├──────────────────»\n",
      "     ├──────────┤├──────────┤├───────────┤├───────────┤                  »\n",
      "q_3: ┤ RY(θ[3]) ├┤ RX(θ[7]) ├┤ RY(θ[11]) ├┤ RX(θ[15]) ├──────────────────»\n",
      "     └──────────┘└──────────┘└───────────┘└───────────┘                  »\n",
      "«     ┌───────────┐┌───────────┐┌───────────┐┌───────────┐             »\n",
      "«q_0: ┤ RY(θ[16]) ├┤ RX(θ[20]) ├┤ RY(θ[24]) ├┤ RX(θ[28]) ├─────────────»\n",
      "«     └───────────┘├───────────┤├───────────┤├───────────┤┌───────────┐»\n",
      "«q_1: ──────■──────┤ RY(θ[17]) ├┤ RX(θ[21]) ├┤ RY(θ[25]) ├┤ RX(θ[29]) ├»\n",
      "«         ┌─┴─┐    └───────────┘├───────────┤├───────────┤├───────────┤»\n",
      "«q_2: ────┤ X ├──────────■──────┤ RY(θ[18]) ├┤ RX(θ[22]) ├┤ RY(θ[26]) ├»\n",
      "«         └───┘        ┌─┴─┐    ├───────────┤├───────────┤├───────────┤»\n",
      "«q_3: ─────────────────┤ X ├────┤ RY(θ[19]) ├┤ RX(θ[23]) ├┤ RY(θ[27]) ├»\n",
      "«                      └───┘    └───────────┘└───────────┘└───────────┘»\n",
      "«                  \n",
      "«q_0: ─────────────\n",
      "«                  \n",
      "«q_1: ─────────────\n",
      "«     ┌───────────┐\n",
      "«q_2: ┤ RX(θ[30]) ├\n",
      "«     ├───────────┤\n",
      "«q_3: ┤ RX(θ[31]) ├\n",
      "«     └───────────┘\n"
     ]
    }
   ],
   "source": [
    "from qiskit.circuit.library import TwoLocal\n",
    "from qiskit_nature.circuit.library import UCCSD, PUCCD, SUCCD\n",
    "\n",
    "# Choose the ansatz\n",
    "ansatz_type = \"TwoLocal\"\n",
    "\n",
    "# Parameters for q-UCC antatze\n",
    "num_particles = (problem.molecule_data_transformed.num_alpha,\n",
    "             problem.molecule_data_transformed.num_beta)\n",
    "num_spin_orbitals = 2 * problem.molecule_data_transformed.num_molecular_orbitals\n",
    "\n",
    "# Put arguments for twolocal\n",
    "if ansatz_type == \"TwoLocal\":\n",
    "    # Single qubit rotations that are placed on all qubits with independent parameters\n",
    "    rotation_blocks = ['ry', 'rx', 'ry', 'rx']\n",
    "    # Entangling gates\n",
    "    entanglement_blocks = ['cx']\n",
    "    # How the qubits are entangled \n",
    "    entanglement = \"linear\"\n",
    "    # Repetitions of rotation_blocks + entanglement_blocks with independent parameters\n",
    "    repetitions = 1\n",
    "    # Skip the final rotation_blocks layer\n",
    "    skip_final_rotation_layer = False\n",
    "    ansatz = TwoLocal(qubit_op.num_qubits, rotation_blocks, entanglement_blocks, reps=repetitions, \n",
    "                      entanglement=entanglement, skip_final_rotation_layer=skip_final_rotation_layer)\n",
    "    # Add the initial state\n",
    "    ansatz.compose(init_state, front=True, inplace=True)\n",
    "elif ansatz_type == \"UCCSD\":\n",
    "    ansatz = UCCSD(converter,num_particles,num_spin_orbitals,initial_state = init_state)\n",
    "elif ansatz_type == \"PUCCD\":\n",
    "    ansatz = PUCCD(converter,num_particles,num_spin_orbitals,initial_state = init_state)\n",
    "elif ansatz_type == \"SUCCD\":\n",
    "    ansatz = SUCCD(converter,num_particles,num_spin_orbitals,initial_state = init_state)\n",
    "elif ansatz_type == \"Custom\":\n",
    "    # Example of how to write your own circuit\n",
    "    from qiskit.circuit import Parameter, QuantumCircuit, QuantumRegister\n",
    "    # Define the variational parameter\n",
    "    thetas = []\n",
    "    \n",
    "    n = qubit_op.num_qubits\n",
    "    # Make an empty quantum circuit\n",
    "    qc = QuantumCircuit(qubit_op.num_qubits)\n",
    "    qubit_label = 0\n",
    "    # Place a Hadamard gate\n",
    "#     qc.h(qubit_label)\n",
    "#     qc.rz(theta_z, range(n))\n",
    "    qc.rx(theta_x, range(n))\n",
    "    qc.ry(theta_y, range(n))\n",
    "    # Place a CNOT ladder\n",
    "    for i in range(n-1):\n",
    "        qc.cx(i, i+1)\n",
    "    # Visual separator\n",
    "#     qc.barrier()\n",
    "    # rz rotations on all qubits\n",
    "#     qc.rz(theta_z, range(n))\n",
    "#     qc.ry(theta_x, range(n))\n",
    "#     qc.rx(theta_y, range(n))\n",
    "    ansatz = qc\n",
    "    ansatz.compose(init_state, front=True, inplace=True)\n",
    "\n",
    "print(ansatz)"
   ]
  },
  {
   "cell_type": "code",
   "execution_count": 9,
   "metadata": {},
   "outputs": [],
   "source": [
    "from qiskit import Aer\n",
    "backend = Aer.get_backend('statevector_simulator')"
   ]
  },
  {
   "cell_type": "markdown",
   "metadata": {},
   "source": [
    "#### 7. Optimizer\n",
    "\n",
    "The optimizer guides the evolution of the parameters of the ansatz so it is very important to investigate the energy convergence as it would define the number of measurements that have to be performed on the QPU. Here it was set to `COBYLA` with sufficient amount of maximum iterations possible before convergence\n"
   ]
  },
  {
   "cell_type": "code",
   "execution_count": 10,
   "metadata": {},
   "outputs": [],
   "source": [
    "from qiskit.algorithms.optimizers import COBYLA, L_BFGS_B, SPSA, SLSQP\n",
    "\n",
    "optimizer_type = 'COBYLA'\n",
    "\n",
    "# You may want to tune the parameters \n",
    "# of each optimizer, here the defaults are used\n",
    "if optimizer_type == 'COBYLA':\n",
    "    optimizer = COBYLA(maxiter=30000)\n",
    "elif optimizer_type == 'L_BFGS_B':\n",
    "    optimizer = L_BFGS_B(maxfun=60000)\n",
    "elif optimizer_type == 'SPSA':\n",
    "    optimizer = SPSA(maxiter=50000)\n",
    "elif optimizer_type == 'SLSQP':\n",
    "    optimizer = SLSQP(maxiter=3000)"
   ]
  },
  {
   "cell_type": "markdown",
   "metadata": {},
   "source": [
    "#### 8. Exact eigensolver"
   ]
  },
  {
   "cell_type": "code",
   "execution_count": 12,
   "metadata": {},
   "outputs": [
    {
     "name": "stdout",
     "output_type": "stream",
     "text": [
      "Exact electronic energy after freezing core, for the valence electrons is -1.0887060157347412\n"
     ]
    }
   ],
   "source": [
    "from qiskit_nature.algorithms.ground_state_solvers.minimum_eigensolver_factories import NumPyMinimumEigensolverFactory\n",
    "from qiskit_nature.algorithms.ground_state_solvers import GroundStateEigensolver\n",
    "import numpy as np \n",
    "\n",
    "def exact_diagonalizer(problem, converter):\n",
    "    solver = NumPyMinimumEigensolverFactory()\n",
    "    calc = GroundStateEigensolver(converter, solver)\n",
    "    result = calc.solve(problem)\n",
    "    return result\n",
    "\n",
    "result_exact = exact_diagonalizer(problem, converter)\n",
    "exact_energy = np.real(result_exact.eigenenergies[0])\n",
    "print(\"Exact electronic energy after freezing core, for the valence electrons is\", exact_energy)\n",
    "# print(result_exact)"
   ]
  },
  {
   "cell_type": "markdown",
   "metadata": {},
   "source": [
    "#### 9. VQE and initial parameters for the ansatz\n",
    "Now we can import the VQE class and run the algorithm."
   ]
  },
  {
   "cell_type": "code",
   "execution_count": 13,
   "metadata": {
    "scrolled": true
   },
   "outputs": [
    {
     "name": "stdout",
     "output_type": "stream",
     "text": [
      "{   'aux_operator_eigenvalues': None,\n",
      "    'cost_function_evals': 9660,\n",
      "    'eigenstate': array([ 1.42330541e-04+1.43431962e-03j, -4.23490958e-04-4.89065970e-03j,\n",
      "        2.23678404e-03+2.63113429e-02j, -8.30964184e-02-9.87905676e-01j,\n",
      "       -3.50684854e-03-5.38647331e-02j, -1.74375790e-05-3.17583535e-04j,\n",
      "        4.88898409e-05+9.08366879e-04j, -1.18573222e-03-2.40722890e-02j,\n",
      "       -3.32766414e-04-2.74166551e-03j, -5.66367067e-07-8.21282984e-06j,\n",
      "       -1.45660908e-06+3.46419632e-06j,  1.14985281e-04+3.80322133e-04j,\n",
      "        9.77945785e-03+1.13200984e-01j,  3.25326673e-05+4.16855646e-04j,\n",
      "       -4.70472273e-05-5.61752304e-04j, -1.69759079e-06+1.89927731e-05j]),\n",
      "    'eigenvalue': -1.08636624859473,\n",
      "    'optimal_parameters': {   ParameterVectorElement(θ[16]): 0.6023040974600175,\n",
      "                              ParameterVectorElement(θ[2]): 0.2754752513533806,\n",
      "                              ParameterVectorElement(θ[11]): 0.08498065538345674,\n",
      "                              ParameterVectorElement(θ[12]): 0.49405851441676,\n",
      "                              ParameterVectorElement(θ[14]): -0.13158130545342372,\n",
      "                              ParameterVectorElement(θ[6]): 0.1367791221567639,\n",
      "                              ParameterVectorElement(θ[13]): 0.17919625235084016,\n",
      "                              ParameterVectorElement(θ[31]): -0.4430577995088451,\n",
      "                              ParameterVectorElement(θ[3]): -0.5287436933434927,\n",
      "                              ParameterVectorElement(θ[0]): 0.9194205453662906,\n",
      "                              ParameterVectorElement(θ[10]): -0.2779671919120382,\n",
      "                              ParameterVectorElement(θ[15]): 0.27088658149510303,\n",
      "                              ParameterVectorElement(θ[5]): -0.1821021597121472,\n",
      "                              ParameterVectorElement(θ[4]): -0.6817850823310849,\n",
      "                              ParameterVectorElement(θ[25]): 0.026278322889119826,\n",
      "                              ParameterVectorElement(θ[26]): 0.173200889411082,\n",
      "                              ParameterVectorElement(θ[24]): -0.6514974023548069,\n",
      "                              ParameterVectorElement(θ[27]): -0.70010160265166,\n",
      "                              ParameterVectorElement(θ[23]): 0.18593894311708528,\n",
      "                              ParameterVectorElement(θ[30]): 0.3535595958735285,\n",
      "                              ParameterVectorElement(θ[1]): 0.18118039040665185,\n",
      "                              ParameterVectorElement(θ[9]): -0.18998201653013846,\n",
      "                              ParameterVectorElement(θ[18]): -0.11380267575601392,\n",
      "                              ParameterVectorElement(θ[19]): 1.1198256842268843,\n",
      "                              ParameterVectorElement(θ[21]): 1.998490447687628,\n",
      "                              ParameterVectorElement(θ[20]): 0.6493468545437504,\n",
      "                              ParameterVectorElement(θ[28]): -0.5224124263847214,\n",
      "                              ParameterVectorElement(θ[29]): 1.1427592303144563,\n",
      "                              ParameterVectorElement(θ[17]): 0.020817230460885735,\n",
      "                              ParameterVectorElement(θ[8]): -0.7806273236070762,\n",
      "                              ParameterVectorElement(θ[22]): -0.35721805043525556,\n",
      "                              ParameterVectorElement(θ[7]): 0.06268198714828736},\n",
      "    'optimal_point': array([ 0.91942055, -0.27796719,  0.08498066,  0.49405851,  0.17919625,\n",
      "       -0.13158131,  0.27088658,  0.6023041 ,  0.02081723, -0.11380268,\n",
      "        1.11982568,  0.18118039,  0.64934685,  1.99849045, -0.35721805,\n",
      "        0.18593894, -0.6514974 ,  0.02627832,  0.17320089, -0.7001016 ,\n",
      "       -0.52241243,  1.14275923,  0.27547525,  0.3535596 , -0.4430578 ,\n",
      "       -0.52874369, -0.68178508, -0.18210216,  0.13677912,  0.06268199,\n",
      "       -0.78062732, -0.18998202]),\n",
      "    'optimal_value': -1.08636624859473,\n",
      "    'optimizer_evals': 9660,\n",
      "    'optimizer_time': 75.38813042640686}\n"
     ]
    }
   ],
   "source": [
    "from qiskit.algorithms import VQE\n",
    "from IPython.display import display, clear_output\n",
    "\n",
    "# Print and save the data in lists\n",
    "def callback(eval_count, parameters, mean, std):  \n",
    "    # Overwrites the same line when printing\n",
    "    display(\"Evaluation: {}, Energy: {}, Std: {}\".format(eval_count, mean, std))\n",
    "    clear_output(wait=True)\n",
    "    counts.append(eval_count)\n",
    "    values.append(mean)\n",
    "    params.append(parameters)\n",
    "    deviation.append(std)\n",
    "\n",
    "counts = []\n",
    "values = []\n",
    "params = []\n",
    "deviation = []\n",
    "\n",
    "# Set initial parameters of the ansatz\n",
    "# We choose a fixed small displacement \n",
    "# So all participants start from similar starting point\n",
    "try:\n",
    "    initial_point = [0.01] * len(ansatz.ordered_parameters)\n",
    "except:\n",
    "    initial_point = [0.01] * ansatz.num_parameters\n",
    "\n",
    "algorithm = VQE(ansatz,\n",
    "                optimizer=optimizer,\n",
    "                quantum_instance=backend,\n",
    "                callback=callback,\n",
    "                initial_point=initial_point)\n",
    "\n",
    "result = algorithm.compute_minimum_eigenvalue(qubit_op)\n",
    "\n",
    "print(result)"
   ]
  },
  {
   "cell_type": "markdown",
   "metadata": {},
   "source": [
    "#### 9. Scoring function \n",
    "The following was the simple scoring function:\n",
    "\n",
    "$$ score = N_{CNOT}$$\n",
    "\n",
    "where $N_{CNOT}$ is the number of CNOTs. \n",
    "We had to reach the chemical accuracy which is $\\delta E_{chem} = 0.004$ Ha $= 4$ mHa.\n",
    "\n",
    "The lower the score the better!"
   ]
  },
  {
   "cell_type": "code",
   "execution_count": 14,
   "metadata": {},
   "outputs": [
    {
     "data": {
      "text/html": [
       "<div>\n",
       "<style scoped>\n",
       "    .dataframe tbody tr th:only-of-type {\n",
       "        vertical-align: middle;\n",
       "    }\n",
       "\n",
       "    .dataframe tbody tr th {\n",
       "        vertical-align: top;\n",
       "    }\n",
       "\n",
       "    .dataframe thead th {\n",
       "        text-align: right;\n",
       "    }\n",
       "</style>\n",
       "<table border=\"1\" class=\"dataframe\">\n",
       "  <thead>\n",
       "    <tr style=\"text-align: right;\">\n",
       "      <th></th>\n",
       "      <th>optimizer</th>\n",
       "      <th>ansatz</th>\n",
       "      <th># of qubits</th>\n",
       "      <th># of parameters</th>\n",
       "      <th>rotation blocks</th>\n",
       "      <th>entanglement_blocks</th>\n",
       "      <th>entanglement</th>\n",
       "      <th>repetitions</th>\n",
       "      <th>error (mHa)</th>\n",
       "      <th>pass</th>\n",
       "      <th>score</th>\n",
       "    </tr>\n",
       "  </thead>\n",
       "  <tbody>\n",
       "    <tr>\n",
       "      <th>0</th>\n",
       "      <td>COBYLA</td>\n",
       "      <td>TwoLocal</td>\n",
       "      <td>4</td>\n",
       "      <td>32</td>\n",
       "      <td>[ry, rx, ry, rx]</td>\n",
       "      <td>[cx]</td>\n",
       "      <td>linear</td>\n",
       "      <td>1</td>\n",
       "      <td>2.339767</td>\n",
       "      <td>True</td>\n",
       "      <td>3</td>\n",
       "    </tr>\n",
       "  </tbody>\n",
       "</table>\n",
       "</div>"
      ],
      "text/plain": [
       "  optimizer    ansatz  # of qubits  # of parameters   rotation blocks  \\\n",
       "0    COBYLA  TwoLocal            4               32  [ry, rx, ry, rx]   \n",
       "\n",
       "  entanglement_blocks entanglement  repetitions  error (mHa)  pass  score  \n",
       "0                [cx]       linear            1     2.339767  True      3  "
      ]
     },
     "execution_count": 14,
     "metadata": {},
     "output_type": "execute_result"
    },
    {
     "data": {
      "image/png": "[encoded data removed]",
      "text/plain": [
       "<Figure size 432x288 with 1 Axes>"
      ]
     },
     "metadata": {
      "needs_background": "light"
     },
     "output_type": "display_data"
    }
   ],
   "source": [
    "# Store results in a dictionary\n",
    "from qiskit.transpiler import PassManager\n",
    "from qiskit.transpiler.passes import Unroller\n",
    "\n",
    "# Unroller transpile your circuit into CNOTs and U gates\n",
    "pass_ = Unroller(['u', 'cx'])\n",
    "pm = PassManager(pass_)\n",
    "ansatz_tp = pm.run(ansatz)\n",
    "cnots = ansatz_tp.count_ops()['cx']\n",
    "score = cnots\n",
    "\n",
    "accuracy_threshold = 4.0 # in mHa\n",
    "energy = result.optimal_value\n",
    "\n",
    "if ansatz_type == \"TwoLocal\":\n",
    "    result_dict = {\n",
    "        'optimizer': optimizer.__class__.__name__,\n",
    "        'mapping': converter.mapper.__class__.__name__,\n",
    "        'ansatz': ansatz.__class__.__name__,\n",
    "        'rotation blocks': rotation_blocks,\n",
    "        'entanglement_blocks': entanglement_blocks,\n",
    "        'entanglement': entanglement,\n",
    "        'repetitions': repetitions,\n",
    "        'skip_final_rotation_layer': skip_final_rotation_layer,\n",
    "        'energy (Ha)': energy,\n",
    "        'error (mHa)': (energy-exact_energy)*1000,\n",
    "        'pass': (energy-exact_energy)*1000 <= accuracy_threshold,\n",
    "        '# of parameters': len(result.optimal_point),\n",
    "        'final parameters': result.optimal_point,\n",
    "        '# of evaluations': result.optimizer_evals,\n",
    "        'optimizer time': result.optimizer_time,\n",
    "        '# of qubits': int(qubit_op.num_qubits),\n",
    "        '# of CNOTs': cnots,\n",
    "        'score': score}\n",
    "else:\n",
    "    result_dict = {\n",
    "        'optimizer': optimizer.__class__.__name__,\n",
    "        'mapping': converter.mapper.__class__.__name__,\n",
    "        'ansatz': ansatz.__class__.__name__,\n",
    "        'rotation blocks': None,\n",
    "        'entanglement_blocks': None,\n",
    "        'entanglement': None,\n",
    "        'repetitions': None,\n",
    "        'skip_final_rotation_layer': None,\n",
    "        'energy (Ha)': energy,\n",
    "        'error (mHa)': (energy-exact_energy)*1000,\n",
    "        'pass': (energy-exact_energy)*1000 <= accuracy_threshold,\n",
    "        '# of parameters': len(result.optimal_point),\n",
    "        'final parameters': result.optimal_point,\n",
    "        '# of evaluations': result.optimizer_evals,\n",
    "        'optimizer time': result.optimizer_time,\n",
    "        '# of qubits': int(qubit_op.num_qubits),\n",
    "        '# of CNOTs': cnots,\n",
    "        'score': score}\n",
    "\n",
    "# Plot the results\n",
    "import matplotlib.pyplot as plt\n",
    "\n",
    "fig, ax = plt.subplots(1, 1)\n",
    "ax.set_xlabel('Iterations')\n",
    "ax.set_ylabel('Energy')\n",
    "ax.grid()\n",
    "fig.text(0.7, 0.75, f'Energy: {result.optimal_value:.3f}\\nScore: {score:.0f}')\n",
    "plt.title(f\"{result_dict['optimizer']}-{result_dict['mapping']}\\n{result_dict['ansatz']}\")\n",
    "ax.plot(counts, values)\n",
    "ax.axhline(exact_energy, linestyle='--')\n",
    "fig_title = f\"\\\n",
    "{result_dict['optimizer']}-\\\n",
    "{result_dict['mapping']}-\\\n",
    "{result_dict['ansatz']}-\\\n",
    "Energy({result_dict['energy (Ha)']:.3f})-\\\n",
    "Score({result_dict['score']:.0f})\\\n",
    ".png\"\n",
    "fig.savefig(fig_title, dpi=300)\n",
    "\n",
    "# Display and save the data\n",
    "import pandas as pd\n",
    "import os.path\n",
    "filename = 'results_h2.csv'\n",
    "if os.path.isfile(filename):\n",
    "    result_df = pd.read_csv(filename)\n",
    "    result_df = result_df.append([result_dict])\n",
    "else:\n",
    "    result_df = pd.DataFrame.from_dict([result_dict])\n",
    "result_df.to_csv(filename)\n",
    "result_df[['optimizer','ansatz', '# of qubits', '# of parameters','rotation blocks', 'entanglement_blocks',\n",
    "    'entanglement', 'repetitions', 'error (mHa)', 'pass', 'score']]"
   ]
  }
 ],
 "metadata": {
  "kernelspec": {
   "display_name": "Python 3",
   "language": "python",
   "name": "python3"
  },
  "language_info": {
   "codemirror_mode": {
    "name": "ipython",
    "version": 3
   },
   "file_extension": ".py",
   "mimetype": "text/x-python",
   "name": "python",
   "nbconvert_exporter": "python",
   "pygments_lexer": "ipython3",
   "version": "3.7.6"
  }
 },
 "nbformat": 4,
 "nbformat_minor": 5
}
