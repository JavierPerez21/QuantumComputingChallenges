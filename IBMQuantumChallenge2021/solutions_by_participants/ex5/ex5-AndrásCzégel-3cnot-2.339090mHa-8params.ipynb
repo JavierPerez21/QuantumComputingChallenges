{
 "cells": [
  {
   "cell_type": "markdown",
   "metadata": {},
   "source": [
    "### Setting up the problem"
   ]
  },
  {
   "cell_type": "code",
   "execution_count": 3,
   "metadata": {},
   "outputs": [],
   "source": [
    "from qiskit_nature.drivers import PySCFDriver\n",
    "\n",
    "molecule = 'Li 0.0 0.0 0.0; H 0.0 0.0 1.5474'\n",
    "driver = PySCFDriver(atom=molecule)\n",
    "qmolecule = driver.run()"
   ]
  },
  {
   "cell_type": "markdown",
   "metadata": {},
   "source": [
    "## Preprocessing\n",
    "\n",
    "#### Reducing the number of qubits in the operator:\n",
    "  - Freezing the core\n",
    "  - Using parity mapper\n",
    "  - Note that no Z2Symmetries left there"
   ]
  },
  {
   "cell_type": "code",
   "execution_count": 4,
   "metadata": {},
   "outputs": [
    {
     "name": "stdout",
     "output_type": "stream",
     "text": [
      "Z2 symmetries:\n",
      "Symmetries:\n",
      "Single-Qubit Pauli X:\n",
      "Cliffords:\n",
      "Qubit index:\n",
      "[]\n",
      "Tapering values:\n",
      "  - Possible values: []\n"
     ]
    }
   ],
   "source": [
    "from qiskit_nature.transformers import FreezeCoreTransformer\n",
    "from qiskit_nature.mappers.second_quantization import ParityMapper\n",
    "from qiskit_nature.converters.second_quantization.qubit_converter import QubitConverter\n",
    "from qiskit_nature.problems.second_quantization.electronic import ElectronicStructureProblem\n",
    "\n",
    "\n",
    "# Instantiate a FreezeCoreTransformer to freeze the core and remove orbitals which can be removed\n",
    "FCT = FreezeCoreTransformer(freeze_core=True, remove_orbitals=[3,4])\n",
    "\n",
    "# ElectronicStructureProblem object, transforms the original qmolecule\n",
    "problem = ElectronicStructureProblem(driver=driver, q_molecule_transformers=[FCT])\n",
    "\n",
    "# Get operator of the problem\n",
    "main_op = problem.second_q_ops()[0]\n",
    "\n",
    "# ParityMapper with 2 qubit reduction. This converter has the biggest advantage in this problem\n",
    "converter = QubitConverter(mapper=ParityMapper(), two_qubit_reduction=True) \n",
    "\n",
    "# reduced, actual number of particles\n",
    "num_particles = (problem.molecule_data_transformed.num_alpha,\n",
    "             problem.molecule_data_transformed.num_beta) \n",
    "\n",
    "# reduced num of orbitals\n",
    "num_spin_orbitals = 2 * problem.molecule_data_transformed.num_molecular_orbitals \n",
    "# produce operator\n",
    "qubit_op = converter.convert(main_op, num_particles=num_particles) \n",
    "\n",
    "# Printed to see if there's any\n",
    "print(converter.z2symmetries) \n"
   ]
  },
  {
   "cell_type": "markdown",
   "metadata": {},
   "source": [
    "### Build the ansatz\n",
    "\n",
    "#### TwoLocal, with parameters:\n",
    "  - number of qubits (that's 4 here)\n",
    "  - rotation blocks, for each axis, but with minimized parameters\n",
    "  - entanglement block is cnot (has no param)\n",
    "  - linear entanglement since it has the least number of cnots in it with full connection\n",
    "  - don't skip the final rotations, they don't count in the score!"
   ]
  },
  {
   "cell_type": "code",
   "execution_count": 5,
   "metadata": {},
   "outputs": [
    {
     "name": "stdout",
     "output_type": "stream",
     "text": [
      "     ┌───┐┌───┐┌──────────┐     ┌───┐┌───┐┌──────────┐                        \n",
      "q_0: ┤ Z ├┤ X ├┤ RY(θ[0]) ├──■──┤ Z ├┤ X ├┤ RY(θ[4]) ├────────────────────────\n",
      "     ├───┤├───┤├──────────┤┌─┴─┐└───┘├───┤└──┬───┬───┘┌──────────┐            \n",
      "q_1: ┤ Z ├┤ X ├┤ RY(θ[1]) ├┤ X ├──■──┤ Z ├───┤ X ├────┤ RY(θ[5]) ├────────────\n",
      "     ├───┤├───┤├──────────┤└───┘┌─┴─┐└───┘   ├───┤    └──┬───┬───┘┌──────────┐\n",
      "q_2: ┤ Z ├┤ X ├┤ RY(θ[2]) ├─────┤ X ├──■─────┤ Z ├───────┤ X ├────┤ RY(θ[6]) ├\n",
      "     ├───┤├───┤├──────────┤     └───┘┌─┴─┐   ├───┤       ├───┤    ├──────────┤\n",
      "q_3: ┤ Z ├┤ X ├┤ RY(θ[3]) ├──────────┤ X ├───┤ Z ├───────┤ X ├────┤ RY(θ[7]) ├\n",
      "     └───┘└───┘└──────────┘          └───┘   └───┘       └───┘    └──────────┘\n"
     ]
    }
   ],
   "source": [
    "from qiskit.circuit.library import TwoLocal\n",
    "\n",
    "ansatz = TwoLocal(num_qubits=qubit_op.num_qubits,\n",
    "                  rotation_blocks=['z','x','ry'], # only 1 paramterized gate\n",
    "                  entanglement_blocks='cx',       \n",
    "                  reps=1,                         # one is enough\n",
    "                  entanglement='linear',          # minimal cnots with full connection\n",
    "                  skip_final_rotation_layer=False)# rotations do the work, and they doesn't count in the score\n",
    "\n",
    "print(ansatz)"
   ]
  },
  {
   "cell_type": "markdown",
   "metadata": {},
   "source": [
    "### Building the algorithm\n",
    "\n",
    "#### Given:\n",
    "  - initial_point, that was given by the excercise\n",
    "  - init_state was also given\n",
    "  - callback is just the callback from the tutorial\n",
    "  \n",
    "#### VQE:\n",
    "  - Optimizer: SLSQP, with not too many params\n",
    "  - Ansatz: the TwoLocal above\n",
    "  "
   ]
  },
  {
   "cell_type": "code",
   "execution_count": 1,
   "metadata": {},
   "outputs": [
    {
     "name": "stdout",
     "output_type": "stream",
     "text": [
      "Traceback \u001b[1;36m(most recent call last)\u001b[0m:\n",
      "\u001b[1;36m  File \u001b[1;32m\"<ipython-input-1-439d647f8e96>\"\u001b[1;36m, line \u001b[1;32m7\u001b[1;36m, in \u001b[1;35m<module>\u001b[1;36m\u001b[0m\n",
      "\u001b[1;33m    initial_point = [0.01] * ansatz.num_parameters\u001b[0m\n",
      "\u001b[1;31mNameError\u001b[0m\u001b[1;31m:\u001b[0m name 'ansatz' is not defined\n",
      "\n",
      "Use %tb to get the full traceback.\n"
     ]
    },
    {
     "data": {
      "text/html": [
       "\n",
       "<style>\n",
       ".button {\n",
       "  border: none;\n",
       "  color: white;\n",
       "  padding: 4px 8px;\n",
       "  text-align: center;\n",
       "  text-decoration: none;\n",
       "  display: inline-block;\n",
       "  font-size: 12px;\n",
       "  margin: 4px 2px;\n",
       "  transition-duration: 0.2s;\n",
       "  cursor: pointer;\n",
       "}\n",
       ".iqx-button {\n",
       "  background-color: #0f62fe; \n",
       "  color: white; \n",
       "}\n",
       ".iqx-button:hover {\n",
       "  background-color: #0043ce;\n",
       "  color: white;\n",
       "}\n",
       "</style>\n",
       "<a href=\"https://stackoverflow.com/search?q=NameError: name 'ansatz' is not defined\" target='_blank'><button class='button iqx-button'>Search for solution online</button></a>\n"
      ],
      "text/plain": [
       "<IPython.core.display.HTML object>"
      ]
     },
     "metadata": {},
     "output_type": "display_data"
    }
   ],
   "source": [
    "from qiskit_nature.circuit.library import HartreeFock\n",
    "from qiskit.algorithms.optimizers import SLSQP\n",
    "from qiskit.algorithms import VQE\n",
    "from IPython.display import display, clear_output\n",
    "from qiskit import Aer\n",
    "\n",
    "# Given\n",
    "initial_point = [0.01] * ansatz.num_parameters\n",
    "init_state = HartreeFock(num_spin_orbitals, num_particles, converter)\n",
    "\n",
    "# Callback to trace the optimizations process\n",
    "counts = []\n",
    "values = []\n",
    "params = []\n",
    "deviation = []\n",
    "def callback(eval_count, parameters, mean, std):  \n",
    "    # Overwrites the same line when printing\n",
    "    display(\"Evaluation: {}, Energy: {}, Std: {}\".format(eval_count, mean, std))\n",
    "    clear_output(wait=True)\n",
    "    counts.append(eval_count)\n",
    "    values.append(mean)\n",
    "    params.append(parameters)\n",
    "    deviation.append(std)\n",
    "\n",
    "\n",
    "# Build the VQE with SLSQP with high maxiter number, since it stops before reaching it\n",
    "# And SLSQP is a great QP solver to do this, with moderate number of params\n",
    "algorithm = VQE(ansatz,\n",
    "                optimizer=SLSQP(maxiter=3000),\n",
    "                quantum_instance=Aer.get_backend('statevector_simulator'),\n",
    "                callback=callback,\n",
    "                initial_point=initial_point)\n",
    "\n",
    "# Compute the result\n",
    "result = algorithm.compute_minimum_eigenvalue(qubit_op)\n"
   ]
  },
  {
   "cell_type": "markdown",
   "metadata": {},
   "source": [
    "### Getting the exact solution\n",
    "\n",
    "#### The same way as in the excercise, to compare with the result\n",
    "\n",
    "Note: this is not necessary step, even for bigger molecules it's just inefficient."
   ]
  },
  {
   "cell_type": "code",
   "execution_count": null,
   "metadata": {},
   "outputs": [],
   "source": [
    "from qiskit_nature.algorithms.ground_state_solvers.minimum_eigensolver_factories import NumPyMinimumEigensolverFactory\n",
    "from qiskit_nature.algorithms.ground_state_solvers import GroundStateEigensolver\n",
    "import numpy as np \n",
    "\n",
    "def exact_diagonalizer(problem, converter):\n",
    "    solver = NumPyMinimumEigensolverFactory()\n",
    "    calc = GroundStateEigensolver(converter, solver)\n",
    "    result = calc.solve(problem)\n",
    "    return result\n",
    "\n",
    "result_exact = exact_diagonalizer(problem, converter)\n",
    "exact_energy = np.real(result_exact.eigenenergies[0])\n",
    "\n",
    "# Exact solution to reach\n",
    "print(\"Exact electronic energy\", exact_energy) "
   ]
  },
  {
   "cell_type": "code",
   "execution_count": null,
   "metadata": {},
   "outputs": [],
   "source": [
    "from qc_grader import grade_ex5\n",
    "freeze_core = True \n",
    "grade_ex5(ansatz,qubit_op,result,freeze_core)"
   ]
  },
  {
   "cell_type": "code",
   "execution_count": null,
   "metadata": {},
   "outputs": [],
   "source": [
    "from qc_grader import submit_ex5\n",
    "submit_ex5(ansatz,qubit_op,result,freeze_core)"
   ]
  },
  {
   "cell_type": "markdown",
   "metadata": {},
   "source": [
    "### Author: András Czégel\n",
    "\n",
    "  - Score: 3\n",
    "  - Chemical accuracy (error) : 2.339090 mHa \n",
    "  - Number of parameters: 8"
   ]
  },
  {
   "cell_type": "code",
   "execution_count": null,
   "metadata": {},
   "outputs": [],
   "source": []
  }
 ],
 "metadata": {
  "kernelspec": {
   "display_name": "Python 3",
   "language": "python",
   "name": "python3"
  },
  "language_info": {
   "codemirror_mode": {
    "name": "ipython",
    "version": 3
   },
   "file_extension": ".py",
   "mimetype": "text/x-python",
   "name": "python",
   "nbconvert_exporter": "python",
   "pygments_lexer": "ipython3",
   "version": "3.7.6"
  }
 },
 "nbformat": 4,
 "nbformat_minor": 5
}
