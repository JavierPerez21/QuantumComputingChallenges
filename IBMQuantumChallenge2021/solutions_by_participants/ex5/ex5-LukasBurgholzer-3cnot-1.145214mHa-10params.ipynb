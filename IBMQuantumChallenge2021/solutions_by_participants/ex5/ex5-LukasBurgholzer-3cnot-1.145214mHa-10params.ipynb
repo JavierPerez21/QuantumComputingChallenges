{
 "cells": [
  {
   "cell_type": "markdown",
   "metadata": {},
   "source": [
    "# IBM Quantum Challenge 2021 \n",
    "## Lukas Burgholzer (lukas.burgholzer@jku.at)\n",
    "### Johannes Kepler University Linz"
   ]
  },
  {
   "cell_type": "markdown",
   "metadata": {},
   "source": [
    "Problem Statement"
   ]
  },
  {
   "cell_type": "code",
   "execution_count": 1,
   "metadata": {},
   "outputs": [],
   "source": [
    "from qiskit_nature.drivers import PySCFDriver\n",
    "\n",
    "molecule = 'Li 0.0 0.0 0.0; H 0.0 0.0 1.5474'\n",
    "driver = PySCFDriver(atom=molecule)\n",
    "qmolecule = driver.run()"
   ]
  },
  {
   "cell_type": "markdown",
   "metadata": {},
   "source": [
    "Python imports"
   ]
  },
  {
   "cell_type": "code",
   "execution_count": 2,
   "metadata": {},
   "outputs": [],
   "source": [
    "from qiskit.circuit import Parameter, ParameterVector, QuantumCircuit, QuantumRegister\n",
    "from qiskit.circuit.library import TwoLocal, EfficientSU2\n",
    "from qiskit_nature.circuit.library import UCCSD, PUCCD, SUCCD\n",
    "from qiskit_nature.problems.second_quantization.electronic import ElectronicStructureProblem\n",
    "from qiskit_nature.mappers.second_quantization import ParityMapper, BravyiKitaevMapper, JordanWignerMapper\n",
    "from qiskit_nature.converters.second_quantization.qubit_converter import QubitConverter\n",
    "from qiskit.algorithms.optimizers import COBYLA, L_BFGS_B, SPSA, SLSQP, ADAM, AQGD\n",
    "from qiskit.algorithms import VQE\n",
    "from qiskit_nature.circuit.library import HartreeFock\n",
    "from qiskit_nature.transformers import FreezeCoreTransformer, ActiveSpaceTransformer\n",
    "from qiskit.opflow import Z2Symmetries\n",
    "from qiskit import Aer\n",
    "from IPython.display import display, clear_output"
   ]
  },
  {
   "cell_type": "markdown",
   "metadata": {},
   "source": [
    "Callback function for VQE"
   ]
  },
  {
   "cell_type": "code",
   "execution_count": 3,
   "metadata": {},
   "outputs": [],
   "source": [
    "def callback(eval_count, parameters, mean, std):  \n",
    "    # Overwrites the same line when printing\n",
    "    display(\"Evaluation: {}, Energy: {}, Std: {}\".format(eval_count, mean, std))\n",
    "    clear_output(wait=True)\n",
    "    counts.append(eval_count)\n",
    "    values.append(mean)\n",
    "    params.append(parameters)\n",
    "    deviation.append(std)"
   ]
  },
  {
   "cell_type": "markdown",
   "metadata": {},
   "source": [
    "The core of the molecule is frozen to reduce the number of qubits and orbitals 3 and 4 are removed as they do not contribute much to the resulting ground state energy. \n",
    "\n",
    "Identifying the orbitals that can savely be removed while retaining the desired ground energy up to the required precision was a key factor here. If the formulation of the problem is not capable of providing the required accuracy even the best ansatz cannot safe the day. In order for a frozen core solution to reach the desired accuracy it has to allow a groundstate energy that is smaller than ~1.08578."
   ]
  },
  {
   "cell_type": "code",
   "execution_count": 4,
   "metadata": {},
   "outputs": [],
   "source": [
    "# specify problem and freeze transformation\n",
    "problem = ElectronicStructureProblem(driver, q_molecule_transformers=[FreezeCoreTransformer(remove_orbitals=[3,4])])\n",
    "\n",
    "# Generate the second-quantized operators\n",
    "second_q_ops = problem.second_q_ops()\n",
    "\n",
    "# Hamiltonian\n",
    "main_op = second_q_ops[0]"
   ]
  },
  {
   "cell_type": "markdown",
   "metadata": {},
   "source": [
    "Parity mapping in combination with two-qubit reduction is chosen for the converter in order to further reduce the number of qubits to consider. By additionally figuring out how symmetry reduction works, additional redundancies can be exploited."
   ]
  },
  {
   "cell_type": "code",
   "execution_count": 5,
   "metadata": {},
   "outputs": [],
   "source": [
    "# Setup the mapper and qubit converter\n",
    "converter = QubitConverter(mapper=ParityMapper(), two_qubit_reduction=True, z2symmetry_reduction='auto')"
   ]
  },
  {
   "cell_type": "markdown",
   "metadata": {},
   "source": [
    "In case the core is frozen, orbitals 3 and 4 are frozen, and parity mapping with two-qubit reduction is chosen, there is one symmetry that can be exploited to reduce the problem size. During experimenting with all the different options it was always most important to ensure that the right sector was chosen here, since only one sector allows to obtain the desired ground energy.\n",
    "\n",
    "With all the optimizations a 4 qubit problem results eventually. I was not successful in reducing the number of qubits further without losing the required precision for actually attaining the groundstate. Although there are some combinations yielding a two-qubit system that comes pretty damn close to the actual target value (within 0.005). I figured that if an exact solver tells me I cannot reach the desired accuracy, it is not worth trying with VQE anyway."
   ]
  },
  {
   "cell_type": "code",
   "execution_count": 6,
   "metadata": {},
   "outputs": [],
   "source": [
    "# The fermionic operators are mapped to qubit operators\n",
    "num_particles = (problem.molecule_data_transformed.num_alpha,\n",
    "             problem.molecule_data_transformed.num_beta)\n",
    "num_spin_orbitals = 2 * problem.molecule_data_transformed.num_molecular_orbitals\n",
    "\n",
    "z2_sector = [1]\n",
    "def finder(z2_symmetries: Z2Symmetries):\n",
    "    return z2_sector if not z2_symmetries.is_empty() else None\n",
    "qubit_op = converter.convert(main_op, num_particles=num_particles, sector_locator=finder)"
   ]
  },
  {
   "cell_type": "markdown",
   "metadata": {},
   "source": [
    "As requested by the problem statement, the corresponding Hartree-Fock state is used as an initial state."
   ]
  },
  {
   "cell_type": "code",
   "execution_count": 7,
   "metadata": {},
   "outputs": [],
   "source": [
    "init_state = HartreeFock(num_spin_orbitals, num_particles, converter)"
   ]
  },
  {
   "cell_type": "markdown",
   "metadata": {},
   "source": [
    "The ansatz is certainly where the most work went into. First it started out with a TwoLocal ansatz using linear entanglement and 5 layers. I soon figured out that Y-Rotations are the way to go with respect to the parameterized gates. At that point, my system still consisted of 6 qubits. With enough layers this worked out perfectly. \n",
    "\n",
    "Then I started trying to reduce the layers until the optimal solution could no longer be found. This led to a reduction to 3 layers. In parallel, I tried reducing the number of qubits further which would eventually allow me to reduce the number of CNOTs in the Ansatz. Once I got the problem formulation down to 4 qubits, I started writing out the TwoLocal Ansatz per-hand.\n",
    "\n",
    "With a lot of trial and error, I figured out that many of the CNOTs were not actually needed. At the end it came down to the 3 CNOT ansatz you see below. It is just enough that all 4 qubits can be entangled. Removing any of the remaining CNOTs leads to sub-optimal results."
   ]
  },
  {
   "cell_type": "code",
   "execution_count": 8,
   "metadata": {},
   "outputs": [],
   "source": [
    "n = qubit_op.num_qubits\n",
    "qc = QuantumCircuit(n)\n",
    "params = ParameterVector('a', 10)\n",
    "qc.ry(params[0], 0)\n",
    "qc.ry(params[1], 1)\n",
    "\n",
    "qc.cx(0, 1)\n",
    "\n",
    "qc.ry(params[2], 0)\n",
    "qc.ry(params[3], 1)\n",
    "qc.ry(params[4], 2)\n",
    "\n",
    "qc.cx(0, 2)\n",
    "\n",
    "qc.ry(params[5], 0)\n",
    "qc.ry(params[6], 2)\n",
    "qc.ry(params[7], 3)\n",
    "\n",
    "qc.cx(2, 3)\n",
    "\n",
    "qc.ry(params[8], 2)\n",
    "qc.ry(params[9], 3)\n",
    "\n",
    "ansatz = qc\n",
    "ansatz.compose(init_state, front=True, inplace=True)"
   ]
  },
  {
   "cell_type": "markdown",
   "metadata": {},
   "source": [
    "Initial parameter state as requested by the problem formulation."
   ]
  },
  {
   "cell_type": "code",
   "execution_count": 9,
   "metadata": {},
   "outputs": [],
   "source": [
    "try:\n",
    "    initial_point = [0.01] * len(ansatz.ordered_parameters)\n",
    "except:\n",
    "    initial_point = [0.01] * ansatz.num_parameters"
   ]
  },
  {
   "cell_type": "markdown",
   "metadata": {},
   "source": [
    "The actual call to the VQE algorithm is rather unspectacular. Over time I figured out that the SLSQP algorithm converged the fastest for my specific configuration, so I stuck with it. Since the problem only consists of 4 qubits and 10 parameters the optimizer converges pretty quickly."
   ]
  },
  {
   "cell_type": "code",
   "execution_count": 10,
   "metadata": {},
   "outputs": [
    {
     "name": "stdout",
     "output_type": "stream",
     "text": [
      "-1.088637182001766\n"
     ]
    }
   ],
   "source": [
    "counts = []\n",
    "values = []\n",
    "params = []\n",
    "deviation = []\n",
    "algorithm = VQE(ansatz,\n",
    "                optimizer=SLSQP(maxiter=1000),\n",
    "                quantum_instance=Aer.get_backend('statevector_simulator'),\n",
    "                callback=callback,\n",
    "                initial_point=initial_point)\n",
    "\n",
    "result = algorithm.compute_minimum_eigenvalue(qubit_op)\n",
    "\n",
    "print(result.eigenvalue)"
   ]
  },
  {
   "cell_type": "code",
   "execution_count": 11,
   "metadata": {},
   "outputs": [
    {
     "name": "stderr",
     "output_type": "stream",
     "text": [
      "/Users/burgholzer/ibm-quantum-challenge-2021/venv/lib/python3.9/site-packages/urllib3/connection.py:379: SystemTimeWarning: System time is way off (before 2020-07-01). This will probably lead to SSL verification errors\n",
      "  warnings.warn(\n",
      "/Users/burgholzer/ibm-quantum-challenge-2021/venv/lib/python3.9/site-packages/urllib3/connection.py:379: SystemTimeWarning: System time is way off (before 2020-07-01). This will probably lead to SSL verification errors\n",
      "  warnings.warn(\n"
     ]
    },
    {
     "name": "stdout",
     "output_type": "stream",
     "text": [
      "Grading your answer for ex5. Please wait...\n"
     ]
    },
    {
     "name": "stderr",
     "output_type": "stream",
     "text": [
      "/Users/burgholzer/ibm-quantum-challenge-2021/venv/lib/python3.9/site-packages/urllib3/connection.py:379: SystemTimeWarning: System time is way off (before 2020-07-01). This will probably lead to SSL verification errors\n",
      "  warnings.warn(\n"
     ]
    },
    {
     "name": "stdout",
     "output_type": "stream",
     "text": [
      "\n",
      "Congratulations 🎉! Your answer is correct.\n",
      "Your cost is 3.\n",
      "Feel free to submit your answer.\r\n",
      "\n"
     ]
    }
   ],
   "source": [
    "# Check your answer using following code\n",
    "from qc_grader import grade_ex5\n",
    "freeze_core = True # change to True if you freezed core electrons\n",
    "# freeze_core = False # change to True if you freezed core electrons\n",
    "grade_ex5(ansatz,qubit_op,result,freeze_core)"
   ]
  },
  {
   "cell_type": "code",
   "execution_count": null,
   "metadata": {},
   "outputs": [],
   "source": [
    "# Submit your answer. You can re-submit at any time.\n",
    "from qc_grader import submit_ex5\n",
    "submit_ex5(ansatz,qubit_op,result,freeze_core)"
   ]
  },
  {
   "cell_type": "markdown",
   "metadata": {},
   "source": [
    "Compute exact result"
   ]
  },
  {
   "cell_type": "code",
   "execution_count": 13,
   "metadata": {},
   "outputs": [
    {
     "name": "stdout",
     "output_type": "stream",
     "text": [
      "Exact electronic energy -1.0897823963487432\n"
     ]
    }
   ],
   "source": [
    "from qiskit_nature.algorithms.ground_state_solvers.minimum_eigensolver_factories import NumPyMinimumEigensolverFactory\n",
    "from qiskit_nature.algorithms.ground_state_solvers import GroundStateEigensolver\n",
    "import numpy as np \n",
    "\n",
    "def exact_diagonalizer(problem, converter):\n",
    "    solver = NumPyMinimumEigensolverFactory()\n",
    "    calc = GroundStateEigensolver(converter, solver)\n",
    "    result = calc.solve(problem)\n",
    "    return result\n",
    "\n",
    "# specify problem and freeze transformation\n",
    "exact_problem = ElectronicStructureProblem(driver, q_molecule_transformers=[FreezeCoreTransformer()])\n",
    "\n",
    "# Setup the mapper and qubit converter\n",
    "exact_converter = QubitConverter(mapper=ParityMapper(), two_qubit_reduction=True)\n",
    "\n",
    "result_exact = exact_diagonalizer(exact_problem, exact_converter)\n",
    "exact_energy = np.real(result_exact.eigenenergies[0])\n",
    "print(\"Exact electronic energy\", exact_energy)"
   ]
  },
  {
   "cell_type": "markdown",
   "metadata": {},
   "source": [
    "Compute chemical accuracy"
   ]
  },
  {
   "cell_type": "code",
   "execution_count": 14,
   "metadata": {},
   "outputs": [
    {
     "name": "stdout",
     "output_type": "stream",
     "text": [
      "Chemical accuracy 0.0011452143469772302\n"
     ]
    }
   ],
   "source": [
    "chemical_accuracy = np.abs(result.eigenvalue - exact_energy)\n",
    "print(\"Chemical accuracy\", chemical_accuracy)"
   ]
  },
  {
   "cell_type": "code",
   "execution_count": null,
   "metadata": {},
   "outputs": [],
   "source": []
  }
 ],
 "metadata": {
  "kernelspec": {
   "display_name": "Python 3",
   "language": "python",
   "name": "python3"
  },
  "language_info": {
   "codemirror_mode": {
    "name": "ipython",
    "version": 3
   },
   "file_extension": ".py",
   "mimetype": "text/x-python",
   "name": "python",
   "nbconvert_exporter": "python",
   "pygments_lexer": "ipython3",
   "version": "3.7.6"
  }
 },
 "nbformat": 4,
 "nbformat_minor": 5
}
