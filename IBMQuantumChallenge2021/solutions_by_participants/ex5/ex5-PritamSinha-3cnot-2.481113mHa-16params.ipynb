{
 "cells": [
  {
   "cell_type": "markdown",
   "metadata": {},
   "source": [
    "# Exercise 5 - Variational Quantum Eigensolver"
   ]
  },
  {
   "cell_type": "markdown",
   "metadata": {},
   "source": [
    "### VQE for Lithium Hydride (LiH) Molecule"
   ]
  },
  {
   "cell_type": "markdown",
   "metadata": {},
   "source": [
    "#### -------------------------------------------------------------------------------------------------------------------"
   ]
  },
  {
   "cell_type": "markdown",
   "metadata": {},
   "source": [
    "### Importing Necessary Libraries"
   ]
  },
  {
   "cell_type": "code",
   "execution_count": 17,
   "metadata": {},
   "outputs": [],
   "source": [
    "from qiskit_nature.drivers import PySCFDriver\n",
    "from qiskit_nature.transformers import FreezeCoreTransformer, ActiveSpaceTransformer\n",
    "from qiskit_nature.problems.second_quantization.electronic import ElectronicStructureProblem\n",
    "from qiskit_nature.mappers.second_quantization import ParityMapper, BravyiKitaevMapper, JordanWignerMapper\n",
    "from qiskit_nature.converters.second_quantization.qubit_converter import QubitConverter\n",
    "from qiskit_nature.circuit.library import HartreeFock\n",
    "from qiskit.circuit.library import TwoLocal\n",
    "from qiskit_nature.circuit.library import UCCSD, PUCCD, SUCCD\n",
    "from qiskit.algorithms.optimizers import COBYLA, L_BFGS_B, SPSA, SLSQP\n",
    "from qiskit_nature.algorithms.ground_state_solvers.minimum_eigensolver_factories import NumPyMinimumEigensolverFactory\n",
    "from qiskit_nature.algorithms.ground_state_solvers import GroundStateEigensolver\n",
    "import numpy as np \n",
    "from qiskit.algorithms import VQE\n",
    "from IPython.display import display, clear_output\n",
    "from qiskit.transpiler import PassManager\n",
    "from qiskit.transpiler.passes import Unroller\n",
    "from qc_grader import grade_ex5"
   ]
  },
  {
   "cell_type": "markdown",
   "metadata": {},
   "source": [
    "#### --------------------------------------------------------------------------------------------------------------------"
   ]
  },
  {
   "cell_type": "markdown",
   "metadata": {},
   "source": [
    "### 1. Driver\n",
    "\n",
    "The interfaces to the classical chemistry codes that are available in Qiskit are called drivers. There are multiple drivers available: `PSI4Driver`, `PyQuanteDriver`, `PySCFDriver`.\n",
    "\n",
    "We will be running `PySCFDriver`on the molecule to obtain a `QMolecule` data class which will contain the driver result."
   ]
  },
  {
   "cell_type": "code",
   "execution_count": 18,
   "metadata": {},
   "outputs": [],
   "source": [
    "# This representation is the interatomic distance in 3D space\n",
    "molecule = \"Li 0.0 0.0 0.0; H 0.0 0.0 1.5474\"\n",
    "\n",
    "driver = PySCFDriver(atom=molecule)\n",
    "qmolecule = driver.run()"
   ]
  },
  {
   "cell_type": "markdown",
   "metadata": {},
   "source": [
    "Results"
   ]
  },
  {
   "cell_type": "code",
   "execution_count": 19,
   "metadata": {},
   "outputs": [
    {
     "name": "stdout",
     "output_type": "stream",
     "text": [
      "No. of Electrons: 4\n",
      "No. of Molecular Orbitals: 6\n",
      "No. of Spin Orbitals: 12\n",
      "No. of Qubits Needed: 12\n",
      "Nuclear Repulsion Energy: 1.0259348796432726\n"
     ]
    }
   ],
   "source": [
    "print(\"No. of Electrons: {}\".format(qmolecule.num_alpha + qmolecule.num_beta))\n",
    "print(\"No. of Molecular Orbitals: {}\".format(qmolecule.num_molecular_orbitals))\n",
    "print(\"No. of Spin Orbitals: {}\".format(2 * qmolecule.num_molecular_orbitals))\n",
    "print(\"No. of Qubits Needed: {}\".format(2 * qmolecule.num_molecular_orbitals))\n",
    "print(\"Nuclear Repulsion Energy: {}\".format(qmolecule.nuclear_repulsion_energy))"
   ]
  },
  {
   "cell_type": "code",
   "execution_count": 20,
   "metadata": {},
   "outputs": [
    {
     "name": "stdout",
     "output_type": "stream",
     "text": [
      "['BOHR', 'DEBYE', 'QMOLECULE_VERSION', 'Z', '__class__', '__delattr__', '__dict__', '__dir__', '__doc__', '__eq__', '__format__', '__ge__', '__getattribute__', '__gt__', '__hash__', '__init__', '__init_subclass__', '__le__', '__lt__', '__module__', '__ne__', '__new__', '__reduce__', '__reduce_ex__', '__repr__', '__setattr__', '__sizeof__', '__str__', '__subclasshook__', '__weakref__', '_filename', 'atom_symbol', 'atom_xyz', 'core_orbitals', 'energy_shift', 'eri', 'filename', 'has_dipole_integrals', 'hcore', 'hcore_b', 'hf_energy', 'kinetic', 'load', 'log', 'mo_coeff', 'mo_coeff_b', 'mo_eri_ints', 'mo_eri_ints_ba', 'mo_eri_ints_bb', 'mo_occ', 'mo_occ_b', 'mo_onee_ints', 'mo_onee_ints_b', 'molecular_charge', 'multiplicity', 'nuclear_dipole_moment', 'nuclear_repulsion_energy', 'num_alpha', 'num_atoms', 'num_beta', 'num_molecular_orbitals', 'one_body_integrals', 'onee_to_spin', 'oneeints2mo', 'orbital_energies', 'orbital_energies_b', 'origin_driver_config', 'origin_driver_name', 'origin_driver_version', 'overlap', 'remove_file', 'reverse_dipole_sign', 'save', 'symbols', 'two_body_integrals', 'twoe_to_spin', 'twoeints2mo', 'twoeints2mo_general', 'x_dip_energy_shift', 'x_dip_ints', 'x_dip_mo_ints', 'x_dip_mo_ints_b', 'x_dipole_integrals', 'y_dip_energy_shift', 'y_dip_ints', 'y_dip_mo_ints', 'y_dip_mo_ints_b', 'y_dipole_integrals', 'z_dip_energy_shift', 'z_dip_ints', 'z_dip_mo_ints', 'z_dip_mo_ints_b', 'z_dipole_integrals']\n"
     ]
    }
   ],
   "source": [
    "# To see all the available attributes of qmolecule\n",
    "print(dir(qmolecule)) "
   ]
  },
  {
   "cell_type": "code",
   "execution_count": 21,
   "metadata": {
    "scrolled": true
   },
   "outputs": [
    {
     "name": "stdout",
     "output_type": "stream",
     "text": [
      "[[-4.73853724  0.10753914  0.1675853   0.          0.         -0.03026284\n",
      "   0.          0.          0.          0.          0.          0.        ]\n",
      " [ 0.10753914 -1.51317577  0.03434669  0.          0.         -0.06802917\n",
      "   0.          0.          0.          0.          0.          0.        ]\n",
      " [ 0.1675853   0.03434669 -1.12916229  0.          0.          0.03143223\n",
      "   0.          0.          0.          0.          0.          0.        ]\n",
      " [ 0.          0.          0.         -1.14077094  0.          0.\n",
      "   0.          0.          0.          0.          0.          0.        ]\n",
      " [ 0.          0.          0.          0.         -1.14077094  0.\n",
      "   0.          0.          0.          0.          0.          0.        ]\n",
      " [-0.03026284 -0.06802917  0.03143223  0.          0.         -0.9418187\n",
      "   0.          0.          0.          0.          0.          0.        ]\n",
      " [ 0.          0.          0.          0.          0.          0.\n",
      "  -4.73853724  0.10753914  0.1675853   0.          0.         -0.03026284]\n",
      " [ 0.          0.          0.          0.          0.          0.\n",
      "   0.10753914 -1.51317577  0.03434669  0.          0.         -0.06802917]\n",
      " [ 0.          0.          0.          0.          0.          0.\n",
      "   0.1675853   0.03434669 -1.12916229  0.          0.          0.03143223]\n",
      " [ 0.          0.          0.          0.          0.          0.\n",
      "   0.          0.          0.         -1.14077094  0.          0.        ]\n",
      " [ 0.          0.          0.          0.          0.          0.\n",
      "   0.          0.          0.          0.         -1.14077094  0.        ]\n",
      " [ 0.          0.          0.          0.          0.          0.\n",
      "  -0.03026284 -0.06802917  0.03143223  0.          0.         -0.9418187 ]]\n"
     ]
    }
   ],
   "source": [
    "# To see the one body integrals\n",
    "print(qmolecule.one_body_integrals) "
   ]
  },
  {
   "cell_type": "markdown",
   "metadata": {},
   "source": [
    "#### --------------------------------------------------------------------------------------------------------------------"
   ]
  },
  {
   "cell_type": "markdown",
   "metadata": {},
   "source": [
    "### 2. Electronic structure problem\n",
    "You can then create an `ElectronicStructureProblem` that can produce the list of fermionic operators before mapping them to qubits (Pauli strings).\n",
    "\n",
    "We will reduces the `QMolecule` by removing some molecular orbitals which don't contribute much using `FreezeCoreTransformer`"
   ]
  },
  {
   "cell_type": "code",
   "execution_count": 22,
   "metadata": {},
   "outputs": [],
   "source": [
    "# We will using one body integrals to determine which orbitals to remove.\n",
    "fct = FreezeCoreTransformer(freeze_core=True, remove_orbitals=[3,4])"
   ]
  },
  {
   "cell_type": "code",
   "execution_count": 23,
   "metadata": {},
   "outputs": [],
   "source": [
    "# ElectronicStructureProblem() will transform the qmolecule according to given transformers\n",
    "problem = ElectronicStructureProblem(driver, q_molecule_transformers=[fct])\n",
    "\n",
    "# Generate the second-quantized operators\n",
    "second_q_ops = problem.second_q_ops()\n",
    "\n",
    "# Hamiltonian\n",
    "main_op = second_q_ops[0]"
   ]
  },
  {
   "cell_type": "markdown",
   "metadata": {},
   "source": [
    "### 3. QubitConverter\n",
    "\n",
    "Allows to define the mapping that you will use in the simulation. There are different mapping available but we will be using `ParityMapper` as we will be doing `two_qubit_reduction` and `z2symmetry` to reduce the no. of qubits as low as possible."
   ]
  },
  {
   "cell_type": "code",
   "execution_count": 24,
   "metadata": {},
   "outputs": [],
   "source": [
    "# Setup the mapper and qubit converter\n",
    "mapper_type = 'ParityMapper'\n",
    "\n",
    "if mapper_type == 'ParityMapper':\n",
    "    mapper = ParityMapper()\n",
    "elif mapper_type == 'JordanWignerMapper':\n",
    "    mapper = JordanWignerMapper()\n",
    "elif mapper_type == 'BravyiKitaevMapper':\n",
    "    mapper = BravyiKitaevMapper()\n",
    "\n",
    "converter = QubitConverter(mapper=mapper, two_qubit_reduction=True, z2symmetry_reduction=[-1,1])\n",
    "\n",
    "# The fermionic operators are mapped to qubit operators\n",
    "num_particles = (problem.molecule_data_transformed.num_alpha,\n",
    "             problem.molecule_data_transformed.num_beta)\n",
    "qubit_op = converter.convert(main_op, num_particles=num_particles)"
   ]
  },
  {
   "cell_type": "markdown",
   "metadata": {},
   "source": [
    "Results"
   ]
  },
  {
   "cell_type": "code",
   "execution_count": 25,
   "metadata": {},
   "outputs": [
    {
     "name": "stdout",
     "output_type": "stream",
     "text": [
      "Z2 symmetries:\n",
      "Symmetries:\n",
      "IIIZII\n",
      "ZIIIII\n",
      "Single-Qubit Pauli X:\n",
      "IIIXII\n",
      "XIIIII\n",
      "Cliffords:\n",
      "0.7071067811865475 * IIIZII\n",
      "+ 0.7071067811865475 * IIIXII\n",
      "0.7071067811865475 * ZIIIII\n",
      "+ 0.7071067811865475 * XIIIII\n",
      "Qubit index:\n",
      "[2, 5]\n",
      "Tapering values:\n",
      "[-1, 1]\n"
     ]
    }
   ],
   "source": [
    "print(qubit_op.z2_symmetries)"
   ]
  },
  {
   "cell_type": "markdown",
   "metadata": {},
   "source": [
    "#### --------------------------------------------------------------------------------------------------------------------"
   ]
  },
  {
   "cell_type": "markdown",
   "metadata": {},
   "source": [
    "### 4. Initial state\n",
    "\n",
    "By running a `HartreeFock` calculation for a given basis set and molecular geometry, we obtain all the necessary information about our molecule to apply then a quantum algorithm."
   ]
  },
  {
   "cell_type": "code",
   "execution_count": 26,
   "metadata": {},
   "outputs": [],
   "source": [
    "num_particles = (problem.molecule_data_transformed.num_alpha,\n",
    "             problem.molecule_data_transformed.num_beta)\n",
    "num_spin_orbitals = 2 * problem.molecule_data_transformed.num_molecular_orbitals\n",
    "init_state = HartreeFock(num_spin_orbitals, num_particles, converter)"
   ]
  },
  {
   "cell_type": "markdown",
   "metadata": {},
   "source": [
    "Results"
   ]
  },
  {
   "cell_type": "code",
   "execution_count": 27,
   "metadata": {},
   "outputs": [
    {
     "name": "stdout",
     "output_type": "stream",
     "text": [
      "     ┌───┐\n",
      "q_0: ┤ X ├\n",
      "     ├───┤\n",
      "q_1: ┤ X ├\n",
      "     └───┘\n",
      "q_2: ─────\n",
      "          \n",
      "q_3: ─────\n",
      "          \n"
     ]
    }
   ],
   "source": [
    "print(init_state)"
   ]
  },
  {
   "cell_type": "markdown",
   "metadata": {},
   "source": [
    "#### --------------------------------------------------------------------------------------------------------------------"
   ]
  },
  {
   "cell_type": "markdown",
   "metadata": {},
   "source": [
    "### 5. Ansatz\n",
    "\n",
    "One of the most important choices is the quantum circuit that you choose to approximate your ground state."
   ]
  },
  {
   "cell_type": "code",
   "execution_count": 28,
   "metadata": {},
   "outputs": [],
   "source": [
    "# Choose the ansatz\n",
    "ansatz_type = \"TwoLocal\"\n",
    "\n",
    "# Parameters for q-UCC antatze\n",
    "num_particles = (problem.molecule_data_transformed.num_alpha,\n",
    "             problem.molecule_data_transformed.num_beta)\n",
    "num_spin_orbitals = 2 * problem.molecule_data_transformed.num_molecular_orbitals\n",
    "\n",
    "# Put arguments for twolocal\n",
    "if ansatz_type == \"TwoLocal\":\n",
    "    # Single qubit rotations that are placed on all qubits with independent parameters\n",
    "    rotation_blocks = ['ry', 'rz']\n",
    "    # Entangling gates\n",
    "    entanglement_blocks = 'cx'\n",
    "    # How the qubits are entangled \n",
    "    entanglement = 'linear'\n",
    "    # Repetitions of rotation_blocks + entanglement_blocks with independent parameters\n",
    "    repetitions = 1\n",
    "    # Skip the final rotation_blocks layer\n",
    "    skip_final_rotation_layer = False\n",
    "    ansatz = TwoLocal(qubit_op.num_qubits, rotation_blocks, entanglement_blocks, reps=repetitions, \n",
    "                      entanglement=entanglement, skip_final_rotation_layer=skip_final_rotation_layer,\n",
    "                     skip_unentangled_qubits=False,insert_barriers=True)\n",
    "    # Add the initial state\n",
    "    ansatz.compose(init_state, front=True, inplace=True)\n",
    "elif ansatz_type == \"UCCSD\":\n",
    "    ansatz = UCCSD(converter,num_particles,num_spin_orbitals,initial_state = init_state,reps=1)\n",
    "elif ansatz_type == \"PUCCD\":\n",
    "    ansatz = PUCCD(converter,num_particles,num_spin_orbitals,initial_state = init_state)\n",
    "elif ansatz_type == \"SUCCD\":\n",
    "    ansatz = SUCCD(converter,num_particles,num_spin_orbitals,initial_state = init_state)\n",
    "elif ansatz_type == \"Custom\":\n",
    "    # Example of how to write your own circuit\n",
    "    from qiskit.circuit import Parameter, QuantumCircuit, QuantumRegister\n",
    "    # Define the variational parameter\n",
    "    theta = Parameter('a')\n",
    "    n = qubit_op.num_qubits\n",
    "    # Make an empty quantum circuit\n",
    "    qc = QuantumCircuit(qubit_op.num_qubits)\n",
    "    qubit_label = 0\n",
    "    # Place a Hadamard gate\n",
    "    qc.h(qubit_label)\n",
    "    # Place a CNOT ladder\n",
    "    for i in range(n-1):\n",
    "        qc.cx(i, i+1)\n",
    "    # Visual separator\n",
    "    qc.barrier()\n",
    "    # rz rotations on all qubits\n",
    "    qc.rz(theta, range(n))\n",
    "    ansatz = qc\n",
    "    ansatz.compose(init_state, front=True, inplace=True)"
   ]
  },
  {
   "cell_type": "markdown",
   "metadata": {},
   "source": [
    "Results"
   ]
  },
  {
   "cell_type": "code",
   "execution_count": 29,
   "metadata": {},
   "outputs": [
    {
     "name": "stdout",
     "output_type": "stream",
     "text": [
      "        ┌───┐    ┌──────────┐┌──────────┐ ░                 ░  ┌──────────┐»\n",
      "q_0: ───┤ X ├────┤ RY(θ[0]) ├┤ RZ(θ[4]) ├─░───■─────────────░──┤ RY(θ[8]) ├»\n",
      "        ├───┤    ├──────────┤├──────────┤ ░ ┌─┴─┐           ░  ├──────────┤»\n",
      "q_1: ───┤ X ├────┤ RY(θ[1]) ├┤ RZ(θ[5]) ├─░─┤ X ├──■────────░──┤ RY(θ[9]) ├»\n",
      "     ┌──┴───┴───┐├──────────┤└──────────┘ ░ └───┘┌─┴─┐      ░ ┌┴──────────┤»\n",
      "q_2: ┤ RY(θ[2]) ├┤ RZ(θ[6]) ├─────────────░──────┤ X ├──■───░─┤ RY(θ[10]) ├»\n",
      "     ├──────────┤├──────────┤             ░      └───┘┌─┴─┐ ░ ├───────────┤»\n",
      "q_3: ┤ RY(θ[3]) ├┤ RZ(θ[7]) ├─────────────░───────────┤ X ├─░─┤ RY(θ[11]) ├»\n",
      "     └──────────┘└──────────┘             ░           └───┘ ░ └───────────┘»\n",
      "«     ┌───────────┐\n",
      "«q_0: ┤ RZ(θ[12]) ├\n",
      "«     ├───────────┤\n",
      "«q_1: ┤ RZ(θ[13]) ├\n",
      "«     ├───────────┤\n",
      "«q_2: ┤ RZ(θ[14]) ├\n",
      "«     ├───────────┤\n",
      "«q_3: ┤ RZ(θ[15]) ├\n",
      "«     └───────────┘\n"
     ]
    }
   ],
   "source": [
    "print(ansatz)"
   ]
  },
  {
   "cell_type": "markdown",
   "metadata": {},
   "source": [
    "#### --------------------------------------------------------------------------------------------------------------------"
   ]
  },
  {
   "cell_type": "markdown",
   "metadata": {},
   "source": [
    "### 6. Backend\n",
    "\n",
    "This is where you specify the simulator or device where you want to run your algorithm. We will focus on the `statevector_simulator` in this challenge."
   ]
  },
  {
   "cell_type": "code",
   "execution_count": 30,
   "metadata": {},
   "outputs": [],
   "source": [
    "backend = Aer.get_backend('statevector_simulator')"
   ]
  },
  {
   "cell_type": "markdown",
   "metadata": {},
   "source": [
    "#### --------------------------------------------------------------------------------------------------------------------"
   ]
  },
  {
   "cell_type": "markdown",
   "metadata": {},
   "source": [
    "### 7. Optimizer\n",
    "\n",
    "The optimizer guides the evolution of the parameters of the ansatz so it is very important to investigate the energy convergence as it would define the number of measurements that have to be performed on the QPU. A clever choice might reduce drastically the number of needed energy evaluations.  We will use the `COBYLA`"
   ]
  },
  {
   "cell_type": "code",
   "execution_count": 31,
   "metadata": {},
   "outputs": [],
   "source": [
    "# Optimizers\n",
    "optimizer_type = 'COBYLA'\n",
    "\n",
    "if optimizer_type == 'COBYLA':\n",
    "    optimizer = COBYLA(maxiter=1000,rhobeg=5.0)\n",
    "elif optimizer_type == 'L_BFGS_B':\n",
    "    optimizer = L_BFGS_B(maxfun=1000)\n",
    "elif optimizer_type == 'SPSA':\n",
    "    optimizer = SPSA(maxiter=1000)\n",
    "elif optimizer_type == 'SLSQP':\n",
    "    optimizer = SLSQP(maxiter=1000)"
   ]
  },
  {
   "cell_type": "markdown",
   "metadata": {},
   "source": [
    "#### --------------------------------------------------------------------------------------------------------------------"
   ]
  },
  {
   "cell_type": "markdown",
   "metadata": {},
   "source": [
    "### 8. Exact eigensolver\n",
    "\n",
    "For learning purposes, we can solve the problem exactly with the exact diagonalization of the Hamiltonian matrix so we know where to aim with VQE. Of course, the dimensions of this matrix scale exponentially in the number of molecular orbitals so you can try doing this for a large molecule of your choice and see how slow this becomes. For very large systems you would run out of memory trying to store their wavefunctions."
   ]
  },
  {
   "cell_type": "code",
   "execution_count": 32,
   "metadata": {},
   "outputs": [],
   "source": [
    "def exact_diagonalizer(problem, converter):\n",
    "    solver = NumPyMinimumEigensolverFactory()\n",
    "    calc = GroundStateEigensolver(converter, solver)\n",
    "    result = calc.solve(problem)\n",
    "    return result\n",
    "\n",
    "result_exact = exact_diagonalizer(problem, converter)\n",
    "exact_energy = np.real(result_exact.eigenenergies[0])"
   ]
  },
  {
   "cell_type": "markdown",
   "metadata": {},
   "source": [
    "Results"
   ]
  },
  {
   "cell_type": "code",
   "execution_count": 33,
   "metadata": {},
   "outputs": [
    {
     "name": "stdout",
     "output_type": "stream",
     "text": [
      "Exact electronic energy -1.0887060157347401\n"
     ]
    }
   ],
   "source": [
    "print(\"Exact electronic energy\", exact_energy)"
   ]
  },
  {
   "cell_type": "markdown",
   "metadata": {},
   "source": [
    "#### --------------------------------------------------------------------------------------------------------------------"
   ]
  },
  {
   "cell_type": "markdown",
   "metadata": {},
   "source": [
    "### 9. VQE and initial parameters for the ansatz\n",
    "\n",
    "Now we can import the VQE class and run the algorithm."
   ]
  },
  {
   "cell_type": "code",
   "execution_count": 34,
   "metadata": {},
   "outputs": [
    {
     "data": {
      "text/plain": [
       "'Evaluation: 1000, Energy: -1.0862248602929456, Std: 0.0'"
      ]
     },
     "metadata": {},
     "output_type": "display_data"
    }
   ],
   "source": [
    "# Print and save the data in lists\n",
    "def callback(eval_count, parameters, mean, std):  \n",
    "    # Overwrites the same line when printing\n",
    "    display(\"Evaluation: {}, Energy: {}, Std: {}\".format(eval_count, mean, std))\n",
    "    clear_output(wait=True)\n",
    "    counts.append(eval_count)\n",
    "    values.append(mean)\n",
    "    params.append(parameters)\n",
    "    deviation.append(std)\n",
    "\n",
    "counts = []\n",
    "values = []\n",
    "params = []\n",
    "deviation = []\n",
    "\n",
    "# Set initial parameters of the ansatz\n",
    "# We choose a fixed small displacement \n",
    "# So all participants start from similar starting point\n",
    "try:\n",
    "    initial_point = [0.01] * len(ansatz.ordered_parameters)\n",
    "except:\n",
    "    initial_point = [0.01] * ansatz.num_parameters\n",
    "\n",
    "algorithm = VQE(ansatz,\n",
    "                optimizer=optimizer,\n",
    "                quantum_instance=backend,\n",
    "                callback=callback,\n",
    "                initial_point=initial_point)\n",
    "\n",
    "result = algorithm.compute_minimum_eigenvalue(qubit_op)"
   ]
  },
  {
   "cell_type": "markdown",
   "metadata": {},
   "source": [
    "Results"
   ]
  },
  {
   "cell_type": "code",
   "execution_count": 35,
   "metadata": {},
   "outputs": [
    {
     "name": "stdout",
     "output_type": "stream",
     "text": [
      "{   'aux_operator_eigenvalues': None,\n",
      "    'cost_function_evals': 1000,\n",
      "    'eigenstate': array([ 9.41944182e-05+1.29249641e-03j,  2.94065280e-03-1.47125885e-03j,\n",
      "        8.49857538e-03+7.70674750e-03j,  2.29462982e-01-9.65029328e-01j,\n",
      "        7.94503590e-03-5.27258176e-02j,  5.82094492e-04-9.61448625e-05j,\n",
      "        2.19798827e-04+3.13762016e-04j,  9.43306506e-03-1.52777092e-02j,\n",
      "       -2.25007914e-04-2.12337512e-03j,  1.72257905e-05-1.02032669e-05j,\n",
      "        8.12705460e-06-4.93582908e-06j, -7.66639783e-04+2.02048146e-04j,\n",
      "       -2.72056965e-02+1.09563340e-01j, -1.11391902e-03+8.44198615e-05j,\n",
      "       -2.25661368e-04-2.80270849e-04j,  1.93476311e-03-6.47113926e-04j]),\n",
      "    'eigenvalue': -1.0862249029486517,\n",
      "    'optimal_parameters': {   ParameterVectorElement(θ[9]): 6.2765303705816455,\n",
      "                              ParameterVectorElement(θ[3]): 0.4417126004049145,\n",
      "                              ParameterVectorElement(θ[4]): 0.24368759508277743,\n",
      "                              ParameterVectorElement(θ[1]): 3.140936801103821,\n",
      "                              ParameterVectorElement(θ[0]): 6.03276985579649,\n",
      "                              ParameterVectorElement(θ[11]): -0.440891836575318,\n",
      "                              ParameterVectorElement(θ[10]): 0.03782427481800351,\n",
      "                              ParameterVectorElement(θ[7]): 0.0030150583128932974,\n",
      "                              ParameterVectorElement(θ[15]): 3.237030294177826,\n",
      "                              ParameterVectorElement(θ[14]): 6.632261099077054,\n",
      "                              ParameterVectorElement(θ[8]): 6.306301966196654,\n",
      "                              ParameterVectorElement(θ[5]): 5.22892392422933,\n",
      "                              ParameterVectorElement(θ[2]): 3.1461641969153518,\n",
      "                              ParameterVectorElement(θ[12]): 1.0642709130133545,\n",
      "                              ParameterVectorElement(θ[13]): 5.409459732633519,\n",
      "                              ParameterVectorElement(θ[6]): 5.708795944713976},\n",
      "    'optimal_point': array([ 6.03276986e+00,  3.78242748e-02, -4.40891837e-01,  1.06427091e+00,\n",
      "        5.40945973e+00,  6.63226110e+00,  3.23703029e+00,  3.14093680e+00,\n",
      "        3.14616420e+00,  4.41712600e-01,  2.43687595e-01,  5.22892392e+00,\n",
      "        5.70879594e+00,  3.01505831e-03,  6.30630197e+00,  6.27653037e+00]),\n",
      "    'optimal_value': -1.0862249029486517,\n",
      "    'optimizer_evals': 1000,\n",
      "    'optimizer_time': 10.00661587715149}\n"
     ]
    }
   ],
   "source": [
    "print(result)"
   ]
  },
  {
   "cell_type": "markdown",
   "metadata": {},
   "source": [
    "#### --------------------------------------------------------------------------------------------------------------------"
   ]
  },
  {
   "cell_type": "markdown",
   "metadata": {},
   "source": [
    "### 10. Scoring function\n",
    "\n",
    "We need to judge how good are your VQE simulations, your choice of ansatz/optimizer. For this, we implemented the following simple scoring function:\n",
    "\n",
    "$$ score = N_{CNOT}$$\n",
    "\n",
    "where $N_{CNOT}$ is the number of CNOTs. \n",
    "But you have to reach the chemical accuracy which is $\\delta E_{chem} = 0.004$ Ha $= 4$ mHa, which may be hard to reach depending on the problem. \n",
    "You have to reach the accuracy we set in a minimal number of CNOTs to win the challenge. \n",
    "The lower the score the better!"
   ]
  },
  {
   "cell_type": "code",
   "execution_count": 36,
   "metadata": {},
   "outputs": [
    {
     "data": {
      "text/html": [
       "<div>\n",
       "<style scoped>\n",
       "    .dataframe tbody tr th:only-of-type {\n",
       "        vertical-align: middle;\n",
       "    }\n",
       "\n",
       "    .dataframe tbody tr th {\n",
       "        vertical-align: top;\n",
       "    }\n",
       "\n",
       "    .dataframe thead th {\n",
       "        text-align: right;\n",
       "    }\n",
       "</style>\n",
       "<table border=\"1\" class=\"dataframe\">\n",
       "  <thead>\n",
       "    <tr style=\"text-align: right;\">\n",
       "      <th></th>\n",
       "      <th>optimizer</th>\n",
       "      <th>ansatz</th>\n",
       "      <th># of qubits</th>\n",
       "      <th># of parameters</th>\n",
       "      <th>rotation blocks</th>\n",
       "      <th>entanglement_blocks</th>\n",
       "      <th>entanglement</th>\n",
       "      <th>repetitions</th>\n",
       "      <th>error (mHa)</th>\n",
       "      <th>pass</th>\n",
       "      <th>score</th>\n",
       "    </tr>\n",
       "  </thead>\n",
       "  <tbody>\n",
       "    <tr>\n",
       "      <th>0</th>\n",
       "      <td>COBYLA</td>\n",
       "      <td>TwoLocal</td>\n",
       "      <td>12</td>\n",
       "      <td>72</td>\n",
       "      <td>['ry', 'rz']</td>\n",
       "      <td>cx</td>\n",
       "      <td>full</td>\n",
       "      <td>3.0</td>\n",
       "      <td>-6537.273430</td>\n",
       "      <td>True</td>\n",
       "      <td>198</td>\n",
       "    </tr>\n",
       "    <tr>\n",
       "      <th>1</th>\n",
       "      <td>COBYLA</td>\n",
       "      <td>TwoLocal</td>\n",
       "      <td>12</td>\n",
       "      <td>72</td>\n",
       "      <td>['ry', 'rz']</td>\n",
       "      <td>cx</td>\n",
       "      <td>full</td>\n",
       "      <td>3.0</td>\n",
       "      <td>518.060068</td>\n",
       "      <td>False</td>\n",
       "      <td>198</td>\n",
       "    </tr>\n",
       "    <tr>\n",
       "      <th>2</th>\n",
       "      <td>COBYLA</td>\n",
       "      <td>TwoLocal</td>\n",
       "      <td>12</td>\n",
       "      <td>72</td>\n",
       "      <td>['ry', 'rz']</td>\n",
       "      <td>cx</td>\n",
       "      <td>full</td>\n",
       "      <td>3.0</td>\n",
       "      <td>503.313980</td>\n",
       "      <td>False</td>\n",
       "      <td>198</td>\n",
       "    </tr>\n",
       "    <tr>\n",
       "      <th>3</th>\n",
       "      <td>COBYLA</td>\n",
       "      <td>TwoLocal</td>\n",
       "      <td>12</td>\n",
       "      <td>72</td>\n",
       "      <td>['ry', 'rz']</td>\n",
       "      <td>cx</td>\n",
       "      <td>full</td>\n",
       "      <td>3.0</td>\n",
       "      <td>503.313980</td>\n",
       "      <td>False</td>\n",
       "      <td>198</td>\n",
       "    </tr>\n",
       "    <tr>\n",
       "      <th>4</th>\n",
       "      <td>COBYLA</td>\n",
       "      <td>TwoLocal</td>\n",
       "      <td>10</td>\n",
       "      <td>60</td>\n",
       "      <td>['ry', 'rz']</td>\n",
       "      <td>cx</td>\n",
       "      <td>full</td>\n",
       "      <td>3.0</td>\n",
       "      <td>348.702061</td>\n",
       "      <td>False</td>\n",
       "      <td>135</td>\n",
       "    </tr>\n",
       "    <tr>\n",
       "      <th>...</th>\n",
       "      <td>...</td>\n",
       "      <td>...</td>\n",
       "      <td>...</td>\n",
       "      <td>...</td>\n",
       "      <td>...</td>\n",
       "      <td>...</td>\n",
       "      <td>...</td>\n",
       "      <td>...</td>\n",
       "      <td>...</td>\n",
       "      <td>...</td>\n",
       "      <td>...</td>\n",
       "    </tr>\n",
       "    <tr>\n",
       "      <th>185</th>\n",
       "      <td>COBYLA</td>\n",
       "      <td>TwoLocal</td>\n",
       "      <td>4</td>\n",
       "      <td>16</td>\n",
       "      <td>['ry', 'rz']</td>\n",
       "      <td>cx</td>\n",
       "      <td>linear</td>\n",
       "      <td>1.0</td>\n",
       "      <td>18.347551</td>\n",
       "      <td>False</td>\n",
       "      <td>3</td>\n",
       "    </tr>\n",
       "    <tr>\n",
       "      <th>186</th>\n",
       "      <td>COBYLA</td>\n",
       "      <td>TwoLocal</td>\n",
       "      <td>4</td>\n",
       "      <td>16</td>\n",
       "      <td>['ry', 'rz']</td>\n",
       "      <td>cx</td>\n",
       "      <td>linear</td>\n",
       "      <td>1.0</td>\n",
       "      <td>18.347551</td>\n",
       "      <td>False</td>\n",
       "      <td>3</td>\n",
       "    </tr>\n",
       "    <tr>\n",
       "      <th>187</th>\n",
       "      <td>COBYLA</td>\n",
       "      <td>TwoLocal</td>\n",
       "      <td>6</td>\n",
       "      <td>24</td>\n",
       "      <td>['ry', 'rz']</td>\n",
       "      <td>cx</td>\n",
       "      <td>linear</td>\n",
       "      <td>1.0</td>\n",
       "      <td>12.112448</td>\n",
       "      <td>False</td>\n",
       "      <td>5</td>\n",
       "    </tr>\n",
       "    <tr>\n",
       "      <th>188</th>\n",
       "      <td>COBYLA</td>\n",
       "      <td>TwoLocal</td>\n",
       "      <td>4</td>\n",
       "      <td>16</td>\n",
       "      <td>['ry', 'rz']</td>\n",
       "      <td>cx</td>\n",
       "      <td>linear</td>\n",
       "      <td>1.0</td>\n",
       "      <td>2.480476</td>\n",
       "      <td>True</td>\n",
       "      <td>3</td>\n",
       "    </tr>\n",
       "    <tr>\n",
       "      <th>0</th>\n",
       "      <td>COBYLA</td>\n",
       "      <td>TwoLocal</td>\n",
       "      <td>4</td>\n",
       "      <td>16</td>\n",
       "      <td>[ry, rz]</td>\n",
       "      <td>cx</td>\n",
       "      <td>linear</td>\n",
       "      <td>1.0</td>\n",
       "      <td>2.481113</td>\n",
       "      <td>True</td>\n",
       "      <td>3</td>\n",
       "    </tr>\n",
       "  </tbody>\n",
       "</table>\n",
       "<p>190 rows × 11 columns</p>\n",
       "</div>"
      ],
      "text/plain": [
       "    optimizer    ansatz  # of qubits  # of parameters rotation blocks  \\\n",
       "0      COBYLA  TwoLocal           12               72    ['ry', 'rz']   \n",
       "1      COBYLA  TwoLocal           12               72    ['ry', 'rz']   \n",
       "2      COBYLA  TwoLocal           12               72    ['ry', 'rz']   \n",
       "3      COBYLA  TwoLocal           12               72    ['ry', 'rz']   \n",
       "4      COBYLA  TwoLocal           10               60    ['ry', 'rz']   \n",
       "..        ...       ...          ...              ...             ...   \n",
       "185    COBYLA  TwoLocal            4               16    ['ry', 'rz']   \n",
       "186    COBYLA  TwoLocal            4               16    ['ry', 'rz']   \n",
       "187    COBYLA  TwoLocal            6               24    ['ry', 'rz']   \n",
       "188    COBYLA  TwoLocal            4               16    ['ry', 'rz']   \n",
       "0      COBYLA  TwoLocal            4               16        [ry, rz]   \n",
       "\n",
       "    entanglement_blocks entanglement  repetitions  error (mHa)   pass  score  \n",
       "0                    cx         full          3.0 -6537.273430   True    198  \n",
       "1                    cx         full          3.0   518.060068  False    198  \n",
       "2                    cx         full          3.0   503.313980  False    198  \n",
       "3                    cx         full          3.0   503.313980  False    198  \n",
       "4                    cx         full          3.0   348.702061  False    135  \n",
       "..                  ...          ...          ...          ...    ...    ...  \n",
       "185                  cx       linear          1.0    18.347551  False      3  \n",
       "186                  cx       linear          1.0    18.347551  False      3  \n",
       "187                  cx       linear          1.0    12.112448  False      5  \n",
       "188                  cx       linear          1.0     2.480476   True      3  \n",
       "0                    cx       linear          1.0     2.481113   True      3  \n",
       "\n",
       "[190 rows x 11 columns]"
      ]
     },
     "execution_count": 36,
     "metadata": {},
     "output_type": "execute_result"
    },
    {
     "data": {
      "image/png": "[encoded data removed]",
      "text/plain": [
       "<Figure size 432x288 with 1 Axes>"
      ]
     },
     "metadata": {
      "needs_background": "light"
     },
     "output_type": "display_data"
    }
   ],
   "source": [
    "# Unroller transpile your circuit into CNOTs and U gates\n",
    "pass_ = Unroller(['u', 'cx'])\n",
    "pm = PassManager(pass_)\n",
    "ansatz_tp = pm.run(ansatz)\n",
    "cnots = ansatz_tp.count_ops()['cx']\n",
    "score = cnots\n",
    "\n",
    "accuracy_threshold = 4.0 # in mHa\n",
    "energy = result.optimal_value\n",
    "\n",
    "if ansatz_type == \"TwoLocal\":\n",
    "    result_dict = {\n",
    "        'optimizer': optimizer.__class__.__name__,\n",
    "        'mapping': converter.mapper.__class__.__name__,\n",
    "        'ansatz': ansatz.__class__.__name__,\n",
    "        'rotation blocks': rotation_blocks,\n",
    "        'entanglement_blocks': entanglement_blocks,\n",
    "        'entanglement': entanglement,\n",
    "        'repetitions': repetitions,\n",
    "        'skip_final_rotation_layer': skip_final_rotation_layer,\n",
    "        'energy (Ha)': energy,\n",
    "        'error (mHa)': (energy-exact_energy)*1000,\n",
    "        'pass': (energy-exact_energy)*1000 <= accuracy_threshold,\n",
    "        '# of parameters': len(result.optimal_point),\n",
    "        'final parameters': result.optimal_point,\n",
    "        '# of evaluations': result.optimizer_evals,\n",
    "        'optimizer time': result.optimizer_time,\n",
    "        '# of qubits': int(qubit_op.num_qubits),\n",
    "        '# of CNOTs': cnots,\n",
    "        'score': score}\n",
    "else:\n",
    "    result_dict = {\n",
    "        'optimizer': optimizer.__class__.__name__,\n",
    "        'mapping': converter.mapper.__class__.__name__,\n",
    "        'ansatz': ansatz.__class__.__name__,\n",
    "        'rotation blocks': None,\n",
    "        'entanglement_blocks': None,\n",
    "        'entanglement': None,\n",
    "        'repetitions': None,\n",
    "        'skip_final_rotation_layer': None,\n",
    "        'energy (Ha)': energy,\n",
    "        'error (mHa)': (energy-exact_energy)*1000,\n",
    "        'pass': (energy-exact_energy)*1000 <= accuracy_threshold,\n",
    "        '# of parameters': len(result.optimal_point),\n",
    "        'final parameters': result.optimal_point,\n",
    "        '# of evaluations': result.optimizer_evals,\n",
    "        'optimizer time': result.optimizer_time,\n",
    "        '# of qubits': int(qubit_op.num_qubits),\n",
    "        '# of CNOTs': cnots,\n",
    "        'score': score}\n",
    "\n",
    "# Plot the results\n",
    "import matplotlib.pyplot as plt\n",
    "\n",
    "fig, ax = plt.subplots(1, 1)\n",
    "ax.set_xlabel('Iterations')\n",
    "ax.set_ylabel('Energy')\n",
    "ax.grid()\n",
    "fig.text(0.7, 0.75, f'Energy: {result.optimal_value:.3f}\\nScore: {score:.0f}')\n",
    "plt.title(f\"{result_dict['optimizer']}-{result_dict['mapping']}\\n{result_dict['ansatz']}\")\n",
    "ax.plot(counts, values)\n",
    "ax.axhline(exact_energy, linestyle='--')\n",
    "fig_title = f\"\\\n",
    "{result_dict['optimizer']}-\\\n",
    "{result_dict['mapping']}-\\\n",
    "{result_dict['ansatz']}-\\\n",
    "Energy({result_dict['energy (Ha)']:.3f})-\\\n",
    "Score({result_dict['score']:.0f})\\\n",
    ".png\"\n",
    "fig.savefig(fig_title, dpi=300)\n",
    "\n",
    "# Display and save the data\n",
    "import pandas as pd\n",
    "import os.path\n",
    "filename = 'results_h2.csv'\n",
    "if os.path.isfile(filename):\n",
    "    result_df = pd.read_csv(filename)\n",
    "    result_df = result_df.append([result_dict])\n",
    "else:\n",
    "    result_df = pd.DataFrame.from_dict([result_dict])\n",
    "result_df.to_csv(filename)\n",
    "result_df[['optimizer','ansatz', '# of qubits', '# of parameters','rotation blocks', 'entanglement_blocks',\n",
    "    'entanglement', 'repetitions', 'error (mHa)', 'pass', 'score']]"
   ]
  },
  {
   "cell_type": "markdown",
   "metadata": {},
   "source": [
    "#### --------------------------------------------------------------------------------------------------------------------"
   ]
  },
  {
   "cell_type": "markdown",
   "metadata": {},
   "source": [
    "### 11. Grading"
   ]
  },
  {
   "cell_type": "code",
   "execution_count": 37,
   "metadata": {},
   "outputs": [
    {
     "name": "stdout",
     "output_type": "stream",
     "text": [
      "Grading your answer for ex5. Please wait...\n",
      "\n",
      "Congratulations 🎉! Your answer is correct.\n",
      "Your cost is 3.\n",
      "Feel free to submit your answer.\n",
      "\n"
     ]
    }
   ],
   "source": [
    "freeze_core = True\n",
    "grade_ex5(ansatz,qubit_op,result,freeze_core)"
   ]
  },
  {
   "cell_type": "markdown",
   "metadata": {},
   "source": [
    "#### --------------------------------------------------------------------------------------------------------------------"
   ]
  }
 ],
 "metadata": {
  "kernelspec": {
   "display_name": "Python 3",
   "language": "python",
   "name": "python3"
  },
  "language_info": {
   "codemirror_mode": {
    "name": "ipython",
    "version": 3
   },
   "file_extension": ".py",
   "mimetype": "text/x-python",
   "name": "python",
   "nbconvert_exporter": "python",
   "pygments_lexer": "ipython3",
   "version": "3.7.6"
  }
 },
 "nbformat": 4,
 "nbformat_minor": 5
}
