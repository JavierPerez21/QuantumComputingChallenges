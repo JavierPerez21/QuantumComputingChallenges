{
 "cells": [
  {
   "cell_type": "markdown",
   "metadata": {},
   "source": [
    "# Ex 5"
   ]
  },
  {
   "cell_type": "code",
   "execution_count": 6,
   "metadata": {},
   "outputs": [],
   "source": [
    "# %hidden_cell\n",
    "from qiskit_nature.drivers import PySCFDriver\n",
    "from qiskit_nature.problems.second_quantization.electronic import ElectronicStructureProblem\n",
    "from qiskit_nature.mappers.second_quantization import ParityMapper, BravyiKitaevMapper, JordanWignerMapper\n",
    "from qiskit_nature.converters.second_quantization.qubit_converter import QubitConverter\n",
    "from qiskit_nature.circuit.library import HartreeFock\n",
    "from qiskit.circuit.library import TwoLocal\n",
    "from qiskit_nature.circuit.library import UCCSD, PUCCD, SUCCD\n",
    "from qiskit.circuit import Parameter, QuantumCircuit, QuantumRegister\n",
    "from qiskit import Aer\n",
    "from qiskit.algorithms.optimizers import COBYLA, L_BFGS_B, SPSA, SLSQP\n",
    "from qiskit.algorithms.optimizers import COBYLA, L_BFGS_B, SPSA, SLSQP\n",
    "from qiskit_nature.algorithms.ground_state_solvers.minimum_eigensolver_factories import NumPyMinimumEigensolverFactory\n",
    "from qiskit_nature.algorithms.ground_state_solvers import GroundStateEigensolver\n",
    "import numpy as np\n",
    "from qiskit.algorithms import VQE\n",
    "from IPython.display import display, clear_output\n",
    "from qiskit.transpiler import PassManager\n",
    "from qiskit.transpiler.passes import Unroller\n",
    "import matplotlib.pyplot as plt\n",
    "import pandas as pd\n",
    "import os.path\n",
    "\n",
    "backend = Aer.get_backend('statevector_simulator')\n",
    "\n",
    "def exact_diagonalizer(problem, converter):\n",
    "    solver = NumPyMinimumEigensolverFactory()\n",
    "    calc = GroundStateEigensolver(converter, solver)\n",
    "    result = calc.solve(problem)\n",
    "    return result\n",
    "def CreateAnsatz(ansatz_type,num_particles,num_spin_orbitals):\n",
    "    # Put arguments for twolocal\n",
    "    if ansatz_type == \"TwoLocal\":\n",
    "        # Single qubit rotations that are placed on all qubits with independent parameters\n",
    "        rotation_blocks = ['ry', 'rz']\n",
    "        # Entangling gates\n",
    "        entanglement_blocks = 'cx'\n",
    "        # How the qubits are entangled \n",
    "        entanglement = 'full'\n",
    "        # Repetitions of rotation_blocks + entanglement_blocks with independent parameters\n",
    "        repetitions = mynumber\n",
    "        # Skip the final rotation_blocks layer\n",
    "        skip_final_rotation_layer = False\n",
    "        ansatz = TwoLocal(qubit_op.num_qubits, rotation_blocks, entanglement_blocks, reps=repetitions, \n",
    "                          entanglement=entanglement, skip_final_rotation_layer=skip_final_rotation_layer)\n",
    "        # Add the initial state\n",
    "        ansatz.compose(init_state, front=True, inplace=True)\n",
    "    elif ansatz_type == \"UCCSD\":\n",
    "        ansatz = UCCSD(converter,num_particles,num_spin_orbitals,initial_state = init_state)\n",
    "    elif ansatz_type == \"PUCCD\":\n",
    "        ansatz = PUCCD(converter,num_particles,num_spin_orbitals,initial_state = init_state)\n",
    "    elif ansatz_type == \"SUCCD\":\n",
    "        ansatz = SUCCD(converter,num_particles,num_spin_orbitals,initial_state = init_state)\n",
    "    elif ansatz_type == \"Custom\":\n",
    "        # Define the variational parameter\n",
    "        theta = Parameter('a')\n",
    "        n = qubit_op.num_qubits\n",
    "        # Make an empty quantum circuit\n",
    "        qc = QuantumCircuit(qubit_op.num_qubits)\n",
    "        qubit_label = 0\n",
    "        # Place a Hadamard gate\n",
    "        qc.h(qubit_label)\n",
    "        # Place a CNOT ladder\n",
    "        for i in range(n-1):\n",
    "            qc.cx(i, i+1)\n",
    "        # Visual separator\n",
    "        qc.barrier()\n",
    "        # rz rotations on all qubits\n",
    "        qc.rz(theta, range(n))\n",
    "        ansatz = qc\n",
    "        ansatz.compose(init_state, front=True, inplace=True)\n",
    "    return ansatz\n",
    "counts = []\n",
    "values = []\n",
    "params = []\n",
    "deviation = []\n",
    "def callback(eval_count, parameters, mean, std):  \n",
    "    # Overwrites the same line when printing\n",
    "    display(\"Evaluation: {}, Energy: {}, Std: {}\".format(eval_count, mean, std))\n",
    "    clear_output(wait=True)\n",
    "    counts.append(eval_count)\n",
    "    values.append(mean)\n",
    "    params.append(parameters)\n",
    "    deviation.append(std)\n",
    "    \n",
    "def Scoring(result):\n",
    "    pass_ = Unroller(['u', 'cx'])\n",
    "    pm = PassManager(pass_)\n",
    "    ansatz_tp = pm.run(ansatz)\n",
    "    cnots = ansatz_tp.count_ops()['cx']\n",
    "    score = cnots\n",
    "    accuracy_threshold = 4.0 # in mHa\n",
    "    energy = result.optimal_value\n",
    "\n",
    "    skip_final_rotation_layer = True\n",
    "    result_dict = {\n",
    "        'optimizer': optimizer.__class__.__name__,\n",
    "        'mapping': converter.mapper.__class__.__name__,\n",
    "        'ansatz': ansatz.__class__.__name__,\n",
    "        'energy (Ha)': energy,\n",
    "        'error (mHa)': (energy-exact_energy)*1000,\n",
    "        'pass': (energy-exact_energy)*1000 <= accuracy_threshold,\n",
    "        '# of parameters': len(result.optimal_point),\n",
    "        'final parameters': result.optimal_point,\n",
    "        '# of evaluations': result.optimizer_evals,\n",
    "        'optimizer time': result.optimizer_time,\n",
    "        '# of qubits': int(qubit_op.num_qubits),\n",
    "        '# of CNOTs': cnots,\n",
    "        'score': score}\n",
    "    \n",
    "    fig, ax = plt.subplots(1, 1)\n",
    "    ax.set_xlabel('Iterations')\n",
    "    ax.set_ylabel('Energy')\n",
    "    ax.grid()\n",
    "    fig.text(0.7, 0.75, f'Energy: {result.optimal_value:.3f}\\nScore: {score:.0f}')\n",
    "    plt.title(f\"{result_dict['optimizer']}-{result_dict['mapping']}\\n{result_dict['ansatz']}\")\n",
    "    ax.plot(counts, values)\n",
    "    ax.axhline(exact_energy, linestyle='--')\n",
    "    fig_title = f\"\\\n",
    "    {result_dict['optimizer']}-\\\n",
    "    {result_dict['mapping']}-\\\n",
    "    {result_dict['ansatz']}-\\\n",
    "    Energy({result_dict['energy (Ha)']:.3f})-\\\n",
    "    Score({result_dict['score']:.0f})\\\n",
    "    .png\"\n",
    "    fig.savefig(fig_title, dpi=300)\n",
    "        \n",
    "    result_df = pd.DataFrame.from_dict([result_dict])\n",
    "    return result_df"
   ]
  },
  {
   "cell_type": "code",
   "execution_count": 7,
   "metadata": {},
   "outputs": [
    {
     "name": "stdout",
     "output_type": "stream",
     "text": [
      "Exact electronic energy -1.0887060157347412\n",
      "Number of cnot =  3\n"
     ]
    },
    {
     "data": {
      "image/png": "[encoded data removed]",
      "text/plain": [
       "<Figure size 929.397x264.88 with 1 Axes>"
      ]
     },
     "execution_count": 7,
     "metadata": {},
     "output_type": "execute_result"
    }
   ],
   "source": [
    "# Running SCF\n",
    "molecule = 'Li 0.0 0.0 0.0; H 0.0 0.0 1.5474'\n",
    "driver = PySCFDriver(atom=molecule)\n",
    "# CoreFreezing\n",
    "from qiskit_nature.transformers import FreezeCoreTransformer\n",
    "Transformer = FreezeCoreTransformer(freeze_core=True,remove_orbitals=[3,4]) #remove_orbitals=[3,4,5]\n",
    "# Second quantization\n",
    "problem = ElectronicStructureProblem(driver,q_molecule_transformers=[Transformer])\n",
    "second_q_ops = problem.second_q_ops()\n",
    "main_op = second_q_ops[0]\n",
    "num_particles = (problem.molecule_data_transformed.num_alpha,\n",
    "             problem.molecule_data_transformed.num_beta)\n",
    "num_spin_orbitals = 2 * problem.molecule_data_transformed.num_molecular_orbitals\n",
    "# Qubit mapping\n",
    "mapper = ParityMapper() #JordanWignerMapper\n",
    "converter = QubitConverter(mapper=mapper, two_qubit_reduction=True, z2symmetry_reduction = None) #z2symmetry_reduction =[-1,1]\n",
    "qubit_op = converter.convert(main_op, num_particles=num_particles)\n",
    "# Initial state\n",
    "num_spin_orbitals = 2 * problem.molecule_data_transformed.num_molecular_orbitals\n",
    "init_state = HartreeFock(num_spin_orbitals, num_particles, converter)\n",
    "# init_state.x(0)\n",
    "# Ansatz\n",
    "ansatz = TwoLocal(qubit_op.num_qubits, ['h','ry','rz','x','z'],\n",
    "                  entanglement_blocks=['cx'], \n",
    "                  reps=1,\n",
    "                  entanglement=['linear'],\n",
    "                  skip_final_rotation_layer=False)\n",
    "ansatz.compose(init_state, front=True, inplace=True)\n",
    "# Exact diagonalization\n",
    "result_exact = exact_diagonalizer(problem, converter)\n",
    "exact_energy = np.real(result_exact.eigenenergies[0])\n",
    "###############################\n",
    "print(\"Exact electronic energy\", exact_energy)\n",
    "print('Number of cnot = ',ansatz.count_ops()['cx'])\n",
    "ansatz.draw()"
   ]
  },
  {
   "cell_type": "code",
   "execution_count": 8,
   "metadata": {},
   "outputs": [
    {
     "data": {
      "image/png": "[encoded data removed]",
      "text/plain": [
       "<Figure size 432x288 with 1 Axes>"
      ]
     },
     "metadata": {
      "needs_background": "light"
     },
     "output_type": "display_data"
    }
   ],
   "source": [
    "# VQE\n",
    "try:\n",
    "    initial_point = [0.01] * len(ansatz.ordered_parameters)\n",
    "except:\n",
    "    initial_point = [0.01] * ansatz.num_parameters\n",
    "optimizer = SLSQP(maxiter = 2000)\n",
    "algorithm = VQE(ansatz,\n",
    "                optimizer=optimizer,\n",
    "                quantum_instance=backend,\n",
    "                callback=callback,\n",
    "                initial_point=initial_point)\n",
    "result = algorithm.compute_minimum_eigenvalue(qubit_op)\n",
    "result_df = Scoring(result)"
   ]
  },
  {
   "cell_type": "code",
   "execution_count": 9,
   "metadata": {},
   "outputs": [
    {
     "name": "stdout",
     "output_type": "stream",
     "text": [
      "  optimizer    ansatz  # of qubits  # of parameters  error (mHa)  pass  score\n",
      "0     SLSQP  TwoLocal            4               16     2.372179  True      3\n"
     ]
    }
   ],
   "source": [
    "print(result_df[['optimizer','ansatz', '# of qubits', '# of parameters', 'error (mHa)', 'pass', 'score']])"
   ]
  },
  {
   "cell_type": "code",
   "execution_count": 10,
   "metadata": {},
   "outputs": [
    {
     "name": "stdout",
     "output_type": "stream",
     "text": [
      "Grading your answer for ex5. Please wait...\n",
      "\n",
      "Congratulations 🎉! Your answer is correct.\n",
      "Your cost is 3.\n",
      "Feel free to submit your answer.\n",
      "\n"
     ]
    }
   ],
   "source": [
    "# Check your answer using following code\n",
    "from qc_grader import grade_ex5\n",
    "freeze_core = True # change to True if you freezed core electrons\n",
    "grade_ex5(ansatz,qubit_op,result,freeze_core)"
   ]
  }
 ],
 "metadata": {
  "kernelspec": {
   "display_name": "Python 3",
   "language": "python",
   "name": "python3"
  },
  "language_info": {
   "codemirror_mode": {
    "name": "ipython",
    "version": 3
   },
   "file_extension": ".py",
   "mimetype": "text/x-python",
   "name": "python",
   "nbconvert_exporter": "python",
   "pygments_lexer": "ipython3",
   "version": "3.7.6"
  }
 },
 "nbformat": 4,
 "nbformat_minor": 5
}
