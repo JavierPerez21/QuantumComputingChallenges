{
 "cells": [
  {
   "cell_type": "code",
   "execution_count": 6,
   "metadata": {},
   "outputs": [],
   "source": [
    "from qiskit_nature.drivers import PySCFDriver\n",
    "from qiskit_nature.problems.second_quantization.electronic import ElectronicStructureProblem\n",
    "from qiskit_nature.mappers.second_quantization import ParityMapper, BravyiKitaevMapper, JordanWignerMapper\n",
    "from qiskit_nature.converters.second_quantization.qubit_converter import QubitConverter\n",
    "# from qiskit_nature.converters.second_quantization import QubitConverter\n",
    "from qiskit_nature.circuit.library import HartreeFock\n",
    "from qiskit.circuit.library import TwoLocal\n",
    "from qiskit import Aer,transpile, QuantumCircuit\n",
    "from qiskit.algorithms.optimizers import SLSQP\n",
    "from qiskit.algorithms import VQE\n",
    "from IPython.display import display, clear_output\n",
    "from qiskit_nature.algorithms.ground_state_solvers.minimum_eigensolver_factories import NumPyMinimumEigensolverFactory\n",
    "from qiskit_nature.algorithms.ground_state_solvers import GroundStateEigensolver\n",
    "import numpy as np \n",
    "from qiskit_nature.transformers import FreezeCoreTransformer  "
   ]
  },
  {
   "cell_type": "code",
   "execution_count": 7,
   "metadata": {},
   "outputs": [],
   "source": [
    "molecule = \"Li 0.0 0.0 0.0; H 0.0 0.0 1.5474\"\n",
    "driver = PySCFDriver(atom=molecule, basis=\"sto3g\")\n",
    "qmolecule = driver.run()"
   ]
  },
  {
   "cell_type": "code",
   "execution_count": 8,
   "metadata": {},
   "outputs": [
    {
     "data": {
      "text/html": [
       "<pre style=\"word-wrap: normal;white-space: pre;background: #fff0;line-height: 1.1;font-family: &quot;Courier New&quot;,Courier,monospace\">        ┌───┐    ┌──────────┐ ░ ┌───┐ ░ ┌──────────┐ ░       ░  ┌──────────┐ ░ »\n",
       "q_0: ───┤ X ├────┤ RY(θ[0]) ├─░─┤ X ├─░─┤ RY(θ[4]) ├─░───────░──┤ RY(θ[8]) ├─░─»\n",
       "        ├───┤    ├──────────┤ ░ └─┬─┘ ░ ├──────────┤ ░ ┌───┐ ░  ├──────────┤ ░ »\n",
       "q_1: ───┤ X ├────┤ RY(θ[1]) ├─░───┼───░─┤ RY(θ[5]) ├─░─┤ X ├─░──┤ RY(θ[9]) ├─░─»\n",
       "     ┌──┴───┴───┐└──────────┘ ░   │   ░ ├──────────┤ ░ └─┬─┘ ░ ┌┴──────────┤ ░ »\n",
       "q_2: ┤ RY(θ[2]) ├─────────────░───┼───░─┤ RY(θ[6]) ├─░───┼───░─┤ RY(θ[10]) ├─░─»\n",
       "     ├──────────┤             ░   │   ░ ├──────────┤ ░   │   ░ ├───────────┤ ░ »\n",
       "q_3: ┤ RY(θ[3]) ├─────────────░───■───░─┤ RY(θ[7]) ├─░───■───░─┤ RY(θ[11]) ├─░─»\n",
       "     └──────────┘             ░       ░ └──────────┘ ░       ░ └───────────┘ ░ »\n",
       "«          \n",
       "«q_0: ─────\n",
       "«          \n",
       "«q_1: ─────\n",
       "«     ┌───┐\n",
       "«q_2: ┤ X ├\n",
       "«     └─┬─┘\n",
       "«q_3: ──■──\n",
       "«          </pre>"
      ],
      "text/plain": [
       "        ┌───┐    ┌──────────┐ ░ ┌───┐ ░ ┌──────────┐ ░       ░  ┌──────────┐ ░ »\n",
       "q_0: ───┤ X ├────┤ RY(θ[0]) ├─░─┤ X ├─░─┤ RY(θ[4]) ├─░───────░──┤ RY(θ[8]) ├─░─»\n",
       "        ├───┤    ├──────────┤ ░ └─┬─┘ ░ ├──────────┤ ░ ┌───┐ ░  ├──────────┤ ░ »\n",
       "q_1: ───┤ X ├────┤ RY(θ[1]) ├─░───┼───░─┤ RY(θ[5]) ├─░─┤ X ├─░──┤ RY(θ[9]) ├─░─»\n",
       "     ┌──┴───┴───┐└──────────┘ ░   │   ░ ├──────────┤ ░ └─┬─┘ ░ ┌┴──────────┤ ░ »\n",
       "q_2: ┤ RY(θ[2]) ├─────────────░───┼───░─┤ RY(θ[6]) ├─░───┼───░─┤ RY(θ[10]) ├─░─»\n",
       "     ├──────────┤             ░   │   ░ ├──────────┤ ░   │   ░ ├───────────┤ ░ »\n",
       "q_3: ┤ RY(θ[3]) ├─────────────░───■───░─┤ RY(θ[7]) ├─░───■───░─┤ RY(θ[11]) ├─░─»\n",
       "     └──────────┘             ░       ░ └──────────┘ ░       ░ └───────────┘ ░ »\n",
       "«          \n",
       "«q_0: ─────\n",
       "«          \n",
       "«q_1: ─────\n",
       "«     ┌───┐\n",
       "«q_2: ┤ X ├\n",
       "«     └─┬─┘\n",
       "«q_3: ──■──\n",
       "«          "
      ]
     },
     "metadata": {},
     "output_type": "display_data"
    }
   ],
   "source": [
    "backend = Aer.get_backend('statevector_simulator')\n",
    "# Remove the orbitals which do not interact much \n",
    "# Refer to https://www.youtube.com/watch?v=3B04KB0pDwE for removing orbitals\n",
    "freeze_core_transformer = FreezeCoreTransformer(freeze_core=True,remove_orbitals=[3,4])\n",
    "problem = ElectronicStructureProblem(driver,q_molecule_transformers=[freeze_core_transformer]) \n",
    "second_q_ops = problem.second_q_ops()\n",
    "\n",
    "# Hamiltonian\n",
    "main_op = second_q_ops[0]\n",
    "num_particles = (problem.molecule_data_transformed.num_alpha,\n",
    "             problem.molecule_data_transformed.num_beta)\n",
    "num_spin_orbitals = 2 * problem.molecule_data_transformed.num_molecular_orbitals\n",
    "\n",
    "# Generate the second-quantized operators\n",
    "second_q_ops = problem.second_q_ops()\n",
    "\n",
    "# Hamiltonian\n",
    "main_op = second_q_ops[0]\n",
    "\n",
    "mapper = ParityMapper()\n",
    "# z2symmetry_reduction is not required as such as we have already reduced our ciruit to 4 qubits\n",
    "converter = QubitConverter(mapper=mapper, two_qubit_reduction=True,z2symmetry_reduction='auto')\n",
    "qubit_op = converter.convert(main_op, num_particles=num_particles,sector_locator=problem.symmetry_sector_locator)\n",
    "init_state = HartreeFock(num_spin_orbitals, num_particles, converter)\n",
    "\n",
    "# There is no exact science to Ansatz. So this is more of a trial and error with CNOTS. Use iterator across  entangler_map to get the best CNOTs\n",
    "rotation_blocks = ['ry']\n",
    "entanglement_blocks = 'cx'\n",
    "entangler_map = [[[3, 0]], [[3, 1]], [[3, 2]]]\n",
    "ansatz = TwoLocal(qubit_op.num_qubits,\n",
    "                  rotation_blocks,\n",
    "                  entanglement_blocks,\n",
    "                  reps=3, \n",
    "                  entanglement=entangler_map,\n",
    "                  skip_final_rotation_layer=True,\n",
    "                  skip_unentangled_qubits=True,\n",
    "                  insert_barriers=True)\n",
    "\n",
    "\n",
    "ansatz.compose(init_state, front=True, inplace=True)\n",
    "display(ansatz.draw('text'))\n",
    "\n",
    "initial_point = [0.01] * ansatz.num_parameters\n",
    "optimizer = SLSQP(maxiter=500)\n",
    "algorithm = VQE(ansatz,optimizer=optimizer,quantum_instance=backend,initial_point=initial_point)\n",
    "result = algorithm.compute_minimum_eigenvalue(qubit_op)"
   ]
  },
  {
   "cell_type": "code",
   "execution_count": 9,
   "metadata": {},
   "outputs": [
    {
     "name": "stdout",
     "output_type": "stream",
     "text": [
      "Energy -1.0863580501410701\n",
      "Exact energy -1.0887060157347417\n",
      "Error 2.3479655936715638\n",
      "Number of parameters 12\n"
     ]
    }
   ],
   "source": [
    "solver = NumPyMinimumEigensolverFactory()\n",
    "calc = GroundStateEigensolver(converter, solver)\n",
    "energy = result.optimal_value\n",
    "result_exact = calc.solve(problem)\n",
    "exact_energy = np.real(result_exact.eigenenergies[0])\n",
    "print(\"Energy\", energy)\n",
    "print(\"Exact energy\", exact_energy)\n",
    "print(\"Error\", (energy-exact_energy)*1000)\n",
    "# print(\"Delta\",(energy-exact_energy)*1000 - 4)\n",
    "# print(\"Pass\",(energy-exact_energy)*1000 <= 4)\n",
    "print(\"Number of parameters\",ansatz.num_parameters)"
   ]
  },
  {
   "cell_type": "code",
   "execution_count": 10,
   "metadata": {},
   "outputs": [
    {
     "name": "stdout",
     "output_type": "stream",
     "text": [
      "Grading your answer for ex5. Please wait...\n",
      "/Users/rj/.virtualenvs/qiskit/lib/python3.9/site-packages/urllib3/connection.py:379: SystemTimeWarning: System time is way off (before 2020-07-01). This will probably lead to SSL verification errors\n",
      "  warnings.warn(\n",
      "\n",
      "Congratulations 🎉! Your answer is correct.\n",
      "Your cost is 3.\n",
      "Feel free to submit your answer.\n",
      "\n"
     ]
    }
   ],
   "source": [
    "from qc_grader import grade_ex5\n",
    "freeze_core = True # change to True if you freezed core electrons\n",
    "grade_ex5(ansatz,qubit_op,result,freeze_core)"
   ]
  },
  {
   "cell_type": "code",
   "execution_count": null,
   "metadata": {},
   "outputs": [],
   "source": []
  }
 ],
 "metadata": {
  "kernelspec": {
   "display_name": "Python 3",
   "language": "python",
   "name": "python3"
  },
  "language_info": {
   "codemirror_mode": {
    "name": "ipython",
    "version": 3
   },
   "file_extension": ".py",
   "mimetype": "text/x-python",
   "name": "python",
   "nbconvert_exporter": "python",
   "pygments_lexer": "ipython3",
   "version": "3.7.6"
  }
 },
 "nbformat": 4,
 "nbformat_minor": 2
}
