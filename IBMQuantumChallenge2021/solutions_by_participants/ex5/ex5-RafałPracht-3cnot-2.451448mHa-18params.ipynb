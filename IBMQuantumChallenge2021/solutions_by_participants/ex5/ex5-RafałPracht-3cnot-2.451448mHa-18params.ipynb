{
 "cells": [
  {
   "cell_type": "markdown",
   "metadata": {},
   "source": [
    "#### 1. Driver\n",
    "\n",
    "The interfaces to the classical chemistry codes that are available in Qiskit are called drivers.\n",
    "We have for example `PSI4Driver`, `PyQuanteDriver`, `PySCFDriver` are available. \n",
    "\n",
    "By running a driver (Hartree-Fock calculation for a given basis set and molecular geometry), in the cell below, we obtain all the necessary information about our molecule to apply then a quantum algorithm.\n",
    "\n",
    "We use `PySCFDriver` here."
   ]
  },
  {
   "cell_type": "code",
   "execution_count": 1,
   "metadata": {},
   "outputs": [],
   "source": [
    "from qiskit_nature.drivers import PySCFDriver\n",
    "from qiskit_nature.transformers import FreezeCoreTransformer\n",
    "\n",
    "molecule = 'Li 0.0 0.0 0.0; H 0.0 0.0 1.5474'\n",
    "\n",
    "driver = PySCFDriver(atom=molecule)\n",
    "qmolecule = driver.run()"
   ]
  },
  {
   "cell_type": "markdown",
   "metadata": {},
   "source": [
    "After execute driver we can look into the attributes of `qmolecule`."
   ]
  },
  {
   "cell_type": "code",
   "execution_count": 2,
   "metadata": {},
   "outputs": [
    {
     "name": "stdout",
     "output_type": "stream",
     "text": [
      "The number of qubits need to simulate this molecule: 12\n"
     ]
    }
   ],
   "source": [
    "# the total number of electrons in system\n",
    "n_el = qmolecule.num_alpha + qmolecule.num_beta\n",
    "\n",
    "# the number of molecular orbitals\n",
    "n_mo = qmolecule.num_molecular_orbitals\n",
    "\n",
    "# the number of spin-orbitals\n",
    "n_so = 2 * qmolecule.num_molecular_orbitals\n",
    "\n",
    "# the number of qubits need to simulate this molecule with Jordan-Wigner mapping\n",
    "n_q = 2* qmolecule.num_molecular_orbitals\n",
    "print(\"The number of qubits need to simulate this molecule: %i\" % n_q)\n",
    "\n",
    "# the value of the nuclear repulsion energy\n",
    "e_nn = qmolecule.nuclear_repulsion_energy"
   ]
  },
  {
   "cell_type": "markdown",
   "metadata": {},
   "source": [
    "#### 2. Electronic structure problem\n",
    "\n",
    "Now, we can create an `ElectronicStructureProblem` that can produce the list of fermionic operators before mapping them to qubits (Pauli strings).\n",
    "\n",
    "Our main goal is reduce the number of qubits required to encode the problem.\n",
    "We can achieve this using `FreezeCoreTransformer` (https://qiskit.org/documentation/nature/stubs/qiskit_nature.transformers.FreezeCoreTransformer.html). It allow us to made inactive and remove the core_orbitals listed in the QMolecule. Additionally we can remove molecular orbitals unoccupied or with low contribution to whole energy.\n"
   ]
  },
  {
   "cell_type": "code",
   "execution_count": 3,
   "metadata": {},
   "outputs": [],
   "source": [
    "from qiskit_nature.transformers import ActiveSpaceTransformer\n",
    "from qiskit_nature.problems.second_quantization.electronic import ElectronicStructureProblem\n",
    "\n",
    "\n",
    "# This is important step, it reduce the number of qubits from 12 to 6.\n",
    "freezeCoreTransfomer = FreezeCoreTransformer(freeze_core=True, remove_orbitals=[3, 4])\n",
    "\n",
    "# Please, note usage of the freezeCoreTransfomer during encode problem.\n",
    "problem = ElectronicStructureProblem(driver, q_molecule_transformers=[freezeCoreTransfomer])\n",
    "\n",
    "# Generate the second-quantized operators\n",
    "second_q_ops = problem.second_q_ops()\n",
    "\n",
    "# Hamiltonian\n",
    "main_op = second_q_ops[0]"
   ]
  },
  {
   "cell_type": "markdown",
   "metadata": {},
   "source": [
    "#### 3. QubitConverter\n",
    "\n",
    "Allows to define the mapping that you will use in the simulation. I use `ParityMapper`\n",
    "because it allows us to reduce two more qubits."
   ]
  },
  {
   "cell_type": "code",
   "execution_count": 4,
   "metadata": {},
   "outputs": [],
   "source": [
    "from qiskit_nature.mappers.second_quantization import ParityMapper\n",
    "from qiskit_nature.converters.second_quantization.qubit_converter import QubitConverter\n",
    "\n",
    "# Setup the mapper and qubit converter\n",
    "mapper = ParityMapper()\n",
    "\n",
    "converter = QubitConverter(mapper=mapper,\n",
    "                           two_qubit_reduction=True\n",
    "                           # We can also use symmetry reduction, but it is not necessary\n",
    "                           # , z2symmetry_reduction=[1, 1]\n",
    "                          )\n",
    "\n",
    "# The fermionic operators are mapped to qubit operators\n",
    "num_particles = (problem.molecule_data_transformed.num_alpha,\n",
    "             problem.molecule_data_transformed.num_beta)\n",
    "qubit_op = converter.convert(main_op, num_particles=num_particles)"
   ]
  },
  {
   "cell_type": "markdown",
   "metadata": {},
   "source": [
    "#### 4. Initial state\n",
    "As we described in the Theory section, a good initial state in chemistry is the HF state."
   ]
  },
  {
   "cell_type": "code",
   "execution_count": 5,
   "metadata": {},
   "outputs": [
    {
     "name": "stdout",
     "output_type": "stream",
     "text": [
      "     ┌───┐\n",
      "q_0: ┤ X ├\n",
      "     ├───┤\n",
      "q_1: ┤ X ├\n",
      "     └───┘\n",
      "q_2: ─────\n",
      "          \n",
      "q_3: ─────\n",
      "          \n"
     ]
    }
   ],
   "source": [
    "from qiskit_nature.circuit.library import HartreeFock\n",
    "\n",
    "num_particles = (problem.molecule_data_transformed.num_alpha,\n",
    "             problem.molecule_data_transformed.num_beta)\n",
    "num_spin_orbitals = 2 * problem.molecule_data_transformed.num_molecular_orbitals\n",
    "init_state = HartreeFock(num_spin_orbitals, num_particles, converter)\n",
    "\n",
    "print(init_state)"
   ]
  },
  {
   "cell_type": "markdown",
   "metadata": {},
   "source": [
    "#### 5. Ansatz\n",
    "One of the most important choices is the quantum circuit that you choose to approximate your ground state.\n",
    "\n",
    "I use the ansatz with linear entanglement (so we use only 3 cnot gates), this is my custom ansatz but it is similar to SU2 from qiskit.circuit.library.EfficientSU2. "
   ]
  },
  {
   "cell_type": "code",
   "execution_count": 6,
   "metadata": {},
   "outputs": [],
   "source": [
    "from qiskit.circuit import Parameter, QuantumCircuit, QuantumRegister\n",
    "\n",
    "def create_ansatz(begin_gates, end_gates):\n",
    "    n = qubit_op.num_qubits\n",
    "    # Make an empty quantum circuit\n",
    "    qc = QuantumCircuit(qubit_op.num_qubits)\n",
    "\n",
    "    # init gates\n",
    "    for gate in begin_gates:\n",
    "        for i in range(n):\n",
    "            if gate == \"y\":\n",
    "                qc.ry(Parameter(\"lv0_ry_%i\" % i), i)\n",
    "            elif gate == \"z\":\n",
    "                qc.rz(Parameter(\"lv0_rz_%i\" % i), i)\n",
    "            else:\n",
    "                qc.rx(Parameter(\"lv0_rx_%i\" % i), i)\n",
    "    qc.barrier()\n",
    "\n",
    "\n",
    "    # Place a CNOT ladder\n",
    "    for i in range(n - 1):\n",
    "        qc.cx(i, i + 1)\n",
    "        qc.ry(Parameter(\"spc_ry_%i\" % (i + 1)), i + 1)\n",
    "        qc.rz(Parameter(\"spc_rz_%i\" % (i+1)), i + 1)\n",
    "    # Visual separator\n",
    "    qc.barrier()\n",
    "\n",
    "    # ends qubits\n",
    "    for gate in end_gates:\n",
    "        for i in range(n):\n",
    "            if gate == \"y\":\n",
    "                qc.ry(Parameter(\"lv1_ry_%i\" % i), i)\n",
    "            elif gate == \"z\":\n",
    "                qc.rz(Parameter(\"lv1_rz_%i\" % i), i)\n",
    "            else:\n",
    "                qc.rx(Parameter(\"lv1_rx_%i\" % i), i)\n",
    "        \n",
    "    ansatz = qc\n",
    "    return ansatz"
   ]
  },
  {
   "cell_type": "code",
   "execution_count": 7,
   "metadata": {},
   "outputs": [
    {
     "name": "stdout",
     "output_type": "stream",
     "text": [
      "          ┌───┐      ┌──────────────┐┌──────────────┐┌──────────────┐ ░      »\n",
      "q_0: ─────┤ X ├──────┤ RZ(lv0_rz_0) ├┤ RY(lv0_ry_0) ├┤ RX(lv0_rx_0) ├─░───■──»\n",
      "          ├───┤      ├──────────────┤├──────────────┤├──────────────┤ ░ ┌─┴─┐»\n",
      "q_1: ─────┤ X ├──────┤ RZ(lv0_rz_1) ├┤ RY(lv0_ry_1) ├┤ RX(lv0_rx_1) ├─░─┤ X ├»\n",
      "     ┌────┴───┴─────┐├──────────────┤├──────────────┤└──────────────┘ ░ └───┘»\n",
      "q_2: ┤ RZ(lv0_rz_2) ├┤ RY(lv0_ry_2) ├┤ RX(lv0_rx_2) ├─────────────────░──────»\n",
      "     ├──────────────┤├──────────────┤├──────────────┤                 ░      »\n",
      "q_3: ┤ RZ(lv0_rz_3) ├┤ RY(lv0_ry_3) ├┤ RX(lv0_rx_3) ├─────────────────░──────»\n",
      "     └──────────────┘└──────────────┘└──────────────┘                 ░      »\n",
      "«                                                                          »\n",
      "«q_0: ─────────────────────────────────────────────────────────────────────»\n",
      "«     ┌──────────────┐┌──────────────┐                                     »\n",
      "«q_1: ┤ RY(spc_ry_1) ├┤ RZ(spc_rz_1) ├──■──────────────────────────────────»\n",
      "«     └──────────────┘└──────────────┘┌─┴─┐┌──────────────┐┌──────────────┐»\n",
      "«q_2: ────────────────────────────────┤ X ├┤ RY(spc_ry_2) ├┤ RZ(spc_rz_2) ├»\n",
      "«                                     └───┘└──────────────┘└──────────────┘»\n",
      "«q_3: ─────────────────────────────────────────────────────────────────────»\n",
      "«                                                                          »\n",
      "«                                           ░ \n",
      "«q_0: ──────────────────────────────────────░─\n",
      "«                                           ░ \n",
      "«q_1: ──────────────────────────────────────░─\n",
      "«                                           ░ \n",
      "«q_2: ──■───────────────────────────────────░─\n",
      "«     ┌─┴─┐┌──────────────┐┌──────────────┐ ░ \n",
      "«q_3: ┤ X ├┤ RY(spc_ry_3) ├┤ RZ(spc_rz_3) ├─░─\n",
      "«     └───┘└──────────────┘└──────────────┘ ░ \n"
     ]
    }
   ],
   "source": [
    "ansatz = create_ansatz(['z', 'y', 'x'], [])\n",
    "ansatz.compose(init_state, front=True, inplace=True)\n",
    "\n",
    "print(ansatz)"
   ]
  },
  {
   "cell_type": "markdown",
   "metadata": {},
   "source": [
    "#### 6. Backend\n",
    "This is where you specify the simulator or device where you want to run your algorithm.\n",
    "We will focus on the `statevector_simulator` in this challenge."
   ]
  },
  {
   "cell_type": "code",
   "execution_count": 8,
   "metadata": {},
   "outputs": [],
   "source": [
    "from qiskit import Aer\n",
    "backend = Aer.get_backend('statevector_simulator')"
   ]
  },
  {
   "cell_type": "markdown",
   "metadata": {},
   "source": [
    "#### 7. Optimizer\n",
    "\n",
    "The optimizer guides the evolution of the parameters of the ansatz so it is very important to investigate the energy convergence as it would define the number of measurements that have to be performed on the QPU.\n",
    "\n",
    "I use `SLSQP` optimizer."
   ]
  },
  {
   "cell_type": "code",
   "execution_count": 9,
   "metadata": {},
   "outputs": [],
   "source": [
    "from qiskit.algorithms.optimizers import SLSQP\n",
    "\n",
    "optimizer = SLSQP(maxiter=5000)"
   ]
  },
  {
   "cell_type": "markdown",
   "metadata": {},
   "source": [
    "#### 8. Exact eigensolver"
   ]
  },
  {
   "cell_type": "code",
   "execution_count": 10,
   "metadata": {},
   "outputs": [
    {
     "name": "stdout",
     "output_type": "stream",
     "text": [
      "Exact electronic energy -1.0887060157347408\n",
      "=== GROUND STATE ENERGY ===\n",
      " \n",
      "* Electronic ground state energy (Hartree): -8.907396311316\n",
      "  - computed part:      -1.088706015735\n",
      "  - FreezeCoreTransformer extracted energy part: -7.818690295581\n",
      "~ Nuclear repulsion energy (Hartree): 1.025934879643\n",
      "> Total ground state energy (Hartree): -7.881461431673\n",
      " \n",
      "=== MEASURED OBSERVABLES ===\n",
      " \n",
      "  0:  # Particles: 2.000 S: 0.000 S^2: 0.000 M: 0.000\n",
      " \n",
      "=== DIPOLE MOMENTS ===\n",
      " \n",
      "~ Nuclear dipole moment (a.u.): [0.0  0.0  2.92416221]\n",
      " \n",
      "  0: \n",
      "  * Electronic dipole moment (a.u.): [0.0  0.0  4.76300889]\n",
      "    - computed part:      [0.0  0.0  4.76695575]\n",
      "    - FreezeCoreTransformer extracted energy part: [0.0  0.0  -0.00394686]\n",
      "  > Dipole moment (a.u.): [0.0  0.0  -1.83884668]  Total: 1.83884668\n",
      "                 (debye): [0.0  0.0  -4.67388163]  Total: 4.67388163\n",
      " \n"
     ]
    }
   ],
   "source": [
    "from qiskit_nature.algorithms.ground_state_solvers.minimum_eigensolver_factories import NumPyMinimumEigensolverFactory\n",
    "from qiskit_nature.algorithms.ground_state_solvers import GroundStateEigensolver\n",
    "import numpy as np \n",
    "\n",
    "def exact_diagonalizer(problem, converter):\n",
    "    solver = NumPyMinimumEigensolverFactory()\n",
    "    calc = GroundStateEigensolver(converter, solver)\n",
    "    result = calc.solve(problem)\n",
    "    return result\n",
    "\n",
    "result_exact = exact_diagonalizer(problem, converter)\n",
    "exact_energy = np.real(result_exact.eigenenergies[0])\n",
    "print(\"Exact electronic energy\", exact_energy)\n",
    "print(result_exact)\n"
   ]
  },
  {
   "cell_type": "markdown",
   "metadata": {},
   "source": [
    "#### 9. VQE and initial parameters for the ansatz\n",
    "Now we can import the VQE class and run the algorithm."
   ]
  },
  {
   "cell_type": "code",
   "execution_count": 11,
   "metadata": {},
   "outputs": [
    {
     "name": "stdout",
     "output_type": "stream",
     "text": [
      "{   'aux_operator_eigenvalues': None,\n",
      "    'cost_function_evals': 1029,\n",
      "    'eigenstate': array([ 2.74931657e-03+1.94109304e-04j, -2.52579776e-07-5.49359999e-07j,\n",
      "       -2.35323221e-02+2.04982869e-03j,  9.91515186e-01-2.88068869e-02j,\n",
      "        4.96268800e-02-7.92643415e-04j, -5.38573572e-06-9.46322295e-06j,\n",
      "       -2.30394172e-05+1.57135822e-06j,  9.69689724e-04-9.94468806e-06j,\n",
      "       -2.07631018e-08+2.43777146e-07j,  4.90853419e-11-2.17125527e-11j,\n",
      "       -1.51690839e-07-2.09134102e-06j,  1.28231378e-06+8.80429544e-05j,\n",
      "       -1.14107160e-01+3.52195527e-03j,  1.27103523e-05+2.15795946e-05j,\n",
      "        5.29333686e-05-4.40264901e-06j, -2.22979882e-03+5.60689811e-05j]),\n",
      "    'eigenvalue': -1.0862545676536888,\n",
      "    'optimal_parameters': {   Parameter(lv0_rz_3): 0.009999203640766901,\n",
      "                              Parameter(lv0_ry_0): 0.253718127739101,\n",
      "                              Parameter(lv0_ry_1): -0.18749529896669562,\n",
      "                              Parameter(lv0_ry_2): -0.024576780649408884,\n",
      "                              Parameter(lv0_ry_3): -6.693298869189324,\n",
      "                              Parameter(lv0_rx_0): -0.015048224655529421,\n",
      "                              Parameter(lv0_rx_1): 3.141545140217068,\n",
      "                              Parameter(lv0_rx_2): -3.1411285022445123,\n",
      "                              Parameter(lv0_rx_3): -0.00019350516349462245,\n",
      "                              Parameter(spc_ry_1): 0.18746607141000646,\n",
      "                              Parameter(spc_rz_1): -0.14702140339613956,\n",
      "                              Parameter(spc_ry_2): 0.019694859419982988,\n",
      "                              Parameter(spc_rz_2): -0.0757683549301677,\n",
      "                              Parameter(spc_ry_3): 6.693293620098704,\n",
      "                              Parameter(spc_rz_3): -0.015127498180335076,\n",
      "                              Parameter(lv0_rz_2): 0.009996577046559974,\n",
      "                              Parameter(lv0_rz_0): 0.010004414800066376,\n",
      "                              Parameter(lv0_rz_1): 0.010003827809490365},\n",
      "    'optimal_point': array([-1.50482247e-02,  3.14154514e+00, -3.14112850e+00, -1.93505163e-04,\n",
      "        2.53718128e-01, -1.87495299e-01, -2.45767806e-02, -6.69329887e+00,\n",
      "        1.00044148e-02,  1.00038278e-02,  9.99657705e-03,  9.99920364e-03,\n",
      "        1.87466071e-01,  1.96948594e-02,  6.69329362e+00, -1.47021403e-01,\n",
      "       -7.57683549e-02, -1.51274982e-02]),\n",
      "    'optimal_value': -1.0862545676536888,\n",
      "    'optimizer_evals': 1029,\n",
      "    'optimizer_time': 7.072404623031616}\n"
     ]
    }
   ],
   "source": [
    "from qiskit.algorithms import VQE\n",
    "from IPython.display import display, clear_output\n",
    "\n",
    "# Print and save the data in lists\n",
    "def callback(eval_count, parameters, mean, std):  \n",
    "    # Overwrites the same line when printing\n",
    "    display(\"Evaluation: {}, Energy: {}, Std: {}\".format(eval_count, mean, std))\n",
    "    clear_output(wait=True)\n",
    "    counts.append(eval_count)\n",
    "    values.append(mean)\n",
    "    params.append(parameters)\n",
    "    deviation.append(std)\n",
    "\n",
    "counts = []\n",
    "values = []\n",
    "params = []\n",
    "deviation = []\n",
    "\n",
    "# Set initial parameters of the ansatz\n",
    "# We choose a fixed small displacement \n",
    "# So all participants start from similar starting point\n",
    "try:\n",
    "    initial_point = [0.01] * len(ansatz.ordered_parameters)\n",
    "except:\n",
    "    initial_point = [0.01] * ansatz.num_parameters\n",
    "\n",
    "algorithm = VQE(ansatz,\n",
    "                optimizer=optimizer,\n",
    "                quantum_instance=backend,\n",
    "                callback=callback,\n",
    "                initial_point=initial_point)\n",
    "\n",
    "result = algorithm.compute_minimum_eigenvalue(qubit_op)\n",
    "\n",
    "print(result)"
   ]
  },
  {
   "cell_type": "markdown",
   "metadata": {},
   "source": [
    "#### 9. Scoring function "
   ]
  },
  {
   "cell_type": "code",
   "execution_count": 12,
   "metadata": {},
   "outputs": [
    {
     "data": {
      "image/png": "[encoded data removed]",
      "text/plain": [
       "<Figure size 432x288 with 1 Axes>"
      ]
     },
     "metadata": {
      "needs_background": "light"
     },
     "output_type": "display_data"
    }
   ],
   "source": [
    "# Store results in a dictionary\n",
    "from qiskit.transpiler import PassManager\n",
    "from qiskit.transpiler.passes import Unroller\n",
    "\n",
    "# Unroller transpile your circuit into CNOTs and U gates\n",
    "pass_ = Unroller(['u', 'cx'])\n",
    "pm = PassManager(pass_)\n",
    "ansatz_tp = pm.run(ansatz)\n",
    "cnots = ansatz_tp.count_ops()['cx']\n",
    "score = cnots\n",
    "\n",
    "accuracy_threshold = 4.0 # in mHa\n",
    "energy = result.optimal_value\n",
    "\n",
    "\n",
    "result_dict = {\n",
    "    'optimizer': optimizer.__class__.__name__,\n",
    "    'mapping': converter.mapper.__class__.__name__,\n",
    "    'ansatz': ansatz.__class__.__name__,\n",
    "    'rotation blocks': None,\n",
    "    'entanglement_blocks': None,\n",
    "    'entanglement': None,\n",
    "    'repetitions': None,\n",
    "    'skip_final_rotation_layer': None,\n",
    "    'energy (Ha)': energy,\n",
    "    'error (mHa)': (energy-exact_energy)*1000,\n",
    "    'pass': (energy-exact_energy)*1000 <= accuracy_threshold,\n",
    "    '# of parameters': len(result.optimal_point),\n",
    "    'final parameters': result.optimal_point,\n",
    "    '# of evaluations': result.optimizer_evals,\n",
    "    'optimizer time': result.optimizer_time,\n",
    "    '# of qubits': int(qubit_op.num_qubits),\n",
    "    '# of CNOTs': cnots,\n",
    "    'score': score}\n",
    "\n",
    "# Plot the results\n",
    "import matplotlib.pyplot as plt\n",
    "\n",
    "fig, ax = plt.subplots(1, 1)\n",
    "ax.set_xlabel('Iterations')\n",
    "ax.set_ylabel('Energy')\n",
    "ax.grid()\n",
    "fig.text(0.7, 0.75, f'Energy: {result.optimal_value:.3f}\\nScore: {score:.0f}')\n",
    "plt.title(f\"{result_dict['optimizer']}-{result_dict['mapping']}\\n{result_dict['ansatz']}\")\n",
    "ax.plot(counts, values)\n",
    "ax.axhline(exact_energy, linestyle='--')\n",
    "fig_title = f\"\\\n",
    "{result_dict['optimizer']}-\\\n",
    "{result_dict['mapping']}-\\\n",
    "{result_dict['ansatz']}-\\\n",
    "Energy({result_dict['energy (Ha)']:.3f})-\\\n",
    "Score({result_dict['score']:.0f})\\\n",
    ".png\"\n",
    "fig.savefig(fig_title, dpi=300)"
   ]
  },
  {
   "cell_type": "code",
   "execution_count": 13,
   "metadata": {},
   "outputs": [
    {
     "name": "stdout",
     "output_type": "stream",
     "text": [
      "Pass: True\n",
      "Score: 3\n",
      "Error: 2.451448081052021 mHa\n",
      "Number of parameters: 18\n"
     ]
    }
   ],
   "source": [
    "print('Pass:', result_dict['pass'])\n",
    "print('Score:', result_dict['score'])\n",
    "print('Error:', result_dict['error (mHa)'], 'mHa')\n",
    "print('Number of parameters:', result_dict['# of parameters'])"
   ]
  }
 ],
 "metadata": {
  "kernelspec": {
   "display_name": "Python 3",
   "language": "python",
   "name": "python3"
  },
  "language_info": {
   "codemirror_mode": {
    "name": "ipython",
    "version": 3
   },
   "file_extension": ".py",
   "mimetype": "text/x-python",
   "name": "python",
   "nbconvert_exporter": "python",
   "pygments_lexer": "ipython3",
   "version": "3.7.6"
  }
 },
 "nbformat": 4,
 "nbformat_minor": 5
}
