{
 "cells": [
  {
   "cell_type": "markdown",
   "metadata": {},
   "source": [
    "# Exercise 5 - Variational quantum eigensolver\n",
    "***By a naive chemist who hated Chemistry at school!***\n",
    "\n",
    "***name:*** Jacob Cybulski (ironfrown)<br/>\n",
    "***score:*** 3<br/>\n",
    "***chemical accuracy:*** 2.440695<br/>\n",
    "***number of ansatz parameters:*** 16\n",
    "\n",
    "***Note:*** *This notebook version is slightly cleaned up with extra comments, but no functionality or behaviour altered.*\n",
    "\n",
    "## Approach\n",
    "The approach taken here embraces the following principles.\n",
    "\n",
    "1. As molecular orbitals map onto qubits, we thus need to minimise the number of orbitals\n",
    "used in molecular modelling (as a Hamiltonian).\n",
    "This was achieved by ***freezing core orbitals*** and by ***removing vacant orbitals***. \n",
    "We also need to investigate ***Z2 symmetries***, which allow reducing the number of qubits when \n",
    "Pauli operators commute with the Hamiltonian (a tapering list identifies such symmetries).\n",
    "\n",
    "2. Once the fermionic model is mapped into an equivalent qubit model, it is then possible\n",
    "to find its ground state of the minimum energy. This can be achieved using the VQE algorithm, \n",
    "which optimises a parametrised ansatz circuit. The optimisation algorithm identifies a combination of parameter \n",
    "values, which generate the final circuit minimising the electronic energy, thus defining the molecular \n",
    "ground state. For VQE to work effectively, ***all circuit qubits need to be entangled***. \n",
    "\n",
    "3. To minimise the number of CNOTs small ansatz had to be deployed, so ***EfficientSU2*** and ***RealAmlitudes*** ansatz algorithms were used to create very compact circuits, with ***linear entaglement*** and ***no repetiting segments***.\n",
    "\n",
    "4. As the author is a ***naive physicist / chemist*** the solution relied on ***experimentation*** and ***analytics*** rather than deep knowledge of the relevant theory."
   ]
  },
  {
   "cell_type": "markdown",
   "metadata": {},
   "source": [
    "## Part 2: Final Challenge - VQE for LiH molecule \n",
    "\n",
    "\n",
    "In this part, you will simulate LiH molecule using the STO-3G basis with the PySCF driver.\n",
    "\n",
    "</div>\n",
    "    \n",
    "<div class=\"alert alert-block alert-success\">\n",
    "\n",
    "<b>Goal</b> \n",
    "\n",
    "Experiment with all the parameters and then find your best ansatz. You can be as creative as you want!\n",
    "    \n",
    "</div>"
   ]
  },
  {
   "cell_type": "code",
   "execution_count": null,
   "metadata": {},
   "outputs": [],
   "source": [
    "from qiskit_nature.drivers import PySCFDriver\n",
    "\n",
    "molecule = 'Li 0.0 0.0 0.0; H 0.0 0.0 1.5474'\n",
    "driver = PySCFDriver(atom=molecule)\n",
    "qmolecule1 = driver.run()"
   ]
  },
  {
   "cell_type": "markdown",
   "metadata": {},
   "source": [
    "## Hamiltonian and qubit reduction"
   ]
  },
  {
   "cell_type": "markdown",
   "metadata": {},
   "source": [
    "### Find molecule details"
   ]
  },
  {
   "cell_type": "code",
   "execution_count": null,
   "metadata": {},
   "outputs": [],
   "source": [
    "def molstat(qmol):\n",
    "    print('No of electrons: ', qmol.num_alpha + qmol.num_beta)\n",
    "    print('Molecular orbitals: ', qmol.num_molecular_orbitals)\n",
    "    print('Spin orbitals: ', 2 * qmol.num_molecular_orbitals)\n",
    "    print('No of qubits: ', 2 * qmol.num_molecular_orbitals)\n",
    "    print('Repulsion energy: ', qmol.nuclear_repulsion_energy)\n",
    "    \n",
    "molstat(qmolecule1)"
   ]
  },
  {
   "cell_type": "markdown",
   "metadata": {},
   "source": [
    "### Removal of molecular orbitals\n",
    "This step aims to eliminate unnecessary orbitals from the molecular model, which later resuts in a smaller number of qubits in a quantum simulation of the molecule. We achieve this by ***freezing core orbitals*** and ***removing (hopefully) vacant orbitals***. This was achieved experimentatlly rather than by reference to the molecular properties derived from the theoretical model.\n",
    "\n",
    "+ ***Freezing core orbitals alone reduced molecular orbitals by one (-1).***\n",
    "+ ***Removal of [3, 4] orbitals (initially) reduced further 2 molecular orbitals (-2).***\n",
    "\n",
    "The impact of removing non-core orbitals was tested by measuring the simulated electronic energy. Depending on the selection of removed orbitals, it was possible to obtain 8, 4, 3 and 2 qubit systems with different energy levels.\n",
    "\n",
    "- It was determined that removal of orbital [0] or [1] also removed all electrons from the model, and this had a determental effect to later analysis. \n",
    "- Removal of orbital [5] generated an uncaught orbital error. \n",
    "- The only orbitals useful for further investigation were 2, 3 and 4. \n",
    "- Removal of either [3] or [4] alone produced high energy levels. \n",
    "- Removal of orbital [2] resulted in a 4 qubit system, which approximated the required energy level, still too high.\n",
    "\n",
    "In further investigation we considered orbital pairs [2, 3], [3, 4], [2, 4] and a tripple [2, 3, 4). \n",
    "- Removal of all [2, 3, 4] resulted in a two qubit system with a single CNOT, its low complexity did not allow its effective training to reach the threshold. \n",
    "- Pairs [2, 3] and [2, 4} produced 3 qubit circuits of 2 CNOTs each, which again could not be optimised below the required energy threshold. \n",
    "- A pair [3, 4] eventually mapped into 4 qubits and the acceptable energy level.\n"
   ]
  },
  {
   "cell_type": "code",
   "execution_count": null,
   "metadata": {
    "tags": []
   },
   "outputs": [],
   "source": [
    "from qiskit_nature.problems.second_quantization.electronic import ElectronicStructureProblem\n",
    "from qiskit_nature.transformers import FreezeCoreTransformer\n",
    "tr = FreezeCoreTransformer(freeze_core=True, remove_orbitals=[3, 4])\n",
    "qmolecule2 = tr.transform(qmolecule1) \n",
    "molstat(qmolecule2)"
   ]
  },
  {
   "cell_type": "markdown",
   "metadata": {},
   "source": [
    "### Creation of a quantum \"problem\""
   ]
  },
  {
   "cell_type": "code",
   "execution_count": null,
   "metadata": {
    "scrolled": true,
    "tags": []
   },
   "outputs": [],
   "source": [
    "problem = ElectronicStructureProblem(driver, [tr])\n",
    "second_q_ops = problem.second_q_ops()\n",
    "main_op = second_q_ops[0] # electronic operator\n",
    "print(main_op)"
   ]
  },
  {
   "cell_type": "markdown",
   "metadata": {},
   "source": [
    "### Test symmetries and qubit reduction\n",
    "By exploring some well-known symmetries, ParityMaper converter is used to perform a reduction of 2 further qubits (when possible). With an 'auto' option, this is done automatically and if any Z2 symmetries are detected they are then provided in the form of Pauli strings (+1, -1). Alternatively, the specified Z2 symmetries can be explicitly removed by relying on the list of tapering values. Here after the 'auto' removal, the list of tapering values is null and no further qubit reduction is possible.\n",
    "\n",
    "+ ***The number of quibts required for this simulation has been decreased by 2 to the total number of 4.***"
   ]
  },
  {
   "cell_type": "code",
   "execution_count": null,
   "metadata": {},
   "outputs": [],
   "source": [
    "from qiskit_nature.mappers.second_quantization import ParityMapper, BravyiKitaevMapper, JordanWignerMapper\n",
    "from qiskit_nature.converters.second_quantization.qubit_converter import QubitConverter\n",
    "from qiskit.quantum_info import Pauli\n",
    "\n",
    "# converter = QubitConverter(mapper=JordanWignerMapper(), two_qubit_reduction=True, z2symmetry_reduction='auto')\n",
    "# converter = QubitConverter(mapper=BravyiKitaevMapper(), two_qubit_reduction=True, z2symmetry_reduction='auto')\n",
    "# converter = QubitConverter(mapper=ParityMapper(), two_qubit_reduction=True, z2symmetry_reduction=[1, -1])\n",
    "converter = QubitConverter(mapper=ParityMapper(), two_qubit_reduction=True, z2symmetry_reduction='auto')\n",
    "\n",
    "num_particles = (problem.molecule_data_transformed.num_alpha, problem.molecule_data_transformed.num_beta)\n",
    "qubit_op = converter.convert(main_op, num_particles=num_particles)\n",
    "print('No of particles: ', num_particles)\n",
    "\n",
    "pauli_symm = converter.z2symmetries.find_Z2_symmetries(qubit_op)\n",
    "print(pauli_symm, '\\n')\n",
    "print('No of qubits: ', qubit_op.num_qubits)"
   ]
  },
  {
   "cell_type": "markdown",
   "metadata": {},
   "source": [
    "## Ansatz Preparation"
   ]
  },
  {
   "cell_type": "markdown",
   "metadata": {},
   "source": [
    "### Init state\n",
    "\n",
    "Preparation of the ansatz initial state as defined by Hartree Fock approximation (no qubit corelations considered)"
   ]
  },
  {
   "cell_type": "code",
   "execution_count": null,
   "metadata": {
    "tags": []
   },
   "outputs": [],
   "source": [
    "from qiskit_nature.circuit.library import HartreeFock\n",
    "num_particles = (problem.molecule_data_transformed.num_alpha, problem.molecule_data_transformed.num_beta)\n",
    "num_spin_orbitals = 2 * problem.molecule_data_transformed.num_molecular_orbitals\n",
    "init_state = HartreeFock(num_spin_orbitals, num_particles, converter)\n",
    "init_state.draw(output='mpl')"
   ]
  },
  {
   "cell_type": "markdown",
   "metadata": {},
   "source": [
    "### Ansatz\n",
    "\n",
    "There are several different algorithms for ansatz generation and the possibiity of creatimg custom ansatz. To reduce the number of CNOTs, it is important that the number of qubits is as small as possible, the ansatz circuit is small, and no repeated structures are included. In addition to the provided ansatz algorithms, two promising additional ones have been identified in the qiskit library.\n",
    "\n",
    "+ Qiskit ***EfficientSU2*** and ***RealAmlitudes*** ansatz algorithms were identified as capable of creating very compact circuits. "
   ]
  },
  {
   "cell_type": "code",
   "execution_count": null,
   "metadata": {
    "tags": []
   },
   "outputs": [],
   "source": [
    "from qiskit.circuit.library import TwoLocal, EfficientSU2\n",
    "from qiskit_nature.circuit.library import UCCSD, PUCCD, SUCCD\n",
    "\n",
    "# Arguments for ansatz generation\n",
    "num_particles = (problem.molecule_data_transformed.num_alpha,\n",
    "             problem.molecule_data_transformed.num_beta)\n",
    "num_spin_orbitals = 2 * problem.molecule_data_transformed.num_molecular_orbitals\n",
    "rotation_blocks = ['ry', 'rz']\n",
    "entanglement_blocks = 'cx'\n",
    "entanglement = 'linear' # 'sca' # 'circular' # 'full' # Linear produces min CNOTs\n",
    "repetitions = 1 # No repetitions to keep ansatz small\n",
    "skip_final_rotation_layer = True \n",
    "\n",
    "# ansatz = TwoLocal(qubit_op.num_qubits, rotation_blocks, entanglement_blocks, reps=repetitions, \n",
    "#                   entanglement=entanglement, skip_final_rotation_layer=skip_final_rotation_layer)             # Possible\n",
    "# ansatz = PUCCD(converter,num_particles,num_spin_orbitals,initial_state = init_state)                          # Reject\n",
    "# ansatz = SUCCD(converter,num_particles,num_spin_orbitals,initial_state = init_state)                          # Reject\n",
    "# ansatz = UCCSD(converter,num_particles,num_spin_orbitals,initial_state = init_state, reps=1)                  # Possible\n",
    "# ansatz = RealAmplitudes(num_qubits=qubit_op.num_qubits, entanglement=entanglement, reps=repetitions)          # Possible\n",
    "ansatz = EfficientSU2(num_qubits=qubit_op.num_qubits, entanglement=entanglement, reps=repetitions)              # Best\n",
    "\n",
    "# Add the initial state\n",
    "ansatz.compose(init_state, front=True, inplace=True)\n",
    "\n",
    "display(ansatz.draw(output='mpl', scale=1))\n",
    "print('Ansatz number of parameters: ', ansatz.num_parameters)\n",
    "print('Ansatz ordered parameters: ', ansatz.ordered_parameters)"
   ]
  },
  {
   "cell_type": "markdown",
   "metadata": {},
   "source": [
    "### Backend"
   ]
  },
  {
   "cell_type": "code",
   "execution_count": null,
   "metadata": {},
   "outputs": [],
   "source": [
    "from qiskit import Aer\n",
    "backend = Aer.get_backend('statevector_simulator')"
   ]
  },
  {
   "cell_type": "markdown",
   "metadata": {},
   "source": [
    "### Optimizer\n",
    "\n",
    "Several optimisers have been tested, the best results were obtained with COBYLA.<br />\n",
    "The electronic energy resulting from diagonalisation needs to be checked against the VQE result"
   ]
  },
  {
   "cell_type": "code",
   "execution_count": null,
   "metadata": {},
   "outputs": [],
   "source": [
    "from qiskit.algorithms.optimizers import COBYLA, L_BFGS_B, SPSA, SLSQP\n",
    "optimizer = COBYLA(maxiter=10000) # Up to 20,000 were used with some configurations\n",
    "# optimizer = SPSA(maxiter=5000)"
   ]
  },
  {
   "cell_type": "code",
   "execution_count": null,
   "metadata": {},
   "outputs": [],
   "source": [
    "from qiskit_nature.algorithms.ground_state_solvers.minimum_eigensolver_factories import NumPyMinimumEigensolverFactory\n",
    "from qiskit_nature.algorithms.ground_state_solvers import GroundStateEigensolver\n",
    "import numpy as np \n",
    "\n",
    "def exact_diagonalizer(problem, converter):\n",
    "    solver = NumPyMinimumEigensolverFactory()\n",
    "    calc = GroundStateEigensolver(converter, solver)\n",
    "    result = calc.solve(problem)\n",
    "    return result\n",
    "\n",
    "result_exact = exact_diagonalizer(problem, converter)\n",
    "exact_energy = np.real(result_exact.eigenenergies[0])\n",
    "print(\"Exact electronic energy\", exact_energy)\n",
    "result_exact"
   ]
  },
  {
   "cell_type": "markdown",
   "metadata": {},
   "source": [
    "### VQE\n",
    "\n",
    "VQE finds the ansatz parameter values for the circuit to produce its lowest electronic energy. "
   ]
  },
  {
   "cell_type": "code",
   "execution_count": null,
   "metadata": {
    "scrolled": true,
    "tags": []
   },
   "outputs": [],
   "source": [
    "from qiskit.algorithms import VQE\n",
    "from IPython.display import display, clear_output\n",
    "\n",
    "# Print and save the data in lists\n",
    "def callback(eval_count, parameters, mean, std):  \n",
    "    # Overwrites the same line when printing\n",
    "    display(\"Evaluation: {}, Energy: {}, Std: {}\".format(eval_count, mean, std))\n",
    "    clear_output(wait=True)\n",
    "    counts.append(eval_count)\n",
    "    values.append(mean)\n",
    "    params.append(parameters)\n",
    "    deviation.append(std)\n",
    "\n",
    "counts = []\n",
    "values = []\n",
    "params = []\n",
    "deviation = []\n",
    "\n",
    "# Set initial parameters of the ansatz\n",
    "# We choose a fixed small displacement \n",
    "# So all participants start from similar starting point\n",
    "\n",
    "try:\n",
    "    initial_point = [0.01] * len(ansatz.ordered_parameters)\n",
    "except:\n",
    "    initial_point = [0.01] * ansatz.num_parameters\n",
    "\n",
    "algorithm = VQE(ansatz,\n",
    "                optimizer=optimizer,\n",
    "                quantum_instance=backend,\n",
    "                callback=callback,\n",
    "                initial_point=initial_point)\n",
    "\n",
    "result = algorithm.compute_minimum_eigenvalue(qubit_op)\n",
    "print(result)"
   ]
  },
  {
   "cell_type": "markdown",
   "metadata": {},
   "source": [
    "### Scores"
   ]
  },
  {
   "cell_type": "code",
   "execution_count": null,
   "metadata": {},
   "outputs": [],
   "source": [
    "# Store results in a dictionary\n",
    "from qiskit.transpiler import PassManager\n",
    "from qiskit.transpiler.passes import Unroller\n",
    "\n",
    "# Unroller transpile your circuit into CNOTs and U gates\n",
    "pass_ = Unroller(['u', 'cx'])\n",
    "pm = PassManager(pass_)\n",
    "ansatz_tp = pm.run(ansatz)\n",
    "cnots = ansatz_tp.count_ops()['cx']\n",
    "score = cnots\n",
    "\n",
    "accuracy_threshold = 4.0 # in mHa\n",
    "energy = result.optimal_value\n",
    "\n",
    "# TwoLocal\n",
    "result_dict = {\n",
    "    'optimizer': optimizer.__class__.__name__,\n",
    "    'mapping': converter.mapper.__class__.__name__,\n",
    "    'ansatz': ansatz.__class__.__name__,\n",
    "    'rotation blocks': rotation_blocks,\n",
    "    'entanglement_blocks': entanglement_blocks,\n",
    "    'entanglement': entanglement,\n",
    "    'repetitions': repetitions,\n",
    "    'skip_final_rotation_layer': skip_final_rotation_layer,\n",
    "    'energy (Ha)': energy,\n",
    "    'error (mHa)': (energy-exact_energy)*1000,\n",
    "    'pass': (energy-exact_energy)*1000 <= accuracy_threshold,\n",
    "    '# of parameters': len(result.optimal_point),\n",
    "    'final parameters': result.optimal_point,\n",
    "    '# of evaluations': result.optimizer_evals,\n",
    "    'optimizer time': result.optimizer_time,\n",
    "    '# of qubits': int(qubit_op.num_qubits),\n",
    "    '# of CNOTs': cnots,\n",
    "    'score': score}\n",
    "\n",
    "# Plot the results\n",
    "import matplotlib.pyplot as plt\n",
    "\n",
    "fig, ax = plt.subplots(1, 1)\n",
    "ax.set_xlabel('Iterations')\n",
    "ax.set_ylabel('Energy')\n",
    "ax.grid()\n",
    "fig.text(0.7, 0.75, f'Energy: {result.optimal_value:.3f}\\nScore: {score:.0f}')\n",
    "plt.title(f\"{result_dict['optimizer']}-{result_dict['mapping']}\\n{result_dict['ansatz']}\")\n",
    "ax.plot(counts, values)\n",
    "ax.axhline(exact_energy, linestyle='--')\n",
    "fig_title = f\"\\\n",
    "{result_dict['optimizer']}-\\\n",
    "{result_dict['mapping']}-\\\n",
    "{result_dict['ansatz']}-\\\n",
    "Energy({result_dict['energy (Ha)']:.3f})-\\\n",
    "Score({result_dict['score']:.0f})\\\n",
    ".png\"\n",
    "fig.savefig(fig_title, dpi=300)\n",
    "\n",
    "# Display and save the data\n",
    "import pandas as pd\n",
    "import os.path\n",
    "filename = 'results_h2.csv'\n",
    "if os.path.isfile(filename):\n",
    "    result_df = pd.read_csv(filename)\n",
    "    result_df = result_df.append([result_dict])\n",
    "else:\n",
    "    result_df = pd.DataFrame.from_dict([result_dict])\n",
    "result_df.to_csv(filename)\n",
    "result_df[['optimizer','ansatz', '# of qubits', '# of parameters','rotation blocks', 'entanglement_blocks',\n",
    "    'entanglement', 'repetitions', 'error (mHa)', 'pass', 'score']]"
   ]
  },
  {
   "cell_type": "code",
   "execution_count": null,
   "metadata": {},
   "outputs": [],
   "source": [
    "# Check your answer using following code\n",
    "from qc_grader import grade_ex5\n",
    "freeze_core = True # change to True if you freezed core electrons\n",
    "grade_ex5(ansatz,qubit_op,result,freeze_core)"
   ]
  },
  {
   "cell_type": "code",
   "execution_count": null,
   "metadata": {},
   "outputs": [],
   "source": [
    "# Submit your answer. You can re-submit at any time.\n",
    "from qc_grader import submit_ex5\n",
    "submit_ex5(ansatz,qubit_op,result,freeze_core)"
   ]
  },
  {
   "cell_type": "markdown",
   "metadata": {},
   "source": [
    "## Additional information\n",
    "\n",
    "**Created by:** Igor Sokolov, Junye Huang, Rahul Pratap Singh\n",
    "\n",
    "**Version:** 1.0.0"
   ]
  }
 ],
 "metadata": {
  "kernelspec": {
   "display_name": "Python 3",
   "language": "python",
   "name": "python3"
  },
  "language_info": {
   "codemirror_mode": {
    "name": "ipython",
    "version": 3
   },
   "file_extension": ".py",
   "mimetype": "text/x-python",
   "name": "python",
   "nbconvert_exporter": "python",
   "pygments_lexer": "ipython3",
   "version": "3.7.6"
  }
 },
 "nbformat": 4,
 "nbformat_minor": 4
}
