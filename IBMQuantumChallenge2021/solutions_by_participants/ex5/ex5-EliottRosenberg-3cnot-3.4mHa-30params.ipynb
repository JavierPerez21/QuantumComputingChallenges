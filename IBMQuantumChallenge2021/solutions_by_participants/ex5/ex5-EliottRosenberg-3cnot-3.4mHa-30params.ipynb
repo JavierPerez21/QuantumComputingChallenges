{
 "cells": [
  {
   "cell_type": "markdown",
   "metadata": {},
   "source": [
    "Solution by Eliott Rosenberg (enr27@cornell.edu)"
   ]
  },
  {
   "cell_type": "code",
   "execution_count": 2,
   "metadata": {},
   "outputs": [],
   "source": [
    "import numpy as np\n",
    "# Importing standard Qiskit libraries\n",
    "from qiskit import QuantumCircuit, transpile, Aer, IBMQ\n",
    "from qiskit.tools.jupyter import *\n",
    "from qiskit.visualization import *\n",
    "from ibm_quantum_widgets import *\n",
    "\n",
    "# Loading your IBM Quantum account(s)\n",
    "provider = IBMQ.load_account()"
   ]
  },
  {
   "cell_type": "markdown",
   "metadata": {},
   "source": [
    "First, we use the provided code to create the qmolecule object for LiH."
   ]
  },
  {
   "cell_type": "code",
   "execution_count": 3,
   "metadata": {},
   "outputs": [],
   "source": [
    "import numpy as np\n",
    "from qiskit_nature.drivers import PySCFDriver\n",
    "\n",
    "molecule = 'Li 0.0 0.0 0.0; H 0.0 0.0 1.5474'\n",
    "driver = PySCFDriver(atom=molecule)\n",
    "qmolecule = driver.run()"
   ]
  },
  {
   "cell_type": "markdown",
   "metadata": {},
   "source": [
    "Next, we need to generate a qubit Hamiltonian corresponding to this problem. We want to simplify this Hamiltonian as much as possible. That is, we want to minimize the number of qubits needed to represent the Hamiltonian since this will mean that we need fewer CNOT gates to entangle the qubits.\n",
    "\n",
    "To do this, we will use the ParityMapper with `two_qubit_reduction=True`. We will also freeze the core (non-valence) electrons and remove unoccupied orbitals. We further identify the $Z_2$ symmetries and keep only the sector that contains the ground state.\n",
    "\n",
    "Relevant documentation pages:\n",
    "\n",
    "https://qiskit.org/documentation/nature/stubs/qiskit_nature.converters.second_quantization.QubitConverter.html\n",
    "\n",
    "https://qiskit.org/documentation/nature/stubs/qiskit_nature.transformers.FreezeCoreTransformer.html"
   ]
  },
  {
   "cell_type": "code",
   "execution_count": 5,
   "metadata": {},
   "outputs": [],
   "source": [
    "from qiskit_nature.problems.second_quantization.electronic import ElectronicStructureProblem\n",
    "from qiskit_nature.transformers import FreezeCoreTransformer\n",
    "from qiskit_nature.mappers.second_quantization import ParityMapper, BravyiKitaevMapper, JordanWignerMapper\n",
    "from qiskit_nature.converters.second_quantization.qubit_converter import QubitConverter\n",
    "\n",
    "\n",
    "# unoccupied orbitals that will be removed.\n",
    "#This is following https://qiskit.org/textbook/ch-applications/vqe-molecules.html#Running-VQE-on-a-Statevector-Simulator,\n",
    "#in which these two orbitals are removed.\n",
    "# You can confirm that removing these orbitals only has a small effect on the ground state energy by\n",
    "# setting remove_list to [] and seeing how this affects the exact ground state energy.\n",
    "remove_list = [3,4]\n",
    "# freeze_core = True means that we are not treating the core electron as part of our quantum system\n",
    "transformer = [FreezeCoreTransformer(freeze_core=True,remove_orbitals=remove_list)]\n",
    "problem = ElectronicStructureProblem(driver,q_molecule_transformers=transformer)\n",
    "\n",
    "# Generate the second-quantized operators\n",
    "second_q_ops = problem.second_q_ops()\n",
    "# Hamiltonian\n",
    "main_op = second_q_ops[0]\n",
    "\n",
    "mapper = ParityMapper()\n",
    "\n",
    "# The Hamiltonian has additional Z2 symmetries. We can reduce the problem size by working in a particular\n",
    "# eigenspace of these symmetry operators. We just have to make sure that the eigenspace we pick\n",
    "# contains the ground state. You can confirm that it contains the ground state by getting rid of\n",
    "# z2symmetry_reduction=[1,1] and seeing that this doesn't affect the ground state energy.\n",
    "converter = QubitConverter(mapper=mapper, two_qubit_reduction=True, z2symmetry_reduction=[1,1])\n",
    "num_particles = (problem.molecule_data_transformed.num_alpha,\n",
    "             problem.molecule_data_transformed.num_beta)\n",
    "qubit_op = converter.convert(main_op, num_particles=num_particles)\n"
   ]
  },
  {
   "cell_type": "markdown",
   "metadata": {},
   "source": [
    "We can see what the qubit Hamiltonian looks like now. With all of these simplifications, we have reduced it to just 4 qubits."
   ]
  },
  {
   "cell_type": "code",
   "execution_count": 8,
   "metadata": {},
   "outputs": [
    {
     "name": "stdout",
     "output_type": "stream",
     "text": [
      "-0.20316606150558716 * IIII\n",
      "+ (-0.3652586902160363+1.3877787807814457e-17j) * ZIII\n",
      "+ 0.09275994933497261 * IZII\n",
      "- 0.21188984297009283 * ZZII\n",
      "+ 0.36525869021603635 * IIZI\n",
      "- 0.11384335176465243 * ZIZI\n",
      "+ 0.11395251883047357 * IZZI\n",
      "+ (-0.060440128573150384+3.469446951953614e-18j) * ZZZI\n",
      "+ (-0.09275994933497239-3.469446951953614e-18j) * IIIZ\n",
      "+ 0.11395251883047357 * ZIIZ\n",
      "+ (-0.12274244052545254-6.938893903907228e-18j) * IZIZ\n",
      "+ 0.05628878167216692 * ZZIZ\n",
      "+ (-0.2118898429700929+1.3877787807814457e-17j) * IIZZ\n",
      "+ 0.060440128573150384 * ZIZZ\n",
      "+ (-0.05628878167216692-3.469446951953614e-18j) * IZZZ\n",
      "+ 0.08460131391824227 * ZZZZ\n",
      "+ 0.01938940858370424 * XIII\n",
      "- 0.01938940858370424 * XZII\n",
      "+ (-0.010952773573795035+8.673617379884035e-19j) * XIZI\n",
      "+ 0.010952773573795035 * XZZI\n",
      "+ 0.012779333033012864 * XIIZ\n",
      "- 0.012779333033012864 * XZIZ\n",
      "- 0.00900250124383856 * XIZZ\n",
      "+ 0.00900250124383856 * XZZZ\n",
      "+ 0.0029411410872898737 * IXII\n",
      "+ 0.0029411410872898737 * ZXII\n",
      "- 0.010681856282928344 * IXZI\n",
      "- 0.010681856282928344 * ZXZI\n",
      "+ 0.01192552928447872 * IXIZ\n",
      "+ (0.01192552928447872-8.673617379884035e-19j) * ZXIZ\n",
      "- 0.0016974649623858105 * IXZZ\n",
      "+ (-0.0016974649623858105+1.0842021724855044e-19j) * ZXZZ\n",
      "- 0.0007427996395022785 * XXII\n",
      "+ 0.0007427996395022781 * YYII\n",
      "+ 0.03438974814048161 * XXZI\n",
      "- 0.03438974814048161 * YYZI\n",
      "- 0.03239529731986545 * XXIZ\n",
      "+ 0.03239529731986545 * YYIZ\n",
      "+ 0.0027372506123360648 * XXZZ\n",
      "- 0.0027372506123360643 * YYZZ\n",
      "+ (0.01938940858370424-4.336808689942018e-19j) * IIXI\n",
      "+ 0.010952773573795035 * ZIXI\n",
      "+ (-0.012779333033012864-8.673617379884035e-19j) * IZXI\n",
      "- 0.00900250124383856 * ZZXI\n",
      "+ (0.01938940858370424-8.673617379884035e-19j) * IIXZ\n",
      "+ 0.010952773573795035 * ZIXZ\n",
      "- 0.012779333033012864 * IZXZ\n",
      "- 0.00900250124383856 * ZZXZ\n",
      "+ 0.006587584190054211 * XIXI\n",
      "- 0.006587584190054211 * XZXI\n",
      "+ (0.006587584190054211+4.336808689942018e-19j) * XIXZ\n",
      "- 0.006587584190054211 * XZXZ\n",
      "+ 0.0022216108081419424 * IXXI\n",
      "+ (0.0022216108081419424-2.168404344971009e-19j) * ZXXI\n",
      "+ (0.0022216108081419424-2.168404344971009e-19j) * IXXZ\n",
      "+ 0.0022216108081419424 * ZXXZ\n",
      "- 0.007859003265894875 * XXXI\n",
      "+ 0.007859003265894875 * YYXI\n",
      "- 0.007859003265894875 * XXXZ\n",
      "+ 0.007859003265894875 * YYXZ\n",
      "+ (0.0029411410872898806+2.168404344971009e-19j) * IIIX\n",
      "+ 0.010681856282928344 * ZIIX\n",
      "+ (-0.01192552928447872+8.673617379884035e-19j) * IZIX\n",
      "- 0.0016974649623858105 * ZZIX\n",
      "+ (-0.0029411410872898806-2.168404344971009e-19j) * IIZX\n",
      "- 0.010681856282928344 * ZIZX\n",
      "+ (0.01192552928447872-8.673617379884035e-19j) * IZZX\n",
      "+ 0.0016974649623858105 * ZZZX\n",
      "+ 0.002221610808141942 * XIIX\n",
      "- 0.002221610808141942 * XZIX\n",
      "- 0.002221610808141942 * XIZX\n",
      "+ 0.002221610808141942 * XZZX\n",
      "+ 0.003139482375496337 * IXIX\n",
      "+ (0.003139482375496337-2.168404344971009e-19j) * ZXIX\n",
      "- 0.003139482375496337 * IXZX\n",
      "+ (-0.003139482375496337+2.168404344971009e-19j) * ZXZX\n",
      "- 0.00849915846980472 * XXIX\n",
      "+ 0.00849915846980472 * YYIX\n",
      "+ 0.00849915846980472 * XXZX\n",
      "- 0.00849915846980472 * YYZX\n",
      "- 0.0007427996395022792 * IIXX\n",
      "- 0.03438974814048161 * ZIXX\n",
      "+ 0.03239529731986545 * IZXX\n",
      "+ (0.0027372506123360643+2.168404344971009e-19j) * ZZXX\n",
      "+ 0.000742799639502279 * IIYY\n",
      "+ 0.03438974814048161 * ZIYY\n",
      "+ (-0.03239529731986545+3.469446951953614e-18j) * IZYY\n",
      "- 0.0027372506123360643 * ZZYY\n",
      "- 0.007859003265894875 * XIXX\n",
      "+ 0.007859003265894875 * XZXX\n",
      "+ 0.007859003265894875 * XIYY\n",
      "- 0.007859003265894875 * XZYY\n",
      "- 0.00849915846980472 * IXXX\n",
      "- 0.00849915846980472 * ZXXX\n",
      "+ 0.00849915846980472 * IXYY\n",
      "+ 0.00849915846980472 * ZXYY\n",
      "+ 0.030846096963274977 * XXXX\n",
      "- 0.030846096963274977 * YYXX\n",
      "- 0.030846096963274977 * XXYY\n",
      "+ 0.030846096963274977 * YYYY\n"
     ]
    }
   ],
   "source": [
    "print(qubit_op)"
   ]
  },
  {
   "cell_type": "markdown",
   "metadata": {},
   "source": [
    "We can also compute the exact ground state energy so that we know what we're targeting and to confirm that our various simplifications haven't changed the ground state energy too much."
   ]
  },
  {
   "cell_type": "code",
   "execution_count": 9,
   "metadata": {},
   "outputs": [
    {
     "name": "stdout",
     "output_type": "stream",
     "text": [
      "Exact electronic energy -1.0887060157347423\n",
      "=== GROUND STATE ENERGY ===\n",
      " \n",
      "* Electronic ground state energy (Hartree): -8.907396311316\n",
      "  - computed part:      -1.088706015735\n",
      "  - FreezeCoreTransformer extracted energy part: -7.818690295581\n",
      "~ Nuclear repulsion energy (Hartree): 1.025934879643\n",
      "> Total ground state energy (Hartree): -7.881461431673\n",
      " \n",
      "=== MEASURED OBSERVABLES ===\n",
      " \n",
      "  0:  # Particles: 2.000 S: 0.000 S^2: 0.000 M: 0.000\n",
      " \n",
      "=== DIPOLE MOMENTS ===\n",
      " \n",
      "~ Nuclear dipole moment (a.u.): [0.0  0.0  2.92416221]\n",
      " \n",
      "  0: \n",
      "  * Electronic dipole moment (a.u.): [0.0  0.0  4.76300889]\n",
      "    - computed part:      [0.0  0.0  4.76695575]\n",
      "    - FreezeCoreTransformer extracted energy part: [0.0  0.0  -0.00394686]\n",
      "  > Dipole moment (a.u.): [0.0  0.0  -1.83884668]  Total: 1.83884668\n",
      "                 (debye): [0.0  0.0  -4.67388163]  Total: 4.67388163\n",
      " \n"
     ]
    }
   ],
   "source": [
    "# exact ground state energy:\n",
    "\n",
    "from qiskit_nature.algorithms.ground_state_solvers.minimum_eigensolver_factories import NumPyMinimumEigensolverFactory\n",
    "from qiskit_nature.algorithms.ground_state_solvers import GroundStateEigensolver\n",
    "import numpy as np \n",
    "\n",
    "def exact_diagonalizer(problem, converter):\n",
    "    solver = NumPyMinimumEigensolverFactory()\n",
    "    calc = GroundStateEigensolver(converter, solver)\n",
    "    result = calc.solve(problem)\n",
    "    return result\n",
    "\n",
    "result_exact = exact_diagonalizer(problem, converter)\n",
    "exact_energy = np.real(result_exact.eigenenergies[0])\n",
    "print(\"Exact electronic energy\", exact_energy)\n",
    "print(result_exact)"
   ]
  },
  {
   "cell_type": "markdown",
   "metadata": {},
   "source": [
    "We see that, with the frozen core and the removed orbitals, the ground state energy is -1.08870601573474. For comparison, if we had not removed the orbitals, the ground state energy would have been -1.08978239634873, so removing the orbitals leads to an error of 0.001, within the chemical accuracy. Adding on the extracted energy from the core, these give -8.907396311 and -8.908472692, respectively, whereas the exact ground state energy, treating the core quantum mechanically, is -8.90869711642421. We see that freezing the core is a very good approximation, causing only a 0.0002 discrepancy, an order of magnitude smaller than the chemical accuracy."
   ]
  },
  {
   "cell_type": "markdown",
   "metadata": {},
   "source": [
    "Next, we are instructed to begin in the Hartee-Fock initial state:"
   ]
  },
  {
   "cell_type": "code",
   "execution_count": 10,
   "metadata": {},
   "outputs": [
    {
     "name": "stdout",
     "output_type": "stream",
     "text": [
      "     ┌───┐\n",
      "q_0: ┤ X ├\n",
      "     ├───┤\n",
      "q_1: ┤ X ├\n",
      "     └───┘\n",
      "q_2: ─────\n",
      "          \n",
      "q_3: ─────\n",
      "          \n"
     ]
    }
   ],
   "source": [
    "# initial state:\n",
    "\n",
    "from qiskit_nature.circuit.library import HartreeFock\n",
    "\n",
    "num_particles = (problem.molecule_data_transformed.num_alpha,\n",
    "             problem.molecule_data_transformed.num_beta)\n",
    "num_spin_orbitals = 2 * problem.molecule_data_transformed.num_molecular_orbitals\n",
    "init_state = HartreeFock(num_spin_orbitals, num_particles, converter)\n",
    "print(init_state)"
   ]
  },
  {
   "cell_type": "markdown",
   "metadata": {},
   "source": [
    "Next, we construct an ansatz. It uses 3 CNOTs to entangle the 4 qubits and has lots of tunable parameters. The UGate is a general 1-qubit unitary. If you change optimize_externally to True, then we import the optimial parameters, which I found using an analytic gradient optimizer that I wrote independently of this challenge. (In this case, we tack on an Rz gate so that there is one parameter for the qiskit optimizer to optimize.)"
   ]
  },
  {
   "cell_type": "code",
   "execution_count": 20,
   "metadata": {},
   "outputs": [
    {
     "data": {
      "image/png": "[encoded data removed]",
      "text/plain": [
       "<Figure size 1170.2x264.88 with 1 Axes>"
      ]
     },
     "execution_count": 20,
     "metadata": {},
     "output_type": "execute_result"
    }
   ],
   "source": [
    "num_qubits = init_state.num_qubits\n",
    "from qiskit.circuit import Parameter, QuantumCircuit\n",
    "from qiskit.circuit.library import TwoLocal\n",
    "ansatz = QuantumCircuit(num_qubits)\n",
    "\n",
    "optimize_externally = True\n",
    "\n",
    "if optimize_externally:\n",
    "    theta = np.genfromtxt('theta1.csv')\n",
    "    whichParameter = 0\n",
    "    for q in range(num_qubits):\n",
    "        ansatz.u(theta[whichParameter],theta[whichParameter+1],theta[whichParameter+2],q)\n",
    "        whichParameter += 3\n",
    "    for q in range(num_qubits-1):\n",
    "        ansatz.cx(q,q+1)\n",
    "        ansatz.u(theta[whichParameter],theta[whichParameter+1],theta[whichParameter+2],q)\n",
    "        whichParameter += 3\n",
    "        ansatz.u(theta[whichParameter],theta[whichParameter+1],theta[whichParameter+2],q+1)\n",
    "        whichParameter += 3\n",
    "    ansatz.rz(Parameter('th'),0)\n",
    "else:\n",
    "    whichParameter = 0\n",
    "    for q in range(num_qubits):\n",
    "        ansatz.u(Parameter('th'+str(whichParameter)),Parameter('th'+str(whichParameter+1)),Parameter('th'+str(whichParameter+2)),q)\n",
    "        whichParameter += 3\n",
    "    for q in range(num_qubits-1):\n",
    "        ansatz.cx(q,q+1)\n",
    "        ansatz.u(Parameter('th'+str(whichParameter)),Parameter('th'+str(whichParameter+1)),Parameter('th'+str(whichParameter+2)),q)\n",
    "        whichParameter += 3\n",
    "        ansatz.u(Parameter('th'+str(whichParameter)),Parameter('th'+str(whichParameter+1)),Parameter('th'+str(whichParameter+2)),q+1)\n",
    "        whichParameter += 3\n",
    "\n",
    "ansatz.compose(init_state, front=True, inplace=True)\n",
    "\n",
    "ansatz.draw()"
   ]
  },
  {
   "cell_type": "markdown",
   "metadata": {},
   "source": [
    "Finally, we optimize the ansatz:"
   ]
  },
  {
   "cell_type": "code",
   "execution_count": 21,
   "metadata": {},
   "outputs": [
    {
     "name": "stdout",
     "output_type": "stream",
     "text": [
      "{   'aux_operator_eigenvalues': None,\n",
      "    'cost_function_evals': 22,\n",
      "    'eigenstate': array([-3.89758931e-03+5.05284346e-04j, -4.99760564e-03+2.42634388e-04j,\n",
      "        2.76009508e-02-1.14635881e-03j, -9.90754881e-01+3.16508758e-02j,\n",
      "       -5.45821668e-02+1.68930357e-03j, -2.84478848e-04+2.90127440e-05j,\n",
      "        1.01478854e-03-6.31043250e-06j, -2.65637141e-02-1.73476657e-04j,\n",
      "       -3.00041642e-03+2.11539917e-04j, -5.95000930e-06+1.66044688e-06j,\n",
      "        2.49699861e-06+1.63925480e-07j,  4.53865114e-04-3.11140840e-05j,\n",
      "        1.13522395e-01-3.62190200e-03j,  3.16477449e-04-5.80491429e-05j,\n",
      "       -5.89252039e-04+9.29102833e-06j,  6.19318516e-04-2.16589103e-06j]),\n",
      "    'eigenvalue': -1.0863813746213205,\n",
      "    'optimal_parameters': {Parameter(th): -5.3906249999999796e-05},\n",
      "    'optimal_point': array([-5.390625e-05]),\n",
      "    'optimal_value': -1.0863813746213205,\n",
      "    'optimizer_evals': 22,\n",
      "    'optimizer_time': 0.16680502891540527}\n"
     ]
    }
   ],
   "source": [
    "# backend\n",
    "from qiskit import Aer\n",
    "backend = Aer.get_backend('statevector_simulator')\n",
    "\n",
    "# optimizer\n",
    "from qiskit.algorithms.optimizers import COBYLA, L_BFGS_B, SPSA, SLSQP\n",
    "\n",
    "optimizer = COBYLA(maxiter=5000)\n",
    "\n",
    "# optimize\n",
    "from qiskit.algorithms import VQE\n",
    "from IPython.display import display, clear_output\n",
    "\n",
    "# Print and save the data in lists\n",
    "def callback(eval_count, parameters, mean, std):  \n",
    "    # Overwrites the same line when printing\n",
    "    display(\"Evaluation: {}, Energy: {}, Std: {}\".format(eval_count, mean, std))\n",
    "    clear_output(wait=True)\n",
    "    counts.append(eval_count)\n",
    "    values.append(mean)\n",
    "    params.append(parameters)\n",
    "    deviation.append(std)\n",
    "\n",
    "counts = []\n",
    "values = []\n",
    "params = []\n",
    "deviation = []\n",
    "\n",
    "# Set initial parameters of the ansatz\n",
    "# We choose a fixed small displacement \n",
    "# So all participants start from similar starting point\n",
    "try:\n",
    "    initial_point = [0.01] * len(ansatz.ordered_parameters)\n",
    "except:\n",
    "    initial_point = [0.01] * ansatz.num_parameters\n",
    "    \n",
    "# use my initial point instead:\n",
    "#initial_point = theta\n",
    "\n",
    "algorithm = VQE(ansatz,\n",
    "                optimizer=optimizer,\n",
    "                quantum_instance=backend,\n",
    "                callback=callback,\n",
    "                initial_point=initial_point)\n",
    "\n",
    "result = algorithm.compute_minimum_eigenvalue(qubit_op)\n",
    "\n",
    "print(result)"
   ]
  },
  {
   "cell_type": "markdown",
   "metadata": {},
   "source": [
    "We see that this converges to within chemical accuracy, so we're done and can submit."
   ]
  },
  {
   "cell_type": "code",
   "execution_count": 18,
   "metadata": {},
   "outputs": [
    {
     "name": "stdout",
     "output_type": "stream",
     "text": [
      "Grading your answer for ex5. Please wait...\n",
      "\n",
      "Congratulations 🎉! Your answer is correct.\n",
      "Your cost is 3.\n",
      "Feel free to submit your answer.\n",
      "\n"
     ]
    }
   ],
   "source": [
    "# Check your answer using following code\n",
    "from qc_grader import grade_ex5\n",
    "freeze_core = True # change to True if you freezed core electrons\n",
    "grade_ex5(ansatz,qubit_op,result,freeze_core)"
   ]
  }
 ],
 "metadata": {
  "kernelspec": {
   "display_name": "Python 3",
   "language": "python",
   "name": "python3"
  },
  "language_info": {
   "codemirror_mode": {
    "name": "ipython",
    "version": 3
   },
   "file_extension": ".py",
   "mimetype": "text/x-python",
   "name": "python",
   "nbconvert_exporter": "python",
   "pygments_lexer": "ipython3",
   "version": "3.7.6"
  }
 },
 "nbformat": 4,
 "nbformat_minor": 5
}
