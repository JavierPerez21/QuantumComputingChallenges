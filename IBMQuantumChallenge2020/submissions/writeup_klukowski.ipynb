{
 "cells": [
  {
   "cell_type": "markdown",
   "metadata": {},
   "source": [
    "# Introduction\n",
    "\n",
    "### Abstract\n",
    "\n",
    "This is a solution for final problem from Autumn 2020 IBM Quantum Challenge. It uses the permutation approach, giving the circuit cost equal 6409. The main idea is to use an oracle with phase factor of $e^\\frac{2 \\pi i}{3}$ instead of $-1$ as in standard Grover's algorithm.\n",
    "\n",
    "If you have any comments/questions, do not hesitate to contact me on qiskit Slack (adam klukowski) or at ak2028@cam.ac.uk.\n",
    "\n",
    "### Problem statement\n",
    "\n",
    "We are given 16 boards of dimensions 4x4 with six asteroids on each. Using a laser beam we can remove all asteroids on a chosen row/column. The task is to find the unique board that cannot be cleaned with at most three laser shots (it is allowed to use vertical and horizontal beams at the same time). We are asked to use Grover's algorithm with one iteration.\n",
    "\n",
    "### Approach overview and motivation\n",
    "\n",
    "Our circuit will use straightforward architecture:\n",
    " - Hadamard gates, to create equal superposition of address qubits\n",
    " - qRAM, to entangle address qubits with data qubits\n",
    " - oracle acting on data qubits\n",
    " - uncomputing qRAM\n",
    " - diffuser acting on address qubits\n",
    "\n",
    "The oracle uses the following fact: a board is unsolvable iff it contains four asteroids with no two on the same row or column (a permutation matrix). Finding such arrangement can be thought of as a **dual problem** - each laser beam can eliminate at most one asteroid from such collection, so it is a \"certificate\" that we need at least four shots.\n",
    "\n",
    "Naive way would be to iterate over all 24 permutations and apply CCCZ to each. This does not work - we may encounter a board with exactly two permutations, and two phase factors would cancel. Instead, we will use controlled rotation by $\\frac{2\\pi}{3}$; this way unsolvable boards will acquire phase factor of $\\omega$ or $\\omega^2$, where $\\omega$ is primitive third root of unity.\n",
    "\n",
    "The idea for qRAM is inspired by linear algebra over field of two elements. The circuit consists of a part that looks like a map from address states to basis of $\\mathbb{Z}_2^{16}$, and another part that resembles a linear map.\n",
    "\n",
    "### Impact of a different phase factor\n",
    "\n",
    "It is natural to ask if full Grover's algorithm, beyond single iteration, is still possible with such oracle. It turns out that single oracle is not enough - one can obtain some aplification, but the amplitude will be bounded away from 1 (e.g. when searching among 1024 elements, the highest achievable probability of measuring the correct one is about 1%). However, we can overcome this by alternating between using phase factors $\\omega = e^\\frac{2 \\pi i}{3}$ and $\\omega^2 = e^\\frac{-2 \\pi i}{3}$. This comes at a cost: the rotation angle is smaller, so we need to apply a bit more iterations (still $O(\\sqrt{size})$, but with a bigger constant)."
   ]
  },
  {
   "cell_type": "code",
   "execution_count": 1,
   "metadata": {},
   "outputs": [],
   "source": [
    "# imports\n",
    "from itertools import combinations\n",
    "from math import pi\n",
    "from qiskit import Aer, execute, QuantumCircuit, QuantumRegister, ClassicalRegister\n",
    "from qiskit.circuit.library import RCCXGate\n",
    "from qiskit.transpiler import PassManager\n",
    "from qiskit.transpiler.passes import Unroller\n",
    "\n",
    "# original input\n",
    "problem_set = \\\n",
    "    [[['0', '2'], ['1', '0'], ['1', '2'], ['1', '3'], ['2', '0'], ['3', '3']],\n",
    "    [['0', '0'], ['0', '1'], ['1', '2'], ['2', '2'], ['3', '0'], ['3', '3']],\n",
    "    [['0', '0'], ['1', '1'], ['1', '3'], ['2', '0'], ['3', '2'], ['3', '3']],\n",
    "    [['0', '0'], ['0', '1'], ['1', '1'], ['1', '3'], ['3', '2'], ['3', '3']],\n",
    "    [['0', '2'], ['1', '0'], ['1', '3'], ['2', '0'], ['3', '2'], ['3', '3']],\n",
    "    [['1', '1'], ['1', '2'], ['2', '0'], ['2', '1'], ['3', '1'], ['3', '3']],\n",
    "    [['0', '2'], ['0', '3'], ['1', '2'], ['2', '0'], ['2', '1'], ['3', '3']],\n",
    "    [['0', '0'], ['0', '3'], ['1', '2'], ['2', '2'], ['2', '3'], ['3', '0']],\n",
    "    [['0', '3'], ['1', '1'], ['1', '2'], ['2', '0'], ['2', '1'], ['3', '3']],\n",
    "    [['0', '0'], ['0', '1'], ['1', '3'], ['2', '1'], ['2', '3'], ['3', '0']],\n",
    "    [['0', '1'], ['0', '3'], ['1', '2'], ['1', '3'], ['2', '0'], ['3', '2']],\n",
    "    [['0', '0'], ['1', '3'], ['2', '0'], ['2', '1'], ['2', '3'], ['3', '1']],\n",
    "    [['0', '1'], ['0', '2'], ['1', '0'], ['1', '2'], ['2', '2'], ['2', '3']],\n",
    "    [['0', '3'], ['1', '0'], ['1', '3'], ['2', '1'], ['2', '2'], ['3', '0']],\n",
    "    [['0', '2'], ['0', '3'], ['1', '2'], ['2', '3'], ['3', '0'], ['3', '1']],\n",
    "    [['0', '1'], ['1', '0'], ['1', '2'], ['2', '2'], ['3', '0'], ['3', '1']]]\n",
    "\n",
    "# unroll and print cost\n",
    "def print_cost(qc):\n",
    "    ops = PassManager(Unroller(['u3', 'cx'])).run(qc).count_ops()\n",
    "    print(ops, ', cost', ops['u3'] + 10 * ops['cx'])"
   ]
  },
  {
   "cell_type": "markdown",
   "metadata": {},
   "source": [
    "# Preprocessing\n",
    "\n",
    "We start with classical preprocessing. This function converts boards from list of coordinate pairs to list of asteroid indices. Indices range from 0 for ['0', '0'] to 15 for ['3', '3']. Repeated boards are problematic for this implementation of qRAM, so they are replaced with something solvable."
   ]
  },
  {
   "cell_type": "code",
   "execution_count": 2,
   "metadata": {},
   "outputs": [],
   "source": [
    "def preprocess(problem_set):\n",
    "    \n",
    "    # convert boards into lists of asteroid indices\n",
    "    problem_set = [sorted([4 * int(i) + int(j) for i, j in board]) for board in problem_set]\n",
    "    \n",
    "    # remove repetitions\n",
    "    repeated = 0\n",
    "    for i in range(16):\n",
    "        for j in range(i):\n",
    "            if problem_set[i] == problem_set[j]:\n",
    "                problem_set[i] = [repeated]\n",
    "                repeated += 1\n",
    "    \n",
    "    return problem_set"
   ]
  },
  {
   "cell_type": "markdown",
   "metadata": {},
   "source": [
    "# qRAM\n",
    "\n",
    "### Architecture\n",
    "\n",
    "qRAM consists of two parts:\n",
    " - Generic circuit calculating power of 2\n",
    " - Problemset-dependent circuit operating only on data qubits, expanding n-th qubit into the encoding of n-th board\n",
    "\n",
    "The idea comes from linear algebra: first circuit can be treated as sending address states to canonical basis of $\\mathbb{Z}_2^{16}$, and the second one as a linear map $\\mathbb{Z}_2^{16} \\rightarrow \\mathbb{Z}_2^{16}$, sending canonical basis vectors to board encodings. However, in reality the second function is not linear, it only pretends to be.\n",
    "\n",
    "### Power of 2\n",
    "\n",
    "##### Function\n",
    "\n",
    "qram_power_of_2 sends\n",
    "$$ \\lvert n \\rangle \\lvert 0 \\rangle \\mapsto \\lvert n \\rangle \\lvert 2^n \\rangle = \\lvert n \\rangle \\lvert 0_0 \\dots 0_{n-1} 1_n 0_{n+1} \\dots 0_{16} \\rangle $$\n",
    "i.e. entangles state $\\lvert n \\rangle$ of address qubits with $n$-th data qubit.\n",
    "\n",
    "##### Implementation\n",
    "\n",
    "First we entangle address state $\\lvert n \\rangle$ with a subset of data qubits that contains the $n$-th. Equivalently, we send\n",
    "$$ \\lvert n \\rangle \\lvert 0 \\rangle \\mapsto \\lvert n \\rangle \\lvert m \\rangle $$\n",
    "for some $m$ whose n-th binary digit is 1.\n",
    "\n",
    "Then, we eliminate the undesired entanglements.\n",
    "\n",
    "This is much clearer if we track the following: for $n$-th data qubit, what are the address states that can give 1 as its measurement?\n",
    "\n",
    "After first part we have chosen data qubits entandled with\n",
    "<table>\n",
    "    <tr><th>data qubit</th><th>address states that have $\\lvert 1 \\rangle$ there</th>\n",
    "    <tr><td>0</td><td>everything (always in state $\\lvert 1 \\rangle$)</td></tr>\n",
    "    <tr><td>1</td><td>1, 5, 9, 13</td></tr>\n",
    "    <tr><td>2</td><td>2, 6, 10, 14</td></tr>\n",
    "    <tr><td>3</td><td>3, 7, 11, 15</td></tr>\n",
    "    <tr><td>7</td><td>7, 15</td></tr>\n",
    "    <tr><td>11</td><td>11, 15</td></tr>\n",
    "    <tr><td>12</td><td>12, 13, 14, 15</td></tr>\n",
    "    <tr><td>13</td><td>13, 15</td></tr>\n",
    "    <tr><td>15</td><td>15</td></tr>\n",
    "</table>\n",
    "Then, we eliminate extra entaglements by taking symmetric differences. This is done by using CX gates: each CX(a, b) translates to xoring b-th subset with a-th subset. We ensure that we always xor a set with its subset with exactly half as many elements (e.g. CX(7, 3) changes set of 3 to $\\{3, 7, 11, 15\\} \\triangle \\{7, 15\\} = \\{3, 11\\}$).\n",
    "\n",
    "### Expansion\n",
    "\n",
    "##### Function\n",
    "\n",
    "qram_expand sends\n",
    "$$\\begin{align}\n",
    "\\lvert 2^n \\rangle = \\lvert 0_0 \\dots 1_n \\dots 0_{16} \\rangle \\mapsto \\lvert 0_0 \\dots 1_{a_1} \\dots \\dots \\dots 1_{a_6} \\dots 0_{16} \\rangle \\\\\n",
    "\\text{where } a_1, \\dots, a_6 \\text{ are positions of asteroids on n-th board}\n",
    "\\end{align}$$\n",
    "\n",
    "##### Implementation\n",
    "\n",
    "This is arguably the least elegant bit of this solution.\n",
    "\n",
    "The first idea is to iterate over each board, and add CX(data[n], data[$a_i$]) for each $a_i$ in n-th board - hoping that $n$-th qubit will flip all the asteroids from $n$-th board.\n",
    "\n",
    "However, this will mix different boards and produce a mess. Therefore we will build this circuit inductively from layers:\n",
    " - Suppose we have the circuit for boards 0 to $i-1$\n",
    " - We compute the input state $\\lvert \\psi \\rangle$ that will result in the $i$-th board. This is easy thanks to unitarity: we can prepare the state of $i$-th board, run the circuit _backwards_, and measure $\\lvert \\psi \\rangle$\n",
    " - Prefix our circuit with a layer that sends $\\lvert 2^i \\rangle$ to $\\lvert \\psi \\rangle$ and does not change $\\lvert 2^j \\rangle$ for $j<i$\n",
    "\n",
    "##### Comments\n",
    "\n",
    "This function uses _execute_, which competition submissions are not supposed to do. However, this computation is essentially classical (passing a string through some NOT and CNOT gates), so could be replaced with classical simulation.\n",
    "\n",
    "Also, the algorithm used in this function has no optimization whatsoever, so it can probably be improved."
   ]
  },
  {
   "cell_type": "code",
   "execution_count": 3,
   "metadata": {},
   "outputs": [
    {
     "name": "stdout",
     "output_type": "stream",
     "text": [
      "qram_power_of_2: OrderedDict([('cx', 70), ('u3', 67)]) , cost 767\n",
      "qram_expand: OrderedDict([('cx', 121), ('u3', 6)]) , cost 1216\n"
     ]
    }
   ],
   "source": [
    "def qram_power_of_2(addr, data):\n",
    "    \n",
    "    pow2 = QuantumCircuit(addr, data)\n",
    "    \n",
    "    # Entangle n-th address state with a subset of data qubits\n",
    "    for a1, a2 in combinations([0, 1, 2, 3], 2):\n",
    "        pow2.append(RCCXGate(), [addr[a1], addr[a2], data[2 ** a1 + 2 ** a2]])\n",
    "    for a1, a2 in [(3, 5), (3, 9), (3, 12), (5, 9), (6, 10)]:\n",
    "        pow2.append(RCCXGate(), [data[a1], data[a2], data[a1 | a2]])\n",
    "    for a, d, dd in [(0, 1, 3), (1, 2, 3), (2, 4, 6), (3, 8, 10)]:\n",
    "        pow2.cx(addr[a], data[d])\n",
    "        pow2.cx(data[dd], data[d])\n",
    "    pow2.x(data[0])\n",
    "\n",
    "    # Perform elimination\n",
    "    pow2.cx(addr[0], data[0])\n",
    "    pow2.cx(data[2], data[0])\n",
    "    for s, d in [(8, 0), (7, [3, 5, 6]), (11, [9, 10]),\n",
    "                 (14, 12), (5, 1), (6, 2), (12, 4), (9, [0, 8]),\n",
    "                 (15, [7, 11, 13, 14]), (14, [6, 10]), (13, [5, 9, 12]), (11, 3),\n",
    "                 (9, 1), (10, 2), (5, 4), (12, 8), (4, 0)]:\n",
    "        pow2.cx(data[s], data[d])\n",
    "    \n",
    "    return pow2\n",
    "\n",
    "def qram_expand(problem_set, data):\n",
    "    lin = QuantumCircuit(data)\n",
    "    aux_cr = ClassicalRegister(16)\n",
    "    for i in range(16):\n",
    "\n",
    "        # compute the state psi that will produce i-th board\n",
    "        aux_circ = QuantumCircuit(data, aux_cr)\n",
    "        for j in problem_set[i]: aux_circ.x(data[j])\n",
    "        aux_circ += lin\n",
    "        aux_circ.measure(data, aux_cr)\n",
    "        aux_cnt = execute(aux_circ.reverse_bits(), Aer.get_backend('qasm_simulator'), shots = 1).result().get_counts()\n",
    "        aux_state = list(aux_cnt.keys())[0]\n",
    "\n",
    "        # add a layer sending 2^i to psi\n",
    "        if aux_state[i] == '0':\n",
    "            for j in range(i + 1, 16):\n",
    "                if aux_state[j] == '1':\n",
    "                    lin.cx(data[j], data[i])\n",
    "                    break\n",
    "            else:\n",
    "                ones = [j for j in range(i) if aux_state[j] == '1']\n",
    "                lin.append(RCCXGate(), [data[ones[0]], data[ones[1]], data[i]])\n",
    "        for j in range(16):\n",
    "            if aux_state[j] == '1' and j != i: lin.cx(data[i], data[j])\n",
    "\n",
    "    return lin.reverse_ops()\n",
    "\n",
    "print('qram_power_of_2:', end = ' ')\n",
    "print_cost(qram_power_of_2(QuantumRegister(4), QuantumRegister(16)))\n",
    "print('qram_expand:', end = ' ')\n",
    "print_cost(qram_expand(preprocess(problem_set), QuantumRegister(16)))"
   ]
  },
  {
   "cell_type": "markdown",
   "metadata": {},
   "source": [
    "# Oracle\n",
    "\n",
    "##### Function\n",
    "\n",
    "This adds a phase factor of $e^\\frac{2 \\pi i}{3}$ for every permutation on the board (or its conjugate when the argument \"parity\" takes odd value - check Introduction to see why).\n",
    "\n",
    "##### Implementation\n",
    "\n",
    "Naively, one could just add a triple-controlled rotation for each one of 24 permutations. We will essentially replicate this behaviour, but add some optimizations.\n",
    "\n",
    "Observe that cells [0, 0] and [1, 1] appear in two permutations, so naive approach would include them twice. To avoid this, we can use four ancilla qubits (0-3), and apply to them a Toffoli gate with controls given by\n",
    "\n",
    "                0 1 . .\n",
    "                1 0 . .\n",
    "                . . 2 3\n",
    "                . . 3 2\n",
    "\n",
    "Then we apply four controlled rotations on ancillas, each adding phase to permutations:\n",
    " - (0, 2), permutation [1, 2, 3, 4]\n",
    " - (0, 3), permutation [1, 2, 4, 3]\n",
    " - (1, 2), permutation [2, 1, 3, 4]\n",
    " - (1, 3), permutation [2, 1, 4, 3]\n",
    "\n",
    "We need to apply this to 6 possible symmetric arrangements."
   ]
  },
  {
   "cell_type": "code",
   "execution_count": 4,
   "metadata": {},
   "outputs": [
    {
     "name": "stdout",
     "output_type": "stream",
     "text": [
      "OrderedDict([('u3', 360), ('cx', 192)]) , cost 2280\n"
     ]
    },
    {
     "name": "stderr",
     "output_type": "stream",
     "text": [
      "<ipython-input-4-87de606164ce>:15: DeprecationWarning: The QuantumCircuit.cu1 method is deprecated as of 0.16.0. It will be removed no earlier than 3 months after the release date. You should use the QuantumCircuit.cp method instead, which acts identically.\n",
      "  o.cu1(parity * 2 * pi / 3, ancilla[a1], ancilla[a2])\n"
     ]
    }
   ],
   "source": [
    "def oracle(data, ancilla, parity = 0):\n",
    "    parity = 2 * parity - 1\n",
    "    o = QuantumCircuit(data, ancilla)\n",
    "    for col0, col1 in combinations([0, 1, 2, 3], 2):\n",
    "        \n",
    "        # rem_col are the columns for asteroids in two bottom rows\n",
    "        rem_col = [i for i in range(4) if i!=col0 and i!=col1]\n",
    "        \n",
    "        # entangle pair of cells with ancillas\n",
    "        for a, d1, d2 in [(0, col0, 4 + col1), (1, col1, 4 + col0), (2, 8 + rem_col[0], 12 + rem_col[1]), (3, 8 + rem_col[1], 12 + rem_col[0])]:\n",
    "            o.append(RCCXGate(), [data[d1], data[d2], ancilla[a]])\n",
    "            \n",
    "        # apply phase factor\n",
    "        for a1, a2 in [(0, 2), (0, 3), (1, 2), (1, 3)]:\n",
    "            o.cu1(parity * 2 * pi / 3, ancilla[a1], ancilla[a2])\n",
    "        \n",
    "        # uncompute the entanglement\n",
    "        for a, d1, d2 in [(0, col0, 4 + col1), (1, col1, 4 + col0), (2, 8 + rem_col[0], 12 + rem_col[1]), (3, 8 + rem_col[1], 12 + rem_col[0])]:\n",
    "            o.append(RCCXGate(), [data[d1], data[d2], ancilla[a]])\n",
    "    \n",
    "    return o\n",
    "\n",
    "print_cost(oracle(QuantumRegister(16), QuantumRegister(4)))"
   ]
  },
  {
   "cell_type": "markdown",
   "metadata": {},
   "source": [
    "# Putting it together"
   ]
  },
  {
   "cell_type": "code",
   "execution_count": 5,
   "metadata": {},
   "outputs": [
    {
     "name": "stdout",
     "output_type": "stream",
     "text": [
      "diffuser: OrderedDict([('u3', 39), ('cx', 12)]) , cost 159\n",
      "overall: OrderedDict([('cx', 586), ('u3', 549), ('measure', 4)]) , cost 6409\n"
     ]
    }
   ],
   "source": [
    "def diffusion(addr, ancilla):\n",
    "    diff = QuantumCircuit(addr, ancilla)\n",
    "    diff.h(addr)\n",
    "    diff.x(addr)\n",
    "    diff.h(addr[0])\n",
    "    diff.mcx(addr[1:], addr[0], ancilla, 'v-chain')\n",
    "    diff.h(addr[0])\n",
    "    diff.x(addr)\n",
    "    diff.h(addr)\n",
    "    return diff\n",
    "def week3_ans_func(problem_set):\n",
    "    \n",
    "    problem_set = preprocess(problem_set)\n",
    "    \n",
    "    addr, data, anc, cr = QuantumRegister(4), QuantumRegister(16), QuantumRegister(4), ClassicalRegister(4)\n",
    "    \n",
    "    ram = QuantumCircuit(addr, data)\n",
    "    ram += qram_power_of_2(addr, data)\n",
    "    ram += qram_expand(problem_set, data)\n",
    "    \n",
    "    qc = QuantumCircuit(addr, data, anc, cr)\n",
    "    qc.h(addr)\n",
    "    \n",
    "    for i in range(1): # modify to use more iterations\n",
    "        qc += ram\n",
    "        qc += oracle(data, anc, i % 2)\n",
    "        qc += ram.reverse_ops()\n",
    "        qc += diffusion(addr, anc)\n",
    "    \n",
    "    qc.measure(addr, cr[::-1])\n",
    "    \n",
    "    return qc\n",
    "\n",
    "print('diffuser:', end = ' ')\n",
    "print_cost(diffusion(QuantumRegister(4), QuantumRegister(4)))\n",
    "print('overall:', end = ' ')\n",
    "print_cost(week3_ans_func(problem_set))"
   ]
  },
  {
   "cell_type": "markdown",
   "metadata": {},
   "source": [
    "# Result"
   ]
  },
  {
   "cell_type": "code",
   "execution_count": 4,
   "metadata": {},
   "outputs": [
    {
     "name": "stdout",
     "output_type": "stream",
     "text": [
      "Running week3_ans_func...\n",
      "Computing cost...\n",
      "Starting experiments. Please wait...\n",
      "You may monitor the job (id: 5fc3d36fe15c3b00192d39c8) status and proceed to grading when it successfully completes.\n"
     ]
    },
    {
     "data": {
      "text/plain": [
       "{'0000': 41,\n",
       " '0001': 39,\n",
       " '0010': 51,\n",
       " '0011': 35,\n",
       " '0100': 43,\n",
       " '0101': 359,\n",
       " '0110': 47,\n",
       " '0111': 46,\n",
       " '1000': 48,\n",
       " '1001': 50,\n",
       " '1010': 42,\n",
       " '1011': 36,\n",
       " '1100': 36,\n",
       " '1101': 43,\n",
       " '1110': 41,\n",
       " '1111': 43}"
      ]
     },
     "execution_count": 4,
     "metadata": {},
     "output_type": "execute_result"
    }
   ],
   "source": [
    "# Submission code\n",
    "from qc_grader import grade_ex3, prepare_ex3, submit_ex3\n",
    "\n",
    "# Execute your circuit with following prepare_ex3() function.\n",
    "# The prepare_ex3() function works like the execute() function with only QuantumCircuit as an argument.\n",
    "job = prepare_ex3(week3_ans_func)\n",
    "\n",
    "result = job.result()\n",
    "counts = result.get_counts()\n",
    "original_problem_set_counts = counts[0]\n",
    "\n",
    "original_problem_set_counts\n",
    "# The bit string with the highest number of observations is treated as the solution."
   ]
  },
  {
   "cell_type": "code",
   "execution_count": 5,
   "metadata": {},
   "outputs": [
    {
     "name": "stdout",
     "output_type": "stream",
     "text": [
      "Grading your answer. Please wait...\n",
      "\n",
      "Congratulations 🎉! Your answer is correct.\n",
      "Your score is 6409.\n",
      "The lower your score the better!\n",
      "Feel free to submit your answer.\n"
     ]
    }
   ],
   "source": [
    "# Check your answer by executing following code.\n",
    "# The quantum cost of the QuantumCircuit is obtained as the score. The lower the cost, the better.\n",
    "grade_ex3(job)"
   ]
  },
  {
   "cell_type": "code",
   "execution_count": 6,
   "metadata": {},
   "outputs": [
    {
     "name": "stdout",
     "output_type": "stream",
     "text": [
      "Submitting your answer. Please wait...\n",
      "\n",
      "Success 🎉! Your answer has been submitted.\n",
      "Congratulations! You have rescued Dr. Ryoko from the quantum realm. The bright \"quantum future\" is ahead.\n"
     ]
    }
   ],
   "source": [
    "# Submit your results by executing following code. You can submit as many times as you like during the period. \n",
    "submit_ex3(job)"
   ]
  }
 ],
 "metadata": {
  "kernelspec": {
   "display_name": "Python 3",
   "language": "python",
   "name": "python3"
  },
  "language_info": {
   "codemirror_mode": {
    "name": "ipython",
    "version": 3
   },
   "file_extension": ".py",
   "mimetype": "text/x-python",
   "name": "python",
   "nbconvert_exporter": "python",
   "pygments_lexer": "ipython3",
   "version": "3.9.0"
  }
 },
 "nbformat": 4,
 "nbformat_minor": 2
}
