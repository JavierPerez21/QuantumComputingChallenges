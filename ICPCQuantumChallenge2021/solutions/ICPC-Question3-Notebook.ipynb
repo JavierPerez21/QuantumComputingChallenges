{
 "cells": [
  {
   "cell_type": "markdown",
   "metadata": {},
   "source": [
    "# Problem: Reflection unitaries"
   ]
  },
  {
   "cell_type": "markdown",
   "metadata": {},
   "source": [
    "In the previous two problems, the output of a classical Boolean function is computed into an additional qubit. However, quantum computers can also compute Boolean functions into the phase of a quantum state, which we explore in this problem.\n",
    "\n",
    "Suppose $f:\\{0,1\\}^n\\rightarrow\\{0,1\\}$ is a Boolean function. For $\\beta \\in R$, define an $\\textit{n}$-qubit unitary\n",
    "\n",
    "$$\n",
    "\\large\n",
    "\\begin{equation*}\n",
    "    U_f(\\beta) = \\sum_{x\\in\\{0,1\\}^n} e^{i\\beta f(x)}|x\\rangle \\langle x|\n",
    "\\tag{1}\n",
    "\\end{equation*}\n",
    "$$\n",
    "When $U_f$ is applied to computational basis state $|x\\rangle$ it adds a phase $e^{i\\beta}$ if $f(x) = 1$ and does  nothing otherwise.<br>\n",
    "Your goal in this problem is to implement $U_f$ for a variety of functions with $\\textit{n}$= 3\n",
    "<h3>\n",
    "\\begin{align}\n",
    "f_0(x_1x_2x_3)&=0,\\quad f_1(x_1x_2x_3)=x_1x_2x_3,\\quad f_2(x_1x_2x_3)=x_1x_2x_3+(1-x_1)(1-x_2)(1-x_3),\\\\\\nonumber\n",
    "f_3(x_1x_2x_3)&=x_1+x_2+x_3+x_1x_2x_3,\\quad f_4(x_1x_2x_3)=x_1+x_2+x_3.\n",
    "\\tag{2}\n",
    "\\end{align}\n",
    "</h3>\n",
    "Here, $f_m$ has m solutions to f(x) = 1. For instance,$f_2$ evaluates to 1 on the inputs x = 000 and x = 111.You may use $A \\geq 0$ ancilla qubits in your implementation initialized in $∣0^A\\rangle$ as long as they are returned to $∣0^A\\rangle$ by the end of the computation. Two examples are shown in Fig.2 for n= 2 functions.\n",
    "\n",
    "![icpc_reflections.png](icpc_reflections.png \"ShowMyImage\")\n",
    "\n",
    "The \"reflection unitaries\" $U_f(\\beta)$ are useful in some quantum algorithms. In particular, the famous Grover search algorithm uses these reflections to outperform classical search algorithms for unstructured lists."
   ]
  },
  {
   "cell_type": "markdown",
   "metadata": {},
   "source": [
    "<h1>\n",
    "    $f_m$ for m = 0"
   ]
  },
  {
   "cell_type": "code",
   "execution_count": 1,
   "metadata": {},
   "outputs": [
    {
     "data": {
      "image/png": "[encoded data removed]",
      "text/plain": [
       "<Figure size 126.986x204.68 with 1 Axes>"
      ]
     },
     "metadata": {},
     "output_type": "display_data"
    }
   ],
   "source": [
    "# Importing the qiskit module\n",
    "from qiskit import *\n",
    "import numpy as np\n",
    "pi = np.pi\n",
    "\n",
    "q0 =  3   # number of required qubits\n",
    "a0 =  0  # number of ancilla qubit\n",
    "beta = circuit.Parameter('beta') #Parameter for reflection \n",
    "\n",
    "# Defining Quantum Circuit with the given circuits\n",
    "def Circuit_0(q,a,beta):\n",
    "    if a != 0:\n",
    "        # initiating required and ancilla qubits\n",
    "        Q = QuantumRegister(q, 'input') \n",
    "        A = QuantumRegister(a, 'ancilla')  \n",
    "        \n",
    "        # creating circuit with above qubits\n",
    "        Circ = QuantumCircuit(Q,A)\n",
    "    else:\n",
    "        # initiating required qubits\n",
    "        Q = QuantumRegister(q, 'input') \n",
    "        \n",
    "        # creating circuit with above qubits\n",
    "        Circ = QuantumCircuit(Q)\n",
    "    \n",
    "    ##### Create you circuit below #########\n",
    "\n",
    "    \n",
    "    ########################################\n",
    "    \n",
    "    # Uncomment to draw quantum circuit\n",
    "    display(Circ.draw('mpl'))\n",
    "    \n",
    "    # Transpiling the circuit into u, cnot\n",
    "    Circ = transpile(Circ, basis_gates=['u3','cx'])\n",
    "    \n",
    "    # Uncomment to draw transpiled circuit\n",
    "#     display(Circ.draw('mpl'))\n",
    "    \n",
    "    return Circ\n",
    "\n",
    "qc_3a = Circuit_0(q0,a0,beta)"
   ]
  },
  {
   "cell_type": "markdown",
   "metadata": {},
   "source": [
    "<h1>\n",
    "    $f_m$ for m = 1"
   ]
  },
  {
   "cell_type": "code",
   "execution_count": 10,
   "metadata": {},
   "outputs": [
    {
     "data": {
      "image/png": "[encoded data removed]",
      "text/plain": [
       "<Figure size 849.386x204.68 with 1 Axes>"
      ]
     },
     "metadata": {},
     "output_type": "display_data"
    }
   ],
   "source": [
    "# Importing the qiskit module\n",
    "from qiskit import *\n",
    "import numpy as np\n",
    "pi = np.pi\n",
    "\n",
    "q1 =  3   # number of required qubits\n",
    "a1 =  0  # number of ancilla qubit\n",
    "beta = circuit.Parameter('beta') #Parameter for reflection \n",
    "\n",
    "# Defining Quantum Circuit with the given circuits\n",
    "def Circuit_1(q,a,beta):\n",
    "    if a != 0:\n",
    "        # initiating required and ancilla qubits\n",
    "        Q = QuantumRegister(q, 'input') \n",
    "        A = QuantumRegister(a, 'ancilla')  \n",
    "        \n",
    "        # creating circuit with above qubits\n",
    "        Circ = QuantumCircuit(Q,A)\n",
    "    else:\n",
    "        # initiating required qubits\n",
    "        Q = QuantumRegister(q, 'input') \n",
    "        \n",
    "        # creating circuit with above qubits\n",
    "        Circ = QuantumCircuit(Q)\n",
    "    \n",
    "    ##### Create you circuit below ######### circuit1\n",
    "    Circ.rz(beta/4,0)\n",
    "    Circ.rz(beta/4,1)\n",
    "    Circ.rz(beta/4,2)\n",
    "    Circ.cx(0,1)\n",
    "    Circ.cx(0,2)\n",
    "    Circ.rz(-beta/4,1)\n",
    "    Circ.rz(-beta/4,2)\n",
    "    Circ.cx(1,2)\n",
    "    Circ.rz(-beta/4,2)\n",
    "    Circ.cx(0,2)\n",
    "    Circ.rz(beta/4,2)\n",
    "    Circ.cx(1,2)\n",
    "    Circ.cx(0,1)    \n",
    "    ######################################## end circuit1\n",
    "    \"\"\"\n",
    "    ##### Create you circuit below ######### circuit2\n",
    "    Circ.cu1(beta/2,0,1)\n",
    "    Circ.cu1(beta/2,0,2)\n",
    "    Circ.cx(1,2)\n",
    "    Circ.cu1(-beta/2,0,2)\n",
    "    Circ.cx(1,2)\n",
    "    ######################################## end circuit2\n",
    "    \"\"\" \n",
    "    # Uncomment to draw quantum circuit\n",
    "    display(Circ.draw('mpl'))\n",
    "    \n",
    "    # Transpiling the circuit into u, cnot\n",
    "    Circ = transpile(Circ, basis_gates=['u3','cx'])\n",
    "    \n",
    "    # Uncomment to draw transpiled circuit\n",
    "    #display(Circ.draw('mpl'))\n",
    "    \n",
    "    return Circ\n",
    "\n",
    "qc_3b = Circuit_1(q1,a1,beta)"
   ]
  },
  {
   "cell_type": "markdown",
   "metadata": {},
   "source": [
    "<h1>\n",
    "    $f_m$ for m = 2"
   ]
  },
  {
   "cell_type": "code",
   "execution_count": 3,
   "metadata": {},
   "outputs": [
    {
     "data": {
      "image/png": "[encoded data removed]",
      "text/plain": [
       "<Figure size 743.109x264.88 with 1 Axes>"
      ]
     },
     "metadata": {},
     "output_type": "display_data"
    }
   ],
   "source": [
    "# Importing the qiskit module\n",
    "from qiskit import *\n",
    "import numpy as np\n",
    "pi = np.pi\n",
    "\n",
    "q2 =  3   # number of required qubits\n",
    "a2 =  1  # number of ancilla qubit\n",
    "beta = circuit.Parameter('beta') #Parameter for reflection \n",
    "\n",
    "# Defining Quantum Circuit with the given circuits\n",
    "def Circuit_2(q,a,beta):\n",
    "    if a != 0:\n",
    "        # initiating required and ancilla qubits\n",
    "        Q = QuantumRegister(q, 'input') \n",
    "        A = QuantumRegister(a, 'ancilla')  \n",
    "        \n",
    "        # creating circuit with above qubits\n",
    "        Circ = QuantumCircuit(Q,A)\n",
    "    else:\n",
    "        # initiating required qubits\n",
    "        Q = QuantumRegister(q, 'input') \n",
    "        \n",
    "        # creating circuit with above qubits\n",
    "        Circ = QuantumCircuit(Q)\n",
    "    \n",
    "    ##### Create you circuit below ######### circuit3  q2=3 a2=1\n",
    "    Circ.cx(0,1)\n",
    "    Circ.cx(0,2)\n",
    "    Circ.rz(-beta/2,1)\n",
    "    Circ.rz(-beta/2,2)\n",
    "    Circ.cx(1,2)\n",
    "    Circ.rz(-beta/2,2)\n",
    "    Circ.cx(1,2) \n",
    "    Circ.cx(0,2)\n",
    "    Circ.cx(0,1)\n",
    "    Circ.x(3)\n",
    "    Circ.rz(beta,3)\n",
    "    Circ.x(3)\n",
    "    ######################################## end circuit3\n",
    "    \"\"\"    \n",
    "    ##### Create you circuit below ######### circuit2  q2=3 a2=0 cost increase?????????\n",
    "    Circ.cx(0,1)\n",
    "    Circ.x(1)\n",
    "    Circ.rz(beta/2,1)\n",
    "    Circ.x(1)\n",
    "    Circ.cx(0,1)\n",
    "    Circ.cx(0,2)\n",
    "    Circ.x(2)\n",
    "    Circ.rz(beta/2,2)\n",
    "    Circ.x(2)\n",
    "    Circ.cx(0,2)\n",
    "    Circ.cx(1,2)\n",
    "    Circ.rz(-beta/2,2)\n",
    "    Circ.cx(1,2) \n",
    "    ######################################## end circuit2\n",
    "    \"\"\"\n",
    "    \"\"\"\n",
    "    ##### Create you circuit below ######### circuit1  3+1\n",
    "    Circ.cx(0,1)\n",
    "    Circ.rz(-beta/2,1)\n",
    "    Circ.cx(0,1)\n",
    "    Circ.cx(0,2)\n",
    "    Circ.rz(-beta/2,2)\n",
    "    Circ.cx(0,2)\n",
    "    Circ.cx(1,2)\n",
    "    Circ.rz(-beta/2,2)\n",
    "    Circ.cx(1,2)\n",
    "    Circ.x(3)\n",
    "    Circ.rz(beta,3)\n",
    "    Circ.x(3)\n",
    "    ######################################## end circuit1\n",
    "    \"\"\"\n",
    "    \n",
    "    \n",
    "    # Uncomment to draw quantum circuit\n",
    "    display(Circ.draw('mpl'))\n",
    "    \n",
    "    # Transpiling the circuit into u, cnot\n",
    "    Circ = transpile(Circ, basis_gates=['u3','cx'])\n",
    "    \n",
    "    # Uncomment to draw transpiled circuit\n",
    "#     display(Circ.draw('mpl'))\n",
    "    \n",
    "    return Circ\n",
    "\n",
    "qc_3c = Circuit_2(q2,a2,beta)"
   ]
  },
  {
   "cell_type": "markdown",
   "metadata": {},
   "source": [
    "<h1>\n",
    "    $f_m$ for m = 3"
   ]
  },
  {
   "cell_type": "code",
   "execution_count": 4,
   "metadata": {},
   "outputs": [
    {
     "data": {
      "image/png": "[encoded data removed]",
      "text/plain": [
       "<Figure size 789.186x204.68 with 1 Axes>"
      ]
     },
     "metadata": {},
     "output_type": "display_data"
    }
   ],
   "source": [
    "# Importing the qiskit module\n",
    "from qiskit import *\n",
    "import numpy as np\n",
    "pi = np.pi\n",
    "\n",
    "q3 = 3    # number of required qubits\n",
    "a3 = 0   # number of ancilla qubit\n",
    "beta = circuit.Parameter('beta') #Parameter for reflection \n",
    "\n",
    "# Defining Quantum Circuit with the given circuits\n",
    "def Circuit_3(q,a,beta):\n",
    "    if a != 0:\n",
    "        # initiating required and ancilla qubits\n",
    "        Q = QuantumRegister(q, 'input') \n",
    "        A = QuantumRegister(a, 'ancilla')  \n",
    "        \n",
    "        # creating circuit with above qubits\n",
    "        Circ = QuantumCircuit(Q,A)\n",
    "    else:\n",
    "        # initiating required qubits\n",
    "        Q = QuantumRegister(q, 'input') \n",
    "        \n",
    "        # creating circuit with above qubits\n",
    "        Circ = QuantumCircuit(Q)\n",
    "    \n",
    "    ##### Create you circuit below ######### circuit2\n",
    "    Circ.rz(-beta/4,0)\n",
    "    Circ.rz(-beta/4,1)\n",
    "    Circ.rz(-beta/4,2)\n",
    "    Circ.cx(0,1)\n",
    "    Circ.cx(0,2)\n",
    "    Circ.rz(beta/4,1)\n",
    "    Circ.rz(beta/4,2)\n",
    "    Circ.cx(1,2)\n",
    "    Circ.rz(beta/4,2)\n",
    "    Circ.cx(0,2)\n",
    "    Circ.rz(3*beta/4,2)\n",
    "    Circ.cx(1,2)\n",
    "    Circ.cx(0,1)\n",
    "    ########################################  end circuit2  \n",
    "    \n",
    "    \"\"\"\n",
    "    ##### Create you circuit below ######### circuit1\n",
    "    Circ.rz(-beta/4,0)\n",
    "    Circ.rz(-beta/4,1)\n",
    "    Circ.rz(-beta/4,2)\n",
    "    Circ.cx(0,1)\n",
    "    Circ.rz(beta/4,1)\n",
    "    Circ.cx(0,1)\n",
    "    Circ.cx(0,2)\n",
    "    Circ.rz(beta/4,2)\n",
    "    Circ.cx(0,2)\n",
    "    Circ.cx(1,2)\n",
    "    Circ.rz(beta/4,2)\n",
    "    Circ.cx(0,2)\n",
    "    Circ.rz(3*beta/4,2)\n",
    "    Circ.cx(0,2)\n",
    "    Circ.cx(1,2)\n",
    "    ########################################  end circuit1\n",
    "    \"\"\"  \n",
    "    \n",
    "    # Uncomment to draw quantum circuit\n",
    "    display(Circ.draw('mpl'))\n",
    "    \n",
    "    # Transpiling the circuit into u, cnot\n",
    "    Circ = transpile(Circ, basis_gates=['u3','cx'])\n",
    "    \n",
    "    # Uncomment to draw transpiled circuit\n",
    "#     display(Circ.draw('mpl'))\n",
    "    \n",
    "    return Circ\n",
    "\n",
    "qc_3d = Circuit_3(q3,a3,beta)"
   ]
  },
  {
   "cell_type": "markdown",
   "metadata": {},
   "source": [
    "<h1>\n",
    "    $f_m$ for m = 4"
   ]
  },
  {
   "cell_type": "code",
   "execution_count": 5,
   "metadata": {},
   "outputs": [
    {
     "data": {
      "image/png": "[encoded data removed]",
      "text/plain": [
       "<Figure size 427.986x204.68 with 1 Axes>"
      ]
     },
     "metadata": {},
     "output_type": "display_data"
    }
   ],
   "source": [
    "# Importing the qiskit module\n",
    "from qiskit import *\n",
    "import numpy as np\n",
    "pi = np.pi\n",
    "\n",
    "q4 = 3    # number of required qubits\n",
    "a4 = 0   # number of ancilla qubit\n",
    "beta = circuit.Parameter('beta') #Parameter for reflection \n",
    "\n",
    "# Defining Quantum Circuit with the given circuits\n",
    "def Circuit_4(q, a, beta):\n",
    "    if a != 0:\n",
    "        # initiating required and ancilla qubits\n",
    "        Q = QuantumRegister(q, 'input') \n",
    "        A = QuantumRegister(a, 'ancilla')   \n",
    "        \n",
    "        # creating circuit with above qubits\n",
    "        Circ = QuantumCircuit(Q,A)\n",
    "    else:\n",
    "        # initiating required qubits\n",
    "        Q = QuantumRegister(q, 'input') \n",
    "        \n",
    "        # creating circuit with above qubits\n",
    "        Circ = QuantumCircuit(Q)\n",
    "    \n",
    "    ##### Create you circuit below #########\n",
    "    \n",
    "    Circ.cx(0,2)\n",
    "    Circ.cx(1,2)\n",
    "    Circ.rz(beta,2)\n",
    "    Circ.cx(1,2)\n",
    "    Circ.cx(0,2)\n",
    "\n",
    "    ########################################\n",
    "    \n",
    "    # Uncomment to draw quantum circuit\n",
    "    display(Circ.draw('mpl'))\n",
    "    \n",
    "    # Transpiling the circuit into u, cnot\n",
    "    Circ = transpile(Circ, basis_gates=['u3','cx'])\n",
    "    \n",
    "    # Uncomment to draw transpiled circuit\n",
    "#     display(Circ.draw('mpl'))\n",
    "    \n",
    "    return Circ\n",
    "\n",
    "qc_3e = Circuit_4(q4,a4,beta)"
   ]
  },
  {
   "cell_type": "markdown",
   "metadata": {},
   "source": [
    "### Grader"
   ]
  },
  {
   "cell_type": "code",
   "execution_count": 11,
   "metadata": {},
   "outputs": [
    {
     "name": "stdout",
     "output_type": "stream",
     "text": [
      "Checking for circuit 0 ...\n",
      "Checking for circuit 1 ...\n",
      "Checking for circuit 2 ...\n",
      "Checking for circuit 3 ...\n",
      "Checking for circuit 4 ...\n",
      "Grading your answer for ex3. Please wait...\n",
      "\n",
      "Congratulations 🎉! Your answer is correct.\n",
      "Your cost is 330.\n",
      "Feel free to submit your answer.\n",
      "\n"
     ]
    }
   ],
   "source": [
    "all_circuits = [qc_3a, qc_3b, qc_3c, qc_3d, qc_3e]\n",
    "from qc_grader import grade_ex3\n",
    "\n",
    "grade_ex3(all_circuits)"
   ]
  },
  {
   "cell_type": "markdown",
   "metadata": {},
   "source": [
    "# Circuit verification and Cost Metric\n",
    "\n",
    "$\\textbf{Costing metric:}$ For the $m^{th}$ circuit, let $G_m$ be the number of 2-qubit gates, $D_m$ the depth,  and $A_m$ the number of ancillas. Your solution quality will be judged on the following cost metric: \n",
    "$$\\text{Cost} = \\sum_{m=0}^4 10G_m + D_m(n+A_m)$$ .\n",
    "The reasoning behind this metric relates to the error rates in quantum circuits. Notice that $D_m(n+A_m)$ is roughly the spacetime volume of the circuit (the collective number of timesteps qubits participating in thecircuit must be kept alive). Also, two-qubit gates are roughly (optimistically) 10 times as likely to fail as idling qubits. Thus, $Cost_n$ is roughly proportional to error rate of all of your circuits combined."
   ]
  },
  {
   "cell_type": "markdown",
   "metadata": {},
   "source": [
    "### Submission for evaluation "
   ]
  },
  {
   "cell_type": "code",
   "execution_count": 7,
   "metadata": {},
   "outputs": [
    {
     "name": "stdout",
     "output_type": "stream",
     "text": [
      "Checking for circuit 0 ...\n",
      "Checking for circuit 1 ...\n",
      "Checking for circuit 2 ...\n",
      "Checking for circuit 3 ...\n",
      "Checking for circuit 4 ...\n",
      "Submitting your answer for ex3. Please wait...\n",
      "Success 🎉! Your answer has been submitted.\n"
     ]
    }
   ],
   "source": [
    "## Uncomment and run the following code to submit\n",
    "from qc_grader import submit_ex3\n",
    "\n",
    "submit_ex3(all_circuits)"
   ]
  },
  {
   "cell_type": "code",
   "execution_count": null,
   "metadata": {},
   "outputs": [],
   "source": []
  }
 ],
 "metadata": {
  "kernelspec": {
   "display_name": "Python 3",
   "language": "python",
   "name": "python3"
  },
  "language_info": {
   "codemirror_mode": {
    "name": "ipython",
    "version": 3
   },
   "file_extension": ".py",
   "mimetype": "text/x-python",
   "name": "python",
   "nbconvert_exporter": "python",
   "pygments_lexer": "ipython3",
   "version": "3.8.8"
  }
 },
 "nbformat": 4,
 "nbformat_minor": 4
}
