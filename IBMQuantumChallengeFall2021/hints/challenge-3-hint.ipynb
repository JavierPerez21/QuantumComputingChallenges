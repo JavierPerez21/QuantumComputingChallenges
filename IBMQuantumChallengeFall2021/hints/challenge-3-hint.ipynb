{
 "cells": [
  {
   "cell_type": "markdown",
   "metadata": {},
   "source": [
    "## IBM Quantum Challenge Fall 2021\n",
    "\n",
    "# Challenge 3c Hint\n",
    "\n",
    "### How to convert three label probabilities into 3-class prediction\n",
    "In Challenge 3c, you need to create a final 3-class classification prediction from three label probabilities. Here is a hint for that part. The following is an example of what you should implement for 5 samples.\n",
    "\n",
    "**Input**: three label probalibities\n",
    "- label 0: [0.1, 0.5, 0.2, 0.9, 0.4]\n",
    "- label 2: [0.3, 0.1, 0.1, 0.3, 0.6]\n",
    "- label 3: [0.6, 0.2, 0.4, 0.1, 0.3]\n",
    "\n",
    "**Output**: 3-class classification prediction\n",
    "- prediction: [3, 0, 3, 0, 2]\n",
    "\n",
    "The conversion rule is to use the label with the highest label probability as the prediction for each data. For example, looking at the first data, the probalities of label 0, 2, 3 are 0.1, 0.3, 0.6 respectively, where the probability of label 3 is the highest, therefore the prediction is chosen to be label 3.\n",
    "\n",
    "Such conversion rules can be implemented by a great variety of approaches. The Challenge 3 notebook gives a hint of an approach using np.where. In this hint, an additional approach using np.argmax is presented. Here, as in the Challenge 3 notebook, it is demonstrated for just two labels, so you will need to extend it for three labels for submission.\n",
    "\n",
    "First, define the example data shown above."
   ]
  },
  {
   "cell_type": "code",
   "execution_count": 1,
   "metadata": {},
   "outputs": [],
   "source": [
    "import numpy as np\n",
    "\n",
    "pred_0 = [0.1, 0.5, 0.2, 0.9, 0.4]\n",
    "pred_2 = [0.3, 0.1, 0.1, 0.3, 0.6]"
   ]
  },
  {
   "cell_type": "markdown",
   "metadata": {},
   "source": [
    "Next, stack the data."
   ]
  },
  {
   "cell_type": "code",
   "execution_count": 2,
   "metadata": {},
   "outputs": [
    {
     "data": {
      "text/plain": [
       "array([[0.1, 0.5, 0.2, 0.9, 0.4],\n",
       "       [0.3, 0.1, 0.1, 0.3, 0.6]])"
      ]
     },
     "execution_count": 2,
     "metadata": {},
     "output_type": "execute_result"
    }
   ],
   "source": [
    "pred_02 = np.vstack([pred_0, pred_2])\n",
    "pred_02"
   ]
  },
  {
   "cell_type": "markdown",
   "metadata": {},
   "source": [
    "Then, apply np.argmax. This allows us to get which label probability is higher. In this case,  the result \"0\" means label 0 probability is higher while the result \"1\" means label 2 probability is higher."
   ]
  },
  {
   "cell_type": "code",
   "execution_count": 3,
   "metadata": {},
   "outputs": [
    {
     "data": {
      "text/plain": [
       "array([1, 0, 0, 0, 1])"
      ]
     },
     "execution_count": 3,
     "metadata": {},
     "output_type": "execute_result"
    }
   ],
   "source": [
    "argmax_02 = np.argmax(pred_02, axis=0)\n",
    "argmax_02"
   ]
  },
  {
   "cell_type": "markdown",
   "metadata": {},
   "source": [
    "Finally, convert each value to its corresponding label, and you have \"pred_test\"."
   ]
  },
  {
   "cell_type": "code",
   "execution_count": 4,
   "metadata": {},
   "outputs": [
    {
     "data": {
      "text/plain": [
       "array([2, 0, 0, 0, 2])"
      ]
     },
     "execution_count": 4,
     "metadata": {},
     "output_type": "execute_result"
    }
   ],
   "source": [
    "pred_test_02 = np.where(argmax_02==0, 0, 2)\n",
    "pred_test_02"
   ]
  },
  {
   "cell_type": "markdown",
   "metadata": {},
   "source": [
    "By extending this approach for 3 labels, you can get pred_test for submission."
   ]
  },
  {
   "cell_type": "markdown",
   "metadata": {},
   "source": [
    "## Additional information\n",
    "\n",
    "**Created by:** Shota Nakasuji\n",
    "\n",
    "**Version:** 0.1.0"
   ]
  },
  {
   "cell_type": "code",
   "execution_count": null,
   "metadata": {},
   "outputs": [],
   "source": []
  }
 ],
 "metadata": {
  "kernelspec": {
   "display_name": "Python 3 (ipykernel)",
   "language": "python",
   "name": "python3"
  },
  "language_info": {
   "codemirror_mode": {
    "name": "ipython",
    "version": 3
   },
   "file_extension": ".py",
   "mimetype": "text/x-python",
   "name": "python",
   "nbconvert_exporter": "python",
   "pygments_lexer": "ipython3",
   "version": "3.7.11"
  }
 },
 "nbformat": 4,
 "nbformat_minor": 4
}
