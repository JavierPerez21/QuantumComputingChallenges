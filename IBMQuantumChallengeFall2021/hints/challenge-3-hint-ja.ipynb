{
 "cells": [
  {
   "cell_type": "markdown",
   "metadata": {},
   "source": [
    "## IBM Quantum Challenge Fall 2021\n",
    "\n",
    "# Challenge 3c Hint\n",
    "\n",
    "### 3つのラベル確率から3クラス分類予測への変換\n",
    "チャレンジ3cでは，3つのラベル確率から3クラス分類予測を作成する必要があります。ここでは，そのヒントを示しています。以下は，5データに対して実装すべき変換の例です。\n",
    "\n",
    "**入力**: 3つのラベル確率\n",
    "- ラベル0: [0.1, 0.5, 0.2, 0.9, 0.4]\n",
    "- ラベル2: [0.3, 0.1, 0.1, 0.3, 0.6]\n",
    "- ラベル3: [0.6, 0.2, 0.4, 0.1, 0.3]\n",
    "\n",
    "**出力**: 3クラス分類予測\n",
    "- 予測: [3, 0, 3, 0, 2]\n",
    "\n",
    "この変換規則は，各データに対してラベル確率の最も高いラベルを予測とするものになっています。例えば最初のデータを見てみると，ラベル0, 2, 3の確率がそれぞれ0.1, 0.3, 0.6となっており，ラベル3の確率が最も高くなっているので，予測はラベル3とされています。\n",
    "\n",
    "こうした変換規則は，様々なアプローチによって実装することが可能です。チャレンジ3のノートブックでは，np.whereを用いたアプローチを紹介しました。このヒントでは，np.argmaxを用いたアプローチを追加で紹介します。ここではチャレンジ3のノートブックと同様に，2つのラベルに対してのみデモンストレーションをしているので，提出にあたってはこれを3ラベル用に拡張する必要があります。\n",
    "\n",
    "まず，上記のサンプルデータを定義します。"
   ]
  },
  {
   "cell_type": "code",
   "execution_count": 5,
   "metadata": {},
   "outputs": [
    {
     "data": {
      "text/plain": [
       "array([[0.1, 0.5, 0.2, 0.9, 0.4],\n",
       "       [0.3, 0.1, 0.1, 0.3, 0.6]])"
      ]
     },
     "execution_count": 5,
     "metadata": {},
     "output_type": "execute_result"
    }
   ],
   "source": [
    "import numpy as np\n",
    "\n",
    "pred_0 = [0.1, 0.5, 0.2, 0.9, 0.4]\n",
    "pred_2 = [0.3, 0.1, 0.1, 0.3, 0.6]"
   ]
  },
  {
   "cell_type": "markdown",
   "metadata": {},
   "source": [
    "次に，データを一まとめにします。"
   ]
  },
  {
   "cell_type": "code",
   "execution_count": 7,
   "metadata": {},
   "outputs": [
    {
     "data": {
      "text/plain": [
       "array([[0.1, 0.5, 0.2, 0.9, 0.4],\n",
       "       [0.3, 0.1, 0.1, 0.3, 0.6]])"
      ]
     },
     "execution_count": 7,
     "metadata": {},
     "output_type": "execute_result"
    }
   ],
   "source": [
    "pred_02 = np.vstack([pred_0, pred_2])\n",
    "pred_02"
   ]
  },
  {
   "cell_type": "markdown",
   "metadata": {},
   "source": [
    "そして，np.argmaxを適用します。これによって，どのラベル確率がより高いか分かります。今回の場合は，結果\"0\"はラベル0の確率がより高く，結果\"1\"はラベル2の確率がより高いことを表しています。"
   ]
  },
  {
   "cell_type": "code",
   "execution_count": 15,
   "metadata": {},
   "outputs": [
    {
     "data": {
      "text/plain": [
       "array([1, 0, 0, 0, 1])"
      ]
     },
     "execution_count": 15,
     "metadata": {},
     "output_type": "execute_result"
    }
   ],
   "source": [
    "argmax_02 = np.argmax(pred_02, axis=0)\n",
    "argmax_02"
   ]
  },
  {
   "cell_type": "markdown",
   "metadata": {},
   "source": [
    "最後にそれぞれの値を対応するラベルに変換することで，\"pred_test\"を得ます。"
   ]
  },
  {
   "cell_type": "code",
   "execution_count": 16,
   "metadata": {},
   "outputs": [
    {
     "data": {
      "text/plain": [
       "array([2, 0, 0, 0, 2])"
      ]
     },
     "execution_count": 16,
     "metadata": {},
     "output_type": "execute_result"
    }
   ],
   "source": [
    "pred_test_02 = np.where(argmax_02==0, 0, 2)\n",
    "pred_test_02"
   ]
  },
  {
   "cell_type": "markdown",
   "metadata": {},
   "source": [
    "これを3ラベル用に拡張することで，提出用のpred_testを作成することができます。"
   ]
  },
  {
   "cell_type": "markdown",
   "metadata": {},
   "source": [
    "## Additional information\n",
    "\n",
    "**Created by:** Shota Nakasuji\n",
    "\n",
    "**Version:** 0.1.0"
   ]
  },
  {
   "cell_type": "code",
   "execution_count": null,
   "metadata": {},
   "outputs": [],
   "source": []
  }
 ],
 "metadata": {
  "kernelspec": {
   "display_name": "Python 3",
   "language": "python",
   "name": "python3"
  },
  "language_info": {
   "codemirror_mode": {
    "name": "ipython",
    "version": 3
   },
   "file_extension": ".py",
   "mimetype": "text/x-python",
   "name": "python",
   "nbconvert_exporter": "python",
   "pygments_lexer": "ipython3",
   "version": "3.8.5"
  }
 },
 "nbformat": 4,
 "nbformat_minor": 4
}
